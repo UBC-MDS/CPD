{
 "cells": [
  {
   "cell_type": "code",
   "execution_count": 1,
   "metadata": {},
   "outputs": [
    {
     "name": "stderr",
     "output_type": "stream",
     "text": [
      "── \u001b[1mAttaching packages\u001b[22m ─────────────────────────────────────── tidyverse 1.3.0 ──\n",
      "\n",
      "\u001b[32m✔\u001b[39m \u001b[34mggplot2\u001b[39m 3.3.2     \u001b[32m✔\u001b[39m \u001b[34mpurrr  \u001b[39m 0.3.4\n",
      "\u001b[32m✔\u001b[39m \u001b[34mtibble \u001b[39m 3.0.4     \u001b[32m✔\u001b[39m \u001b[34mdplyr  \u001b[39m 1.0.2\n",
      "\u001b[32m✔\u001b[39m \u001b[34mtidyr  \u001b[39m 1.1.2     \u001b[32m✔\u001b[39m \u001b[34mstringr\u001b[39m 1.4.0\n",
      "\u001b[32m✔\u001b[39m \u001b[34mreadr  \u001b[39m 1.4.0     \u001b[32m✔\u001b[39m \u001b[34mforcats\u001b[39m 0.5.0\n",
      "\n",
      "── \u001b[1mConflicts\u001b[22m ────────────────────────────────────────── tidyverse_conflicts() ──\n",
      "\u001b[31m✖\u001b[39m \u001b[34mdplyr\u001b[39m::\u001b[32mfilter()\u001b[39m masks \u001b[34mstats\u001b[39m::filter()\n",
      "\u001b[31m✖\u001b[39m \u001b[34mdplyr\u001b[39m::\u001b[32mlag()\u001b[39m    masks \u001b[34mstats\u001b[39m::lag()\n",
      "\n"
     ]
    }
   ],
   "source": [
    "library(tidyverse)"
   ]
  },
  {
   "cell_type": "code",
   "execution_count": 5,
   "metadata": {},
   "outputs": [
    {
     "name": "stderr",
     "output_type": "stream",
     "text": [
      "\n",
      "\u001b[36m──\u001b[39m \u001b[1m\u001b[1mColumn specification\u001b[1m\u001b[22m \u001b[36m────────────────────────────────────────────────────────\u001b[39m\n",
      "cols(\n",
      "  salary = \u001b[32mcol_double()\u001b[39m,\n",
      "  year = \u001b[32mcol_double()\u001b[39m,\n",
      "  cleaned_rank = \u001b[31mcol_character()\u001b[39m,\n",
      "  link_UID = \u001b[32mcol_double()\u001b[39m,\n",
      "  complaints_per_year = \u001b[32mcol_double()\u001b[39m,\n",
      "  race = \u001b[31mcol_character()\u001b[39m,\n",
      "  gender = \u001b[31mcol_character()\u001b[39m,\n",
      "  birth_year = \u001b[32mcol_double()\u001b[39m,\n",
      "  org_hire_date = \u001b[34mcol_date(format = \"\")\u001b[39m,\n",
      "  start_date = \u001b[34mcol_date(format = \"\")\u001b[39m,\n",
      "  resignation_date = \u001b[34mcol_date(format = \"\")\u001b[39m,\n",
      "  approx_age = \u001b[32mcol_double()\u001b[39m,\n",
      "  approx_years_service = \u001b[32mcol_double()\u001b[39m\n",
      ")\n",
      "\n",
      "\n"
     ]
    },
    {
     "data": {
      "text/html": [
       "<table>\n",
       "<caption>A tibble: 6 × 13</caption>\n",
       "<thead>\n",
       "\t<tr><th scope=col>salary</th><th scope=col>year</th><th scope=col>cleaned_rank</th><th scope=col>link_UID</th><th scope=col>complaints_per_year</th><th scope=col>race</th><th scope=col>gender</th><th scope=col>birth_year</th><th scope=col>org_hire_date</th><th scope=col>start_date</th><th scope=col>resignation_date</th><th scope=col>approx_age</th><th scope=col>approx_years_service</th></tr>\n",
       "\t<tr><th scope=col>&lt;dbl&gt;</th><th scope=col>&lt;dbl&gt;</th><th scope=col>&lt;chr&gt;</th><th scope=col>&lt;dbl&gt;</th><th scope=col>&lt;dbl&gt;</th><th scope=col>&lt;chr&gt;</th><th scope=col>&lt;chr&gt;</th><th scope=col>&lt;dbl&gt;</th><th scope=col>&lt;date&gt;</th><th scope=col>&lt;date&gt;</th><th scope=col>&lt;date&gt;</th><th scope=col>&lt;dbl&gt;</th><th scope=col>&lt;dbl&gt;</th></tr>\n",
       "</thead>\n",
       "<tbody>\n",
       "\t<tr><td>87048</td><td>2011</td><td>POLICE OFFICER</td><td> 9432</td><td>0</td><td>HISPANIC</td><td>MALE  </td><td>1956</td><td>1987-04-13</td><td>1987-04-13</td><td>2014-05-15</td><td>55</td><td>24</td></tr>\n",
       "\t<tr><td>70296</td><td>2006</td><td>POLICE OFFICER</td><td>12009</td><td>0</td><td>HISPANIC</td><td>MALE  </td><td>1970</td><td>1997-03-17</td><td>1997-03-17</td><td>2007-06-17</td><td>36</td><td> 9</td></tr>\n",
       "\t<tr><td>74178</td><td>2008</td><td>POLICE OFFICER</td><td>18909</td><td>0</td><td>WHITE   </td><td>MALE  </td><td>1967</td><td>1996-05-06</td><td>1996-05-06</td><td>NA</td><td>41</td><td>12</td></tr>\n",
       "\t<tr><td>70296</td><td>2005</td><td>POLICE OFFICER</td><td>  785</td><td>0</td><td>WHITE   </td><td>MALE  </td><td>1953</td><td>1992-06-29</td><td>1992-06-29</td><td>2016-08-23</td><td>52</td><td>13</td></tr>\n",
       "\t<tr><td>72726</td><td>2006</td><td>POLICE OFFICER</td><td>11141</td><td>3</td><td>WHITE   </td><td>FEMALE</td><td>1961</td><td>1992-06-29</td><td>1992-06-29</td><td>2017-05-15</td><td>45</td><td>14</td></tr>\n",
       "\t<tr><td>72726</td><td>2006</td><td>POLICE OFFICER</td><td>20518</td><td>0</td><td>WHITE   </td><td>FEMALE</td><td>1970</td><td>1992-01-02</td><td>1992-01-02</td><td>NA</td><td>36</td><td>14</td></tr>\n",
       "</tbody>\n",
       "</table>\n"
      ],
      "text/latex": [
       "A tibble: 6 × 13\n",
       "\\begin{tabular}{lllllllllllll}\n",
       " salary & year & cleaned\\_rank & link\\_UID & complaints\\_per\\_year & race & gender & birth\\_year & org\\_hire\\_date & start\\_date & resignation\\_date & approx\\_age & approx\\_years\\_service\\\\\n",
       " <dbl> & <dbl> & <chr> & <dbl> & <dbl> & <chr> & <chr> & <dbl> & <date> & <date> & <date> & <dbl> & <dbl>\\\\\n",
       "\\hline\n",
       "\t 87048 & 2011 & POLICE OFFICER &  9432 & 0 & HISPANIC & MALE   & 1956 & 1987-04-13 & 1987-04-13 & 2014-05-15 & 55 & 24\\\\\n",
       "\t 70296 & 2006 & POLICE OFFICER & 12009 & 0 & HISPANIC & MALE   & 1970 & 1997-03-17 & 1997-03-17 & 2007-06-17 & 36 &  9\\\\\n",
       "\t 74178 & 2008 & POLICE OFFICER & 18909 & 0 & WHITE    & MALE   & 1967 & 1996-05-06 & 1996-05-06 & NA & 41 & 12\\\\\n",
       "\t 70296 & 2005 & POLICE OFFICER &   785 & 0 & WHITE    & MALE   & 1953 & 1992-06-29 & 1992-06-29 & 2016-08-23 & 52 & 13\\\\\n",
       "\t 72726 & 2006 & POLICE OFFICER & 11141 & 3 & WHITE    & FEMALE & 1961 & 1992-06-29 & 1992-06-29 & 2017-05-15 & 45 & 14\\\\\n",
       "\t 72726 & 2006 & POLICE OFFICER & 20518 & 0 & WHITE    & FEMALE & 1970 & 1992-01-02 & 1992-01-02 & NA & 36 & 14\\\\\n",
       "\\end{tabular}\n"
      ],
      "text/markdown": [
       "\n",
       "A tibble: 6 × 13\n",
       "\n",
       "| salary &lt;dbl&gt; | year &lt;dbl&gt; | cleaned_rank &lt;chr&gt; | link_UID &lt;dbl&gt; | complaints_per_year &lt;dbl&gt; | race &lt;chr&gt; | gender &lt;chr&gt; | birth_year &lt;dbl&gt; | org_hire_date &lt;date&gt; | start_date &lt;date&gt; | resignation_date &lt;date&gt; | approx_age &lt;dbl&gt; | approx_years_service &lt;dbl&gt; |\n",
       "|---|---|---|---|---|---|---|---|---|---|---|---|---|\n",
       "| 87048 | 2011 | POLICE OFFICER |  9432 | 0 | HISPANIC | MALE   | 1956 | 1987-04-13 | 1987-04-13 | 2014-05-15 | 55 | 24 |\n",
       "| 70296 | 2006 | POLICE OFFICER | 12009 | 0 | HISPANIC | MALE   | 1970 | 1997-03-17 | 1997-03-17 | 2007-06-17 | 36 |  9 |\n",
       "| 74178 | 2008 | POLICE OFFICER | 18909 | 0 | WHITE    | MALE   | 1967 | 1996-05-06 | 1996-05-06 | NA | 41 | 12 |\n",
       "| 70296 | 2005 | POLICE OFFICER |   785 | 0 | WHITE    | MALE   | 1953 | 1992-06-29 | 1992-06-29 | 2016-08-23 | 52 | 13 |\n",
       "| 72726 | 2006 | POLICE OFFICER | 11141 | 3 | WHITE    | FEMALE | 1961 | 1992-06-29 | 1992-06-29 | 2017-05-15 | 45 | 14 |\n",
       "| 72726 | 2006 | POLICE OFFICER | 20518 | 0 | WHITE    | FEMALE | 1970 | 1992-01-02 | 1992-01-02 | NA | 36 | 14 |\n",
       "\n"
      ],
      "text/plain": [
       "  salary year cleaned_rank   link_UID complaints_per_year race     gender\n",
       "1 87048  2011 POLICE OFFICER  9432    0                   HISPANIC MALE  \n",
       "2 70296  2006 POLICE OFFICER 12009    0                   HISPANIC MALE  \n",
       "3 74178  2008 POLICE OFFICER 18909    0                   WHITE    MALE  \n",
       "4 70296  2005 POLICE OFFICER   785    0                   WHITE    MALE  \n",
       "5 72726  2006 POLICE OFFICER 11141    3                   WHITE    FEMALE\n",
       "6 72726  2006 POLICE OFFICER 20518    0                   WHITE    FEMALE\n",
       "  birth_year org_hire_date start_date resignation_date approx_age\n",
       "1 1956       1987-04-13    1987-04-13 2014-05-15       55        \n",
       "2 1970       1997-03-17    1997-03-17 2007-06-17       36        \n",
       "3 1967       1996-05-06    1996-05-06 <NA>             41        \n",
       "4 1953       1992-06-29    1992-06-29 2016-08-23       52        \n",
       "5 1961       1992-06-29    1992-06-29 2017-05-15       45        \n",
       "6 1970       1992-01-02    1992-01-02 <NA>             36        \n",
       "  approx_years_service\n",
       "1 24                  \n",
       "2  9                  \n",
       "3 12                  \n",
       "4 13                  \n",
       "5 14                  \n",
       "6 14                  "
      ]
     },
     "metadata": {},
     "output_type": "display_data"
    }
   ],
   "source": [
    "complaints_police <- read_csv('../data/complaints_police.csv')\n",
    "head(complaints_police)"
   ]
  },
  {
   "cell_type": "code",
   "execution_count": 34,
   "metadata": {},
   "outputs": [
    {
     "data": {
      "text/html": [
       "<table>\n",
       "<caption>A tibble: 2 × 5</caption>\n",
       "<thead>\n",
       "\t<tr><th scope=col>term</th><th scope=col>estimate</th><th scope=col>std.error</th><th scope=col>statistic</th><th scope=col>p.value</th></tr>\n",
       "\t<tr><th scope=col>&lt;chr&gt;</th><th scope=col>&lt;dbl&gt;</th><th scope=col>&lt;dbl&gt;</th><th scope=col>&lt;dbl&gt;</th><th scope=col>&lt;dbl&gt;</th></tr>\n",
       "</thead>\n",
       "<tbody>\n",
       "\t<tr><td>(Intercept)</td><td> 1.202662e+00</td><td>2.370954e-02</td><td> 50.72482</td><td> 0.000000e+00</td></tr>\n",
       "\t<tr><td>salary     </td><td>-9.258197e-06</td><td>3.185082e-07</td><td>-29.06737</td><td>5.161322e-185</td></tr>\n",
       "</tbody>\n",
       "</table>\n"
      ],
      "text/latex": [
       "A tibble: 2 × 5\n",
       "\\begin{tabular}{lllll}\n",
       " term & estimate & std.error & statistic & p.value\\\\\n",
       " <chr> & <dbl> & <dbl> & <dbl> & <dbl>\\\\\n",
       "\\hline\n",
       "\t (Intercept) &  1.202662e+00 & 2.370954e-02 &  50.72482 &  0.000000e+00\\\\\n",
       "\t salary      & -9.258197e-06 & 3.185082e-07 & -29.06737 & 5.161322e-185\\\\\n",
       "\\end{tabular}\n"
      ],
      "text/markdown": [
       "\n",
       "A tibble: 2 × 5\n",
       "\n",
       "| term &lt;chr&gt; | estimate &lt;dbl&gt; | std.error &lt;dbl&gt; | statistic &lt;dbl&gt; | p.value &lt;dbl&gt; |\n",
       "|---|---|---|---|---|\n",
       "| (Intercept) |  1.202662e+00 | 2.370954e-02 |  50.72482 |  0.000000e+00 |\n",
       "| salary      | -9.258197e-06 | 3.185082e-07 | -29.06737 | 5.161322e-185 |\n",
       "\n"
      ],
      "text/plain": [
       "  term        estimate      std.error    statistic p.value      \n",
       "1 (Intercept)  1.202662e+00 2.370954e-02  50.72482  0.000000e+00\n",
       "2 salary      -9.258197e-06 3.185082e-07 -29.06737 5.161322e-185"
      ]
     },
     "metadata": {},
     "output_type": "display_data"
    }
   ],
   "source": [
    "salary_reg <- lm(complaints_per_year ~ salary, data = complaints_police)\n",
    "broom::tidy(salary_reg) %>% mutate_if(is.numeric, round, 10)\n"
   ]
  },
  {
   "cell_type": "code",
   "execution_count": 30,
   "metadata": {},
   "outputs": [
    {
     "data": {
      "text/plain": [
       "   Min. 1st Qu.  Median    Mean 3rd Qu.    Max. \n",
       "  36984   68262   74628   73773   80724  122100 "
      ]
     },
     "metadata": {},
     "output_type": "display_data"
    }
   ],
   "source": [
    "summary(complaints_police$salary)"
   ]
  },
  {
   "cell_type": "code",
   "execution_count": 33,
   "metadata": {},
   "outputs": [
    {
     "data": {
      "text/html": [
       "<table>\n",
       "<caption>A tibble: 2 × 5</caption>\n",
       "<thead>\n",
       "\t<tr><th scope=col>term</th><th scope=col>estimate</th><th scope=col>std.error</th><th scope=col>statistic</th><th scope=col>p.value</th></tr>\n",
       "\t<tr><th scope=col>&lt;chr&gt;</th><th scope=col>&lt;dbl&gt;</th><th scope=col>&lt;dbl&gt;</th><th scope=col>&lt;dbl&gt;</th><th scope=col>&lt;dbl&gt;</th></tr>\n",
       "</thead>\n",
       "<tbody>\n",
       "\t<tr><td>(Intercept)</td><td>0.3178655</td><td>0.00625087</td><td>50.8514</td><td>0</td></tr>\n",
       "\t<tr><td>genderMALE </td><td>0.2708372</td><td>0.00724179</td><td>37.3992</td><td>0</td></tr>\n",
       "</tbody>\n",
       "</table>\n"
      ],
      "text/latex": [
       "A tibble: 2 × 5\n",
       "\\begin{tabular}{lllll}\n",
       " term & estimate & std.error & statistic & p.value\\\\\n",
       " <chr> & <dbl> & <dbl> & <dbl> & <dbl>\\\\\n",
       "\\hline\n",
       "\t (Intercept) & 0.3178655 & 0.00625087 & 50.8514 & 0\\\\\n",
       "\t genderMALE  & 0.2708372 & 0.00724179 & 37.3992 & 0\\\\\n",
       "\\end{tabular}\n"
      ],
      "text/markdown": [
       "\n",
       "A tibble: 2 × 5\n",
       "\n",
       "| term &lt;chr&gt; | estimate &lt;dbl&gt; | std.error &lt;dbl&gt; | statistic &lt;dbl&gt; | p.value &lt;dbl&gt; |\n",
       "|---|---|---|---|---|\n",
       "| (Intercept) | 0.3178655 | 0.00625087 | 50.8514 | 0 |\n",
       "| genderMALE  | 0.2708372 | 0.00724179 | 37.3992 | 0 |\n",
       "\n"
      ],
      "text/plain": [
       "  term        estimate  std.error  statistic p.value\n",
       "1 (Intercept) 0.3178655 0.00625087 50.8514   0      \n",
       "2 genderMALE  0.2708372 0.00724179 37.3992   0      "
      ]
     },
     "metadata": {},
     "output_type": "display_data"
    }
   ],
   "source": [
    "gender_reg <- lm(complaints_per_year ~ gender, data = complaints_police)\n",
    "broom::tidy(gender_reg) %>% mutate_if(is.numeric, round, 10)\n"
   ]
  },
  {
   "cell_type": "code",
   "execution_count": 18,
   "metadata": {},
   "outputs": [
    {
     "data": {
      "text/html": [
       "<table>\n",
       "<caption>A tibble: 5 × 5</caption>\n",
       "<thead>\n",
       "\t<tr><th scope=col>term</th><th scope=col>estimate</th><th scope=col>std.error</th><th scope=col>statistic</th><th scope=col>p.value</th></tr>\n",
       "\t<tr><th scope=col>&lt;chr&gt;</th><th scope=col>&lt;dbl&gt;</th><th scope=col>&lt;dbl&gt;</th><th scope=col>&lt;dbl&gt;</th><th scope=col>&lt;dbl&gt;</th></tr>\n",
       "</thead>\n",
       "<tbody>\n",
       "\t<tr><td>(Intercept)                       </td><td> 0.484044460</td><td>0.01936704</td><td>24.9932119</td><td>0.0000000000</td></tr>\n",
       "\t<tr><td>raceBLACK                         </td><td>-0.007738139</td><td>0.02027131</td><td>-0.3817286</td><td>0.7026634744</td></tr>\n",
       "\t<tr><td>raceHISPANIC                      </td><td> 0.080116902</td><td>0.02059220</td><td> 3.8906432</td><td>0.0001000412</td></tr>\n",
       "\t<tr><td>raceNATIVE AMERICAN/ALASKAN NATIVE</td><td> 0.140294164</td><td>0.05605848</td><td> 2.5026395</td><td>0.0123286304</td></tr>\n",
       "\t<tr><td>raceWHITE                         </td><td> 0.043087168</td><td>0.01989989</td><td> 2.1651967</td><td>0.0303748969</td></tr>\n",
       "</tbody>\n",
       "</table>\n"
      ],
      "text/latex": [
       "A tibble: 5 × 5\n",
       "\\begin{tabular}{lllll}\n",
       " term & estimate & std.error & statistic & p.value\\\\\n",
       " <chr> & <dbl> & <dbl> & <dbl> & <dbl>\\\\\n",
       "\\hline\n",
       "\t (Intercept)                        &  0.484044460 & 0.01936704 & 24.9932119 & 0.0000000000\\\\\n",
       "\t raceBLACK                          & -0.007738139 & 0.02027131 & -0.3817286 & 0.7026634744\\\\\n",
       "\t raceHISPANIC                       &  0.080116902 & 0.02059220 &  3.8906432 & 0.0001000412\\\\\n",
       "\t raceNATIVE AMERICAN/ALASKAN NATIVE &  0.140294164 & 0.05605848 &  2.5026395 & 0.0123286304\\\\\n",
       "\t raceWHITE                          &  0.043087168 & 0.01989989 &  2.1651967 & 0.0303748969\\\\\n",
       "\\end{tabular}\n"
      ],
      "text/markdown": [
       "\n",
       "A tibble: 5 × 5\n",
       "\n",
       "| term &lt;chr&gt; | estimate &lt;dbl&gt; | std.error &lt;dbl&gt; | statistic &lt;dbl&gt; | p.value &lt;dbl&gt; |\n",
       "|---|---|---|---|---|\n",
       "| (Intercept)                        |  0.484044460 | 0.01936704 | 24.9932119 | 0.0000000000 |\n",
       "| raceBLACK                          | -0.007738139 | 0.02027131 | -0.3817286 | 0.7026634744 |\n",
       "| raceHISPANIC                       |  0.080116902 | 0.02059220 |  3.8906432 | 0.0001000412 |\n",
       "| raceNATIVE AMERICAN/ALASKAN NATIVE |  0.140294164 | 0.05605848 |  2.5026395 | 0.0123286304 |\n",
       "| raceWHITE                          |  0.043087168 | 0.01989989 |  2.1651967 | 0.0303748969 |\n",
       "\n"
      ],
      "text/plain": [
       "  term                               estimate     std.error  statistic \n",
       "1 (Intercept)                         0.484044460 0.01936704 24.9932119\n",
       "2 raceBLACK                          -0.007738139 0.02027131 -0.3817286\n",
       "3 raceHISPANIC                        0.080116902 0.02059220  3.8906432\n",
       "4 raceNATIVE AMERICAN/ALASKAN NATIVE  0.140294164 0.05605848  2.5026395\n",
       "5 raceWHITE                           0.043087168 0.01989989  2.1651967\n",
       "  p.value     \n",
       "1 0.0000000000\n",
       "2 0.7026634744\n",
       "3 0.0001000412\n",
       "4 0.0123286304\n",
       "5 0.0303748969"
      ]
     },
     "metadata": {},
     "output_type": "display_data"
    }
   ],
   "source": [
    "race_reg <- lm(complaints_per_year ~ race, data = complaints_police)\n",
    "broom::tidy(race_reg) %>% mutate_if(is.numeric, round, 10)\n"
   ]
  },
  {
   "cell_type": "code",
   "execution_count": 20,
   "metadata": {},
   "outputs": [
    {
     "data": {
      "text/html": [
       "<table>\n",
       "<caption>A tibble: 2 × 5</caption>\n",
       "<thead>\n",
       "\t<tr><th scope=col>term</th><th scope=col>estimate</th><th scope=col>std.error</th><th scope=col>statistic</th><th scope=col>p.value</th></tr>\n",
       "\t<tr><th scope=col>&lt;chr&gt;</th><th scope=col>&lt;dbl&gt;</th><th scope=col>&lt;dbl&gt;</th><th scope=col>&lt;dbl&gt;</th><th scope=col>&lt;dbl&gt;</th></tr>\n",
       "</thead>\n",
       "<tbody>\n",
       "\t<tr><td>(Intercept)</td><td> 1.41850508</td><td>0.0145207751</td><td> 97.68797</td><td>0</td></tr>\n",
       "\t<tr><td>approx_age </td><td>-0.02146552</td><td>0.0003386851</td><td>-63.37899</td><td>0</td></tr>\n",
       "</tbody>\n",
       "</table>\n"
      ],
      "text/latex": [
       "A tibble: 2 × 5\n",
       "\\begin{tabular}{lllll}\n",
       " term & estimate & std.error & statistic & p.value\\\\\n",
       " <chr> & <dbl> & <dbl> & <dbl> & <dbl>\\\\\n",
       "\\hline\n",
       "\t (Intercept) &  1.41850508 & 0.0145207751 &  97.68797 & 0\\\\\n",
       "\t approx\\_age  & -0.02146552 & 0.0003386851 & -63.37899 & 0\\\\\n",
       "\\end{tabular}\n"
      ],
      "text/markdown": [
       "\n",
       "A tibble: 2 × 5\n",
       "\n",
       "| term &lt;chr&gt; | estimate &lt;dbl&gt; | std.error &lt;dbl&gt; | statistic &lt;dbl&gt; | p.value &lt;dbl&gt; |\n",
       "|---|---|---|---|---|\n",
       "| (Intercept) |  1.41850508 | 0.0145207751 |  97.68797 | 0 |\n",
       "| approx_age  | -0.02146552 | 0.0003386851 | -63.37899 | 0 |\n",
       "\n"
      ],
      "text/plain": [
       "  term        estimate    std.error    statistic p.value\n",
       "1 (Intercept)  1.41850508 0.0145207751  97.68797 0      \n",
       "2 approx_age  -0.02146552 0.0003386851 -63.37899 0      "
      ]
     },
     "metadata": {},
     "output_type": "display_data"
    }
   ],
   "source": [
    "age_reg <- lm(complaints_per_year ~ approx_age, data = complaints_police)\n",
    "broom::tidy(age_reg) %>% mutate_if(is.numeric, round, 10)\n"
   ]
  },
  {
   "cell_type": "code",
   "execution_count": 23,
   "metadata": {},
   "outputs": [
    {
     "data": {
      "text/html": [
       "<table>\n",
       "<caption>A tibble: 2 × 5</caption>\n",
       "<thead>\n",
       "\t<tr><th scope=col>term</th><th scope=col>estimate</th><th scope=col>std.error</th><th scope=col>statistic</th><th scope=col>p.value</th></tr>\n",
       "\t<tr><th scope=col>&lt;chr&gt;</th><th scope=col>&lt;dbl&gt;</th><th scope=col>&lt;dbl&gt;</th><th scope=col>&lt;dbl&gt;</th><th scope=col>&lt;dbl&gt;</th></tr>\n",
       "</thead>\n",
       "<tbody>\n",
       "\t<tr><td>(Intercept)         </td><td> 0.82386514</td><td>0.0059313613</td><td>138.89984</td><td>0</td></tr>\n",
       "\t<tr><td>approx_years_service</td><td>-0.02424592</td><td>0.0004018979</td><td>-60.32856</td><td>0</td></tr>\n",
       "</tbody>\n",
       "</table>\n"
      ],
      "text/latex": [
       "A tibble: 2 × 5\n",
       "\\begin{tabular}{lllll}\n",
       " term & estimate & std.error & statistic & p.value\\\\\n",
       " <chr> & <dbl> & <dbl> & <dbl> & <dbl>\\\\\n",
       "\\hline\n",
       "\t (Intercept)          &  0.82386514 & 0.0059313613 & 138.89984 & 0\\\\\n",
       "\t approx\\_years\\_service & -0.02424592 & 0.0004018979 & -60.32856 & 0\\\\\n",
       "\\end{tabular}\n"
      ],
      "text/markdown": [
       "\n",
       "A tibble: 2 × 5\n",
       "\n",
       "| term &lt;chr&gt; | estimate &lt;dbl&gt; | std.error &lt;dbl&gt; | statistic &lt;dbl&gt; | p.value &lt;dbl&gt; |\n",
       "|---|---|---|---|---|\n",
       "| (Intercept)          |  0.82386514 | 0.0059313613 | 138.89984 | 0 |\n",
       "| approx_years_service | -0.02424592 | 0.0004018979 | -60.32856 | 0 |\n",
       "\n"
      ],
      "text/plain": [
       "  term                 estimate    std.error    statistic p.value\n",
       "1 (Intercept)           0.82386514 0.0059313613 138.89984 0      \n",
       "2 approx_years_service -0.02424592 0.0004018979 -60.32856 0      "
      ]
     },
     "metadata": {},
     "output_type": "display_data"
    }
   ],
   "source": [
    "service_reg <- lm(complaints_per_year ~ approx_years_service, data = complaints_police)\n",
    "broom::tidy(service_reg) %>% mutate_if(is.numeric, round, 10)\n"
   ]
  },
  {
   "cell_type": "code",
   "execution_count": 19,
   "metadata": {},
   "outputs": [
    {
     "data": {
      "text/html": [
       "<table>\n",
       "<caption>A tibble: 6 × 5</caption>\n",
       "<thead>\n",
       "\t<tr><th scope=col>term</th><th scope=col>estimate</th><th scope=col>std.error</th><th scope=col>statistic</th><th scope=col>p.value</th></tr>\n",
       "\t<tr><th scope=col>&lt;chr&gt;</th><th scope=col>&lt;dbl&gt;</th><th scope=col>&lt;dbl&gt;</th><th scope=col>&lt;dbl&gt;</th><th scope=col>&lt;dbl&gt;</th></tr>\n",
       "</thead>\n",
       "<tbody>\n",
       "\t<tr><td>(Intercept)                       </td><td>0.24549407</td><td>0.020313743</td><td>12.085123</td><td>0.0000000000</td></tr>\n",
       "\t<tr><td>genderMALE                        </td><td>0.26848952</td><td>0.007325208</td><td>36.652821</td><td>0.0000000000</td></tr>\n",
       "\t<tr><td>raceBLACK                         </td><td>0.05813627</td><td>0.020221403</td><td> 2.874987</td><td>0.0040412613</td></tr>\n",
       "\t<tr><td>raceHISPANIC                      </td><td>0.10719787</td><td>0.020473545</td><td> 5.235921</td><td>0.0000001645</td></tr>\n",
       "\t<tr><td>raceNATIVE AMERICAN/ALASKAN NATIVE</td><td>0.17428111</td><td>0.055706877</td><td> 3.128538</td><td>0.0017572664</td></tr>\n",
       "\t<tr><td>raceWHITE                         </td><td>0.07269184</td><td>0.019788823</td><td> 3.673379</td><td>0.0002394846</td></tr>\n",
       "</tbody>\n",
       "</table>\n"
      ],
      "text/latex": [
       "A tibble: 6 × 5\n",
       "\\begin{tabular}{lllll}\n",
       " term & estimate & std.error & statistic & p.value\\\\\n",
       " <chr> & <dbl> & <dbl> & <dbl> & <dbl>\\\\\n",
       "\\hline\n",
       "\t (Intercept)                        & 0.24549407 & 0.020313743 & 12.085123 & 0.0000000000\\\\\n",
       "\t genderMALE                         & 0.26848952 & 0.007325208 & 36.652821 & 0.0000000000\\\\\n",
       "\t raceBLACK                          & 0.05813627 & 0.020221403 &  2.874987 & 0.0040412613\\\\\n",
       "\t raceHISPANIC                       & 0.10719787 & 0.020473545 &  5.235921 & 0.0000001645\\\\\n",
       "\t raceNATIVE AMERICAN/ALASKAN NATIVE & 0.17428111 & 0.055706877 &  3.128538 & 0.0017572664\\\\\n",
       "\t raceWHITE                          & 0.07269184 & 0.019788823 &  3.673379 & 0.0002394846\\\\\n",
       "\\end{tabular}\n"
      ],
      "text/markdown": [
       "\n",
       "A tibble: 6 × 5\n",
       "\n",
       "| term &lt;chr&gt; | estimate &lt;dbl&gt; | std.error &lt;dbl&gt; | statistic &lt;dbl&gt; | p.value &lt;dbl&gt; |\n",
       "|---|---|---|---|---|\n",
       "| (Intercept)                        | 0.24549407 | 0.020313743 | 12.085123 | 0.0000000000 |\n",
       "| genderMALE                         | 0.26848952 | 0.007325208 | 36.652821 | 0.0000000000 |\n",
       "| raceBLACK                          | 0.05813627 | 0.020221403 |  2.874987 | 0.0040412613 |\n",
       "| raceHISPANIC                       | 0.10719787 | 0.020473545 |  5.235921 | 0.0000001645 |\n",
       "| raceNATIVE AMERICAN/ALASKAN NATIVE | 0.17428111 | 0.055706877 |  3.128538 | 0.0017572664 |\n",
       "| raceWHITE                          | 0.07269184 | 0.019788823 |  3.673379 | 0.0002394846 |\n",
       "\n"
      ],
      "text/plain": [
       "  term                               estimate   std.error   statistic\n",
       "1 (Intercept)                        0.24549407 0.020313743 12.085123\n",
       "2 genderMALE                         0.26848952 0.007325208 36.652821\n",
       "3 raceBLACK                          0.05813627 0.020221403  2.874987\n",
       "4 raceHISPANIC                       0.10719787 0.020473545  5.235921\n",
       "5 raceNATIVE AMERICAN/ALASKAN NATIVE 0.17428111 0.055706877  3.128538\n",
       "6 raceWHITE                          0.07269184 0.019788823  3.673379\n",
       "  p.value     \n",
       "1 0.0000000000\n",
       "2 0.0000000000\n",
       "3 0.0040412613\n",
       "4 0.0000001645\n",
       "5 0.0017572664\n",
       "6 0.0002394846"
      ]
     },
     "metadata": {},
     "output_type": "display_data"
    }
   ],
   "source": [
    "gender_race_reg <- lm(complaints_per_year ~ gender + race, data = complaints_police)\n",
    "broom::tidy(gender_race_reg) %>% mutate_if(is.numeric, round, 10)\n"
   ]
  },
  {
   "cell_type": "code",
   "execution_count": null,
   "metadata": {},
   "outputs": [],
   "source": []
  },
  {
   "cell_type": "code",
   "execution_count": 22,
   "metadata": {},
   "outputs": [
    {
     "data": {
      "text/html": [
       "<table>\n",
       "<caption>A tibble: 7 × 5</caption>\n",
       "<thead>\n",
       "\t<tr><th scope=col>term</th><th scope=col>estimate</th><th scope=col>std.error</th><th scope=col>statistic</th><th scope=col>p.value</th></tr>\n",
       "\t<tr><th scope=col>&lt;chr&gt;</th><th scope=col>&lt;dbl&gt;</th><th scope=col>&lt;dbl&gt;</th><th scope=col>&lt;dbl&gt;</th><th scope=col>&lt;dbl&gt;</th></tr>\n",
       "</thead>\n",
       "<tbody>\n",
       "\t<tr><td>(Intercept)                       </td><td> 1.10426768</td><td>0.024305367</td><td> 45.433081</td><td>0.0000000000</td></tr>\n",
       "\t<tr><td>genderMALE                        </td><td> 0.25309984</td><td>0.007198067</td><td> 35.162197</td><td>0.0000000000</td></tr>\n",
       "\t<tr><td>raceBLACK                         </td><td> 0.15280524</td><td>0.019917450</td><td>  7.671928</td><td>0.0000000000</td></tr>\n",
       "\t<tr><td>raceHISPANIC                      </td><td> 0.09871730</td><td>0.020106638</td><td>  4.909687</td><td>0.0000009136</td></tr>\n",
       "\t<tr><td>raceNATIVE AMERICAN/ALASKAN NATIVE</td><td> 0.17232048</td><td>0.054707288</td><td>  3.149863</td><td>0.0016339323</td></tr>\n",
       "\t<tr><td>raceWHITE                         </td><td> 0.10848885</td><td>0.019442351</td><td>  5.580027</td><td>0.0000000241</td></tr>\n",
       "\t<tr><td>approx_age                        </td><td>-0.02124098</td><td>0.000343420</td><td>-61.851322</td><td>0.0000000000</td></tr>\n",
       "</tbody>\n",
       "</table>\n"
      ],
      "text/latex": [
       "A tibble: 7 × 5\n",
       "\\begin{tabular}{lllll}\n",
       " term & estimate & std.error & statistic & p.value\\\\\n",
       " <chr> & <dbl> & <dbl> & <dbl> & <dbl>\\\\\n",
       "\\hline\n",
       "\t (Intercept)                        &  1.10426768 & 0.024305367 &  45.433081 & 0.0000000000\\\\\n",
       "\t genderMALE                         &  0.25309984 & 0.007198067 &  35.162197 & 0.0000000000\\\\\n",
       "\t raceBLACK                          &  0.15280524 & 0.019917450 &   7.671928 & 0.0000000000\\\\\n",
       "\t raceHISPANIC                       &  0.09871730 & 0.020106638 &   4.909687 & 0.0000009136\\\\\n",
       "\t raceNATIVE AMERICAN/ALASKAN NATIVE &  0.17232048 & 0.054707288 &   3.149863 & 0.0016339323\\\\\n",
       "\t raceWHITE                          &  0.10848885 & 0.019442351 &   5.580027 & 0.0000000241\\\\\n",
       "\t approx\\_age                         & -0.02124098 & 0.000343420 & -61.851322 & 0.0000000000\\\\\n",
       "\\end{tabular}\n"
      ],
      "text/markdown": [
       "\n",
       "A tibble: 7 × 5\n",
       "\n",
       "| term &lt;chr&gt; | estimate &lt;dbl&gt; | std.error &lt;dbl&gt; | statistic &lt;dbl&gt; | p.value &lt;dbl&gt; |\n",
       "|---|---|---|---|---|\n",
       "| (Intercept)                        |  1.10426768 | 0.024305367 |  45.433081 | 0.0000000000 |\n",
       "| genderMALE                         |  0.25309984 | 0.007198067 |  35.162197 | 0.0000000000 |\n",
       "| raceBLACK                          |  0.15280524 | 0.019917450 |   7.671928 | 0.0000000000 |\n",
       "| raceHISPANIC                       |  0.09871730 | 0.020106638 |   4.909687 | 0.0000009136 |\n",
       "| raceNATIVE AMERICAN/ALASKAN NATIVE |  0.17232048 | 0.054707288 |   3.149863 | 0.0016339323 |\n",
       "| raceWHITE                          |  0.10848885 | 0.019442351 |   5.580027 | 0.0000000241 |\n",
       "| approx_age                         | -0.02124098 | 0.000343420 | -61.851322 | 0.0000000000 |\n",
       "\n"
      ],
      "text/plain": [
       "  term                               estimate    std.error   statistic \n",
       "1 (Intercept)                         1.10426768 0.024305367  45.433081\n",
       "2 genderMALE                          0.25309984 0.007198067  35.162197\n",
       "3 raceBLACK                           0.15280524 0.019917450   7.671928\n",
       "4 raceHISPANIC                        0.09871730 0.020106638   4.909687\n",
       "5 raceNATIVE AMERICAN/ALASKAN NATIVE  0.17232048 0.054707288   3.149863\n",
       "6 raceWHITE                           0.10848885 0.019442351   5.580027\n",
       "7 approx_age                         -0.02124098 0.000343420 -61.851322\n",
       "  p.value     \n",
       "1 0.0000000000\n",
       "2 0.0000000000\n",
       "3 0.0000000000\n",
       "4 0.0000009136\n",
       "5 0.0016339323\n",
       "6 0.0000000241\n",
       "7 0.0000000000"
      ]
     },
     "metadata": {},
     "output_type": "display_data"
    }
   ],
   "source": [
    "demographics_reg <- lm(complaints_per_year ~ gender + race + approx_age, data = complaints_police)\n",
    "broom::tidy(demographics_reg) %>% mutate_if(is.numeric, round, 10)"
   ]
  },
  {
   "cell_type": "code",
   "execution_count": 35,
   "metadata": {},
   "outputs": [
    {
     "data": {
      "text/html": [
       "<table>\n",
       "<caption>A tibble: 9 × 5</caption>\n",
       "<thead>\n",
       "\t<tr><th scope=col>term</th><th scope=col>estimate</th><th scope=col>std.error</th><th scope=col>statistic</th><th scope=col>p.value</th></tr>\n",
       "\t<tr><th scope=col>&lt;chr&gt;</th><th scope=col>&lt;dbl&gt;</th><th scope=col>&lt;dbl&gt;</th><th scope=col>&lt;dbl&gt;</th><th scope=col>&lt;dbl&gt;</th></tr>\n",
       "</thead>\n",
       "<tbody>\n",
       "\t<tr><td>(Intercept)                       </td><td> 0.2854789402</td><td>0.0395367138</td><td>  7.220604</td><td>0.0000000000</td></tr>\n",
       "\t<tr><td>salary                            </td><td> 0.0000091404</td><td>0.0000004469</td><td> 20.450975</td><td>0.0000000000</td></tr>\n",
       "\t<tr><td>genderMALE                        </td><td> 0.2642201711</td><td>0.0071981633</td><td> 36.706610</td><td>0.0000000000</td></tr>\n",
       "\t<tr><td>raceBLACK                         </td><td> 0.1792712929</td><td>0.0198751963</td><td>  9.019850</td><td>0.0000000000</td></tr>\n",
       "\t<tr><td>raceHISPANIC                      </td><td> 0.1201941332</td><td>0.0200634359</td><td>  5.990705</td><td>0.0000000021</td></tr>\n",
       "\t<tr><td>raceNATIVE AMERICAN/ALASKAN NATIVE</td><td> 0.1955189225</td><td>0.0545250220</td><td>  3.585857</td><td>0.0003361275</td></tr>\n",
       "\t<tr><td>raceWHITE                         </td><td> 0.1459333527</td><td>0.0194445995</td><td>  7.505084</td><td>0.0000000000</td></tr>\n",
       "\t<tr><td>approx_age                        </td><td>-0.0123781899</td><td>0.0006043453</td><td>-20.481983</td><td>0.0000000000</td></tr>\n",
       "\t<tr><td>approx_years_service              </td><td>-0.0211164391</td><td>0.0008213905</td><td>-25.708162</td><td>0.0000000000</td></tr>\n",
       "</tbody>\n",
       "</table>\n"
      ],
      "text/latex": [
       "A tibble: 9 × 5\n",
       "\\begin{tabular}{lllll}\n",
       " term & estimate & std.error & statistic & p.value\\\\\n",
       " <chr> & <dbl> & <dbl> & <dbl> & <dbl>\\\\\n",
       "\\hline\n",
       "\t (Intercept)                        &  0.2854789402 & 0.0395367138 &   7.220604 & 0.0000000000\\\\\n",
       "\t salary                             &  0.0000091404 & 0.0000004469 &  20.450975 & 0.0000000000\\\\\n",
       "\t genderMALE                         &  0.2642201711 & 0.0071981633 &  36.706610 & 0.0000000000\\\\\n",
       "\t raceBLACK                          &  0.1792712929 & 0.0198751963 &   9.019850 & 0.0000000000\\\\\n",
       "\t raceHISPANIC                       &  0.1201941332 & 0.0200634359 &   5.990705 & 0.0000000021\\\\\n",
       "\t raceNATIVE AMERICAN/ALASKAN NATIVE &  0.1955189225 & 0.0545250220 &   3.585857 & 0.0003361275\\\\\n",
       "\t raceWHITE                          &  0.1459333527 & 0.0194445995 &   7.505084 & 0.0000000000\\\\\n",
       "\t approx\\_age                         & -0.0123781899 & 0.0006043453 & -20.481983 & 0.0000000000\\\\\n",
       "\t approx\\_years\\_service               & -0.0211164391 & 0.0008213905 & -25.708162 & 0.0000000000\\\\\n",
       "\\end{tabular}\n"
      ],
      "text/markdown": [
       "\n",
       "A tibble: 9 × 5\n",
       "\n",
       "| term &lt;chr&gt; | estimate &lt;dbl&gt; | std.error &lt;dbl&gt; | statistic &lt;dbl&gt; | p.value &lt;dbl&gt; |\n",
       "|---|---|---|---|---|\n",
       "| (Intercept)                        |  0.2854789402 | 0.0395367138 |   7.220604 | 0.0000000000 |\n",
       "| salary                             |  0.0000091404 | 0.0000004469 |  20.450975 | 0.0000000000 |\n",
       "| genderMALE                         |  0.2642201711 | 0.0071981633 |  36.706610 | 0.0000000000 |\n",
       "| raceBLACK                          |  0.1792712929 | 0.0198751963 |   9.019850 | 0.0000000000 |\n",
       "| raceHISPANIC                       |  0.1201941332 | 0.0200634359 |   5.990705 | 0.0000000021 |\n",
       "| raceNATIVE AMERICAN/ALASKAN NATIVE |  0.1955189225 | 0.0545250220 |   3.585857 | 0.0003361275 |\n",
       "| raceWHITE                          |  0.1459333527 | 0.0194445995 |   7.505084 | 0.0000000000 |\n",
       "| approx_age                         | -0.0123781899 | 0.0006043453 | -20.481983 | 0.0000000000 |\n",
       "| approx_years_service               | -0.0211164391 | 0.0008213905 | -25.708162 | 0.0000000000 |\n",
       "\n"
      ],
      "text/plain": [
       "  term                               estimate      std.error    statistic \n",
       "1 (Intercept)                         0.2854789402 0.0395367138   7.220604\n",
       "2 salary                              0.0000091404 0.0000004469  20.450975\n",
       "3 genderMALE                          0.2642201711 0.0071981633  36.706610\n",
       "4 raceBLACK                           0.1792712929 0.0198751963   9.019850\n",
       "5 raceHISPANIC                        0.1201941332 0.0200634359   5.990705\n",
       "6 raceNATIVE AMERICAN/ALASKAN NATIVE  0.1955189225 0.0545250220   3.585857\n",
       "7 raceWHITE                           0.1459333527 0.0194445995   7.505084\n",
       "8 approx_age                         -0.0123781899 0.0006043453 -20.481983\n",
       "9 approx_years_service               -0.0211164391 0.0008213905 -25.708162\n",
       "  p.value     \n",
       "1 0.0000000000\n",
       "2 0.0000000000\n",
       "3 0.0000000000\n",
       "4 0.0000000000\n",
       "5 0.0000000021\n",
       "6 0.0003361275\n",
       "7 0.0000000000\n",
       "8 0.0000000000\n",
       "9 0.0000000000"
      ]
     },
     "metadata": {},
     "output_type": "display_data"
    }
   ],
   "source": [
    "salary_demographics_reg <- lm(complaints_per_year ~ salary + gender + race + approx_age + approx_years_service, data = complaints_police)\n",
    "broom::tidy(salary_demographics_reg) %>% mutate_if(is.numeric, round, 10)"
   ]
  },
  {
   "cell_type": "code",
   "execution_count": null,
   "metadata": {},
   "outputs": [],
   "source": []
  }
 ],
 "metadata": {
  "kernelspec": {
   "display_name": "R",
   "language": "R",
   "name": "ir"
  },
  "language_info": {
   "codemirror_mode": "r",
   "file_extension": ".r",
   "mimetype": "text/x-r-source",
   "name": "R",
   "pygments_lexer": "r",
   "version": "4.0.2"
  }
 },
 "nbformat": 4,
 "nbformat_minor": 4
}
