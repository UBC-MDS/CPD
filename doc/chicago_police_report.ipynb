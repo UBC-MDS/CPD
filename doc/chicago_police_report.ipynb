{
 "cells": [
  {
   "cell_type": "markdown",
   "metadata": {},
   "source": [
    "# Chicago Police Data Analysis"
   ]
  },
  {
   "cell_type": "markdown",
   "metadata": {},
   "source": [
    "- authors: Ela Bandari, Elanor Boyle-Stanley, Micah Kwok"
   ]
  },
  {
   "cell_type": "markdown",
   "metadata": {},
   "source": [
    "# Summary \n",
    "\n",
    "In this project we attempt to investigate whether there is an association between the number of complaints a police officer in the Chicago Police Department receives per year and the officer's annual salary. To better understand this relationship we constructed and examined three linear regression models: 1) a simple linear regression model with number of complaints per year as the reponse variable and annual salary as the predictor variable, 2) a multivariable linear regression model with number of complaints per year as the reponse variable and annual salary and gender of the officer as the predictor variables, and 3) a multivariable linear regression model with number of complaints per year as the reponse variable and annual salary, gender, race and age of the officer as the predictor variables. We included demographic variables in two of our regression models as they can have confounding effects in our investigation of the association between number of complaints per year and annual salary. Based on an examination of the coefficients of regression and their p-values we can conclude that there is a small but significant association betweeen number of complaints an officer receives per year and their annual salary."
   ]
  },
  {
   "cell_type": "markdown",
   "metadata": {},
   "source": [
    "# Introduction\n",
    "\n",
    "In the workforce we tend to associate higher salaries with higher levels of performance, since people who are good at their job tend to get paid more. With this study we wanted to take a look and answer an inferential question of whether a police staff member's salary influences the number of complaints per year they receieve."
   ]
  },
  {
   "cell_type": "markdown",
   "metadata": {},
   "source": [
    "# Methods\n",
    "\n",
    "## Dataset\n",
    "The original datasets and documents are sourced from the Chicago Police Department (CPD), Civillian Office of Police Accountability (COPA), the Independent Police Review Authority (IPRA), or the City of Chicago. However, we are building off of data that has been cleaned and matched from a [repository](https://github.com/invinst/chicago-police-data) maintained by the [Invisible Institute](https://invisible.institute/introduction). We have used a subset of the data from the years 2005 to 2015. \n",
    "\n",
    "## Analysis\n",
    "Simple and multivariable linear regression models were used to determine if there was an association between the number of complaints an officer receives per year and the officer's salary. Number of complaints, salary and officer demographic variables (i.e. gender, race and age) were the variables used from the original dataset. The R programming language [CITE R] and the following R packages: tidyverse, doctopt... were used to conduct these analyses. The code used to perform the analysis and create this report can be found here: https://github.com/UBC-MDS/CPD\n",
    "\n",
    "[citations required for R packages]"
   ]
  },
  {
   "cell_type": "markdown",
   "metadata": {},
   "source": [
    "# Results and Discussion\n",
    "\n",
    "To better answer whether a police staff member's salary influences their number of complaints per year, we found it helpful to start with a high level view of the Chicago Police Data and looked at the complaints per year. We see that the complaints per year have been falling from 2007 onwards, but a portion of it can be contributed to declining total staff numbers. Instead, if we look at the complaints per year per officer, we see that the overall trend has not really changed from year to year.\n",
    "\n",
    "As the majority of complaints filed from 2005-2015 were against those ranked as a Police Officer, we decided to focus our study on this group of staff. \n",
    "\n",
    "![officer breakdown](../eda/images/complaints_by_rank.png)\n",
    "\n",
    "Taking a closer look at this group of Police Officers, we found that their salary ranged from \\$36,984 to \\$122,100 with a mean of \\$73,773. In terms of age, the average police officer in 2015 was about 41 years old and this was a relatively normal distribution. These officers had about 12 years of service but this distribution was harder to characterize with a number of officers having less than seven years of service. In the gender and race bar charts we can see that the majority of police officers are male and white. By looking just one year, 2015, we are able to prevent double-counting and get an understanding of the distributions of the Police Officer sub-group. We chose 2015 as it was relatively recent and represented the other years quite well.\n",
    "\n",
    "With a better understanding of our group of interest, we generated a correlation matrix to see if there were any strong correlations between salary, age, years of service and complaints per year. While our initial inferential question focuses on salary and complaints per year, knowing that there may be more variables accounting for a change in complaints per year led us to add these other variables. From this matrix we saw a relatively small negative coefficient between salary and complaints per year and proceeded with our analysis.\n",
    "\n",
    "![correlation matrix](../eda/images/corr_matrix.png)\n"
   ]
  },
  {
   "cell_type": "markdown",
   "metadata": {},
   "source": [
    "Upon completing our EDA, we moved on to constructing our linear models. \n",
    "\n",
    "### Simple Linear Regression Model\n",
    "Our first linear model is a simple linear model described by the following equation:\n",
    "\n",
    "$$ \\texttt{complaints_per_year}_i = \\beta_0 + \\beta_1 \\times \\texttt{salary_scaled}_i + \\varepsilon_i $$\n",
    " \n",
    "The coefficents of this model and their p-values are presented below:"
   ]
  },
  {
   "cell_type": "code",
   "execution_count": 17,
   "metadata": {},
   "outputs": [
    {
     "data": {
      "text/html": [
       "<table>\n",
       "<caption>A tibble: 2 × 5</caption>\n",
       "<thead>\n",
       "\t<tr><th scope=col>term</th><th scope=col>estimate</th><th scope=col>std.error</th><th scope=col>statistic</th><th scope=col>p.value</th></tr>\n",
       "\t<tr><th scope=col>&lt;chr&gt;</th><th scope=col>&lt;dbl&gt;</th><th scope=col>&lt;dbl&gt;</th><th scope=col>&lt;dbl&gt;</th><th scope=col>&lt;dbl&gt;</th></tr>\n",
       "</thead>\n",
       "<tbody>\n",
       "\t<tr><td>(Intercept)  </td><td> 1.20266217</td><td>0.023709540</td><td> 50.72482</td><td> 0.000000e+00</td></tr>\n",
       "\t<tr><td>salary_scaled</td><td>-0.09258197</td><td>0.003185082</td><td>-29.06737</td><td>5.161322e-185</td></tr>\n",
       "</tbody>\n",
       "</table>\n"
      ],
      "text/latex": [
       "A tibble: 2 × 5\n",
       "\\begin{tabular}{lllll}\n",
       " term & estimate & std.error & statistic & p.value\\\\\n",
       " <chr> & <dbl> & <dbl> & <dbl> & <dbl>\\\\\n",
       "\\hline\n",
       "\t (Intercept)   &  1.20266217 & 0.023709540 &  50.72482 &  0.000000e+00\\\\\n",
       "\t salary\\_scaled & -0.09258197 & 0.003185082 & -29.06737 & 5.161322e-185\\\\\n",
       "\\end{tabular}\n"
      ],
      "text/markdown": [
       "\n",
       "A tibble: 2 × 5\n",
       "\n",
       "| term &lt;chr&gt; | estimate &lt;dbl&gt; | std.error &lt;dbl&gt; | statistic &lt;dbl&gt; | p.value &lt;dbl&gt; |\n",
       "|---|---|---|---|---|\n",
       "| (Intercept)   |  1.20266217 | 0.023709540 |  50.72482 |  0.000000e+00 |\n",
       "| salary_scaled | -0.09258197 | 0.003185082 | -29.06737 | 5.161322e-185 |\n",
       "\n"
      ],
      "text/plain": [
       "  term          estimate    std.error   statistic p.value      \n",
       "1 (Intercept)    1.20266217 0.023709540  50.72482  0.000000e+00\n",
       "2 salary_scaled -0.09258197 0.003185082 -29.06737 5.161322e-185"
      ]
     },
     "metadata": {},
     "output_type": "display_data"
    }
   ],
   "source": [
    "readRDS('../results/salary_reg.rds')"
   ]
  },
  {
   "cell_type": "markdown",
   "metadata": {},
   "source": [
    "Our line of regression can also be visualized by the graph below:"
   ]
  },
  {
   "cell_type": "markdown",
   "metadata": {},
   "source": [
    "![salary_reg](../results/salary_reg.png)"
   ]
  },
  {
   "cell_type": "markdown",
   "metadata": {},
   "source": [
    "### Interpretation of Simple Regression Model \n",
    "Our simple regression model indicated a change of -0.09258197 (in \\$10,000) is associated with 1 complaint increase in number of complaints received by a police officer in a year."
   ]
  },
  {
   "cell_type": "markdown",
   "metadata": {},
   "source": [
    "### Multivariable Regression Models\n",
    "In addition to the simple regression model, we have also considered multivariable linear regression models that would take into account confounding effects by demographics factors.\n",
    "\n",
    "Our second model includes a single demographic term, gender, which seemed to have explanatory power according to our EDA. It is described by the equation below:\n",
    "\n",
    "$$ \\texttt{complaints_per_year}_i = \\beta_0 + \\beta_1 \\times \\texttt{salary_scaled}_i + \\beta_2 \\times \\texttt{gender}_i + \\beta_3 \\times \\texttt{comment_percentage}_i + \\varepsilon_i $$\n",
    "\n",
    "The coefficents of this model and their p-values are presented below:"
   ]
  },
  {
   "cell_type": "code",
   "execution_count": 15,
   "metadata": {},
   "outputs": [
    {
     "data": {
      "text/html": [
       "<table>\n",
       "<caption>A tibble: 3 × 5</caption>\n",
       "<thead>\n",
       "\t<tr><th scope=col>term</th><th scope=col>estimate</th><th scope=col>std.error</th><th scope=col>statistic</th><th scope=col>p.value</th></tr>\n",
       "\t<tr><th scope=col>&lt;chr&gt;</th><th scope=col>&lt;dbl&gt;</th><th scope=col>&lt;dbl&gt;</th><th scope=col>&lt;dbl&gt;</th><th scope=col>&lt;dbl&gt;</th></tr>\n",
       "</thead>\n",
       "<tbody>\n",
       "\t<tr><td>(Intercept)  </td><td> 1.00206754</td><td>0.024146330</td><td> 41.49979</td><td> 0.000000e+00</td></tr>\n",
       "\t<tr><td>salary_scaled</td><td>-0.09277928</td><td>0.003163610</td><td>-29.32703</td><td>2.775135e-188</td></tr>\n",
       "\t<tr><td>genderMALE   </td><td> 0.27118799</td><td>0.007211993</td><td> 37.60236</td><td>2.348148e-307</td></tr>\n",
       "</tbody>\n",
       "</table>\n"
      ],
      "text/latex": [
       "A tibble: 3 × 5\n",
       "\\begin{tabular}{lllll}\n",
       " term & estimate & std.error & statistic & p.value\\\\\n",
       " <chr> & <dbl> & <dbl> & <dbl> & <dbl>\\\\\n",
       "\\hline\n",
       "\t (Intercept)   &  1.00206754 & 0.024146330 &  41.49979 &  0.000000e+00\\\\\n",
       "\t salary\\_scaled & -0.09277928 & 0.003163610 & -29.32703 & 2.775135e-188\\\\\n",
       "\t genderMALE    &  0.27118799 & 0.007211993 &  37.60236 & 2.348148e-307\\\\\n",
       "\\end{tabular}\n"
      ],
      "text/markdown": [
       "\n",
       "A tibble: 3 × 5\n",
       "\n",
       "| term &lt;chr&gt; | estimate &lt;dbl&gt; | std.error &lt;dbl&gt; | statistic &lt;dbl&gt; | p.value &lt;dbl&gt; |\n",
       "|---|---|---|---|---|\n",
       "| (Intercept)   |  1.00206754 | 0.024146330 |  41.49979 |  0.000000e+00 |\n",
       "| salary_scaled | -0.09277928 | 0.003163610 | -29.32703 | 2.775135e-188 |\n",
       "| genderMALE    |  0.27118799 | 0.007211993 |  37.60236 | 2.348148e-307 |\n",
       "\n"
      ],
      "text/plain": [
       "  term          estimate    std.error   statistic p.value      \n",
       "1 (Intercept)    1.00206754 0.024146330  41.49979  0.000000e+00\n",
       "2 salary_scaled -0.09277928 0.003163610 -29.32703 2.775135e-188\n",
       "3 genderMALE     0.27118799 0.007211993  37.60236 2.348148e-307"
      ]
     },
     "metadata": {},
     "output_type": "display_data"
    }
   ],
   "source": [
    "readRDS('../results/salary_gender_reg.rds')"
   ]
  },
  {
   "cell_type": "markdown",
   "metadata": {},
   "source": [
    "Our third and final model includes all demographic terms(i.e. gender, race and age) and is described by the equation below:\n",
    "\n",
    "$$ \\texttt{complaints_per_year}_i = \\beta_0 + \\beta_1 \\times \\texttt{salary_scaled}_i + \\beta_2 \\times \\texttt{gender}_i + \\beta_3 \\times \\texttt{race}_i +  \\beta_4 \\times \\texttt{approx_age}_i + \\varepsilon_i $$\n",
    "\n",
    "The coefficents of this model and their p-values are presented below:"
   ]
  },
  {
   "cell_type": "code",
   "execution_count": 18,
   "metadata": {},
   "outputs": [
    {
     "data": {
      "text/html": [
       "<table>\n",
       "<caption>A tibble: 8 × 5</caption>\n",
       "<thead>\n",
       "\t<tr><th scope=col>term</th><th scope=col>estimate</th><th scope=col>std.error</th><th scope=col>statistic</th><th scope=col>p.value</th></tr>\n",
       "\t<tr><th scope=col>&lt;chr&gt;</th><th scope=col>&lt;dbl&gt;</th><th scope=col>&lt;dbl&gt;</th><th scope=col>&lt;dbl&gt;</th><th scope=col>&lt;dbl&gt;</th></tr>\n",
       "</thead>\n",
       "<tbody>\n",
       "\t<tr><td>(Intercept)                       </td><td> 0.95097889</td><td>0.0299785255</td><td> 31.722003</td><td>8.778627e-220</td></tr>\n",
       "\t<tr><td>salary_scaled                     </td><td> 0.03387924</td><td>0.0038812607</td><td>  8.728927</td><td> 2.608162e-18</td></tr>\n",
       "\t<tr><td>genderMALE                        </td><td> 0.25056160</td><td>0.0072013319</td><td> 34.793786</td><td>1.011562e-263</td></tr>\n",
       "\t<tr><td>raceBLACK                         </td><td> 0.15221156</td><td>0.0199103500</td><td>  7.644846</td><td> 2.109832e-14</td></tr>\n",
       "\t<tr><td>raceHISPANIC                      </td><td> 0.09516874</td><td>0.0201034636</td><td>  4.733947</td><td> 2.204850e-06</td></tr>\n",
       "\t<tr><td>raceNATIVE AMERICAN/ALASKAN NATIVE</td><td> 0.16923847</td><td>0.0546886065</td><td>  3.094584</td><td> 1.971417e-03</td></tr>\n",
       "\t<tr><td>raceWHITE                         </td><td> 0.10474518</td><td>0.0194400383</td><td>  5.388116</td><td> 7.135482e-08</td></tr>\n",
       "\t<tr><td>approx_age                        </td><td>-0.02343910</td><td>0.0004257525</td><td>-55.053341</td><td> 0.000000e+00</td></tr>\n",
       "</tbody>\n",
       "</table>\n"
      ],
      "text/latex": [
       "A tibble: 8 × 5\n",
       "\\begin{tabular}{lllll}\n",
       " term & estimate & std.error & statistic & p.value\\\\\n",
       " <chr> & <dbl> & <dbl> & <dbl> & <dbl>\\\\\n",
       "\\hline\n",
       "\t (Intercept)                        &  0.95097889 & 0.0299785255 &  31.722003 & 8.778627e-220\\\\\n",
       "\t salary\\_scaled                      &  0.03387924 & 0.0038812607 &   8.728927 &  2.608162e-18\\\\\n",
       "\t genderMALE                         &  0.25056160 & 0.0072013319 &  34.793786 & 1.011562e-263\\\\\n",
       "\t raceBLACK                          &  0.15221156 & 0.0199103500 &   7.644846 &  2.109832e-14\\\\\n",
       "\t raceHISPANIC                       &  0.09516874 & 0.0201034636 &   4.733947 &  2.204850e-06\\\\\n",
       "\t raceNATIVE AMERICAN/ALASKAN NATIVE &  0.16923847 & 0.0546886065 &   3.094584 &  1.971417e-03\\\\\n",
       "\t raceWHITE                          &  0.10474518 & 0.0194400383 &   5.388116 &  7.135482e-08\\\\\n",
       "\t approx\\_age                         & -0.02343910 & 0.0004257525 & -55.053341 &  0.000000e+00\\\\\n",
       "\\end{tabular}\n"
      ],
      "text/markdown": [
       "\n",
       "A tibble: 8 × 5\n",
       "\n",
       "| term &lt;chr&gt; | estimate &lt;dbl&gt; | std.error &lt;dbl&gt; | statistic &lt;dbl&gt; | p.value &lt;dbl&gt; |\n",
       "|---|---|---|---|---|\n",
       "| (Intercept)                        |  0.95097889 | 0.0299785255 |  31.722003 | 8.778627e-220 |\n",
       "| salary_scaled                      |  0.03387924 | 0.0038812607 |   8.728927 |  2.608162e-18 |\n",
       "| genderMALE                         |  0.25056160 | 0.0072013319 |  34.793786 | 1.011562e-263 |\n",
       "| raceBLACK                          |  0.15221156 | 0.0199103500 |   7.644846 |  2.109832e-14 |\n",
       "| raceHISPANIC                       |  0.09516874 | 0.0201034636 |   4.733947 |  2.204850e-06 |\n",
       "| raceNATIVE AMERICAN/ALASKAN NATIVE |  0.16923847 | 0.0546886065 |   3.094584 |  1.971417e-03 |\n",
       "| raceWHITE                          |  0.10474518 | 0.0194400383 |   5.388116 |  7.135482e-08 |\n",
       "| approx_age                         | -0.02343910 | 0.0004257525 | -55.053341 |  0.000000e+00 |\n",
       "\n"
      ],
      "text/plain": [
       "  term                               estimate    std.error    statistic \n",
       "1 (Intercept)                         0.95097889 0.0299785255  31.722003\n",
       "2 salary_scaled                       0.03387924 0.0038812607   8.728927\n",
       "3 genderMALE                          0.25056160 0.0072013319  34.793786\n",
       "4 raceBLACK                           0.15221156 0.0199103500   7.644846\n",
       "5 raceHISPANIC                        0.09516874 0.0201034636   4.733947\n",
       "6 raceNATIVE AMERICAN/ALASKAN NATIVE  0.16923847 0.0546886065   3.094584\n",
       "7 raceWHITE                           0.10474518 0.0194400383   5.388116\n",
       "8 approx_age                         -0.02343910 0.0004257525 -55.053341\n",
       "  p.value      \n",
       "1 8.778627e-220\n",
       "2  2.608162e-18\n",
       "3 1.011562e-263\n",
       "4  2.109832e-14\n",
       "5  2.204850e-06\n",
       "6  1.971417e-03\n",
       "7  7.135482e-08\n",
       "8  0.000000e+00"
      ]
     },
     "metadata": {},
     "output_type": "display_data"
    }
   ],
   "source": [
    "readRDS('../results/salary_demographics_reg.rds')"
   ]
  },
  {
   "cell_type": "markdown",
   "metadata": {},
   "source": [
    "We will be evaluating the performance of these models in the next iteration of our project to see which moedl can best describe our data. \n",
    "\n",
    "We also acknowledge that our data does not fit all the assumptions of linear regression, therefore, we will be interpreting the results of our analysis with caution."
   ]
  },
  {
   "cell_type": "markdown",
   "metadata": {},
   "source": [
    "# References\n",
    "[to do]"
   ]
  },
  {
   "cell_type": "code",
   "execution_count": null,
   "metadata": {},
   "outputs": [],
   "source": []
  }
 ],
 "metadata": {
  "kernelspec": {
   "display_name": "R",
   "language": "R",
   "name": "ir"
  },
  "language_info": {
   "codemirror_mode": "r",
   "file_extension": ".r",
   "mimetype": "text/x-r-source",
   "name": "R",
   "pygments_lexer": "r",
   "version": "4.0.2"
  }
 },
 "nbformat": 4,
 "nbformat_minor": 4
}
