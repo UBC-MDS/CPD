{
 "cells": [
  {
   "cell_type": "markdown",
   "metadata": {},
   "source": [
    "## Import libraries"
   ]
  },
  {
   "cell_type": "code",
   "execution_count": 1,
   "metadata": {},
   "outputs": [
    {
     "name": "stderr",
     "output_type": "stream",
     "text": [
      "-- \u001b[1mAttaching packages\u001b[22m --------------------------------------- tidyverse 1.3.0 --\n",
      "\n",
      "\u001b[32mv\u001b[39m \u001b[34mggplot2\u001b[39m 3.3.2     \u001b[32mv\u001b[39m \u001b[34mpurrr  \u001b[39m 0.3.4\n",
      "\u001b[32mv\u001b[39m \u001b[34mtibble \u001b[39m 3.0.4     \u001b[32mv\u001b[39m \u001b[34mdplyr  \u001b[39m 1.0.2\n",
      "\u001b[32mv\u001b[39m \u001b[34mtidyr  \u001b[39m 1.1.2     \u001b[32mv\u001b[39m \u001b[34mstringr\u001b[39m 1.4.0\n",
      "\u001b[32mv\u001b[39m \u001b[34mreadr  \u001b[39m 1.4.0     \u001b[32mv\u001b[39m \u001b[34mforcats\u001b[39m 0.5.0\n",
      "\n",
      "-- \u001b[1mConflicts\u001b[22m ------------------------------------------ tidyverse_conflicts() --\n",
      "\u001b[31mx\u001b[39m \u001b[34mdplyr\u001b[39m::\u001b[32mfilter()\u001b[39m masks \u001b[34mstats\u001b[39m::filter()\n",
      "\u001b[31mx\u001b[39m \u001b[34mdplyr\u001b[39m::\u001b[32mlag()\u001b[39m    masks \u001b[34mstats\u001b[39m::lag()\n",
      "\n",
      "\n",
      "Attaching package: 'janitor'\n",
      "\n",
      "\n",
      "The following objects are masked from 'package:stats':\n",
      "\n",
      "    chisq.test, fisher.test\n",
      "\n",
      "\n",
      "\n",
      "Attaching package: 'lubridate'\n",
      "\n",
      "\n",
      "The following objects are masked from 'package:base':\n",
      "\n",
      "    date, intersect, setdiff, union\n",
      "\n",
      "\n"
     ]
    }
   ],
   "source": [
    "# Import Libraries \n",
    "library(tidyverse)\n",
    "library(janitor)\n",
    "library(stringr)\n",
    "library(lubridate)"
   ]
  },
  {
   "cell_type": "markdown",
   "metadata": {},
   "source": [
    "## Import data and create dataframes"
   ]
  },
  {
   "cell_type": "code",
   "execution_count": 2,
   "metadata": {},
   "outputs": [],
   "source": [
    "# Documenting Steps for Downloading Data Files\n",
    "\n",
    "# Salary file\n",
    "#python download_data.py --url=https://github.com/invinst/chicago-police-data/blob/master/data/unified_data/salary/salary-ranks_2002-2017_2017-09.csv.gz?raw=true --path=../data/salary.csv\n",
    "\n",
    "# Accused file\n",
    "#python download_data.py --url=https://github.com/invinst/chicago-police-data/blob/master/data/unified_data/complaints/complaints-accused.csv.gz?raw=true --path=../data/accused.csv\n",
    "\n",
    "# Complaints file\n",
    "#python download_data.py --url=https://github.com/invinst/chicago-police-data/blob/master/data/unified_data/complaints/complaints-complaints.csv.gz?raw=true --path=../data/complaints.csv"
   ]
  },
  {
   "cell_type": "code",
   "execution_count": 3,
   "metadata": {},
   "outputs": [],
   "source": [
    "# Load csv files.  Readin all columns as characters, eliminates issues with formatting (some cr_id were defaulting to NA)\n",
    "accused_df <- read_csv(\"../data/accused.csv\", col_type = paste(rep(\"c\",10),collapse = \"\"))\n",
    "complaints_df <- read_csv(\"../data/complaints.csv\", col_type = paste(rep(\"c\",11),collapse = \"\"))\n",
    "salary_df <- read_csv(\"../data/salary.csv\", col_types = paste(rep(\"c\",8),collapse = \"\"))"
   ]
  },
  {
   "cell_type": "code",
   "execution_count": 4,
   "metadata": {},
   "outputs": [
    {
     "data": {
      "text/html": [
       "<table>\n",
       "<caption>A tibble: 6 × 10</caption>\n",
       "<thead>\n",
       "\t<tr><th scope=col>UID</th><th scope=col>complaint_category</th><th scope=col>complaint_code</th><th scope=col>cr_id</th><th scope=col>cv</th><th scope=col>final_finding</th><th scope=col>final_outcome</th><th scope=col>recc_finding</th><th scope=col>recc_outcome</th><th scope=col>link_UID</th></tr>\n",
       "\t<tr><th scope=col>&lt;chr&gt;</th><th scope=col>&lt;chr&gt;</th><th scope=col>&lt;chr&gt;</th><th scope=col>&lt;chr&gt;</th><th scope=col>&lt;chr&gt;</th><th scope=col>&lt;chr&gt;</th><th scope=col>&lt;chr&gt;</th><th scope=col>&lt;chr&gt;</th><th scope=col>&lt;chr&gt;</th><th scope=col>&lt;chr&gt;</th></tr>\n",
       "</thead>\n",
       "<tbody>\n",
       "\t<tr><td>130469.0</td><td>SUPERVISOR RESPONSIBILITY:  FAIL TO OBTAIN COMPLAINT REGISTER NO.</td><td>12D</td><td>C170981</td><td>1</td><td>NS</td><td>NO ACTION TAKEN</td><td>NA</td><td>NA</td><td>20040.0</td></tr>\n",
       "\t<tr><td>103495.0</td><td>EXCESSIVE FORCE:  ARRESTEE - DURING ARREST                       </td><td>05A</td><td>C170981</td><td>1</td><td>NS</td><td>NO ACTION TAKEN</td><td>NA</td><td>NA</td><td>7727.0 </td></tr>\n",
       "\t<tr><td>111845.0</td><td>EXCESSIVE FORCE:  ARRESTEE - DURING ARREST                       </td><td>05A</td><td>C170981</td><td>1</td><td>NS</td><td>NO ACTION TAKEN</td><td>NA</td><td>NA</td><td>17149.0</td></tr>\n",
       "\t<tr><td>126148.0</td><td>EXCESSIVE FORCE:  ARRESTEE - DURING ARREST                       </td><td>05A</td><td>C170981</td><td>1</td><td>NS</td><td>NO ACTION TAKEN</td><td>NA</td><td>NA</td><td>271.0  </td></tr>\n",
       "\t<tr><td>127906.0</td><td>EXCESSIVE FORCE:  ARRESTEE - DURING ARREST                       </td><td>05A</td><td>C170981</td><td>1</td><td>NS</td><td>NO ACTION TAKEN</td><td>NA</td><td>NA</td><td>11004.0</td></tr>\n",
       "\t<tr><td>117100.0</td><td>EXCESSIVE FORCE:  NO ARREST                                      </td><td>05D</td><td>C171131</td><td>1</td><td>EX</td><td>NO ACTION TAKEN</td><td>NA</td><td>NA</td><td>25023.0</td></tr>\n",
       "</tbody>\n",
       "</table>\n"
      ],
      "text/latex": [
       "A tibble: 6 × 10\n",
       "\\begin{tabular}{llllllllll}\n",
       " UID & complaint\\_category & complaint\\_code & cr\\_id & cv & final\\_finding & final\\_outcome & recc\\_finding & recc\\_outcome & link\\_UID\\\\\n",
       " <chr> & <chr> & <chr> & <chr> & <chr> & <chr> & <chr> & <chr> & <chr> & <chr>\\\\\n",
       "\\hline\n",
       "\t 130469.0 & SUPERVISOR RESPONSIBILITY:  FAIL TO OBTAIN COMPLAINT REGISTER NO. & 12D & C170981 & 1 & NS & NO ACTION TAKEN & NA & NA & 20040.0\\\\\n",
       "\t 103495.0 & EXCESSIVE FORCE:  ARRESTEE - DURING ARREST                        & 05A & C170981 & 1 & NS & NO ACTION TAKEN & NA & NA & 7727.0 \\\\\n",
       "\t 111845.0 & EXCESSIVE FORCE:  ARRESTEE - DURING ARREST                        & 05A & C170981 & 1 & NS & NO ACTION TAKEN & NA & NA & 17149.0\\\\\n",
       "\t 126148.0 & EXCESSIVE FORCE:  ARRESTEE - DURING ARREST                        & 05A & C170981 & 1 & NS & NO ACTION TAKEN & NA & NA & 271.0  \\\\\n",
       "\t 127906.0 & EXCESSIVE FORCE:  ARRESTEE - DURING ARREST                        & 05A & C170981 & 1 & NS & NO ACTION TAKEN & NA & NA & 11004.0\\\\\n",
       "\t 117100.0 & EXCESSIVE FORCE:  NO ARREST                                       & 05D & C171131 & 1 & EX & NO ACTION TAKEN & NA & NA & 25023.0\\\\\n",
       "\\end{tabular}\n"
      ],
      "text/markdown": [
       "\n",
       "A tibble: 6 × 10\n",
       "\n",
       "| UID &lt;chr&gt; | complaint_category &lt;chr&gt; | complaint_code &lt;chr&gt; | cr_id &lt;chr&gt; | cv &lt;chr&gt; | final_finding &lt;chr&gt; | final_outcome &lt;chr&gt; | recc_finding &lt;chr&gt; | recc_outcome &lt;chr&gt; | link_UID &lt;chr&gt; |\n",
       "|---|---|---|---|---|---|---|---|---|---|\n",
       "| 130469.0 | SUPERVISOR RESPONSIBILITY:  FAIL TO OBTAIN COMPLAINT REGISTER NO. | 12D | C170981 | 1 | NS | NO ACTION TAKEN | NA | NA | 20040.0 |\n",
       "| 103495.0 | EXCESSIVE FORCE:  ARRESTEE - DURING ARREST                        | 05A | C170981 | 1 | NS | NO ACTION TAKEN | NA | NA | 7727.0  |\n",
       "| 111845.0 | EXCESSIVE FORCE:  ARRESTEE - DURING ARREST                        | 05A | C170981 | 1 | NS | NO ACTION TAKEN | NA | NA | 17149.0 |\n",
       "| 126148.0 | EXCESSIVE FORCE:  ARRESTEE - DURING ARREST                        | 05A | C170981 | 1 | NS | NO ACTION TAKEN | NA | NA | 271.0   |\n",
       "| 127906.0 | EXCESSIVE FORCE:  ARRESTEE - DURING ARREST                        | 05A | C170981 | 1 | NS | NO ACTION TAKEN | NA | NA | 11004.0 |\n",
       "| 117100.0 | EXCESSIVE FORCE:  NO ARREST                                       | 05D | C171131 | 1 | EX | NO ACTION TAKEN | NA | NA | 25023.0 |\n",
       "\n"
      ],
      "text/plain": [
       "  UID      complaint_category                                               \n",
       "1 130469.0 SUPERVISOR RESPONSIBILITY:  FAIL TO OBTAIN COMPLAINT REGISTER NO.\n",
       "2 103495.0 EXCESSIVE FORCE:  ARRESTEE - DURING ARREST                       \n",
       "3 111845.0 EXCESSIVE FORCE:  ARRESTEE - DURING ARREST                       \n",
       "4 126148.0 EXCESSIVE FORCE:  ARRESTEE - DURING ARREST                       \n",
       "5 127906.0 EXCESSIVE FORCE:  ARRESTEE - DURING ARREST                       \n",
       "6 117100.0 EXCESSIVE FORCE:  NO ARREST                                      \n",
       "  complaint_code cr_id   cv final_finding final_outcome   recc_finding\n",
       "1 12D            C170981 1  NS            NO ACTION TAKEN NA          \n",
       "2 05A            C170981 1  NS            NO ACTION TAKEN NA          \n",
       "3 05A            C170981 1  NS            NO ACTION TAKEN NA          \n",
       "4 05A            C170981 1  NS            NO ACTION TAKEN NA          \n",
       "5 05A            C170981 1  NS            NO ACTION TAKEN NA          \n",
       "6 05D            C171131 1  EX            NO ACTION TAKEN NA          \n",
       "  recc_outcome link_UID\n",
       "1 NA           20040.0 \n",
       "2 NA           7727.0  \n",
       "3 NA           17149.0 \n",
       "4 NA           271.0   \n",
       "5 NA           11004.0 \n",
       "6 NA           25023.0 "
      ]
     },
     "metadata": {},
     "output_type": "display_data"
    },
    {
     "data": {
      "text/html": [
       "<table>\n",
       "<caption>A tibble: 6 × 11</caption>\n",
       "<thead>\n",
       "\t<tr><th scope=col>cr_id</th><th scope=col>cv</th><th scope=col>incident_date</th><th scope=col>complaint_date</th><th scope=col>closed_date</th><th scope=col>add1</th><th scope=col>add2</th><th scope=col>beat</th><th scope=col>city</th><th scope=col>full_address</th><th scope=col>location</th></tr>\n",
       "\t<tr><th scope=col>&lt;chr&gt;</th><th scope=col>&lt;chr&gt;</th><th scope=col>&lt;chr&gt;</th><th scope=col>&lt;chr&gt;</th><th scope=col>&lt;chr&gt;</th><th scope=col>&lt;chr&gt;</th><th scope=col>&lt;chr&gt;</th><th scope=col>&lt;chr&gt;</th><th scope=col>&lt;chr&gt;</th><th scope=col>&lt;chr&gt;</th><th scope=col>&lt;chr&gt;</th></tr>\n",
       "</thead>\n",
       "<tbody>\n",
       "\t<tr><td>1000194</td><td>2</td><td>2006-10-02</td><td>2006-10-02</td><td>NA        </td><td>7809</td><td>S SOUTH SHORE DR  </td><td>421.0 </td><td>CHICAGO IL            </td><td>NA</td><td>17                 </td></tr>\n",
       "\t<tr><td>1000214</td><td>3</td><td>2006-10-03</td><td>2006-10-04</td><td>2010-12-23</td><td>7100</td><td>South WESTERN AVE </td><td>832.0 </td><td>CHICAGO ILLINOIS 60636</td><td>NA</td><td>NA                 </td></tr>\n",
       "\t<tr><td>1002796</td><td>3</td><td>2006-12-15</td><td>2007-01-18</td><td>2008-12-15</td><td>325 </td><td>North JEFFERSON ST</td><td>1212.0</td><td>CHICAGO ILLINOIS 60661</td><td>NA</td><td>TAVERN/LIQUOR STORE</td></tr>\n",
       "\t<tr><td>1003786</td><td>3</td><td>2007-03-01</td><td>2007-03-02</td><td>2011-02-23</td><td>NA  </td><td>West 87TH ST      </td><td>834.0 </td><td>CHICAGO ILLINOIS 60652</td><td>NA</td><td>RESIDENCE          </td></tr>\n",
       "\t<tr><td>1005070</td><td>2</td><td>2007-04-20</td><td>2007-04-20</td><td>NA        </td><td>4010</td><td>W ERIE ST         </td><td>0.0   </td><td>CHICAGO IL            </td><td>NA</td><td>17                 </td></tr>\n",
       "\t<tr><td>1005436</td><td>2</td><td>2005-05-15</td><td>2007-05-04</td><td>NA        </td><td>4427</td><td>S KARLOV AVE      </td><td>815.0 </td><td>CHICAGO IL 60632      </td><td>NA</td><td>17                 </td></tr>\n",
       "</tbody>\n",
       "</table>\n"
      ],
      "text/latex": [
       "A tibble: 6 × 11\n",
       "\\begin{tabular}{lllllllllll}\n",
       " cr\\_id & cv & incident\\_date & complaint\\_date & closed\\_date & add1 & add2 & beat & city & full\\_address & location\\\\\n",
       " <chr> & <chr> & <chr> & <chr> & <chr> & <chr> & <chr> & <chr> & <chr> & <chr> & <chr>\\\\\n",
       "\\hline\n",
       "\t 1000194 & 2 & 2006-10-02 & 2006-10-02 & NA         & 7809 & S SOUTH SHORE DR   & 421.0  & CHICAGO IL             & NA & 17                 \\\\\n",
       "\t 1000214 & 3 & 2006-10-03 & 2006-10-04 & 2010-12-23 & 7100 & South WESTERN AVE  & 832.0  & CHICAGO ILLINOIS 60636 & NA & NA                 \\\\\n",
       "\t 1002796 & 3 & 2006-12-15 & 2007-01-18 & 2008-12-15 & 325  & North JEFFERSON ST & 1212.0 & CHICAGO ILLINOIS 60661 & NA & TAVERN/LIQUOR STORE\\\\\n",
       "\t 1003786 & 3 & 2007-03-01 & 2007-03-02 & 2011-02-23 & NA   & West 87TH ST       & 834.0  & CHICAGO ILLINOIS 60652 & NA & RESIDENCE          \\\\\n",
       "\t 1005070 & 2 & 2007-04-20 & 2007-04-20 & NA         & 4010 & W ERIE ST          & 0.0    & CHICAGO IL             & NA & 17                 \\\\\n",
       "\t 1005436 & 2 & 2005-05-15 & 2007-05-04 & NA         & 4427 & S KARLOV AVE       & 815.0  & CHICAGO IL 60632       & NA & 17                 \\\\\n",
       "\\end{tabular}\n"
      ],
      "text/markdown": [
       "\n",
       "A tibble: 6 × 11\n",
       "\n",
       "| cr_id &lt;chr&gt; | cv &lt;chr&gt; | incident_date &lt;chr&gt; | complaint_date &lt;chr&gt; | closed_date &lt;chr&gt; | add1 &lt;chr&gt; | add2 &lt;chr&gt; | beat &lt;chr&gt; | city &lt;chr&gt; | full_address &lt;chr&gt; | location &lt;chr&gt; |\n",
       "|---|---|---|---|---|---|---|---|---|---|---|\n",
       "| 1000194 | 2 | 2006-10-02 | 2006-10-02 | NA         | 7809 | S SOUTH SHORE DR   | 421.0  | CHICAGO IL             | NA | 17                  |\n",
       "| 1000214 | 3 | 2006-10-03 | 2006-10-04 | 2010-12-23 | 7100 | South WESTERN AVE  | 832.0  | CHICAGO ILLINOIS 60636 | NA | NA                  |\n",
       "| 1002796 | 3 | 2006-12-15 | 2007-01-18 | 2008-12-15 | 325  | North JEFFERSON ST | 1212.0 | CHICAGO ILLINOIS 60661 | NA | TAVERN/LIQUOR STORE |\n",
       "| 1003786 | 3 | 2007-03-01 | 2007-03-02 | 2011-02-23 | NA   | West 87TH ST       | 834.0  | CHICAGO ILLINOIS 60652 | NA | RESIDENCE           |\n",
       "| 1005070 | 2 | 2007-04-20 | 2007-04-20 | NA         | 4010 | W ERIE ST          | 0.0    | CHICAGO IL             | NA | 17                  |\n",
       "| 1005436 | 2 | 2005-05-15 | 2007-05-04 | NA         | 4427 | S KARLOV AVE       | 815.0  | CHICAGO IL 60632       | NA | 17                  |\n",
       "\n"
      ],
      "text/plain": [
       "  cr_id   cv incident_date complaint_date closed_date add1 add2              \n",
       "1 1000194 2  2006-10-02    2006-10-02     NA          7809 S SOUTH SHORE DR  \n",
       "2 1000214 3  2006-10-03    2006-10-04     2010-12-23  7100 South WESTERN AVE \n",
       "3 1002796 3  2006-12-15    2007-01-18     2008-12-15  325  North JEFFERSON ST\n",
       "4 1003786 3  2007-03-01    2007-03-02     2011-02-23  NA   West 87TH ST      \n",
       "5 1005070 2  2007-04-20    2007-04-20     NA          4010 W ERIE ST         \n",
       "6 1005436 2  2005-05-15    2007-05-04     NA          4427 S KARLOV AVE      \n",
       "  beat   city                   full_address location           \n",
       "1 421.0  CHICAGO IL             NA           17                 \n",
       "2 832.0  CHICAGO ILLINOIS 60636 NA           NA                 \n",
       "3 1212.0 CHICAGO ILLINOIS 60661 NA           TAVERN/LIQUOR STORE\n",
       "4 834.0  CHICAGO ILLINOIS 60652 NA           RESIDENCE          \n",
       "5 0.0    CHICAGO IL             NA           17                 \n",
       "6 815.0  CHICAGO IL 60632       NA           17                 "
      ]
     },
     "metadata": {},
     "output_type": "display_data"
    },
    {
     "data": {
      "text/html": [
       "<table>\n",
       "<caption>A tibble: 6 × 8</caption>\n",
       "<thead>\n",
       "\t<tr><th scope=col>UID</th><th scope=col>pay_grade</th><th scope=col>rank</th><th scope=col>salary</th><th scope=col>year</th><th scope=col>spp_date</th><th scope=col>cleaned_rank</th><th scope=col>link_UID</th></tr>\n",
       "\t<tr><th scope=col>&lt;chr&gt;</th><th scope=col>&lt;chr&gt;</th><th scope=col>&lt;chr&gt;</th><th scope=col>&lt;chr&gt;</th><th scope=col>&lt;chr&gt;</th><th scope=col>&lt;chr&gt;</th><th scope=col>&lt;chr&gt;</th><th scope=col>&lt;chr&gt;</th></tr>\n",
       "</thead>\n",
       "<tbody>\n",
       "\t<tr><td>100011.0</td><td>E|3 </td><td>SERGEANT                                        </td><td>101442.0</td><td>2016.0</td><td>2016-02-01</td><td>SERGEANT      </td><td>3978.0 </td></tr>\n",
       "\t<tr><td>100013.0</td><td>E|3 </td><td>SERGEANT                                        </td><td>111474.0</td><td>2016.0</td><td>2016-06-01</td><td>SERGEANT      </td><td>4443.0 </td></tr>\n",
       "\t<tr><td>100014.0</td><td>D|2A</td><td>POLICE OFFICER (ASSIGNED AS DETECTIVE)          </td><td>76446.0 </td><td>2007.0</td><td>2007-04-01</td><td>DETECTIVE     </td><td>4879.0 </td></tr>\n",
       "\t<tr><td>100027.0</td><td>E|3 </td><td>SERGEANT                                        </td><td>98184.0 </td><td>2016.0</td><td>2016-06-01</td><td>SERGEANT      </td><td>16115.0</td></tr>\n",
       "\t<tr><td>100044.0</td><td>D|2 </td><td>POLICE OFFICER (ASSIGNED AS EVIDENCE TECHNICIAN)</td><td>61518.0 </td><td>2004.0</td><td>2004-12-01</td><td>POLICE OFFICER</td><td>38.0   </td></tr>\n",
       "\t<tr><td>100054.0</td><td>D|2 </td><td>POLICE OFFICER/EXPLSV DETECT K9 HNDLR           </td><td>87048.0 </td><td>2011.0</td><td>2011-06-16</td><td>POLICE OFFICER</td><td>9432.0 </td></tr>\n",
       "</tbody>\n",
       "</table>\n"
      ],
      "text/latex": [
       "A tibble: 6 × 8\n",
       "\\begin{tabular}{llllllll}\n",
       " UID & pay\\_grade & rank & salary & year & spp\\_date & cleaned\\_rank & link\\_UID\\\\\n",
       " <chr> & <chr> & <chr> & <chr> & <chr> & <chr> & <chr> & <chr>\\\\\n",
       "\\hline\n",
       "\t 100011.0 & E\\textbar{}3  & SERGEANT                                         & 101442.0 & 2016.0 & 2016-02-01 & SERGEANT       & 3978.0 \\\\\n",
       "\t 100013.0 & E\\textbar{}3  & SERGEANT                                         & 111474.0 & 2016.0 & 2016-06-01 & SERGEANT       & 4443.0 \\\\\n",
       "\t 100014.0 & D\\textbar{}2A & POLICE OFFICER (ASSIGNED AS DETECTIVE)           & 76446.0  & 2007.0 & 2007-04-01 & DETECTIVE      & 4879.0 \\\\\n",
       "\t 100027.0 & E\\textbar{}3  & SERGEANT                                         & 98184.0  & 2016.0 & 2016-06-01 & SERGEANT       & 16115.0\\\\\n",
       "\t 100044.0 & D\\textbar{}2  & POLICE OFFICER (ASSIGNED AS EVIDENCE TECHNICIAN) & 61518.0  & 2004.0 & 2004-12-01 & POLICE OFFICER & 38.0   \\\\\n",
       "\t 100054.0 & D\\textbar{}2  & POLICE OFFICER/EXPLSV DETECT K9 HNDLR            & 87048.0  & 2011.0 & 2011-06-16 & POLICE OFFICER & 9432.0 \\\\\n",
       "\\end{tabular}\n"
      ],
      "text/markdown": [
       "\n",
       "A tibble: 6 × 8\n",
       "\n",
       "| UID &lt;chr&gt; | pay_grade &lt;chr&gt; | rank &lt;chr&gt; | salary &lt;chr&gt; | year &lt;chr&gt; | spp_date &lt;chr&gt; | cleaned_rank &lt;chr&gt; | link_UID &lt;chr&gt; |\n",
       "|---|---|---|---|---|---|---|---|\n",
       "| 100011.0 | E|3  | SERGEANT                                         | 101442.0 | 2016.0 | 2016-02-01 | SERGEANT       | 3978.0  |\n",
       "| 100013.0 | E|3  | SERGEANT                                         | 111474.0 | 2016.0 | 2016-06-01 | SERGEANT       | 4443.0  |\n",
       "| 100014.0 | D|2A | POLICE OFFICER (ASSIGNED AS DETECTIVE)           | 76446.0  | 2007.0 | 2007-04-01 | DETECTIVE      | 4879.0  |\n",
       "| 100027.0 | E|3  | SERGEANT                                         | 98184.0  | 2016.0 | 2016-06-01 | SERGEANT       | 16115.0 |\n",
       "| 100044.0 | D|2  | POLICE OFFICER (ASSIGNED AS EVIDENCE TECHNICIAN) | 61518.0  | 2004.0 | 2004-12-01 | POLICE OFFICER | 38.0    |\n",
       "| 100054.0 | D|2  | POLICE OFFICER/EXPLSV DETECT K9 HNDLR            | 87048.0  | 2011.0 | 2011-06-16 | POLICE OFFICER | 9432.0  |\n",
       "\n"
      ],
      "text/plain": [
       "  UID      pay_grade rank                                             salary  \n",
       "1 100011.0 E|3       SERGEANT                                         101442.0\n",
       "2 100013.0 E|3       SERGEANT                                         111474.0\n",
       "3 100014.0 D|2A      POLICE OFFICER (ASSIGNED AS DETECTIVE)           76446.0 \n",
       "4 100027.0 E|3       SERGEANT                                         98184.0 \n",
       "5 100044.0 D|2       POLICE OFFICER (ASSIGNED AS EVIDENCE TECHNICIAN) 61518.0 \n",
       "6 100054.0 D|2       POLICE OFFICER/EXPLSV DETECT K9 HNDLR            87048.0 \n",
       "  year   spp_date   cleaned_rank   link_UID\n",
       "1 2016.0 2016-02-01 SERGEANT       3978.0  \n",
       "2 2016.0 2016-06-01 SERGEANT       4443.0  \n",
       "3 2007.0 2007-04-01 DETECTIVE      4879.0  \n",
       "4 2016.0 2016-06-01 SERGEANT       16115.0 \n",
       "5 2004.0 2004-12-01 POLICE OFFICER 38.0    \n",
       "6 2011.0 2011-06-16 POLICE OFFICER 9432.0  "
      ]
     },
     "metadata": {},
     "output_type": "display_data"
    }
   ],
   "source": [
    "# See first few rows of DFs\n",
    "head(accused_df)\n",
    "head(complaints_df)\n",
    "head(salary_df)"
   ]
  },
  {
   "cell_type": "markdown",
   "metadata": {},
   "source": [
    "## Check for duplicates\n",
    "\n",
    "### Process\n",
    "There are several duplicate complaints in the accused and complaints dataset, the `cr_id` sometimes appears with \"CR\" as the suffix and sometimes it does not.  Unclear as to why this occurs, from what I can tell the remainder of the information is either identical or very similar (i.e. updated wording, all caps vs no caps).    There are 20,108 rows of duplicate accused. \n",
    "\n",
    "To confirmed duplicates:\n",
    "1. Created new `cr_id_num` to remove suffix\n",
    "2. Used `janitor::get_dupes()` function to isolate any duplicates.  Considered if there was duplicates due to several officers named in complaint, these are not considered duplicates. \n",
    "3. Counted number of rows. "
   ]
  },
  {
   "cell_type": "markdown",
   "metadata": {},
   "source": [
    "#### Accused dataframe"
   ]
  },
  {
   "cell_type": "code",
   "execution_count": 5,
   "metadata": {},
   "outputs": [
    {
     "data": {
      "text/html": [
       "20108"
      ],
      "text/latex": [
       "20108"
      ],
      "text/markdown": [
       "20108"
      ],
      "text/plain": [
       "[1] 20108"
      ]
     },
     "metadata": {},
     "output_type": "display_data"
    },
    {
     "data": {
      "text/html": [
       "<table>\n",
       "<caption>A tibble: 6 × 12</caption>\n",
       "<thead>\n",
       "\t<tr><th scope=col>cr_id_num</th><th scope=col>UID</th><th scope=col>dupe_count</th><th scope=col>complaint_category</th><th scope=col>complaint_code</th><th scope=col>cr_id</th><th scope=col>cv</th><th scope=col>final_finding</th><th scope=col>final_outcome</th><th scope=col>recc_finding</th><th scope=col>recc_outcome</th><th scope=col>link_UID</th></tr>\n",
       "\t<tr><th scope=col>&lt;chr[,1]&gt;</th><th scope=col>&lt;chr&gt;</th><th scope=col>&lt;int&gt;</th><th scope=col>&lt;chr&gt;</th><th scope=col>&lt;chr&gt;</th><th scope=col>&lt;chr&gt;</th><th scope=col>&lt;chr&gt;</th><th scope=col>&lt;chr&gt;</th><th scope=col>&lt;chr&gt;</th><th scope=col>&lt;chr&gt;</th><th scope=col>&lt;chr&gt;</th><th scope=col>&lt;chr&gt;</th></tr>\n",
       "</thead>\n",
       "<tbody>\n",
       "\t<tr><td>258960</td><td>120174.0</td><td>2</td><td>EXCESSIVE FORCE:  ARRESTEE - LOCKUP/DETENTION</td><td>05C  </td><td>C258960</td><td>1</td><td>UN</td><td>NO ACTION TAKEN</td><td>NA</td><td>NA             </td><td>4437.0 </td></tr>\n",
       "\t<tr><td>258960</td><td>120174.0</td><td>2</td><td>ARRESTEE-LOCKUP/DELETION                     </td><td>05ZZC</td><td>258960 </td><td>3</td><td>NS</td><td>NA             </td><td>NA</td><td>NA             </td><td>4437.0 </td></tr>\n",
       "\t<tr><td>258996</td><td>130754.0</td><td>2</td><td>VERBAL ABUSE - USE OF PROFANITY              </td><td>01A  </td><td>C258996</td><td>1</td><td>NS</td><td>NO ACTION TAKEN</td><td>NA</td><td>NA             </td><td>1421.0 </td></tr>\n",
       "\t<tr><td>258996</td><td>130754.0</td><td>2</td><td>USE OF PROFANITY                             </td><td>01A  </td><td>258996 </td><td>2</td><td>NS</td><td>No Action Taken</td><td>NS</td><td>No Action Taken</td><td>1421.0 </td></tr>\n",
       "\t<tr><td>258997</td><td>113991.0</td><td>2</td><td>VERBAL ABUSE - USE OF PROFANITY              </td><td>01A  </td><td>C258997</td><td>1</td><td>UN</td><td>NO ACTION TAKEN</td><td>NA</td><td>NA             </td><td>14292.0</td></tr>\n",
       "\t<tr><td>258997</td><td>113991.0</td><td>2</td><td>USE OF PROFANITY                             </td><td>01A  </td><td>258997 </td><td>2</td><td>UN</td><td>No Action Taken</td><td>UN</td><td>No Action Taken</td><td>14292.0</td></tr>\n",
       "</tbody>\n",
       "</table>\n"
      ],
      "text/latex": [
       "A tibble: 6 × 12\n",
       "\\begin{tabular}{llllllllllll}\n",
       " cr\\_id\\_num & UID & dupe\\_count & complaint\\_category & complaint\\_code & cr\\_id & cv & final\\_finding & final\\_outcome & recc\\_finding & recc\\_outcome & link\\_UID\\\\\n",
       " <chr{[},1{]}> & <chr> & <int> & <chr> & <chr> & <chr> & <chr> & <chr> & <chr> & <chr> & <chr> & <chr>\\\\\n",
       "\\hline\n",
       "\t 258960 & 120174.0 & 2 & EXCESSIVE FORCE:  ARRESTEE - LOCKUP/DETENTION & 05C   & C258960 & 1 & UN & NO ACTION TAKEN & NA & NA              & 4437.0 \\\\\n",
       "\t 258960 & 120174.0 & 2 & ARRESTEE-LOCKUP/DELETION                      & 05ZZC & 258960  & 3 & NS & NA              & NA & NA              & 4437.0 \\\\\n",
       "\t 258996 & 130754.0 & 2 & VERBAL ABUSE - USE OF PROFANITY               & 01A   & C258996 & 1 & NS & NO ACTION TAKEN & NA & NA              & 1421.0 \\\\\n",
       "\t 258996 & 130754.0 & 2 & USE OF PROFANITY                              & 01A   & 258996  & 2 & NS & No Action Taken & NS & No Action Taken & 1421.0 \\\\\n",
       "\t 258997 & 113991.0 & 2 & VERBAL ABUSE - USE OF PROFANITY               & 01A   & C258997 & 1 & UN & NO ACTION TAKEN & NA & NA              & 14292.0\\\\\n",
       "\t 258997 & 113991.0 & 2 & USE OF PROFANITY                              & 01A   & 258997  & 2 & UN & No Action Taken & UN & No Action Taken & 14292.0\\\\\n",
       "\\end{tabular}\n"
      ],
      "text/markdown": [
       "\n",
       "A tibble: 6 × 12\n",
       "\n",
       "| cr_id_num &lt;chr[,1]&gt; | UID &lt;chr&gt; | dupe_count &lt;int&gt; | complaint_category &lt;chr&gt; | complaint_code &lt;chr&gt; | cr_id &lt;chr&gt; | cv &lt;chr&gt; | final_finding &lt;chr&gt; | final_outcome &lt;chr&gt; | recc_finding &lt;chr&gt; | recc_outcome &lt;chr&gt; | link_UID &lt;chr&gt; |\n",
       "|---|---|---|---|---|---|---|---|---|---|---|---|\n",
       "| 258960 | 120174.0 | 2 | EXCESSIVE FORCE:  ARRESTEE - LOCKUP/DETENTION | 05C   | C258960 | 1 | UN | NO ACTION TAKEN | NA | NA              | 4437.0  |\n",
       "| 258960 | 120174.0 | 2 | ARRESTEE-LOCKUP/DELETION                      | 05ZZC | 258960  | 3 | NS | NA              | NA | NA              | 4437.0  |\n",
       "| 258996 | 130754.0 | 2 | VERBAL ABUSE - USE OF PROFANITY               | 01A   | C258996 | 1 | NS | NO ACTION TAKEN | NA | NA              | 1421.0  |\n",
       "| 258996 | 130754.0 | 2 | USE OF PROFANITY                              | 01A   | 258996  | 2 | NS | No Action Taken | NS | No Action Taken | 1421.0  |\n",
       "| 258997 | 113991.0 | 2 | VERBAL ABUSE - USE OF PROFANITY               | 01A   | C258997 | 1 | UN | NO ACTION TAKEN | NA | NA              | 14292.0 |\n",
       "| 258997 | 113991.0 | 2 | USE OF PROFANITY                              | 01A   | 258997  | 2 | UN | No Action Taken | UN | No Action Taken | 14292.0 |\n",
       "\n"
      ],
      "text/plain": [
       "  cr_id_num UID      dupe_count complaint_category                           \n",
       "1 258960    120174.0 2          EXCESSIVE FORCE:  ARRESTEE - LOCKUP/DETENTION\n",
       "2 258960    120174.0 2          ARRESTEE-LOCKUP/DELETION                     \n",
       "3 258996    130754.0 2          VERBAL ABUSE - USE OF PROFANITY              \n",
       "4 258996    130754.0 2          USE OF PROFANITY                             \n",
       "5 258997    113991.0 2          VERBAL ABUSE - USE OF PROFANITY              \n",
       "6 258997    113991.0 2          USE OF PROFANITY                             \n",
       "  complaint_code cr_id   cv final_finding final_outcome   recc_finding\n",
       "1 05C            C258960 1  UN            NO ACTION TAKEN NA          \n",
       "2 05ZZC          258960  3  NS            NA              NA          \n",
       "3 01A            C258996 1  NS            NO ACTION TAKEN NA          \n",
       "4 01A            258996  2  NS            No Action Taken NS          \n",
       "5 01A            C258997 1  UN            NO ACTION TAKEN NA          \n",
       "6 01A            258997  2  UN            No Action Taken UN          \n",
       "  recc_outcome    link_UID\n",
       "1 NA              4437.0  \n",
       "2 NA              4437.0  \n",
       "3 NA              1421.0  \n",
       "4 No Action Taken 1421.0  \n",
       "5 NA              14292.0 \n",
       "6 No Action Taken 14292.0 "
      ]
     },
     "metadata": {},
     "output_type": "display_data"
    },
    {
     "data": {
      "text/html": [
       "<table>\n",
       "<caption>A tibble: 6 × 12</caption>\n",
       "<thead>\n",
       "\t<tr><th scope=col>cr_id_num</th><th scope=col>UID</th><th scope=col>dupe_count</th><th scope=col>complaint_category</th><th scope=col>complaint_code</th><th scope=col>cr_id</th><th scope=col>cv</th><th scope=col>final_finding</th><th scope=col>final_outcome</th><th scope=col>recc_finding</th><th scope=col>recc_outcome</th><th scope=col>link_UID</th></tr>\n",
       "\t<tr><th scope=col>&lt;chr[,1]&gt;</th><th scope=col>&lt;chr&gt;</th><th scope=col>&lt;int&gt;</th><th scope=col>&lt;chr&gt;</th><th scope=col>&lt;chr&gt;</th><th scope=col>&lt;chr&gt;</th><th scope=col>&lt;chr&gt;</th><th scope=col>&lt;chr&gt;</th><th scope=col>&lt;chr&gt;</th><th scope=col>&lt;chr&gt;</th><th scope=col>&lt;chr&gt;</th><th scope=col>&lt;chr&gt;</th></tr>\n",
       "</thead>\n",
       "<tbody>\n",
       "\t<tr><td>271834</td><td>110129.0</td><td>2</td><td>OPERATION/PERSONNEL VIOLS.:  NEGLECT OF DUTY / CONDUCT UNBECOMING</td><td>10J</td><td>C271834</td><td>1</td><td>UN</td><td>NO ACTION TAKEN     </td><td>NA</td><td>NA             </td><td>28000.0</td></tr>\n",
       "\t<tr><td>271834</td><td>110129.0</td><td>2</td><td>NEGLECT OF DUTY/CONDUCT UNBECOMING - ON DUTY                     </td><td>10J</td><td>271834 </td><td>2</td><td>UN</td><td>No Action Taken     </td><td>UN</td><td>No Action Taken</td><td>28000.0</td></tr>\n",
       "\t<tr><td>272173</td><td>123945.0</td><td>2</td><td>POSITIVE DRUG SCREEN - OTHER PHYSICAL EXAM                       </td><td>15H</td><td>C272173</td><td>1</td><td>SU</td><td>RESIGNED -NOT SERVED</td><td>NA</td><td>NA             </td><td>9695.0 </td></tr>\n",
       "\t<tr><td>272173</td><td>123945.0</td><td>2</td><td>POSITIVE DRUG SCREEN - OTHER PHYSICAL EXAM                       </td><td>15H</td><td>272173 </td><td>2</td><td>SU</td><td>Resigned            </td><td>SU</td><td>Separation     </td><td>9695.0 </td></tr>\n",
       "\t<tr><td>272341</td><td>117367.0</td><td>2</td><td>VERBAL ABUSE - RACIAL/ETHNIC/ETC.                                </td><td>01B</td><td>C272341</td><td>1</td><td>UN</td><td>NO ACTION TAKEN     </td><td>NA</td><td>NA             </td><td>7226.0 </td></tr>\n",
       "\t<tr><td>272341</td><td>117367.0</td><td>2</td><td>RACIAL/ETHNIC, ETC.                                              </td><td>01B</td><td>272341 </td><td>2</td><td>NA</td><td>Unknown             </td><td>NA</td><td>Unknown        </td><td>7226.0 </td></tr>\n",
       "</tbody>\n",
       "</table>\n"
      ],
      "text/latex": [
       "A tibble: 6 × 12\n",
       "\\begin{tabular}{llllllllllll}\n",
       " cr\\_id\\_num & UID & dupe\\_count & complaint\\_category & complaint\\_code & cr\\_id & cv & final\\_finding & final\\_outcome & recc\\_finding & recc\\_outcome & link\\_UID\\\\\n",
       " <chr{[},1{]}> & <chr> & <int> & <chr> & <chr> & <chr> & <chr> & <chr> & <chr> & <chr> & <chr> & <chr>\\\\\n",
       "\\hline\n",
       "\t 271834 & 110129.0 & 2 & OPERATION/PERSONNEL VIOLS.:  NEGLECT OF DUTY / CONDUCT UNBECOMING & 10J & C271834 & 1 & UN & NO ACTION TAKEN      & NA & NA              & 28000.0\\\\\n",
       "\t 271834 & 110129.0 & 2 & NEGLECT OF DUTY/CONDUCT UNBECOMING - ON DUTY                      & 10J & 271834  & 2 & UN & No Action Taken      & UN & No Action Taken & 28000.0\\\\\n",
       "\t 272173 & 123945.0 & 2 & POSITIVE DRUG SCREEN - OTHER PHYSICAL EXAM                        & 15H & C272173 & 1 & SU & RESIGNED -NOT SERVED & NA & NA              & 9695.0 \\\\\n",
       "\t 272173 & 123945.0 & 2 & POSITIVE DRUG SCREEN - OTHER PHYSICAL EXAM                        & 15H & 272173  & 2 & SU & Resigned             & SU & Separation      & 9695.0 \\\\\n",
       "\t 272341 & 117367.0 & 2 & VERBAL ABUSE - RACIAL/ETHNIC/ETC.                                 & 01B & C272341 & 1 & UN & NO ACTION TAKEN      & NA & NA              & 7226.0 \\\\\n",
       "\t 272341 & 117367.0 & 2 & RACIAL/ETHNIC, ETC.                                               & 01B & 272341  & 2 & NA & Unknown              & NA & Unknown         & 7226.0 \\\\\n",
       "\\end{tabular}\n"
      ],
      "text/markdown": [
       "\n",
       "A tibble: 6 × 12\n",
       "\n",
       "| cr_id_num &lt;chr[,1]&gt; | UID &lt;chr&gt; | dupe_count &lt;int&gt; | complaint_category &lt;chr&gt; | complaint_code &lt;chr&gt; | cr_id &lt;chr&gt; | cv &lt;chr&gt; | final_finding &lt;chr&gt; | final_outcome &lt;chr&gt; | recc_finding &lt;chr&gt; | recc_outcome &lt;chr&gt; | link_UID &lt;chr&gt; |\n",
       "|---|---|---|---|---|---|---|---|---|---|---|---|\n",
       "| 271834 | 110129.0 | 2 | OPERATION/PERSONNEL VIOLS.:  NEGLECT OF DUTY / CONDUCT UNBECOMING | 10J | C271834 | 1 | UN | NO ACTION TAKEN      | NA | NA              | 28000.0 |\n",
       "| 271834 | 110129.0 | 2 | NEGLECT OF DUTY/CONDUCT UNBECOMING - ON DUTY                      | 10J | 271834  | 2 | UN | No Action Taken      | UN | No Action Taken | 28000.0 |\n",
       "| 272173 | 123945.0 | 2 | POSITIVE DRUG SCREEN - OTHER PHYSICAL EXAM                        | 15H | C272173 | 1 | SU | RESIGNED -NOT SERVED | NA | NA              | 9695.0  |\n",
       "| 272173 | 123945.0 | 2 | POSITIVE DRUG SCREEN - OTHER PHYSICAL EXAM                        | 15H | 272173  | 2 | SU | Resigned             | SU | Separation      | 9695.0  |\n",
       "| 272341 | 117367.0 | 2 | VERBAL ABUSE - RACIAL/ETHNIC/ETC.                                 | 01B | C272341 | 1 | UN | NO ACTION TAKEN      | NA | NA              | 7226.0  |\n",
       "| 272341 | 117367.0 | 2 | RACIAL/ETHNIC, ETC.                                               | 01B | 272341  | 2 | NA | Unknown              | NA | Unknown         | 7226.0  |\n",
       "\n"
      ],
      "text/plain": [
       "  cr_id_num UID      dupe_count\n",
       "1 271834    110129.0 2         \n",
       "2 271834    110129.0 2         \n",
       "3 272173    123945.0 2         \n",
       "4 272173    123945.0 2         \n",
       "5 272341    117367.0 2         \n",
       "6 272341    117367.0 2         \n",
       "  complaint_category                                               \n",
       "1 OPERATION/PERSONNEL VIOLS.:  NEGLECT OF DUTY / CONDUCT UNBECOMING\n",
       "2 NEGLECT OF DUTY/CONDUCT UNBECOMING - ON DUTY                     \n",
       "3 POSITIVE DRUG SCREEN - OTHER PHYSICAL EXAM                       \n",
       "4 POSITIVE DRUG SCREEN - OTHER PHYSICAL EXAM                       \n",
       "5 VERBAL ABUSE - RACIAL/ETHNIC/ETC.                                \n",
       "6 RACIAL/ETHNIC, ETC.                                              \n",
       "  complaint_code cr_id   cv final_finding final_outcome        recc_finding\n",
       "1 10J            C271834 1  UN            NO ACTION TAKEN      NA          \n",
       "2 10J            271834  2  UN            No Action Taken      UN          \n",
       "3 15H            C272173 1  SU            RESIGNED -NOT SERVED NA          \n",
       "4 15H            272173  2  SU            Resigned             SU          \n",
       "5 01B            C272341 1  UN            NO ACTION TAKEN      NA          \n",
       "6 01B            272341  2  NA            Unknown              NA          \n",
       "  recc_outcome    link_UID\n",
       "1 NA              28000.0 \n",
       "2 No Action Taken 28000.0 \n",
       "3 NA              9695.0  \n",
       "4 Separation      9695.0  \n",
       "5 NA              7226.0  \n",
       "6 Unknown         7226.0  "
      ]
     },
     "metadata": {},
     "output_type": "display_data"
    }
   ],
   "source": [
    "## Check for duplicates in the accused dataset\n",
    "\n",
    "accused_duplicates <- accused_df %>% \n",
    "    mutate(cr_id_num = str_match(cr_id,\"[0-9]+\")) %>%\n",
    "    get_dupes(cr_id_num, UID)\n",
    "\n",
    "accused_duplicates %>%\n",
    "    nrow()\n",
    "\n",
    "head(accused_duplicates)\n",
    "tail(accused_duplicates)"
   ]
  },
  {
   "cell_type": "code",
   "execution_count": 6,
   "metadata": {},
   "outputs": [
    {
     "data": {
      "text/html": [
       "<table>\n",
       "<caption>A tibble: 3 × 2</caption>\n",
       "<thead>\n",
       "\t<tr><th scope=col>cv</th><th scope=col>n</th></tr>\n",
       "\t<tr><th scope=col>&lt;chr&gt;</th><th scope=col>&lt;int&gt;</th></tr>\n",
       "</thead>\n",
       "<tbody>\n",
       "\t<tr><td>1</td><td>117844</td></tr>\n",
       "\t<tr><td>2</td><td>125019</td></tr>\n",
       "\t<tr><td>3</td><td>  1573</td></tr>\n",
       "</tbody>\n",
       "</table>\n"
      ],
      "text/latex": [
       "A tibble: 3 × 2\n",
       "\\begin{tabular}{ll}\n",
       " cv & n\\\\\n",
       " <chr> & <int>\\\\\n",
       "\\hline\n",
       "\t 1 & 117844\\\\\n",
       "\t 2 & 125019\\\\\n",
       "\t 3 &   1573\\\\\n",
       "\\end{tabular}\n"
      ],
      "text/markdown": [
       "\n",
       "A tibble: 3 × 2\n",
       "\n",
       "| cv &lt;chr&gt; | n &lt;int&gt; |\n",
       "|---|---|\n",
       "| 1 | 117844 |\n",
       "| 2 | 125019 |\n",
       "| 3 |   1573 |\n",
       "\n"
      ],
      "text/plain": [
       "  cv n     \n",
       "1 1  117844\n",
       "2 2  125019\n",
       "3 3    1573"
      ]
     },
     "metadata": {},
     "output_type": "display_data"
    },
    {
     "data": {
      "text/html": [
       "<table>\n",
       "<caption>A tibble: 3 × 2</caption>\n",
       "<thead>\n",
       "\t<tr><th scope=col>cv</th><th scope=col>n</th></tr>\n",
       "\t<tr><th scope=col>&lt;chr&gt;</th><th scope=col>&lt;int&gt;</th></tr>\n",
       "</thead>\n",
       "<tbody>\n",
       "\t<tr><td>1</td><td>10054</td></tr>\n",
       "\t<tr><td>2</td><td> 9954</td></tr>\n",
       "\t<tr><td>3</td><td>  100</td></tr>\n",
       "</tbody>\n",
       "</table>\n"
      ],
      "text/latex": [
       "A tibble: 3 × 2\n",
       "\\begin{tabular}{ll}\n",
       " cv & n\\\\\n",
       " <chr> & <int>\\\\\n",
       "\\hline\n",
       "\t 1 & 10054\\\\\n",
       "\t 2 &  9954\\\\\n",
       "\t 3 &   100\\\\\n",
       "\\end{tabular}\n"
      ],
      "text/markdown": [
       "\n",
       "A tibble: 3 × 2\n",
       "\n",
       "| cv &lt;chr&gt; | n &lt;int&gt; |\n",
       "|---|---|\n",
       "| 1 | 10054 |\n",
       "| 2 |  9954 |\n",
       "| 3 |   100 |\n",
       "\n"
      ],
      "text/plain": [
       "  cv n    \n",
       "1 1  10054\n",
       "2 2   9954\n",
       "3 3    100"
      ]
     },
     "metadata": {},
     "output_type": "display_data"
    }
   ],
   "source": [
    "# what is cv column?  check if its related to the duplicates.   \n",
    "accused_df %>% \n",
    "    group_by(cv) %>%\n",
    "    tally()\n",
    "\n",
    "accused_duplicates %>%\n",
    "    group_by(cv) %>%\n",
    "    tally()"
   ]
  },
  {
   "cell_type": "markdown",
   "metadata": {},
   "source": [
    "Appears that all the duplicates are split between `cv == 1` (10054 records) and `cv == 2 | 3` (10054 records).   However there are other non-duplicate records where `cv == 2 | 3` in the imported dataset, so we can't filter only on `cv`.  By eyeballing the data, `cv==1` seems to have formatting that is more similar to the majority of the non-duplicate data. "
   ]
  },
  {
   "cell_type": "code",
   "execution_count": 7,
   "metadata": {},
   "outputs": [
    {
     "data": {
      "text/html": [
       "10054"
      ],
      "text/latex": [
       "10054"
      ],
      "text/markdown": [
       "10054"
      ],
      "text/plain": [
       "[1] 10054"
      ]
     },
     "metadata": {},
     "output_type": "display_data"
    }
   ],
   "source": [
    "## filter to include on `cv == 2|3` this will then be used to remove these records from the imported accused dataset\n",
    "accused_duplicates_to_remove <- accused_duplicates %>%\n",
    "    filter(cv == 2 | cv == 3)\n",
    "nrow(accused_duplicates_to_remove)"
   ]
  },
  {
   "cell_type": "code",
   "execution_count": 8,
   "metadata": {},
   "outputs": [],
   "source": [
    "# remove duplicate records from accused dataframe\n",
    "accused_df_deduplicated <- accused_df %>% \n",
    "    anti_join(accused_duplicates_to_remove, by = c(\"cr_id\", \"UID\"))"
   ]
  },
  {
   "cell_type": "code",
   "execution_count": 9,
   "metadata": {},
   "outputs": [
    {
     "data": {
      "text/html": [
       "10054"
      ],
      "text/latex": [
       "10054"
      ],
      "text/markdown": [
       "10054"
      ],
      "text/plain": [
       "[1] 10054"
      ]
     },
     "metadata": {},
     "output_type": "display_data"
    }
   ],
   "source": [
    "# confirm removed expected number of rows\n",
    "nrow(accused_df) - nrow(accused_df_deduplicated)"
   ]
  },
  {
   "cell_type": "markdown",
   "metadata": {},
   "source": [
    "#### Complaints Dataframe"
   ]
  },
  {
   "cell_type": "code",
   "execution_count": 10,
   "metadata": {},
   "outputs": [
    {
     "data": {
      "text/html": [
       "12872"
      ],
      "text/latex": [
       "12872"
      ],
      "text/markdown": [
       "12872"
      ],
      "text/plain": [
       "[1] 12872"
      ]
     },
     "metadata": {},
     "output_type": "display_data"
    },
    {
     "data": {
      "text/html": [
       "<table>\n",
       "<caption>A tibble: 6 × 13</caption>\n",
       "<thead>\n",
       "\t<tr><th scope=col>cr_id_num</th><th scope=col>dupe_count</th><th scope=col>cr_id</th><th scope=col>cv</th><th scope=col>incident_date</th><th scope=col>complaint_date</th><th scope=col>closed_date</th><th scope=col>add1</th><th scope=col>add2</th><th scope=col>beat</th><th scope=col>city</th><th scope=col>full_address</th><th scope=col>location</th></tr>\n",
       "\t<tr><th scope=col>&lt;chr[,1]&gt;</th><th scope=col>&lt;int&gt;</th><th scope=col>&lt;chr&gt;</th><th scope=col>&lt;chr&gt;</th><th scope=col>&lt;chr&gt;</th><th scope=col>&lt;chr&gt;</th><th scope=col>&lt;chr&gt;</th><th scope=col>&lt;chr&gt;</th><th scope=col>&lt;chr&gt;</th><th scope=col>&lt;chr&gt;</th><th scope=col>&lt;chr&gt;</th><th scope=col>&lt;chr&gt;</th><th scope=col>&lt;chr&gt;</th></tr>\n",
       "</thead>\n",
       "<tbody>\n",
       "\t<tr><td>258959</td><td>2</td><td>258959 </td><td>3</td><td>1999-12-27</td><td>2000-01-03</td><td>NA        </td><td>NA  </td><td>? 004TH DIST    </td><td>411.0 </td><td>CHICAGO ILLINOIS</td><td>NA                              </td><td>POLICE FACILITY/VEH PARKING LOT</td></tr>\n",
       "\t<tr><td>258959</td><td>2</td><td>C258959</td><td>1</td><td>1999-12-27</td><td>1999-12-30</td><td>2000-12-05</td><td>NA  </td><td>NA              </td><td>NA    </td><td>NA              </td><td>004TH DISTRICT                  </td><td>NA                             </td></tr>\n",
       "\t<tr><td>258960</td><td>2</td><td>258960 </td><td>3</td><td>1999-12-29</td><td>2000-01-03</td><td>NA        </td><td>113 </td><td>West CHICAGO AVE</td><td>1832.0</td><td>CHICAGO ILLINOIS</td><td>NA                              </td><td>POLICE FACILITY/VEH PARKING LOT</td></tr>\n",
       "\t<tr><td>258960</td><td>2</td><td>C258960</td><td>1</td><td>1999-12-29</td><td>1999-12-30</td><td>2000-10-07</td><td>NA  </td><td>NA              </td><td>NA    </td><td>NA              </td><td>1** W CHICAGO AVE 018TH DISTRICT</td><td>NA                             </td></tr>\n",
       "\t<tr><td>258961</td><td>2</td><td>258961 </td><td>3</td><td>1999-03-27</td><td>2000-01-03</td><td>NA        </td><td>5400</td><td>West HIGGINS    </td><td>1623.0</td><td>CHICAGO ILLINOIS</td><td>NA                              </td><td>STREET                         </td></tr>\n",
       "\t<tr><td>258961</td><td>2</td><td>C258961</td><td>1</td><td>1999-12-27</td><td>1999-12-30</td><td>2000-04-19</td><td>NA  </td><td>NA              </td><td>NA    </td><td>NA              </td><td>54** W HIGGINS                  </td><td>NA                             </td></tr>\n",
       "</tbody>\n",
       "</table>\n"
      ],
      "text/latex": [
       "A tibble: 6 × 13\n",
       "\\begin{tabular}{lllllllllllll}\n",
       " cr\\_id\\_num & dupe\\_count & cr\\_id & cv & incident\\_date & complaint\\_date & closed\\_date & add1 & add2 & beat & city & full\\_address & location\\\\\n",
       " <chr{[},1{]}> & <int> & <chr> & <chr> & <chr> & <chr> & <chr> & <chr> & <chr> & <chr> & <chr> & <chr> & <chr>\\\\\n",
       "\\hline\n",
       "\t 258959 & 2 & 258959  & 3 & 1999-12-27 & 2000-01-03 & NA         & NA   & ? 004TH DIST     & 411.0  & CHICAGO ILLINOIS & NA                               & POLICE FACILITY/VEH PARKING LOT\\\\\n",
       "\t 258959 & 2 & C258959 & 1 & 1999-12-27 & 1999-12-30 & 2000-12-05 & NA   & NA               & NA     & NA               & 004TH DISTRICT                   & NA                             \\\\\n",
       "\t 258960 & 2 & 258960  & 3 & 1999-12-29 & 2000-01-03 & NA         & 113  & West CHICAGO AVE & 1832.0 & CHICAGO ILLINOIS & NA                               & POLICE FACILITY/VEH PARKING LOT\\\\\n",
       "\t 258960 & 2 & C258960 & 1 & 1999-12-29 & 1999-12-30 & 2000-10-07 & NA   & NA               & NA     & NA               & 1** W CHICAGO AVE 018TH DISTRICT & NA                             \\\\\n",
       "\t 258961 & 2 & 258961  & 3 & 1999-03-27 & 2000-01-03 & NA         & 5400 & West HIGGINS     & 1623.0 & CHICAGO ILLINOIS & NA                               & STREET                         \\\\\n",
       "\t 258961 & 2 & C258961 & 1 & 1999-12-27 & 1999-12-30 & 2000-04-19 & NA   & NA               & NA     & NA               & 54** W HIGGINS                   & NA                             \\\\\n",
       "\\end{tabular}\n"
      ],
      "text/markdown": [
       "\n",
       "A tibble: 6 × 13\n",
       "\n",
       "| cr_id_num &lt;chr[,1]&gt; | dupe_count &lt;int&gt; | cr_id &lt;chr&gt; | cv &lt;chr&gt; | incident_date &lt;chr&gt; | complaint_date &lt;chr&gt; | closed_date &lt;chr&gt; | add1 &lt;chr&gt; | add2 &lt;chr&gt; | beat &lt;chr&gt; | city &lt;chr&gt; | full_address &lt;chr&gt; | location &lt;chr&gt; |\n",
       "|---|---|---|---|---|---|---|---|---|---|---|---|---|\n",
       "| 258959 | 2 | 258959  | 3 | 1999-12-27 | 2000-01-03 | NA         | NA   | ? 004TH DIST     | 411.0  | CHICAGO ILLINOIS | NA                               | POLICE FACILITY/VEH PARKING LOT |\n",
       "| 258959 | 2 | C258959 | 1 | 1999-12-27 | 1999-12-30 | 2000-12-05 | NA   | NA               | NA     | NA               | 004TH DISTRICT                   | NA                              |\n",
       "| 258960 | 2 | 258960  | 3 | 1999-12-29 | 2000-01-03 | NA         | 113  | West CHICAGO AVE | 1832.0 | CHICAGO ILLINOIS | NA                               | POLICE FACILITY/VEH PARKING LOT |\n",
       "| 258960 | 2 | C258960 | 1 | 1999-12-29 | 1999-12-30 | 2000-10-07 | NA   | NA               | NA     | NA               | 1** W CHICAGO AVE 018TH DISTRICT | NA                              |\n",
       "| 258961 | 2 | 258961  | 3 | 1999-03-27 | 2000-01-03 | NA         | 5400 | West HIGGINS     | 1623.0 | CHICAGO ILLINOIS | NA                               | STREET                          |\n",
       "| 258961 | 2 | C258961 | 1 | 1999-12-27 | 1999-12-30 | 2000-04-19 | NA   | NA               | NA     | NA               | 54** W HIGGINS                   | NA                              |\n",
       "\n"
      ],
      "text/plain": [
       "  cr_id_num dupe_count cr_id   cv incident_date complaint_date closed_date add1\n",
       "1 258959    2          258959  3  1999-12-27    2000-01-03     NA          NA  \n",
       "2 258959    2          C258959 1  1999-12-27    1999-12-30     2000-12-05  NA  \n",
       "3 258960    2          258960  3  1999-12-29    2000-01-03     NA          113 \n",
       "4 258960    2          C258960 1  1999-12-29    1999-12-30     2000-10-07  NA  \n",
       "5 258961    2          258961  3  1999-03-27    2000-01-03     NA          5400\n",
       "6 258961    2          C258961 1  1999-12-27    1999-12-30     2000-04-19  NA  \n",
       "  add2             beat   city             full_address                    \n",
       "1 ? 004TH DIST     411.0  CHICAGO ILLINOIS NA                              \n",
       "2 NA               NA     NA               004TH DISTRICT                  \n",
       "3 West CHICAGO AVE 1832.0 CHICAGO ILLINOIS NA                              \n",
       "4 NA               NA     NA               1** W CHICAGO AVE 018TH DISTRICT\n",
       "5 West HIGGINS     1623.0 CHICAGO ILLINOIS NA                              \n",
       "6 NA               NA     NA               54** W HIGGINS                  \n",
       "  location                       \n",
       "1 POLICE FACILITY/VEH PARKING LOT\n",
       "2 NA                             \n",
       "3 POLICE FACILITY/VEH PARKING LOT\n",
       "4 NA                             \n",
       "5 STREET                         \n",
       "6 NA                             "
      ]
     },
     "metadata": {},
     "output_type": "display_data"
    },
    {
     "data": {
      "text/html": [
       "<table>\n",
       "<caption>A tibble: 6 × 13</caption>\n",
       "<thead>\n",
       "\t<tr><th scope=col>cr_id_num</th><th scope=col>dupe_count</th><th scope=col>cr_id</th><th scope=col>cv</th><th scope=col>incident_date</th><th scope=col>complaint_date</th><th scope=col>closed_date</th><th scope=col>add1</th><th scope=col>add2</th><th scope=col>beat</th><th scope=col>city</th><th scope=col>full_address</th><th scope=col>location</th></tr>\n",
       "\t<tr><th scope=col>&lt;chr[,1]&gt;</th><th scope=col>&lt;int&gt;</th><th scope=col>&lt;chr&gt;</th><th scope=col>&lt;chr&gt;</th><th scope=col>&lt;chr&gt;</th><th scope=col>&lt;chr&gt;</th><th scope=col>&lt;chr&gt;</th><th scope=col>&lt;chr&gt;</th><th scope=col>&lt;chr&gt;</th><th scope=col>&lt;chr&gt;</th><th scope=col>&lt;chr&gt;</th><th scope=col>&lt;chr&gt;</th><th scope=col>&lt;chr&gt;</th></tr>\n",
       "</thead>\n",
       "<tbody>\n",
       "\t<tr><td>272342</td><td>2</td><td>272342 </td><td>2</td><td>2001-05-24</td><td>2001-06-20</td><td>2001-07-25</td><td>11948</td><td>S HALSTED    </td><td>NA  </td><td>CHICAGO IL</td><td>NA               </td><td>17</td></tr>\n",
       "\t<tr><td>272342</td><td>2</td><td>C272342</td><td>1</td><td>2001-05-24</td><td>2001-06-20</td><td>2001-07-25</td><td>NA   </td><td>NA           </td><td>NA  </td><td>NA        </td><td>119** S HALSTED  </td><td>NA</td></tr>\n",
       "\t<tr><td>273137</td><td>2</td><td>273137 </td><td>2</td><td>2001-07-16</td><td>2001-07-17</td><td>2001-08-01</td><td>7900 </td><td>S MARYLAND AV</td><td>0624</td><td>CHICAGO IL</td><td>NA               </td><td>17</td></tr>\n",
       "\t<tr><td>273137</td><td>2</td><td>C273137</td><td>1</td><td>2001-07-16</td><td>2001-07-17</td><td>2001-08-01</td><td>NA   </td><td>NA           </td><td>NA  </td><td>NA        </td><td>79** S MARYLAND  </td><td>NA</td></tr>\n",
       "\t<tr><td>273491</td><td>2</td><td>273491 </td><td>2</td><td>2001-07-26</td><td>2001-07-30</td><td>2001-08-01</td><td>---- </td><td>NA           </td><td>1614</td><td>NA        </td><td>NA               </td><td>19</td></tr>\n",
       "\t<tr><td>273491</td><td>2</td><td>C273491</td><td>1</td><td>2001-07-26</td><td>2001-07-31</td><td>2001-08-01</td><td>NA   </td><td>NA           </td><td>NA  </td><td>NA        </td><td>54** N EAST RIVER</td><td>NA</td></tr>\n",
       "</tbody>\n",
       "</table>\n"
      ],
      "text/latex": [
       "A tibble: 6 × 13\n",
       "\\begin{tabular}{lllllllllllll}\n",
       " cr\\_id\\_num & dupe\\_count & cr\\_id & cv & incident\\_date & complaint\\_date & closed\\_date & add1 & add2 & beat & city & full\\_address & location\\\\\n",
       " <chr{[},1{]}> & <int> & <chr> & <chr> & <chr> & <chr> & <chr> & <chr> & <chr> & <chr> & <chr> & <chr> & <chr>\\\\\n",
       "\\hline\n",
       "\t 272342 & 2 & 272342  & 2 & 2001-05-24 & 2001-06-20 & 2001-07-25 & 11948 & S HALSTED     & NA   & CHICAGO IL & NA                & 17\\\\\n",
       "\t 272342 & 2 & C272342 & 1 & 2001-05-24 & 2001-06-20 & 2001-07-25 & NA    & NA            & NA   & NA         & 119** S HALSTED   & NA\\\\\n",
       "\t 273137 & 2 & 273137  & 2 & 2001-07-16 & 2001-07-17 & 2001-08-01 & 7900  & S MARYLAND AV & 0624 & CHICAGO IL & NA                & 17\\\\\n",
       "\t 273137 & 2 & C273137 & 1 & 2001-07-16 & 2001-07-17 & 2001-08-01 & NA    & NA            & NA   & NA         & 79** S MARYLAND   & NA\\\\\n",
       "\t 273491 & 2 & 273491  & 2 & 2001-07-26 & 2001-07-30 & 2001-08-01 & ----  & NA            & 1614 & NA         & NA                & 19\\\\\n",
       "\t 273491 & 2 & C273491 & 1 & 2001-07-26 & 2001-07-31 & 2001-08-01 & NA    & NA            & NA   & NA         & 54** N EAST RIVER & NA\\\\\n",
       "\\end{tabular}\n"
      ],
      "text/markdown": [
       "\n",
       "A tibble: 6 × 13\n",
       "\n",
       "| cr_id_num &lt;chr[,1]&gt; | dupe_count &lt;int&gt; | cr_id &lt;chr&gt; | cv &lt;chr&gt; | incident_date &lt;chr&gt; | complaint_date &lt;chr&gt; | closed_date &lt;chr&gt; | add1 &lt;chr&gt; | add2 &lt;chr&gt; | beat &lt;chr&gt; | city &lt;chr&gt; | full_address &lt;chr&gt; | location &lt;chr&gt; |\n",
       "|---|---|---|---|---|---|---|---|---|---|---|---|---|\n",
       "| 272342 | 2 | 272342  | 2 | 2001-05-24 | 2001-06-20 | 2001-07-25 | 11948 | S HALSTED     | NA   | CHICAGO IL | NA                | 17 |\n",
       "| 272342 | 2 | C272342 | 1 | 2001-05-24 | 2001-06-20 | 2001-07-25 | NA    | NA            | NA   | NA         | 119** S HALSTED   | NA |\n",
       "| 273137 | 2 | 273137  | 2 | 2001-07-16 | 2001-07-17 | 2001-08-01 | 7900  | S MARYLAND AV | 0624 | CHICAGO IL | NA                | 17 |\n",
       "| 273137 | 2 | C273137 | 1 | 2001-07-16 | 2001-07-17 | 2001-08-01 | NA    | NA            | NA   | NA         | 79** S MARYLAND   | NA |\n",
       "| 273491 | 2 | 273491  | 2 | 2001-07-26 | 2001-07-30 | 2001-08-01 | ----  | NA            | 1614 | NA         | NA                | 19 |\n",
       "| 273491 | 2 | C273491 | 1 | 2001-07-26 | 2001-07-31 | 2001-08-01 | NA    | NA            | NA   | NA         | 54** N EAST RIVER | NA |\n",
       "\n"
      ],
      "text/plain": [
       "  cr_id_num dupe_count cr_id   cv incident_date complaint_date closed_date\n",
       "1 272342    2          272342  2  2001-05-24    2001-06-20     2001-07-25 \n",
       "2 272342    2          C272342 1  2001-05-24    2001-06-20     2001-07-25 \n",
       "3 273137    2          273137  2  2001-07-16    2001-07-17     2001-08-01 \n",
       "4 273137    2          C273137 1  2001-07-16    2001-07-17     2001-08-01 \n",
       "5 273491    2          273491  2  2001-07-26    2001-07-30     2001-08-01 \n",
       "6 273491    2          C273491 1  2001-07-26    2001-07-31     2001-08-01 \n",
       "  add1  add2          beat city       full_address      location\n",
       "1 11948 S HALSTED     NA   CHICAGO IL NA                17      \n",
       "2 NA    NA            NA   NA         119** S HALSTED   NA      \n",
       "3 7900  S MARYLAND AV 0624 CHICAGO IL NA                17      \n",
       "4 NA    NA            NA   NA         79** S MARYLAND   NA      \n",
       "5 ----  NA            1614 NA         NA                19      \n",
       "6 NA    NA            NA   NA         54** N EAST RIVER NA      "
      ]
     },
     "metadata": {},
     "output_type": "display_data"
    }
   ],
   "source": [
    "## Check for duplicates in the complaints dataset\n",
    "\n",
    "complaints_duplicates <- complaints_df %>% \n",
    "    mutate(cr_id_num = str_match(cr_id,\"[0-9]+\")) %>%\n",
    "    get_dupes(cr_id_num)\n",
    "\n",
    "nrow(complaints_duplicates)\n",
    "head(complaints_duplicates)\n",
    "tail(complaints_duplicates)"
   ]
  },
  {
   "cell_type": "code",
   "execution_count": 11,
   "metadata": {},
   "outputs": [
    {
     "data": {
      "text/html": [
       "<table>\n",
       "<caption>A tibble: 3 × 2</caption>\n",
       "<thead>\n",
       "\t<tr><th scope=col>cv</th><th scope=col>n</th></tr>\n",
       "\t<tr><th scope=col>&lt;chr&gt;</th><th scope=col>&lt;int&gt;</th></tr>\n",
       "</thead>\n",
       "<tbody>\n",
       "\t<tr><td>1</td><td> 70302</td></tr>\n",
       "\t<tr><td>2</td><td>108923</td></tr>\n",
       "\t<tr><td>3</td><td>  2187</td></tr>\n",
       "</tbody>\n",
       "</table>\n"
      ],
      "text/latex": [
       "A tibble: 3 × 2\n",
       "\\begin{tabular}{ll}\n",
       " cv & n\\\\\n",
       " <chr> & <int>\\\\\n",
       "\\hline\n",
       "\t 1 &  70302\\\\\n",
       "\t 2 & 108923\\\\\n",
       "\t 3 &   2187\\\\\n",
       "\\end{tabular}\n"
      ],
      "text/markdown": [
       "\n",
       "A tibble: 3 × 2\n",
       "\n",
       "| cv &lt;chr&gt; | n &lt;int&gt; |\n",
       "|---|---|\n",
       "| 1 |  70302 |\n",
       "| 2 | 108923 |\n",
       "| 3 |   2187 |\n",
       "\n"
      ],
      "text/plain": [
       "  cv n     \n",
       "1 1   70302\n",
       "2 2  108923\n",
       "3 3    2187"
      ]
     },
     "metadata": {},
     "output_type": "display_data"
    },
    {
     "data": {
      "text/html": [
       "<table>\n",
       "<caption>A tibble: 3 × 2</caption>\n",
       "<thead>\n",
       "\t<tr><th scope=col>cv</th><th scope=col>n</th></tr>\n",
       "\t<tr><th scope=col>&lt;chr&gt;</th><th scope=col>&lt;int&gt;</th></tr>\n",
       "</thead>\n",
       "<tbody>\n",
       "\t<tr><td>1</td><td>6436</td></tr>\n",
       "\t<tr><td>2</td><td>6245</td></tr>\n",
       "\t<tr><td>3</td><td> 191</td></tr>\n",
       "</tbody>\n",
       "</table>\n"
      ],
      "text/latex": [
       "A tibble: 3 × 2\n",
       "\\begin{tabular}{ll}\n",
       " cv & n\\\\\n",
       " <chr> & <int>\\\\\n",
       "\\hline\n",
       "\t 1 & 6436\\\\\n",
       "\t 2 & 6245\\\\\n",
       "\t 3 &  191\\\\\n",
       "\\end{tabular}\n"
      ],
      "text/markdown": [
       "\n",
       "A tibble: 3 × 2\n",
       "\n",
       "| cv &lt;chr&gt; | n &lt;int&gt; |\n",
       "|---|---|\n",
       "| 1 | 6436 |\n",
       "| 2 | 6245 |\n",
       "| 3 |  191 |\n",
       "\n"
      ],
      "text/plain": [
       "  cv n   \n",
       "1 1  6436\n",
       "2 2  6245\n",
       "3 3   191"
      ]
     },
     "metadata": {},
     "output_type": "display_data"
    }
   ],
   "source": [
    "# explore cv counts\n",
    "complaints_df %>% \n",
    "    group_by(cv) %>%\n",
    "    tally()\n",
    "\n",
    "complaints_duplicates %>% \n",
    "    group_by(cv) %>%\n",
    "    tally()"
   ]
  },
  {
   "cell_type": "markdown",
   "metadata": {},
   "source": [
    "We see a similar pattern with the complaints dataframe.  Exclude duplicates with `cv == 2|3` for consistency"
   ]
  },
  {
   "cell_type": "code",
   "execution_count": 15,
   "metadata": {},
   "outputs": [
    {
     "data": {
      "text/html": [
       "6436"
      ],
      "text/latex": [
       "6436"
      ],
      "text/markdown": [
       "6436"
      ],
      "text/plain": [
       "[1] 6436"
      ]
     },
     "metadata": {},
     "output_type": "display_data"
    }
   ],
   "source": [
    "## filter to include on `cv == 2|3` this will then be used to remove these records from the imported complaints dataset\n",
    "complaints_duplicates_to_remove <- complaints_duplicates %>%\n",
    "    filter(cv == 2 | cv == 3)\n",
    "nrow(complaints_duplicates_to_remove)"
   ]
  },
  {
   "cell_type": "code",
   "execution_count": 16,
   "metadata": {},
   "outputs": [],
   "source": [
    "# remove duplicate records from complaints dataframe\n",
    "complaints_df_deduplicated <- complaints_df %>% \n",
    "    anti_join(complaints_duplicates_to_remove, by = c(\"cr_id\"))"
   ]
  },
  {
   "cell_type": "code",
   "execution_count": 17,
   "metadata": {},
   "outputs": [
    {
     "data": {
      "text/html": [
       "6436"
      ],
      "text/latex": [
       "6436"
      ],
      "text/markdown": [
       "6436"
      ],
      "text/plain": [
       "[1] 6436"
      ]
     },
     "metadata": {},
     "output_type": "display_data"
    }
   ],
   "source": [
    "# confirm removed expected number of rows\n",
    "nrow(complaints_df) - nrow(complaints_df_deduplicated)"
   ]
  },
  {
   "cell_type": "markdown",
   "metadata": {},
   "source": [
    "## Join Dataframes"
   ]
  },
  {
   "cell_type": "code",
   "execution_count": 18,
   "metadata": {},
   "outputs": [],
   "source": [
    "# Join complaints, modify datatypes & filter on years of interest\n",
    "complaints_joined = left_join(accused_df_deduplicated, complaints_df_deduplicated, by = 'cr_id')\n",
    "\n",
    "complaints_joined <- complaints_joined %>%\n",
    "     mutate(incident_date = ymd(incident_date),\n",
    "           complaint_date = ymd(complaint_date),\n",
    "           closed_date = ymd(closed_date),\n",
    "           incident_year = year(incident_date)) %>%\n",
    "    filter(incident_year >= 2005, incident_year <= 2015)"
   ]
  },
  {
   "cell_type": "code",
   "execution_count": 19,
   "metadata": {},
   "outputs": [
    {
     "name": "stdout",
     "output_type": "stream",
     "text": [
      "Rows: 73,196\n",
      "Columns: 21\n",
      "$ UID                \u001b[3m\u001b[90m<chr>\u001b[39m\u001b[23m \"109751.0\", \"128710.0\", \"103450.0\", \"109967.0\", ...\n",
      "$ complaint_category \u001b[3m\u001b[90m<chr>\u001b[39m\u001b[23m \"EXCESSIVE FORCE:  NO ARREST\", \"OPERATION/PERSON...\n",
      "$ complaint_code     \u001b[3m\u001b[90m<chr>\u001b[39m\u001b[23m \"05D\", \"10J\", \"08F\", \"10J\", \"05P\", \"03C\", \"05D\",...\n",
      "$ cr_id              \u001b[3m\u001b[90m<chr>\u001b[39m\u001b[23m \"C192008\", \"C193775\", \"C236112\", \"C262759\", \"C26...\n",
      "$ cv.x               \u001b[3m\u001b[90m<chr>\u001b[39m\u001b[23m \"1\", \"1\", \"1\", \"1\", \"1\", \"1\", \"2\", \"2\", \"2\", \"2\"...\n",
      "$ final_finding      \u001b[3m\u001b[90m<chr>\u001b[39m\u001b[23m \"UN\", \"UN\", \"NS\", \"SU\", \"NS\", \"UN\", \"NS\", \"NS\", ...\n",
      "$ final_outcome      \u001b[3m\u001b[90m<chr>\u001b[39m\u001b[23m \"NO ACTION TAKEN\", \"NO ACTION TAKEN\", \"NO ACTION...\n",
      "$ recc_finding       \u001b[3m\u001b[90m<chr>\u001b[39m\u001b[23m NA, NA, NA, NA, NA, NA, \"NS\", \"NS\", \"NS\", \"UN\", ...\n",
      "$ recc_outcome       \u001b[3m\u001b[90m<chr>\u001b[39m\u001b[23m NA, NA, NA, NA, NA, NA, \"No Action Taken\", \"No A...\n",
      "$ link_UID           \u001b[3m\u001b[90m<chr>\u001b[39m\u001b[23m \"24251.0\", \"2574.0\", \"2910.0\", \"31650.0\", \"13397...\n",
      "$ cv.y               \u001b[3m\u001b[90m<chr>\u001b[39m\u001b[23m \"1\", \"1\", \"1\", \"1\", \"1\", \"1\", \"2\", \"2\", \"2\", \"2\"...\n",
      "$ incident_date      \u001b[3m\u001b[90m<date>\u001b[39m\u001b[23m 2009-05-03, 2011-07-17, 2007-04-03, 2009-06-02,...\n",
      "$ complaint_date     \u001b[3m\u001b[90m<date>\u001b[39m\u001b[23m 1992-05-03, 1992-07-21, 1997-04-16, 2000-06-02,...\n",
      "$ closed_date        \u001b[3m\u001b[90m<date>\u001b[39m\u001b[23m 1992-07-07, 1992-11-30, 2000-09-14, 2001-07-31,...\n",
      "$ add1               \u001b[3m\u001b[90m<chr>\u001b[39m\u001b[23m NA, NA, NA, NA, NA, NA, \"----\", \"----\", \"----\", ...\n",
      "$ add2               \u001b[3m\u001b[90m<chr>\u001b[39m\u001b[23m NA, NA, NA, NA, NA, NA, NA, NA, NA, NA, NA, NA, ...\n",
      "$ beat               \u001b[3m\u001b[90m<chr>\u001b[39m\u001b[23m NA, NA, NA, NA, NA, NA, \"0523\", \"0523\", \"0523\", ...\n",
      "$ city               \u001b[3m\u001b[90m<chr>\u001b[39m\u001b[23m NA, NA, NA, NA, NA, NA, NA, NA, NA, NA, NA, NA, ...\n",
      "$ full_address       \u001b[3m\u001b[90m<chr>\u001b[39m\u001b[23m \"70TH AND RACINE ON THE STREET\", \"3** NORTH RAND...\n",
      "$ location           \u001b[3m\u001b[90m<chr>\u001b[39m\u001b[23m NA, NA, NA, NA, NA, NA, \"19\", \"19\", \"19\", \"19\", ...\n",
      "$ incident_year      \u001b[3m\u001b[90m<dbl>\u001b[39m\u001b[23m 2009, 2011, 2007, 2009, 2009, 2010, 2005, 2005, ...\n"
     ]
    }
   ],
   "source": [
    "# Examine all columns of merged dataframe\n",
    "glimpse(complaints_joined)"
   ]
  },
  {
   "cell_type": "code",
   "execution_count": 20,
   "metadata": {},
   "outputs": [],
   "source": [
    "# why are some of the cv different?  still unclear what this field is or if it matters\n",
    "\n",
    "\n",
    "# complaints_joined %>%\n",
    "#     filter(cv.x != cv.y) %>%\n",
    "#     glimpse()"
   ]
  },
  {
   "cell_type": "code",
   "execution_count": 21,
   "metadata": {},
   "outputs": [
    {
     "name": "stdout",
     "output_type": "stream",
     "text": [
      "Rows: 211,112\n",
      "Columns: 8\n",
      "$ UID          \u001b[3m\u001b[90m<chr>\u001b[39m\u001b[23m \"100011.0\", \"100013.0\", \"100014.0\", \"100027.0\", \"10004...\n",
      "$ pay_grade    \u001b[3m\u001b[90m<chr>\u001b[39m\u001b[23m \"E|3\", \"E|3\", \"D|2A\", \"E|3\", \"D|2\", \"D|2\", \"E|3\", \"E|3...\n",
      "$ rank         \u001b[3m\u001b[90m<chr>\u001b[39m\u001b[23m \"SERGEANT\", \"SERGEANT\", \"POLICE OFFICER (ASSIGNED AS D...\n",
      "$ salary       \u001b[3m\u001b[90m<chr>\u001b[39m\u001b[23m \"101442.0\", \"111474.0\", \"76446.0\", \"98184.0\", \"61518.0...\n",
      "$ year         \u001b[3m\u001b[90m<chr>\u001b[39m\u001b[23m \"2016.0\", \"2016.0\", \"2007.0\", \"2016.0\", \"2004.0\", \"201...\n",
      "$ spp_date     \u001b[3m\u001b[90m<chr>\u001b[39m\u001b[23m \"2016-02-01\", \"2016-06-01\", \"2007-04-01\", \"2016-06-01\"...\n",
      "$ cleaned_rank \u001b[3m\u001b[90m<chr>\u001b[39m\u001b[23m \"SERGEANT\", \"SERGEANT\", \"DETECTIVE\", \"SERGEANT\", \"POLI...\n",
      "$ link_UID     \u001b[3m\u001b[90m<chr>\u001b[39m\u001b[23m \"3978.0\", \"4443.0\", \"4879.0\", \"16115.0\", \"38.0\", \"9432...\n"
     ]
    }
   ],
   "source": [
    "glimpse(salary_df)"
   ]
  },
  {
   "cell_type": "code",
   "execution_count": 22,
   "metadata": {},
   "outputs": [
    {
     "name": "stdout",
     "output_type": "stream",
     "text": [
      "Rows: 174,319\n",
      "Columns: 26\n",
      "$ UID                \u001b[3m\u001b[90m<chr>\u001b[39m\u001b[23m \"100014.0\", \"100054.0\", \"100056.0\", \"100062.0\", ...\n",
      "$ pay_grade          \u001b[3m\u001b[90m<chr>\u001b[39m\u001b[23m \"D|2A\", \"D|2\", \"E|3\", \"D|2A\", \"E|3\", \"E|3\", \"E|3...\n",
      "$ rank               \u001b[3m\u001b[90m<chr>\u001b[39m\u001b[23m \"POLICE OFFICER (ASSIGNED AS DETECTIVE)\", \"POLIC...\n",
      "$ salary             \u001b[3m\u001b[90m<dbl>\u001b[39m\u001b[23m 76446, 87048, 99444, 90540, 99756, 97212, 82152,...\n",
      "$ year               \u001b[3m\u001b[90m<dbl>\u001b[39m\u001b[23m 2007, 2011, 2014, 2013, 2012, 2015, 2008, 2013, ...\n",
      "$ spp_date           \u001b[3m\u001b[90m<date>\u001b[39m\u001b[23m 2007-04-01, 2011-06-16, 2014-06-16, 2013-02-16,...\n",
      "$ cleaned_rank       \u001b[3m\u001b[90m<chr>\u001b[39m\u001b[23m \"DETECTIVE\", \"POLICE OFFICER\", \"SERGEANT\", \"DETE...\n",
      "$ link_UID           \u001b[3m\u001b[90m<chr>\u001b[39m\u001b[23m \"4879.0\", \"9432.0\", \"21388.0\", \"24345.0\", \"11942...\n",
      "$ complaint_category \u001b[3m\u001b[90m<chr>\u001b[39m\u001b[23m NA, NA, NA, \"ALTERCATION/DISTURBANCE - TRAFFIC\",...\n",
      "$ complaint_code     \u001b[3m\u001b[90m<chr>\u001b[39m\u001b[23m NA, NA, NA, \"09C\", NA, NA, NA, NA, NA, NA, NA, \"...\n",
      "$ cr_id              \u001b[3m\u001b[90m<chr>\u001b[39m\u001b[23m NA, NA, NA, \"1065568\", NA, NA, NA, NA, NA, NA, N...\n",
      "$ cv.x               \u001b[3m\u001b[90m<chr>\u001b[39m\u001b[23m NA, NA, NA, \"2\", NA, NA, NA, NA, NA, NA, NA, \"2\"...\n",
      "$ final_finding      \u001b[3m\u001b[90m<chr>\u001b[39m\u001b[23m NA, NA, NA, \"NAF\", NA, NA, NA, NA, NA, NA, NA, \"...\n",
      "$ final_outcome      \u001b[3m\u001b[90m<chr>\u001b[39m\u001b[23m NA, NA, NA, \"No Action Taken\", NA, NA, NA, NA, N...\n",
      "$ recc_finding       \u001b[3m\u001b[90m<chr>\u001b[39m\u001b[23m NA, NA, NA, \"NAF\", NA, NA, NA, NA, NA, NA, NA, \"...\n",
      "$ recc_outcome       \u001b[3m\u001b[90m<chr>\u001b[39m\u001b[23m NA, NA, NA, \"No Action Taken\", NA, NA, NA, NA, N...\n",
      "$ cv.y               \u001b[3m\u001b[90m<chr>\u001b[39m\u001b[23m NA, NA, NA, \"2\", NA, NA, NA, NA, NA, NA, NA, \"2\"...\n",
      "$ incident_date      \u001b[3m\u001b[90m<date>\u001b[39m\u001b[23m NA, NA, NA, 2013-09-29, NA, NA, NA, NA, NA, NA,...\n",
      "$ complaint_date     \u001b[3m\u001b[90m<date>\u001b[39m\u001b[23m NA, NA, NA, 2013-10-17, NA, NA, NA, NA, NA, NA,...\n",
      "$ closed_date        \u001b[3m\u001b[90m<date>\u001b[39m\u001b[23m NA, NA, NA, 2014-02-21, NA, NA, NA, NA, NA, NA,...\n",
      "$ add1               \u001b[3m\u001b[90m<chr>\u001b[39m\u001b[23m NA, NA, NA, \"5747\", NA, NA, NA, NA, NA, NA, NA, ...\n",
      "$ add2               \u001b[3m\u001b[90m<chr>\u001b[39m\u001b[23m NA, NA, NA, \"W HIGGINS AVE\", NA, NA, NA, NA, NA,...\n",
      "$ beat               \u001b[3m\u001b[90m<chr>\u001b[39m\u001b[23m NA, NA, NA, \"1622.0\", NA, NA, NA, NA, NA, NA, NA...\n",
      "$ city               \u001b[3m\u001b[90m<chr>\u001b[39m\u001b[23m NA, NA, NA, \"CHICAGO IL\", NA, NA, NA, NA, NA, NA...\n",
      "$ full_address       \u001b[3m\u001b[90m<chr>\u001b[39m\u001b[23m NA, NA, NA, NA, NA, NA, NA, NA, NA, NA, NA, NA, ...\n",
      "$ location           \u001b[3m\u001b[90m<chr>\u001b[39m\u001b[23m NA, NA, NA, \"17\", NA, NA, NA, NA, NA, NA, NA, \"0...\n"
     ]
    }
   ],
   "source": [
    "#Modify salary datatypes and filter on years of interest\n",
    "salary_df <- salary_df %>%\n",
    "    mutate(year = as.numeric(year),\n",
    "           spp_date = ymd(spp_date),\n",
    "           salary = as.numeric(salary)) %>%\n",
    "    filter(year >= 2005, year <= 2015)\n",
    "           \n",
    "#Join salaries and joint complaints\n",
    "df_merged <- full_join(salary_df, complaints_joined, by = c('UID', 'link_UID', c(\"year\" = \"incident_year\")))\n",
    "\n",
    "# Examine all columns of merged dataframe\n",
    "glimpse(df_merged)"
   ]
  },
  {
   "cell_type": "code",
   "execution_count": 23,
   "metadata": {},
   "outputs": [
    {
     "data": {
      "text/plain": [
       "     UID             pay_grade             rank               salary      \n",
       " Length:174319      Length:174319      Length:174319      Min.   : 36984  \n",
       " Class :character   Class :character   Class :character   1st Qu.: 68262  \n",
       " Mode  :character   Mode  :character   Mode  :character   Median : 75372  \n",
       "                                                          Mean   : 76362  \n",
       "                                                          3rd Qu.: 82788  \n",
       "                                                          Max.   :197736  \n",
       "                                                          NA's   :2571    \n",
       "      year         spp_date          cleaned_rank         link_UID        \n",
       " Min.   :2005   Min.   :1964-06-22   Length:174319      Length:174319     \n",
       " 1st Qu.:2007   1st Qu.:1994-09-06   Class :character   Class :character  \n",
       " Median :2010   Median :1999-10-25   Mode  :character   Mode  :character  \n",
       " Mean   :2010   Mean   :1999-02-25                                        \n",
       " 3rd Qu.:2012   3rd Qu.:2004-10-25                                        \n",
       " Max.   :2015   Max.   :2015-12-16                                        \n",
       "                NA's   :37382                                             \n",
       " complaint_category complaint_code        cr_id               cv.x          \n",
       " Length:174319      Length:174319      Length:174319      Length:174319     \n",
       " Class :character   Class :character   Class :character   Class :character  \n",
       " Mode  :character   Mode  :character   Mode  :character   Mode  :character  \n",
       "                                                                            \n",
       "                                                                            \n",
       "                                                                            \n",
       "                                                                            \n",
       " final_finding      final_outcome      recc_finding       recc_outcome      \n",
       " Length:174319      Length:174319      Length:174319      Length:174319     \n",
       " Class :character   Class :character   Class :character   Class :character  \n",
       " Mode  :character   Mode  :character   Mode  :character   Mode  :character  \n",
       "                                                                            \n",
       "                                                                            \n",
       "                                                                            \n",
       "                                                                            \n",
       "     cv.y           incident_date        complaint_date      \n",
       " Length:174319      Min.   :2005-01-01   Min.   :1992-05-03  \n",
       " Class :character   1st Qu.:2007-06-30   1st Qu.:2007-08-24  \n",
       " Mode  :character   Median :2009-07-14   Median :2009-08-21  \n",
       "                    Mean   :2009-11-27   Mean   :2010-01-17  \n",
       "                    3rd Qu.:2012-04-12   3rd Qu.:2012-05-26  \n",
       "                    Max.   :2015-12-31   Max.   :2017-11-17  \n",
       "                    NA's   :101123       NA's   :101123      \n",
       "  closed_date             add1               add2               beat          \n",
       " Min.   :1992-07-07   Length:174319      Length:174319      Length:174319     \n",
       " 1st Qu.:2008-05-15   Class :character   Class :character   Class :character  \n",
       " Median :2010-05-27   Mode  :character   Mode  :character   Mode  :character  \n",
       " Mean   :2010-10-20                                                           \n",
       " 3rd Qu.:2013-04-19                                                           \n",
       " Max.   :2018-03-16                                                           \n",
       " NA's   :102474                                                               \n",
       "     city           full_address         location        \n",
       " Length:174319      Length:174319      Length:174319     \n",
       " Class :character   Class :character   Class :character  \n",
       " Mode  :character   Mode  :character   Mode  :character  \n",
       "                                                         \n",
       "                                                         \n",
       "                                                         \n",
       "                                                         "
      ]
     },
     "metadata": {},
     "output_type": "display_data"
    }
   ],
   "source": [
    "# Get summary of all variables \n",
    "summary(df_merged)"
   ]
  },
  {
   "cell_type": "markdown",
   "metadata": {},
   "source": [
    "## EDA"
   ]
  },
  {
   "cell_type": "code",
   "execution_count": 32,
   "metadata": {},
   "outputs": [],
   "source": [
    "theme_set(theme_classic(base_size = 14))"
   ]
  },
  {
   "cell_type": "code",
   "execution_count": 33,
   "metadata": {},
   "outputs": [
    {
     "name": "stderr",
     "output_type": "stream",
     "text": [
      "Warning message in GGally::ggcorr(df_merged):\n",
      "\"data in column(s) 'UID', 'pay_grade', 'rank', 'spp_date', 'cleaned_rank', 'link_UID', 'complaint_category', 'complaint_code', 'cr_id', 'cv.x', 'final_finding', 'final_outcome', 'recc_finding', 'recc_outcome', 'cv.y', 'incident_date', 'complaint_date', 'closed_date', 'add1', 'add2', 'beat', 'city', 'full_address', 'location' are not numeric and were ignored\"\n",
      "Warning message:\n",
      "\"Removed 2571 rows containing non-finite values (stat_boxplot).\"\n"
     ]
    },
    {
     "data": {
      "image/png": "[encoded data removed]",
      "text/plain": [
       "plot without title"
      ]
     },
     "metadata": {
      "image/png": {
       "height": 420,
       "width": 420
      }
     },
     "output_type": "display_data"
    },
    {
     "data": {
      "image/png": "[encoded data removed]",
      "text/plain": [
       "plot without title"
      ]
     },
     "metadata": {
      "image/png": {
       "height": 420,
       "width": 420
      }
     },
     "output_type": "display_data"
    }
   ],
   "source": [
    "# Correlation Matrix\n",
    "GGally::ggcorr(df_merged)\n",
    "\n",
    "# Boxplot\n",
    "ggplot(df_merged) + \n",
    "  aes(x = salary,\n",
    "      y = cleaned_rank) +\n",
    "  geom_boxplot() + \n",
    "  scale_x_continuous(labels = scales::label_dollar())"
   ]
  },
  {
   "cell_type": "code",
   "execution_count": 34,
   "metadata": {},
   "outputs": [
    {
     "data": {
      "image/png": "[encoded data removed]",
      "text/plain": [
       "plot without title"
      ]
     },
     "metadata": {
      "image/png": {
       "height": 420,
       "width": 420
      }
     },
     "output_type": "display_data"
    },
    {
     "data": {
      "image/png": "[encoded data removed]",
      "text/plain": [
       "plot without title"
      ]
     },
     "metadata": {
      "image/png": {
       "height": 420,
       "width": 420
      }
     },
     "output_type": "display_data"
    }
   ],
   "source": [
    "# Complaints by year\n",
    "complaints_per_year <- df_merged %>% \n",
    "    group_by(year, cr_id) %>% \n",
    "    tally() %>% \n",
    "    drop_na() %>% \n",
    "    group_by(year) %>% \n",
    "    tally()\n",
    "\n",
    "ggplot(complaints_per_year, aes(x = year, y = n)) + \n",
    "    geom_line() + \n",
    "    ggtitle(\"Complaints per year\") + \n",
    "    scale_x_continuous(breaks = 2005:2015)\n",
    "\n",
    "# Officer UID per year\n",
    "off_per_year <- df_merged %>% \n",
    "    group_by(year, UID) %>% \n",
    "    tally() %>% \n",
    "    drop_na() %>% \n",
    "    group_by(year) %>% \n",
    "    tally()\n",
    "\n",
    "ggplot(off_per_year, aes(x = year, y = n)) + \n",
    "    geom_line() + \n",
    "    ggtitle(\"UID count per year\") + \n",
    "    scale_x_continuous(breaks = 2005:2015)"
   ]
  },
  {
   "cell_type": "code",
   "execution_count": 35,
   "metadata": {},
   "outputs": [
    {
     "data": {
      "image/png": "[encoded data removed]",
      "text/plain": [
       "plot without title"
      ]
     },
     "metadata": {
      "image/png": {
       "height": 420,
       "width": 420
      }
     },
     "output_type": "display_data"
    }
   ],
   "source": [
    "#Histogram of total complaints per officer - total complaints does not match because one complaint can be tied to multiple officers\n",
    "complaints_per_off <- df_merged %>% \n",
    "    group_by(UID, cr_id) %>% \n",
    "    tally() %>% \n",
    "    drop_na() %>% \n",
    "    group_by(UID) %>% \n",
    "    tally()\n",
    "\n",
    "ggplot(complaints_per_off, aes(x = n)) +\n",
    "    labs(x = \"Number of Complaints\") + \n",
    "    ggtitle(\"Total Complaints per Officer (2005-2015)\") +\n",
    "    geom_histogram(bins = 20)"
   ]
  },
  {
   "cell_type": "code",
   "execution_count": 40,
   "metadata": {},
   "outputs": [
    {
     "data": {
      "image/png": "[encoded data removed]",
      "text/plain": [
       "plot without title"
      ]
     },
     "metadata": {
      "image/png": {
       "height": 420,
       "width": 420
      }
     },
     "output_type": "display_data"
    }
   ],
   "source": [
    "#Faceted per year histogram\n",
    "complaints_per_off_yr <- df_merged %>% \n",
    "    group_by(UID, year, cr_id) %>% \n",
    "    tally() %>% \n",
    "    drop_na() %>% \n",
    "    group_by(UID, year) %>% \n",
    "    tally()\n",
    "\n",
    "ggplot(complaints_per_off_yr, aes(x = n)) +\n",
    "    labs(x = \"Number of Complaints\") + \n",
    "    ggtitle(\"Complaints per Officer\") +\n",
    "    geom_histogram(bins = 30) +\n",
    "    facet_wrap(~year, nrow=3)"
   ]
  },
  {
   "cell_type": "code",
   "execution_count": null,
   "metadata": {},
   "outputs": [],
   "source": []
  }
 ],
 "metadata": {
  "kernelspec": {
   "display_name": "R",
   "language": "R",
   "name": "ir"
  },
  "language_info": {
   "codemirror_mode": "r",
   "file_extension": ".r",
   "mimetype": "text/x-r-source",
   "name": "R",
   "pygments_lexer": "r",
   "version": "4.0.2"
  }
 },
 "nbformat": 4,
 "nbformat_minor": 4
}
