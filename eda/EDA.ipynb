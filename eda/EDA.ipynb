{
 "cells": [
  {
   "cell_type": "markdown",
   "metadata": {},
   "source": [
    "## Import libraries"
   ]
  },
  {
   "cell_type": "code",
   "execution_count": 2,
   "metadata": {},
   "outputs": [
    {
     "name": "stderr",
     "output_type": "stream",
     "text": [
      "── \u001b[1mAttaching packages\u001b[22m ─────────────────────────────────────── tidyverse 1.3.0 ──\n",
      "\n",
      "\u001b[32m✔\u001b[39m \u001b[34mggplot2\u001b[39m 3.3.2     \u001b[32m✔\u001b[39m \u001b[34mpurrr  \u001b[39m 0.3.4\n",
      "\u001b[32m✔\u001b[39m \u001b[34mtibble \u001b[39m 3.0.4     \u001b[32m✔\u001b[39m \u001b[34mdplyr  \u001b[39m 1.0.2\n",
      "\u001b[32m✔\u001b[39m \u001b[34mtidyr  \u001b[39m 1.1.2     \u001b[32m✔\u001b[39m \u001b[34mstringr\u001b[39m 1.4.0\n",
      "\u001b[32m✔\u001b[39m \u001b[34mreadr  \u001b[39m 1.4.0     \u001b[32m✔\u001b[39m \u001b[34mforcats\u001b[39m 0.5.0\n",
      "\n",
      "── \u001b[1mConflicts\u001b[22m ────────────────────────────────────────── tidyverse_conflicts() ──\n",
      "\u001b[31m✖\u001b[39m \u001b[34mdplyr\u001b[39m::\u001b[32mfilter()\u001b[39m masks \u001b[34mstats\u001b[39m::filter()\n",
      "\u001b[31m✖\u001b[39m \u001b[34mdplyr\u001b[39m::\u001b[32mlag()\u001b[39m    masks \u001b[34mstats\u001b[39m::lag()\n",
      "\n",
      "\n",
      "Attaching package: ‘janitor’\n",
      "\n",
      "\n",
      "The following objects are masked from ‘package:stats’:\n",
      "\n",
      "    chisq.test, fisher.test\n",
      "\n",
      "\n",
      "\n",
      "Attaching package: ‘lubridate’\n",
      "\n",
      "\n",
      "The following objects are masked from ‘package:base’:\n",
      "\n",
      "    date, intersect, setdiff, union\n",
      "\n",
      "\n"
     ]
    }
   ],
   "source": [
    "# Import Libraries \n",
    "library(tidyverse)\n",
    "library(janitor)\n",
    "library(stringr)\n",
    "library(lubridate)"
   ]
  },
  {
   "cell_type": "markdown",
   "metadata": {},
   "source": [
    "## Import data and create dataframes"
   ]
  },
  {
   "cell_type": "code",
   "execution_count": 2,
   "metadata": {},
   "outputs": [],
   "source": [
    "# Documenting Steps for Downloading Data Files\n",
    "\n",
    "# Salary file\n",
    "#python download_data.py --url=https://github.com/invinst/chicago-police-data/blob/master/data/unified_data/salary/salary-ranks_2002-2017_2017-09.csv.gz?raw=true --path=../data/salary.csv\n",
    "\n",
    "# Accused file\n",
    "#python download_data.py --url=https://github.com/invinst/chicago-police-data/blob/master/data/unified_data/complaints/complaints-accused.csv.gz?raw=true --path=../data/accused.csv\n",
    "\n",
    "# Complaints file\n",
    "#python download_data.py --url=https://github.com/invinst/chicago-police-data/blob/master/data/unified_data/complaints/complaints-complaints.csv.gz?raw=true --path=../data/complaints.csv\n",
    "\n",
    "# Demographics file \n",
    "#python download_data.py --url=https://github.com/invinst/chicago-police-data/blob/master/data/unified_data/profiles/final-profiles.csv.gz?raw=true --path=../data/demographics.csv"
   ]
  },
  {
   "cell_type": "code",
   "execution_count": 8,
   "metadata": {},
   "outputs": [],
   "source": [
    "# Load csv files.  Readin all columns as characters, eliminates issues with formatting (some cr_id were defaulting to NA)\n",
    "accused_df <- read_csv(\"../data/accused.csv\", col_type = paste(rep(\"c\",10),collapse = \"\"))\n",
    "complaints_df <- read_csv(\"../data/complaints.csv\", col_type = paste(rep(\"c\",11),collapse = \"\"))\n",
    "salary_df <- read_csv(\"../data/salary.csv\", col_types = paste(rep(\"c\",8),collapse = \"\"))\n",
    "demographics_df <- read_csv(\"../data/demographics.csv\", col_types = paste(rep(\"c\",20), collapse = \"\"))"
   ]
  },
  {
   "cell_type": "code",
   "execution_count": 9,
   "metadata": {},
   "outputs": [
    {
     "data": {
      "text/html": [
       "<table>\n",
       "<caption>A tibble: 6 × 10</caption>\n",
       "<thead>\n",
       "\t<tr><th scope=col>UID</th><th scope=col>complaint_category</th><th scope=col>complaint_code</th><th scope=col>cr_id</th><th scope=col>cv</th><th scope=col>final_finding</th><th scope=col>final_outcome</th><th scope=col>recc_finding</th><th scope=col>recc_outcome</th><th scope=col>link_UID</th></tr>\n",
       "\t<tr><th scope=col>&lt;chr&gt;</th><th scope=col>&lt;chr&gt;</th><th scope=col>&lt;chr&gt;</th><th scope=col>&lt;chr&gt;</th><th scope=col>&lt;chr&gt;</th><th scope=col>&lt;chr&gt;</th><th scope=col>&lt;chr&gt;</th><th scope=col>&lt;chr&gt;</th><th scope=col>&lt;chr&gt;</th><th scope=col>&lt;chr&gt;</th></tr>\n",
       "</thead>\n",
       "<tbody>\n",
       "\t<tr><td>130469.0</td><td>SUPERVISOR RESPONSIBILITY:  FAIL TO OBTAIN COMPLAINT REGISTER NO.</td><td>12D</td><td>C170981</td><td>1</td><td>NS</td><td>NO ACTION TAKEN</td><td>NA</td><td>NA</td><td>20040.0</td></tr>\n",
       "\t<tr><td>103495.0</td><td>EXCESSIVE FORCE:  ARRESTEE - DURING ARREST                       </td><td>05A</td><td>C170981</td><td>1</td><td>NS</td><td>NO ACTION TAKEN</td><td>NA</td><td>NA</td><td>7727.0 </td></tr>\n",
       "\t<tr><td>111845.0</td><td>EXCESSIVE FORCE:  ARRESTEE - DURING ARREST                       </td><td>05A</td><td>C170981</td><td>1</td><td>NS</td><td>NO ACTION TAKEN</td><td>NA</td><td>NA</td><td>17149.0</td></tr>\n",
       "\t<tr><td>126148.0</td><td>EXCESSIVE FORCE:  ARRESTEE - DURING ARREST                       </td><td>05A</td><td>C170981</td><td>1</td><td>NS</td><td>NO ACTION TAKEN</td><td>NA</td><td>NA</td><td>271.0  </td></tr>\n",
       "\t<tr><td>127906.0</td><td>EXCESSIVE FORCE:  ARRESTEE - DURING ARREST                       </td><td>05A</td><td>C170981</td><td>1</td><td>NS</td><td>NO ACTION TAKEN</td><td>NA</td><td>NA</td><td>11004.0</td></tr>\n",
       "\t<tr><td>117100.0</td><td>EXCESSIVE FORCE:  NO ARREST                                      </td><td>05D</td><td>C171131</td><td>1</td><td>EX</td><td>NO ACTION TAKEN</td><td>NA</td><td>NA</td><td>25023.0</td></tr>\n",
       "</tbody>\n",
       "</table>\n"
      ],
      "text/latex": [
       "A tibble: 6 × 10\n",
       "\\begin{tabular}{llllllllll}\n",
       " UID & complaint\\_category & complaint\\_code & cr\\_id & cv & final\\_finding & final\\_outcome & recc\\_finding & recc\\_outcome & link\\_UID\\\\\n",
       " <chr> & <chr> & <chr> & <chr> & <chr> & <chr> & <chr> & <chr> & <chr> & <chr>\\\\\n",
       "\\hline\n",
       "\t 130469.0 & SUPERVISOR RESPONSIBILITY:  FAIL TO OBTAIN COMPLAINT REGISTER NO. & 12D & C170981 & 1 & NS & NO ACTION TAKEN & NA & NA & 20040.0\\\\\n",
       "\t 103495.0 & EXCESSIVE FORCE:  ARRESTEE - DURING ARREST                        & 05A & C170981 & 1 & NS & NO ACTION TAKEN & NA & NA & 7727.0 \\\\\n",
       "\t 111845.0 & EXCESSIVE FORCE:  ARRESTEE - DURING ARREST                        & 05A & C170981 & 1 & NS & NO ACTION TAKEN & NA & NA & 17149.0\\\\\n",
       "\t 126148.0 & EXCESSIVE FORCE:  ARRESTEE - DURING ARREST                        & 05A & C170981 & 1 & NS & NO ACTION TAKEN & NA & NA & 271.0  \\\\\n",
       "\t 127906.0 & EXCESSIVE FORCE:  ARRESTEE - DURING ARREST                        & 05A & C170981 & 1 & NS & NO ACTION TAKEN & NA & NA & 11004.0\\\\\n",
       "\t 117100.0 & EXCESSIVE FORCE:  NO ARREST                                       & 05D & C171131 & 1 & EX & NO ACTION TAKEN & NA & NA & 25023.0\\\\\n",
       "\\end{tabular}\n"
      ],
      "text/markdown": [
       "\n",
       "A tibble: 6 × 10\n",
       "\n",
       "| UID &lt;chr&gt; | complaint_category &lt;chr&gt; | complaint_code &lt;chr&gt; | cr_id &lt;chr&gt; | cv &lt;chr&gt; | final_finding &lt;chr&gt; | final_outcome &lt;chr&gt; | recc_finding &lt;chr&gt; | recc_outcome &lt;chr&gt; | link_UID &lt;chr&gt; |\n",
       "|---|---|---|---|---|---|---|---|---|---|\n",
       "| 130469.0 | SUPERVISOR RESPONSIBILITY:  FAIL TO OBTAIN COMPLAINT REGISTER NO. | 12D | C170981 | 1 | NS | NO ACTION TAKEN | NA | NA | 20040.0 |\n",
       "| 103495.0 | EXCESSIVE FORCE:  ARRESTEE - DURING ARREST                        | 05A | C170981 | 1 | NS | NO ACTION TAKEN | NA | NA | 7727.0  |\n",
       "| 111845.0 | EXCESSIVE FORCE:  ARRESTEE - DURING ARREST                        | 05A | C170981 | 1 | NS | NO ACTION TAKEN | NA | NA | 17149.0 |\n",
       "| 126148.0 | EXCESSIVE FORCE:  ARRESTEE - DURING ARREST                        | 05A | C170981 | 1 | NS | NO ACTION TAKEN | NA | NA | 271.0   |\n",
       "| 127906.0 | EXCESSIVE FORCE:  ARRESTEE - DURING ARREST                        | 05A | C170981 | 1 | NS | NO ACTION TAKEN | NA | NA | 11004.0 |\n",
       "| 117100.0 | EXCESSIVE FORCE:  NO ARREST                                       | 05D | C171131 | 1 | EX | NO ACTION TAKEN | NA | NA | 25023.0 |\n",
       "\n"
      ],
      "text/plain": [
       "  UID      complaint_category                                               \n",
       "1 130469.0 SUPERVISOR RESPONSIBILITY:  FAIL TO OBTAIN COMPLAINT REGISTER NO.\n",
       "2 103495.0 EXCESSIVE FORCE:  ARRESTEE - DURING ARREST                       \n",
       "3 111845.0 EXCESSIVE FORCE:  ARRESTEE - DURING ARREST                       \n",
       "4 126148.0 EXCESSIVE FORCE:  ARRESTEE - DURING ARREST                       \n",
       "5 127906.0 EXCESSIVE FORCE:  ARRESTEE - DURING ARREST                       \n",
       "6 117100.0 EXCESSIVE FORCE:  NO ARREST                                      \n",
       "  complaint_code cr_id   cv final_finding final_outcome   recc_finding\n",
       "1 12D            C170981 1  NS            NO ACTION TAKEN NA          \n",
       "2 05A            C170981 1  NS            NO ACTION TAKEN NA          \n",
       "3 05A            C170981 1  NS            NO ACTION TAKEN NA          \n",
       "4 05A            C170981 1  NS            NO ACTION TAKEN NA          \n",
       "5 05A            C170981 1  NS            NO ACTION TAKEN NA          \n",
       "6 05D            C171131 1  EX            NO ACTION TAKEN NA          \n",
       "  recc_outcome link_UID\n",
       "1 NA           20040.0 \n",
       "2 NA           7727.0  \n",
       "3 NA           17149.0 \n",
       "4 NA           271.0   \n",
       "5 NA           11004.0 \n",
       "6 NA           25023.0 "
      ]
     },
     "metadata": {},
     "output_type": "display_data"
    },
    {
     "data": {
      "text/html": [
       "<table>\n",
       "<caption>A tibble: 6 × 11</caption>\n",
       "<thead>\n",
       "\t<tr><th scope=col>cr_id</th><th scope=col>cv</th><th scope=col>incident_date</th><th scope=col>complaint_date</th><th scope=col>closed_date</th><th scope=col>add1</th><th scope=col>add2</th><th scope=col>beat</th><th scope=col>city</th><th scope=col>full_address</th><th scope=col>location</th></tr>\n",
       "\t<tr><th scope=col>&lt;chr&gt;</th><th scope=col>&lt;chr&gt;</th><th scope=col>&lt;chr&gt;</th><th scope=col>&lt;chr&gt;</th><th scope=col>&lt;chr&gt;</th><th scope=col>&lt;chr&gt;</th><th scope=col>&lt;chr&gt;</th><th scope=col>&lt;chr&gt;</th><th scope=col>&lt;chr&gt;</th><th scope=col>&lt;chr&gt;</th><th scope=col>&lt;chr&gt;</th></tr>\n",
       "</thead>\n",
       "<tbody>\n",
       "\t<tr><td>1000194</td><td>2</td><td>2006-10-02</td><td>2006-10-02</td><td>NA        </td><td>7809</td><td>S SOUTH SHORE DR  </td><td>421.0 </td><td>CHICAGO IL            </td><td>NA</td><td>17                 </td></tr>\n",
       "\t<tr><td>1000214</td><td>3</td><td>2006-10-03</td><td>2006-10-04</td><td>2010-12-23</td><td>7100</td><td>South WESTERN AVE </td><td>832.0 </td><td>CHICAGO ILLINOIS 60636</td><td>NA</td><td>NA                 </td></tr>\n",
       "\t<tr><td>1002796</td><td>3</td><td>2006-12-15</td><td>2007-01-18</td><td>2008-12-15</td><td>325 </td><td>North JEFFERSON ST</td><td>1212.0</td><td>CHICAGO ILLINOIS 60661</td><td>NA</td><td>TAVERN/LIQUOR STORE</td></tr>\n",
       "\t<tr><td>1003786</td><td>3</td><td>2007-03-01</td><td>2007-03-02</td><td>2011-02-23</td><td>NA  </td><td>West 87TH ST      </td><td>834.0 </td><td>CHICAGO ILLINOIS 60652</td><td>NA</td><td>RESIDENCE          </td></tr>\n",
       "\t<tr><td>1005070</td><td>2</td><td>2007-04-20</td><td>2007-04-20</td><td>NA        </td><td>4010</td><td>W ERIE ST         </td><td>0.0   </td><td>CHICAGO IL            </td><td>NA</td><td>17                 </td></tr>\n",
       "\t<tr><td>1005436</td><td>2</td><td>2005-05-15</td><td>2007-05-04</td><td>NA        </td><td>4427</td><td>S KARLOV AVE      </td><td>815.0 </td><td>CHICAGO IL 60632      </td><td>NA</td><td>17                 </td></tr>\n",
       "</tbody>\n",
       "</table>\n"
      ],
      "text/latex": [
       "A tibble: 6 × 11\n",
       "\\begin{tabular}{lllllllllll}\n",
       " cr\\_id & cv & incident\\_date & complaint\\_date & closed\\_date & add1 & add2 & beat & city & full\\_address & location\\\\\n",
       " <chr> & <chr> & <chr> & <chr> & <chr> & <chr> & <chr> & <chr> & <chr> & <chr> & <chr>\\\\\n",
       "\\hline\n",
       "\t 1000194 & 2 & 2006-10-02 & 2006-10-02 & NA         & 7809 & S SOUTH SHORE DR   & 421.0  & CHICAGO IL             & NA & 17                 \\\\\n",
       "\t 1000214 & 3 & 2006-10-03 & 2006-10-04 & 2010-12-23 & 7100 & South WESTERN AVE  & 832.0  & CHICAGO ILLINOIS 60636 & NA & NA                 \\\\\n",
       "\t 1002796 & 3 & 2006-12-15 & 2007-01-18 & 2008-12-15 & 325  & North JEFFERSON ST & 1212.0 & CHICAGO ILLINOIS 60661 & NA & TAVERN/LIQUOR STORE\\\\\n",
       "\t 1003786 & 3 & 2007-03-01 & 2007-03-02 & 2011-02-23 & NA   & West 87TH ST       & 834.0  & CHICAGO ILLINOIS 60652 & NA & RESIDENCE          \\\\\n",
       "\t 1005070 & 2 & 2007-04-20 & 2007-04-20 & NA         & 4010 & W ERIE ST          & 0.0    & CHICAGO IL             & NA & 17                 \\\\\n",
       "\t 1005436 & 2 & 2005-05-15 & 2007-05-04 & NA         & 4427 & S KARLOV AVE       & 815.0  & CHICAGO IL 60632       & NA & 17                 \\\\\n",
       "\\end{tabular}\n"
      ],
      "text/markdown": [
       "\n",
       "A tibble: 6 × 11\n",
       "\n",
       "| cr_id &lt;chr&gt; | cv &lt;chr&gt; | incident_date &lt;chr&gt; | complaint_date &lt;chr&gt; | closed_date &lt;chr&gt; | add1 &lt;chr&gt; | add2 &lt;chr&gt; | beat &lt;chr&gt; | city &lt;chr&gt; | full_address &lt;chr&gt; | location &lt;chr&gt; |\n",
       "|---|---|---|---|---|---|---|---|---|---|---|\n",
       "| 1000194 | 2 | 2006-10-02 | 2006-10-02 | NA         | 7809 | S SOUTH SHORE DR   | 421.0  | CHICAGO IL             | NA | 17                  |\n",
       "| 1000214 | 3 | 2006-10-03 | 2006-10-04 | 2010-12-23 | 7100 | South WESTERN AVE  | 832.0  | CHICAGO ILLINOIS 60636 | NA | NA                  |\n",
       "| 1002796 | 3 | 2006-12-15 | 2007-01-18 | 2008-12-15 | 325  | North JEFFERSON ST | 1212.0 | CHICAGO ILLINOIS 60661 | NA | TAVERN/LIQUOR STORE |\n",
       "| 1003786 | 3 | 2007-03-01 | 2007-03-02 | 2011-02-23 | NA   | West 87TH ST       | 834.0  | CHICAGO ILLINOIS 60652 | NA | RESIDENCE           |\n",
       "| 1005070 | 2 | 2007-04-20 | 2007-04-20 | NA         | 4010 | W ERIE ST          | 0.0    | CHICAGO IL             | NA | 17                  |\n",
       "| 1005436 | 2 | 2005-05-15 | 2007-05-04 | NA         | 4427 | S KARLOV AVE       | 815.0  | CHICAGO IL 60632       | NA | 17                  |\n",
       "\n"
      ],
      "text/plain": [
       "  cr_id   cv incident_date complaint_date closed_date add1 add2              \n",
       "1 1000194 2  2006-10-02    2006-10-02     NA          7809 S SOUTH SHORE DR  \n",
       "2 1000214 3  2006-10-03    2006-10-04     2010-12-23  7100 South WESTERN AVE \n",
       "3 1002796 3  2006-12-15    2007-01-18     2008-12-15  325  North JEFFERSON ST\n",
       "4 1003786 3  2007-03-01    2007-03-02     2011-02-23  NA   West 87TH ST      \n",
       "5 1005070 2  2007-04-20    2007-04-20     NA          4010 W ERIE ST         \n",
       "6 1005436 2  2005-05-15    2007-05-04     NA          4427 S KARLOV AVE      \n",
       "  beat   city                   full_address location           \n",
       "1 421.0  CHICAGO IL             NA           17                 \n",
       "2 832.0  CHICAGO ILLINOIS 60636 NA           NA                 \n",
       "3 1212.0 CHICAGO ILLINOIS 60661 NA           TAVERN/LIQUOR STORE\n",
       "4 834.0  CHICAGO ILLINOIS 60652 NA           RESIDENCE          \n",
       "5 0.0    CHICAGO IL             NA           17                 \n",
       "6 815.0  CHICAGO IL 60632       NA           17                 "
      ]
     },
     "metadata": {},
     "output_type": "display_data"
    },
    {
     "data": {
      "text/html": [
       "<table>\n",
       "<caption>A tibble: 6 × 8</caption>\n",
       "<thead>\n",
       "\t<tr><th scope=col>UID</th><th scope=col>pay_grade</th><th scope=col>rank</th><th scope=col>salary</th><th scope=col>year</th><th scope=col>spp_date</th><th scope=col>cleaned_rank</th><th scope=col>link_UID</th></tr>\n",
       "\t<tr><th scope=col>&lt;chr&gt;</th><th scope=col>&lt;chr&gt;</th><th scope=col>&lt;chr&gt;</th><th scope=col>&lt;chr&gt;</th><th scope=col>&lt;chr&gt;</th><th scope=col>&lt;chr&gt;</th><th scope=col>&lt;chr&gt;</th><th scope=col>&lt;chr&gt;</th></tr>\n",
       "</thead>\n",
       "<tbody>\n",
       "\t<tr><td>100011.0</td><td>E|3 </td><td>SERGEANT                                        </td><td>101442.0</td><td>2016.0</td><td>2016-02-01</td><td>SERGEANT      </td><td>3978.0 </td></tr>\n",
       "\t<tr><td>100013.0</td><td>E|3 </td><td>SERGEANT                                        </td><td>111474.0</td><td>2016.0</td><td>2016-06-01</td><td>SERGEANT      </td><td>4443.0 </td></tr>\n",
       "\t<tr><td>100014.0</td><td>D|2A</td><td>POLICE OFFICER (ASSIGNED AS DETECTIVE)          </td><td>76446.0 </td><td>2007.0</td><td>2007-04-01</td><td>DETECTIVE     </td><td>4879.0 </td></tr>\n",
       "\t<tr><td>100027.0</td><td>E|3 </td><td>SERGEANT                                        </td><td>98184.0 </td><td>2016.0</td><td>2016-06-01</td><td>SERGEANT      </td><td>16115.0</td></tr>\n",
       "\t<tr><td>100044.0</td><td>D|2 </td><td>POLICE OFFICER (ASSIGNED AS EVIDENCE TECHNICIAN)</td><td>61518.0 </td><td>2004.0</td><td>2004-12-01</td><td>POLICE OFFICER</td><td>38.0   </td></tr>\n",
       "\t<tr><td>100054.0</td><td>D|2 </td><td>POLICE OFFICER/EXPLSV DETECT K9 HNDLR           </td><td>87048.0 </td><td>2011.0</td><td>2011-06-16</td><td>POLICE OFFICER</td><td>9432.0 </td></tr>\n",
       "</tbody>\n",
       "</table>\n"
      ],
      "text/latex": [
       "A tibble: 6 × 8\n",
       "\\begin{tabular}{llllllll}\n",
       " UID & pay\\_grade & rank & salary & year & spp\\_date & cleaned\\_rank & link\\_UID\\\\\n",
       " <chr> & <chr> & <chr> & <chr> & <chr> & <chr> & <chr> & <chr>\\\\\n",
       "\\hline\n",
       "\t 100011.0 & E\\textbar{}3  & SERGEANT                                         & 101442.0 & 2016.0 & 2016-02-01 & SERGEANT       & 3978.0 \\\\\n",
       "\t 100013.0 & E\\textbar{}3  & SERGEANT                                         & 111474.0 & 2016.0 & 2016-06-01 & SERGEANT       & 4443.0 \\\\\n",
       "\t 100014.0 & D\\textbar{}2A & POLICE OFFICER (ASSIGNED AS DETECTIVE)           & 76446.0  & 2007.0 & 2007-04-01 & DETECTIVE      & 4879.0 \\\\\n",
       "\t 100027.0 & E\\textbar{}3  & SERGEANT                                         & 98184.0  & 2016.0 & 2016-06-01 & SERGEANT       & 16115.0\\\\\n",
       "\t 100044.0 & D\\textbar{}2  & POLICE OFFICER (ASSIGNED AS EVIDENCE TECHNICIAN) & 61518.0  & 2004.0 & 2004-12-01 & POLICE OFFICER & 38.0   \\\\\n",
       "\t 100054.0 & D\\textbar{}2  & POLICE OFFICER/EXPLSV DETECT K9 HNDLR            & 87048.0  & 2011.0 & 2011-06-16 & POLICE OFFICER & 9432.0 \\\\\n",
       "\\end{tabular}\n"
      ],
      "text/markdown": [
       "\n",
       "A tibble: 6 × 8\n",
       "\n",
       "| UID &lt;chr&gt; | pay_grade &lt;chr&gt; | rank &lt;chr&gt; | salary &lt;chr&gt; | year &lt;chr&gt; | spp_date &lt;chr&gt; | cleaned_rank &lt;chr&gt; | link_UID &lt;chr&gt; |\n",
       "|---|---|---|---|---|---|---|---|\n",
       "| 100011.0 | E|3  | SERGEANT                                         | 101442.0 | 2016.0 | 2016-02-01 | SERGEANT       | 3978.0  |\n",
       "| 100013.0 | E|3  | SERGEANT                                         | 111474.0 | 2016.0 | 2016-06-01 | SERGEANT       | 4443.0  |\n",
       "| 100014.0 | D|2A | POLICE OFFICER (ASSIGNED AS DETECTIVE)           | 76446.0  | 2007.0 | 2007-04-01 | DETECTIVE      | 4879.0  |\n",
       "| 100027.0 | E|3  | SERGEANT                                         | 98184.0  | 2016.0 | 2016-06-01 | SERGEANT       | 16115.0 |\n",
       "| 100044.0 | D|2  | POLICE OFFICER (ASSIGNED AS EVIDENCE TECHNICIAN) | 61518.0  | 2004.0 | 2004-12-01 | POLICE OFFICER | 38.0    |\n",
       "| 100054.0 | D|2  | POLICE OFFICER/EXPLSV DETECT K9 HNDLR            | 87048.0  | 2011.0 | 2011-06-16 | POLICE OFFICER | 9432.0  |\n",
       "\n"
      ],
      "text/plain": [
       "  UID      pay_grade rank                                             salary  \n",
       "1 100011.0 E|3       SERGEANT                                         101442.0\n",
       "2 100013.0 E|3       SERGEANT                                         111474.0\n",
       "3 100014.0 D|2A      POLICE OFFICER (ASSIGNED AS DETECTIVE)           76446.0 \n",
       "4 100027.0 E|3       SERGEANT                                         98184.0 \n",
       "5 100044.0 D|2       POLICE OFFICER (ASSIGNED AS EVIDENCE TECHNICIAN) 61518.0 \n",
       "6 100054.0 D|2       POLICE OFFICER/EXPLSV DETECT K9 HNDLR            87048.0 \n",
       "  year   spp_date   cleaned_rank   link_UID\n",
       "1 2016.0 2016-02-01 SERGEANT       3978.0  \n",
       "2 2016.0 2016-06-01 SERGEANT       4443.0  \n",
       "3 2007.0 2007-04-01 DETECTIVE      4879.0  \n",
       "4 2016.0 2016-06-01 SERGEANT       16115.0 \n",
       "5 2004.0 2004-12-01 POLICE OFFICER 38.0    \n",
       "6 2011.0 2011-06-16 POLICE OFFICER 9432.0  "
      ]
     },
     "metadata": {},
     "output_type": "display_data"
    },
    {
     "data": {
      "text/html": [
       "<table>\n",
       "<caption>A tibble: 6 × 20</caption>\n",
       "<thead>\n",
       "\t<tr><th scope=col>UID</th><th scope=col>first_name</th><th scope=col>last_name</th><th scope=col>middle_initial</th><th scope=col>middle_initial2</th><th scope=col>suffix_name</th><th scope=col>birth_year</th><th scope=col>race</th><th scope=col>gender</th><th scope=col>appointed_date</th><th scope=col>resignation_date</th><th scope=col>current_status</th><th scope=col>current_star</th><th scope=col>current_unit</th><th scope=col>current_rank</th><th scope=col>start_date</th><th scope=col>org_hire_date</th><th scope=col>profile_count</th><th scope=col>cleaned_rank</th><th scope=col>link_UID</th></tr>\n",
       "\t<tr><th scope=col>&lt;chr&gt;</th><th scope=col>&lt;chr&gt;</th><th scope=col>&lt;chr&gt;</th><th scope=col>&lt;chr&gt;</th><th scope=col>&lt;chr&gt;</th><th scope=col>&lt;chr&gt;</th><th scope=col>&lt;chr&gt;</th><th scope=col>&lt;chr&gt;</th><th scope=col>&lt;chr&gt;</th><th scope=col>&lt;chr&gt;</th><th scope=col>&lt;chr&gt;</th><th scope=col>&lt;chr&gt;</th><th scope=col>&lt;chr&gt;</th><th scope=col>&lt;chr&gt;</th><th scope=col>&lt;chr&gt;</th><th scope=col>&lt;chr&gt;</th><th scope=col>&lt;chr&gt;</th><th scope=col>&lt;chr&gt;</th><th scope=col>&lt;chr&gt;</th><th scope=col>&lt;chr&gt;</th></tr>\n",
       "</thead>\n",
       "<tbody>\n",
       "\t<tr><td>100001</td><td>A        </td><td>BRODERSON  </td><td>F </td><td>NA</td><td>NA</td><td>1926.0</td><td>WHITE</td><td>MALE</td><td>1950-06-03</td><td>1980-03-10</td><td>0.0</td><td>NA</td><td>NA   </td><td>NA            </td><td>NA</td><td>NA</td><td>3</td><td>NA            </td><td>2863.0 </td></tr>\n",
       "\t<tr><td>100002</td><td>A        </td><td>DALESSANDRO</td><td>A </td><td>NA</td><td>NA</td><td>1923.0</td><td>WHITE</td><td>MALE</td><td>1956-09-01</td><td>1979-10-18</td><td>0.0</td><td>NA</td><td>NA   </td><td>NA            </td><td>NA</td><td>NA</td><td>3</td><td>NA            </td><td>6100.0 </td></tr>\n",
       "\t<tr><td>100003</td><td>A        </td><td>KIBURAS    </td><td>J </td><td>NA</td><td>NA</td><td>1948.0</td><td>WHITE</td><td>MALE</td><td>1968-06-24</td><td>1980-10-01</td><td>0.0</td><td>NA</td><td>NA   </td><td>NA            </td><td>NA</td><td>NA</td><td>3</td><td>NA            </td><td>14560.0</td></tr>\n",
       "\t<tr><td>100004</td><td>A        </td><td>KUSTRA     </td><td>J </td><td>NA</td><td>NA</td><td>1923.0</td><td>WHITE</td><td>MALE</td><td>1953-09-28</td><td>1980-10-01</td><td>0.0</td><td>NA</td><td>NA   </td><td>NA            </td><td>NA</td><td>NA</td><td>3</td><td>NA            </td><td>15445.0</td></tr>\n",
       "\t<tr><td>100005</td><td>A        </td><td>MC LAUGHLIN</td><td>R </td><td>NA</td><td>NA</td><td>1941.0</td><td>BLACK</td><td>MALE</td><td>1966-06-20</td><td>1986-09-16</td><td>0.0</td><td>NA</td><td>123.0</td><td>POLICE OFFICER</td><td>NA</td><td>NA</td><td>3</td><td>POLICE OFFICER</td><td>18373.0</td></tr>\n",
       "\t<tr><td>100006</td><td>A RICHARD</td><td>LABRIOLA   </td><td>NA</td><td>NA</td><td>NA</td><td>1943.0</td><td>WHITE</td><td>MALE</td><td>1971-10-25</td><td>2004-03-15</td><td>0.0</td><td>NA</td><td>8.0  </td><td>POLICE OFFICER</td><td>NA</td><td>NA</td><td>7</td><td>POLICE OFFICER</td><td>15521.0</td></tr>\n",
       "</tbody>\n",
       "</table>\n"
      ],
      "text/latex": [
       "A tibble: 6 × 20\n",
       "\\begin{tabular}{llllllllllllllllllll}\n",
       " UID & first\\_name & last\\_name & middle\\_initial & middle\\_initial2 & suffix\\_name & birth\\_year & race & gender & appointed\\_date & resignation\\_date & current\\_status & current\\_star & current\\_unit & current\\_rank & start\\_date & org\\_hire\\_date & profile\\_count & cleaned\\_rank & link\\_UID\\\\\n",
       " <chr> & <chr> & <chr> & <chr> & <chr> & <chr> & <chr> & <chr> & <chr> & <chr> & <chr> & <chr> & <chr> & <chr> & <chr> & <chr> & <chr> & <chr> & <chr> & <chr>\\\\\n",
       "\\hline\n",
       "\t 100001 & A         & BRODERSON   & F  & NA & NA & 1926.0 & WHITE & MALE & 1950-06-03 & 1980-03-10 & 0.0 & NA & NA    & NA             & NA & NA & 3 & NA             & 2863.0 \\\\\n",
       "\t 100002 & A         & DALESSANDRO & A  & NA & NA & 1923.0 & WHITE & MALE & 1956-09-01 & 1979-10-18 & 0.0 & NA & NA    & NA             & NA & NA & 3 & NA             & 6100.0 \\\\\n",
       "\t 100003 & A         & KIBURAS     & J  & NA & NA & 1948.0 & WHITE & MALE & 1968-06-24 & 1980-10-01 & 0.0 & NA & NA    & NA             & NA & NA & 3 & NA             & 14560.0\\\\\n",
       "\t 100004 & A         & KUSTRA      & J  & NA & NA & 1923.0 & WHITE & MALE & 1953-09-28 & 1980-10-01 & 0.0 & NA & NA    & NA             & NA & NA & 3 & NA             & 15445.0\\\\\n",
       "\t 100005 & A         & MC LAUGHLIN & R  & NA & NA & 1941.0 & BLACK & MALE & 1966-06-20 & 1986-09-16 & 0.0 & NA & 123.0 & POLICE OFFICER & NA & NA & 3 & POLICE OFFICER & 18373.0\\\\\n",
       "\t 100006 & A RICHARD & LABRIOLA    & NA & NA & NA & 1943.0 & WHITE & MALE & 1971-10-25 & 2004-03-15 & 0.0 & NA & 8.0   & POLICE OFFICER & NA & NA & 7 & POLICE OFFICER & 15521.0\\\\\n",
       "\\end{tabular}\n"
      ],
      "text/markdown": [
       "\n",
       "A tibble: 6 × 20\n",
       "\n",
       "| UID &lt;chr&gt; | first_name &lt;chr&gt; | last_name &lt;chr&gt; | middle_initial &lt;chr&gt; | middle_initial2 &lt;chr&gt; | suffix_name &lt;chr&gt; | birth_year &lt;chr&gt; | race &lt;chr&gt; | gender &lt;chr&gt; | appointed_date &lt;chr&gt; | resignation_date &lt;chr&gt; | current_status &lt;chr&gt; | current_star &lt;chr&gt; | current_unit &lt;chr&gt; | current_rank &lt;chr&gt; | start_date &lt;chr&gt; | org_hire_date &lt;chr&gt; | profile_count &lt;chr&gt; | cleaned_rank &lt;chr&gt; | link_UID &lt;chr&gt; |\n",
       "|---|---|---|---|---|---|---|---|---|---|---|---|---|---|---|---|---|---|---|---|\n",
       "| 100001 | A         | BRODERSON   | F  | NA | NA | 1926.0 | WHITE | MALE | 1950-06-03 | 1980-03-10 | 0.0 | NA | NA    | NA             | NA | NA | 3 | NA             | 2863.0  |\n",
       "| 100002 | A         | DALESSANDRO | A  | NA | NA | 1923.0 | WHITE | MALE | 1956-09-01 | 1979-10-18 | 0.0 | NA | NA    | NA             | NA | NA | 3 | NA             | 6100.0  |\n",
       "| 100003 | A         | KIBURAS     | J  | NA | NA | 1948.0 | WHITE | MALE | 1968-06-24 | 1980-10-01 | 0.0 | NA | NA    | NA             | NA | NA | 3 | NA             | 14560.0 |\n",
       "| 100004 | A         | KUSTRA      | J  | NA | NA | 1923.0 | WHITE | MALE | 1953-09-28 | 1980-10-01 | 0.0 | NA | NA    | NA             | NA | NA | 3 | NA             | 15445.0 |\n",
       "| 100005 | A         | MC LAUGHLIN | R  | NA | NA | 1941.0 | BLACK | MALE | 1966-06-20 | 1986-09-16 | 0.0 | NA | 123.0 | POLICE OFFICER | NA | NA | 3 | POLICE OFFICER | 18373.0 |\n",
       "| 100006 | A RICHARD | LABRIOLA    | NA | NA | NA | 1943.0 | WHITE | MALE | 1971-10-25 | 2004-03-15 | 0.0 | NA | 8.0   | POLICE OFFICER | NA | NA | 7 | POLICE OFFICER | 15521.0 |\n",
       "\n"
      ],
      "text/plain": [
       "  UID    first_name last_name   middle_initial middle_initial2 suffix_name\n",
       "1 100001 A          BRODERSON   F              NA              NA         \n",
       "2 100002 A          DALESSANDRO A              NA              NA         \n",
       "3 100003 A          KIBURAS     J              NA              NA         \n",
       "4 100004 A          KUSTRA      J              NA              NA         \n",
       "5 100005 A          MC LAUGHLIN R              NA              NA         \n",
       "6 100006 A RICHARD  LABRIOLA    NA             NA              NA         \n",
       "  birth_year race  gender appointed_date resignation_date current_status\n",
       "1 1926.0     WHITE MALE   1950-06-03     1980-03-10       0.0           \n",
       "2 1923.0     WHITE MALE   1956-09-01     1979-10-18       0.0           \n",
       "3 1948.0     WHITE MALE   1968-06-24     1980-10-01       0.0           \n",
       "4 1923.0     WHITE MALE   1953-09-28     1980-10-01       0.0           \n",
       "5 1941.0     BLACK MALE   1966-06-20     1986-09-16       0.0           \n",
       "6 1943.0     WHITE MALE   1971-10-25     2004-03-15       0.0           \n",
       "  current_star current_unit current_rank   start_date org_hire_date\n",
       "1 NA           NA           NA             NA         NA           \n",
       "2 NA           NA           NA             NA         NA           \n",
       "3 NA           NA           NA             NA         NA           \n",
       "4 NA           NA           NA             NA         NA           \n",
       "5 NA           123.0        POLICE OFFICER NA         NA           \n",
       "6 NA           8.0          POLICE OFFICER NA         NA           \n",
       "  profile_count cleaned_rank   link_UID\n",
       "1 3             NA             2863.0  \n",
       "2 3             NA             6100.0  \n",
       "3 3             NA             14560.0 \n",
       "4 3             NA             15445.0 \n",
       "5 3             POLICE OFFICER 18373.0 \n",
       "6 7             POLICE OFFICER 15521.0 "
      ]
     },
     "metadata": {},
     "output_type": "display_data"
    }
   ],
   "source": [
    "# See first few rows of DFs\n",
    "head(accused_df)\n",
    "head(complaints_df)\n",
    "head(salary_df)\n",
    "head(demographics_df)"
   ]
  },
  {
   "cell_type": "markdown",
   "metadata": {},
   "source": [
    "## Check for duplicates\n",
    "\n",
    "### Process\n",
    "There are several duplicate complaints in the accused and complaints dataset, the `cr_id` sometimes appears with \"CR\" as the suffix and sometimes it does not.  Unclear as to why this occurs, from what I can tell the remainder of the information is either identical or very similar (i.e. updated wording, all caps vs no caps).    There are 20,108 rows of duplicate accused. \n",
    "\n",
    "To confirmed duplicates:\n",
    "1. Created new `cr_id_num` to remove suffix\n",
    "2. Used `janitor::get_dupes()` function to isolate any duplicates.  Considered if there was duplicates due to several officers named in complaint, these are not considered duplicates. \n",
    "3. Counted number of rows. "
   ]
  },
  {
   "cell_type": "markdown",
   "metadata": {},
   "source": [
    "#### Accused dataframe"
   ]
  },
  {
   "cell_type": "code",
   "execution_count": 5,
   "metadata": {},
   "outputs": [
    {
     "data": {
      "text/html": [
       "20108"
      ],
      "text/latex": [
       "20108"
      ],
      "text/markdown": [
       "20108"
      ],
      "text/plain": [
       "[1] 20108"
      ]
     },
     "metadata": {},
     "output_type": "display_data"
    },
    {
     "data": {
      "text/html": [
       "<table>\n",
       "<caption>A tibble: 6 × 12</caption>\n",
       "<thead>\n",
       "\t<tr><th scope=col>cr_id_num</th><th scope=col>UID</th><th scope=col>dupe_count</th><th scope=col>complaint_category</th><th scope=col>complaint_code</th><th scope=col>cr_id</th><th scope=col>cv</th><th scope=col>final_finding</th><th scope=col>final_outcome</th><th scope=col>recc_finding</th><th scope=col>recc_outcome</th><th scope=col>link_UID</th></tr>\n",
       "\t<tr><th scope=col>&lt;chr[,1]&gt;</th><th scope=col>&lt;chr&gt;</th><th scope=col>&lt;int&gt;</th><th scope=col>&lt;chr&gt;</th><th scope=col>&lt;chr&gt;</th><th scope=col>&lt;chr&gt;</th><th scope=col>&lt;chr&gt;</th><th scope=col>&lt;chr&gt;</th><th scope=col>&lt;chr&gt;</th><th scope=col>&lt;chr&gt;</th><th scope=col>&lt;chr&gt;</th><th scope=col>&lt;chr&gt;</th></tr>\n",
       "</thead>\n",
       "<tbody>\n",
       "\t<tr><td>258960</td><td>120174.0</td><td>2</td><td>EXCESSIVE FORCE:  ARRESTEE - LOCKUP/DETENTION</td><td>05C  </td><td>C258960</td><td>1</td><td>UN</td><td>NO ACTION TAKEN</td><td>NA</td><td>NA             </td><td>4437.0 </td></tr>\n",
       "\t<tr><td>258960</td><td>120174.0</td><td>2</td><td>ARRESTEE-LOCKUP/DELETION                     </td><td>05ZZC</td><td>258960 </td><td>3</td><td>NS</td><td>NA             </td><td>NA</td><td>NA             </td><td>4437.0 </td></tr>\n",
       "\t<tr><td>258996</td><td>130754.0</td><td>2</td><td>VERBAL ABUSE - USE OF PROFANITY              </td><td>01A  </td><td>C258996</td><td>1</td><td>NS</td><td>NO ACTION TAKEN</td><td>NA</td><td>NA             </td><td>1421.0 </td></tr>\n",
       "\t<tr><td>258996</td><td>130754.0</td><td>2</td><td>USE OF PROFANITY                             </td><td>01A  </td><td>258996 </td><td>2</td><td>NS</td><td>No Action Taken</td><td>NS</td><td>No Action Taken</td><td>1421.0 </td></tr>\n",
       "\t<tr><td>258997</td><td>113991.0</td><td>2</td><td>VERBAL ABUSE - USE OF PROFANITY              </td><td>01A  </td><td>C258997</td><td>1</td><td>UN</td><td>NO ACTION TAKEN</td><td>NA</td><td>NA             </td><td>14292.0</td></tr>\n",
       "\t<tr><td>258997</td><td>113991.0</td><td>2</td><td>USE OF PROFANITY                             </td><td>01A  </td><td>258997 </td><td>2</td><td>UN</td><td>No Action Taken</td><td>UN</td><td>No Action Taken</td><td>14292.0</td></tr>\n",
       "</tbody>\n",
       "</table>\n"
      ],
      "text/latex": [
       "A tibble: 6 × 12\n",
       "\\begin{tabular}{llllllllllll}\n",
       " cr\\_id\\_num & UID & dupe\\_count & complaint\\_category & complaint\\_code & cr\\_id & cv & final\\_finding & final\\_outcome & recc\\_finding & recc\\_outcome & link\\_UID\\\\\n",
       " <chr{[},1{]}> & <chr> & <int> & <chr> & <chr> & <chr> & <chr> & <chr> & <chr> & <chr> & <chr> & <chr>\\\\\n",
       "\\hline\n",
       "\t 258960 & 120174.0 & 2 & EXCESSIVE FORCE:  ARRESTEE - LOCKUP/DETENTION & 05C   & C258960 & 1 & UN & NO ACTION TAKEN & NA & NA              & 4437.0 \\\\\n",
       "\t 258960 & 120174.0 & 2 & ARRESTEE-LOCKUP/DELETION                      & 05ZZC & 258960  & 3 & NS & NA              & NA & NA              & 4437.0 \\\\\n",
       "\t 258996 & 130754.0 & 2 & VERBAL ABUSE - USE OF PROFANITY               & 01A   & C258996 & 1 & NS & NO ACTION TAKEN & NA & NA              & 1421.0 \\\\\n",
       "\t 258996 & 130754.0 & 2 & USE OF PROFANITY                              & 01A   & 258996  & 2 & NS & No Action Taken & NS & No Action Taken & 1421.0 \\\\\n",
       "\t 258997 & 113991.0 & 2 & VERBAL ABUSE - USE OF PROFANITY               & 01A   & C258997 & 1 & UN & NO ACTION TAKEN & NA & NA              & 14292.0\\\\\n",
       "\t 258997 & 113991.0 & 2 & USE OF PROFANITY                              & 01A   & 258997  & 2 & UN & No Action Taken & UN & No Action Taken & 14292.0\\\\\n",
       "\\end{tabular}\n"
      ],
      "text/markdown": [
       "\n",
       "A tibble: 6 × 12\n",
       "\n",
       "| cr_id_num &lt;chr[,1]&gt; | UID &lt;chr&gt; | dupe_count &lt;int&gt; | complaint_category &lt;chr&gt; | complaint_code &lt;chr&gt; | cr_id &lt;chr&gt; | cv &lt;chr&gt; | final_finding &lt;chr&gt; | final_outcome &lt;chr&gt; | recc_finding &lt;chr&gt; | recc_outcome &lt;chr&gt; | link_UID &lt;chr&gt; |\n",
       "|---|---|---|---|---|---|---|---|---|---|---|---|\n",
       "| 258960 | 120174.0 | 2 | EXCESSIVE FORCE:  ARRESTEE - LOCKUP/DETENTION | 05C   | C258960 | 1 | UN | NO ACTION TAKEN | NA | NA              | 4437.0  |\n",
       "| 258960 | 120174.0 | 2 | ARRESTEE-LOCKUP/DELETION                      | 05ZZC | 258960  | 3 | NS | NA              | NA | NA              | 4437.0  |\n",
       "| 258996 | 130754.0 | 2 | VERBAL ABUSE - USE OF PROFANITY               | 01A   | C258996 | 1 | NS | NO ACTION TAKEN | NA | NA              | 1421.0  |\n",
       "| 258996 | 130754.0 | 2 | USE OF PROFANITY                              | 01A   | 258996  | 2 | NS | No Action Taken | NS | No Action Taken | 1421.0  |\n",
       "| 258997 | 113991.0 | 2 | VERBAL ABUSE - USE OF PROFANITY               | 01A   | C258997 | 1 | UN | NO ACTION TAKEN | NA | NA              | 14292.0 |\n",
       "| 258997 | 113991.0 | 2 | USE OF PROFANITY                              | 01A   | 258997  | 2 | UN | No Action Taken | UN | No Action Taken | 14292.0 |\n",
       "\n"
      ],
      "text/plain": [
       "  cr_id_num UID      dupe_count complaint_category                           \n",
       "1 258960    120174.0 2          EXCESSIVE FORCE:  ARRESTEE - LOCKUP/DETENTION\n",
       "2 258960    120174.0 2          ARRESTEE-LOCKUP/DELETION                     \n",
       "3 258996    130754.0 2          VERBAL ABUSE - USE OF PROFANITY              \n",
       "4 258996    130754.0 2          USE OF PROFANITY                             \n",
       "5 258997    113991.0 2          VERBAL ABUSE - USE OF PROFANITY              \n",
       "6 258997    113991.0 2          USE OF PROFANITY                             \n",
       "  complaint_code cr_id   cv final_finding final_outcome   recc_finding\n",
       "1 05C            C258960 1  UN            NO ACTION TAKEN NA          \n",
       "2 05ZZC          258960  3  NS            NA              NA          \n",
       "3 01A            C258996 1  NS            NO ACTION TAKEN NA          \n",
       "4 01A            258996  2  NS            No Action Taken NS          \n",
       "5 01A            C258997 1  UN            NO ACTION TAKEN NA          \n",
       "6 01A            258997  2  UN            No Action Taken UN          \n",
       "  recc_outcome    link_UID\n",
       "1 NA              4437.0  \n",
       "2 NA              4437.0  \n",
       "3 NA              1421.0  \n",
       "4 No Action Taken 1421.0  \n",
       "5 NA              14292.0 \n",
       "6 No Action Taken 14292.0 "
      ]
     },
     "metadata": {},
     "output_type": "display_data"
    },
    {
     "data": {
      "text/html": [
       "<table>\n",
       "<caption>A tibble: 6 × 12</caption>\n",
       "<thead>\n",
       "\t<tr><th scope=col>cr_id_num</th><th scope=col>UID</th><th scope=col>dupe_count</th><th scope=col>complaint_category</th><th scope=col>complaint_code</th><th scope=col>cr_id</th><th scope=col>cv</th><th scope=col>final_finding</th><th scope=col>final_outcome</th><th scope=col>recc_finding</th><th scope=col>recc_outcome</th><th scope=col>link_UID</th></tr>\n",
       "\t<tr><th scope=col>&lt;chr[,1]&gt;</th><th scope=col>&lt;chr&gt;</th><th scope=col>&lt;int&gt;</th><th scope=col>&lt;chr&gt;</th><th scope=col>&lt;chr&gt;</th><th scope=col>&lt;chr&gt;</th><th scope=col>&lt;chr&gt;</th><th scope=col>&lt;chr&gt;</th><th scope=col>&lt;chr&gt;</th><th scope=col>&lt;chr&gt;</th><th scope=col>&lt;chr&gt;</th><th scope=col>&lt;chr&gt;</th></tr>\n",
       "</thead>\n",
       "<tbody>\n",
       "\t<tr><td>271834</td><td>110129.0</td><td>2</td><td>OPERATION/PERSONNEL VIOLS.:  NEGLECT OF DUTY / CONDUCT UNBECOMING</td><td>10J</td><td>C271834</td><td>1</td><td>UN</td><td>NO ACTION TAKEN     </td><td>NA</td><td>NA             </td><td>28000.0</td></tr>\n",
       "\t<tr><td>271834</td><td>110129.0</td><td>2</td><td>NEGLECT OF DUTY/CONDUCT UNBECOMING - ON DUTY                     </td><td>10J</td><td>271834 </td><td>2</td><td>UN</td><td>No Action Taken     </td><td>UN</td><td>No Action Taken</td><td>28000.0</td></tr>\n",
       "\t<tr><td>272173</td><td>123945.0</td><td>2</td><td>POSITIVE DRUG SCREEN - OTHER PHYSICAL EXAM                       </td><td>15H</td><td>C272173</td><td>1</td><td>SU</td><td>RESIGNED -NOT SERVED</td><td>NA</td><td>NA             </td><td>9695.0 </td></tr>\n",
       "\t<tr><td>272173</td><td>123945.0</td><td>2</td><td>POSITIVE DRUG SCREEN - OTHER PHYSICAL EXAM                       </td><td>15H</td><td>272173 </td><td>2</td><td>SU</td><td>Resigned            </td><td>SU</td><td>Separation     </td><td>9695.0 </td></tr>\n",
       "\t<tr><td>272341</td><td>117367.0</td><td>2</td><td>VERBAL ABUSE - RACIAL/ETHNIC/ETC.                                </td><td>01B</td><td>C272341</td><td>1</td><td>UN</td><td>NO ACTION TAKEN     </td><td>NA</td><td>NA             </td><td>7226.0 </td></tr>\n",
       "\t<tr><td>272341</td><td>117367.0</td><td>2</td><td>RACIAL/ETHNIC, ETC.                                              </td><td>01B</td><td>272341 </td><td>2</td><td>NA</td><td>Unknown             </td><td>NA</td><td>Unknown        </td><td>7226.0 </td></tr>\n",
       "</tbody>\n",
       "</table>\n"
      ],
      "text/latex": [
       "A tibble: 6 × 12\n",
       "\\begin{tabular}{llllllllllll}\n",
       " cr\\_id\\_num & UID & dupe\\_count & complaint\\_category & complaint\\_code & cr\\_id & cv & final\\_finding & final\\_outcome & recc\\_finding & recc\\_outcome & link\\_UID\\\\\n",
       " <chr{[},1{]}> & <chr> & <int> & <chr> & <chr> & <chr> & <chr> & <chr> & <chr> & <chr> & <chr> & <chr>\\\\\n",
       "\\hline\n",
       "\t 271834 & 110129.0 & 2 & OPERATION/PERSONNEL VIOLS.:  NEGLECT OF DUTY / CONDUCT UNBECOMING & 10J & C271834 & 1 & UN & NO ACTION TAKEN      & NA & NA              & 28000.0\\\\\n",
       "\t 271834 & 110129.0 & 2 & NEGLECT OF DUTY/CONDUCT UNBECOMING - ON DUTY                      & 10J & 271834  & 2 & UN & No Action Taken      & UN & No Action Taken & 28000.0\\\\\n",
       "\t 272173 & 123945.0 & 2 & POSITIVE DRUG SCREEN - OTHER PHYSICAL EXAM                        & 15H & C272173 & 1 & SU & RESIGNED -NOT SERVED & NA & NA              & 9695.0 \\\\\n",
       "\t 272173 & 123945.0 & 2 & POSITIVE DRUG SCREEN - OTHER PHYSICAL EXAM                        & 15H & 272173  & 2 & SU & Resigned             & SU & Separation      & 9695.0 \\\\\n",
       "\t 272341 & 117367.0 & 2 & VERBAL ABUSE - RACIAL/ETHNIC/ETC.                                 & 01B & C272341 & 1 & UN & NO ACTION TAKEN      & NA & NA              & 7226.0 \\\\\n",
       "\t 272341 & 117367.0 & 2 & RACIAL/ETHNIC, ETC.                                               & 01B & 272341  & 2 & NA & Unknown              & NA & Unknown         & 7226.0 \\\\\n",
       "\\end{tabular}\n"
      ],
      "text/markdown": [
       "\n",
       "A tibble: 6 × 12\n",
       "\n",
       "| cr_id_num &lt;chr[,1]&gt; | UID &lt;chr&gt; | dupe_count &lt;int&gt; | complaint_category &lt;chr&gt; | complaint_code &lt;chr&gt; | cr_id &lt;chr&gt; | cv &lt;chr&gt; | final_finding &lt;chr&gt; | final_outcome &lt;chr&gt; | recc_finding &lt;chr&gt; | recc_outcome &lt;chr&gt; | link_UID &lt;chr&gt; |\n",
       "|---|---|---|---|---|---|---|---|---|---|---|---|\n",
       "| 271834 | 110129.0 | 2 | OPERATION/PERSONNEL VIOLS.:  NEGLECT OF DUTY / CONDUCT UNBECOMING | 10J | C271834 | 1 | UN | NO ACTION TAKEN      | NA | NA              | 28000.0 |\n",
       "| 271834 | 110129.0 | 2 | NEGLECT OF DUTY/CONDUCT UNBECOMING - ON DUTY                      | 10J | 271834  | 2 | UN | No Action Taken      | UN | No Action Taken | 28000.0 |\n",
       "| 272173 | 123945.0 | 2 | POSITIVE DRUG SCREEN - OTHER PHYSICAL EXAM                        | 15H | C272173 | 1 | SU | RESIGNED -NOT SERVED | NA | NA              | 9695.0  |\n",
       "| 272173 | 123945.0 | 2 | POSITIVE DRUG SCREEN - OTHER PHYSICAL EXAM                        | 15H | 272173  | 2 | SU | Resigned             | SU | Separation      | 9695.0  |\n",
       "| 272341 | 117367.0 | 2 | VERBAL ABUSE - RACIAL/ETHNIC/ETC.                                 | 01B | C272341 | 1 | UN | NO ACTION TAKEN      | NA | NA              | 7226.0  |\n",
       "| 272341 | 117367.0 | 2 | RACIAL/ETHNIC, ETC.                                               | 01B | 272341  | 2 | NA | Unknown              | NA | Unknown         | 7226.0  |\n",
       "\n"
      ],
      "text/plain": [
       "  cr_id_num UID      dupe_count\n",
       "1 271834    110129.0 2         \n",
       "2 271834    110129.0 2         \n",
       "3 272173    123945.0 2         \n",
       "4 272173    123945.0 2         \n",
       "5 272341    117367.0 2         \n",
       "6 272341    117367.0 2         \n",
       "  complaint_category                                               \n",
       "1 OPERATION/PERSONNEL VIOLS.:  NEGLECT OF DUTY / CONDUCT UNBECOMING\n",
       "2 NEGLECT OF DUTY/CONDUCT UNBECOMING - ON DUTY                     \n",
       "3 POSITIVE DRUG SCREEN - OTHER PHYSICAL EXAM                       \n",
       "4 POSITIVE DRUG SCREEN - OTHER PHYSICAL EXAM                       \n",
       "5 VERBAL ABUSE - RACIAL/ETHNIC/ETC.                                \n",
       "6 RACIAL/ETHNIC, ETC.                                              \n",
       "  complaint_code cr_id   cv final_finding final_outcome        recc_finding\n",
       "1 10J            C271834 1  UN            NO ACTION TAKEN      NA          \n",
       "2 10J            271834  2  UN            No Action Taken      UN          \n",
       "3 15H            C272173 1  SU            RESIGNED -NOT SERVED NA          \n",
       "4 15H            272173  2  SU            Resigned             SU          \n",
       "5 01B            C272341 1  UN            NO ACTION TAKEN      NA          \n",
       "6 01B            272341  2  NA            Unknown              NA          \n",
       "  recc_outcome    link_UID\n",
       "1 NA              28000.0 \n",
       "2 No Action Taken 28000.0 \n",
       "3 NA              9695.0  \n",
       "4 Separation      9695.0  \n",
       "5 NA              7226.0  \n",
       "6 Unknown         7226.0  "
      ]
     },
     "metadata": {},
     "output_type": "display_data"
    }
   ],
   "source": [
    "## Check for duplicates in the accused dataset\n",
    "\n",
    "accused_duplicates <- accused_df %>% \n",
    "    mutate(cr_id_num = str_match(cr_id,\"[0-9]+\")) %>%\n",
    "    get_dupes(cr_id_num, UID)\n",
    "\n",
    "accused_duplicates %>%\n",
    "    nrow()\n",
    "\n",
    "head(accused_duplicates)\n",
    "tail(accused_duplicates)"
   ]
  },
  {
   "cell_type": "code",
   "execution_count": 6,
   "metadata": {},
   "outputs": [
    {
     "data": {
      "text/html": [
       "<table>\n",
       "<caption>A tibble: 3 × 2</caption>\n",
       "<thead>\n",
       "\t<tr><th scope=col>cv</th><th scope=col>n</th></tr>\n",
       "\t<tr><th scope=col>&lt;chr&gt;</th><th scope=col>&lt;int&gt;</th></tr>\n",
       "</thead>\n",
       "<tbody>\n",
       "\t<tr><td>1</td><td>117844</td></tr>\n",
       "\t<tr><td>2</td><td>125019</td></tr>\n",
       "\t<tr><td>3</td><td>  1573</td></tr>\n",
       "</tbody>\n",
       "</table>\n"
      ],
      "text/latex": [
       "A tibble: 3 × 2\n",
       "\\begin{tabular}{ll}\n",
       " cv & n\\\\\n",
       " <chr> & <int>\\\\\n",
       "\\hline\n",
       "\t 1 & 117844\\\\\n",
       "\t 2 & 125019\\\\\n",
       "\t 3 &   1573\\\\\n",
       "\\end{tabular}\n"
      ],
      "text/markdown": [
       "\n",
       "A tibble: 3 × 2\n",
       "\n",
       "| cv &lt;chr&gt; | n &lt;int&gt; |\n",
       "|---|---|\n",
       "| 1 | 117844 |\n",
       "| 2 | 125019 |\n",
       "| 3 |   1573 |\n",
       "\n"
      ],
      "text/plain": [
       "  cv n     \n",
       "1 1  117844\n",
       "2 2  125019\n",
       "3 3    1573"
      ]
     },
     "metadata": {},
     "output_type": "display_data"
    },
    {
     "data": {
      "text/html": [
       "<table>\n",
       "<caption>A tibble: 3 × 2</caption>\n",
       "<thead>\n",
       "\t<tr><th scope=col>cv</th><th scope=col>n</th></tr>\n",
       "\t<tr><th scope=col>&lt;chr&gt;</th><th scope=col>&lt;int&gt;</th></tr>\n",
       "</thead>\n",
       "<tbody>\n",
       "\t<tr><td>1</td><td>10054</td></tr>\n",
       "\t<tr><td>2</td><td> 9954</td></tr>\n",
       "\t<tr><td>3</td><td>  100</td></tr>\n",
       "</tbody>\n",
       "</table>\n"
      ],
      "text/latex": [
       "A tibble: 3 × 2\n",
       "\\begin{tabular}{ll}\n",
       " cv & n\\\\\n",
       " <chr> & <int>\\\\\n",
       "\\hline\n",
       "\t 1 & 10054\\\\\n",
       "\t 2 &  9954\\\\\n",
       "\t 3 &   100\\\\\n",
       "\\end{tabular}\n"
      ],
      "text/markdown": [
       "\n",
       "A tibble: 3 × 2\n",
       "\n",
       "| cv &lt;chr&gt; | n &lt;int&gt; |\n",
       "|---|---|\n",
       "| 1 | 10054 |\n",
       "| 2 |  9954 |\n",
       "| 3 |   100 |\n",
       "\n"
      ],
      "text/plain": [
       "  cv n    \n",
       "1 1  10054\n",
       "2 2   9954\n",
       "3 3    100"
      ]
     },
     "metadata": {},
     "output_type": "display_data"
    }
   ],
   "source": [
    "# what is cv column?  check if its related to the duplicates.   \n",
    "accused_df %>% \n",
    "    group_by(cv) %>%\n",
    "    tally()\n",
    "\n",
    "accused_duplicates %>%\n",
    "    group_by(cv) %>%\n",
    "    tally()"
   ]
  },
  {
   "cell_type": "markdown",
   "metadata": {},
   "source": [
    "Appears that all the duplicates are split between `cv == 1` (10054 records) and `cv == 2 | 3` (10054 records).   However there are other non-duplicate records where `cv == 2 | 3` in the imported dataset, so we can't filter only on `cv`.  By eyeballing the data, `cv==1` seems to have formatting that is more similar to the majority of the non-duplicate data. "
   ]
  },
  {
   "cell_type": "code",
   "execution_count": 7,
   "metadata": {},
   "outputs": [
    {
     "data": {
      "text/html": [
       "10054"
      ],
      "text/latex": [
       "10054"
      ],
      "text/markdown": [
       "10054"
      ],
      "text/plain": [
       "[1] 10054"
      ]
     },
     "metadata": {},
     "output_type": "display_data"
    }
   ],
   "source": [
    "## filter to include on `cv == 2|3` this will then be used to remove these records from the imported accused dataset\n",
    "accused_duplicates_to_remove <- accused_duplicates %>%\n",
    "    filter(cv == 2 | cv == 3)\n",
    "nrow(accused_duplicates_to_remove)"
   ]
  },
  {
   "cell_type": "code",
   "execution_count": 8,
   "metadata": {},
   "outputs": [],
   "source": [
    "# remove duplicate records from accused dataframe\n",
    "accused_df_deduplicated <- accused_df %>% \n",
    "    anti_join(accused_duplicates_to_remove, by = c(\"cr_id\", \"UID\"))"
   ]
  },
  {
   "cell_type": "code",
   "execution_count": 9,
   "metadata": {},
   "outputs": [
    {
     "data": {
      "text/html": [
       "10054"
      ],
      "text/latex": [
       "10054"
      ],
      "text/markdown": [
       "10054"
      ],
      "text/plain": [
       "[1] 10054"
      ]
     },
     "metadata": {},
     "output_type": "display_data"
    }
   ],
   "source": [
    "# confirm removed expected number of rows\n",
    "nrow(accused_df) - nrow(accused_df_deduplicated)"
   ]
  },
  {
   "cell_type": "markdown",
   "metadata": {},
   "source": [
    "#### Complaints Dataframe"
   ]
  },
  {
   "cell_type": "code",
   "execution_count": 10,
   "metadata": {},
   "outputs": [
    {
     "data": {
      "text/html": [
       "12872"
      ],
      "text/latex": [
       "12872"
      ],
      "text/markdown": [
       "12872"
      ],
      "text/plain": [
       "[1] 12872"
      ]
     },
     "metadata": {},
     "output_type": "display_data"
    },
    {
     "data": {
      "text/html": [
       "<table>\n",
       "<caption>A tibble: 6 × 13</caption>\n",
       "<thead>\n",
       "\t<tr><th scope=col>cr_id_num</th><th scope=col>dupe_count</th><th scope=col>cr_id</th><th scope=col>cv</th><th scope=col>incident_date</th><th scope=col>complaint_date</th><th scope=col>closed_date</th><th scope=col>add1</th><th scope=col>add2</th><th scope=col>beat</th><th scope=col>city</th><th scope=col>full_address</th><th scope=col>location</th></tr>\n",
       "\t<tr><th scope=col>&lt;chr[,1]&gt;</th><th scope=col>&lt;int&gt;</th><th scope=col>&lt;chr&gt;</th><th scope=col>&lt;chr&gt;</th><th scope=col>&lt;chr&gt;</th><th scope=col>&lt;chr&gt;</th><th scope=col>&lt;chr&gt;</th><th scope=col>&lt;chr&gt;</th><th scope=col>&lt;chr&gt;</th><th scope=col>&lt;chr&gt;</th><th scope=col>&lt;chr&gt;</th><th scope=col>&lt;chr&gt;</th><th scope=col>&lt;chr&gt;</th></tr>\n",
       "</thead>\n",
       "<tbody>\n",
       "\t<tr><td>258959</td><td>2</td><td>258959 </td><td>3</td><td>1999-12-27</td><td>2000-01-03</td><td>NA        </td><td>NA  </td><td>? 004TH DIST    </td><td>411.0 </td><td>CHICAGO ILLINOIS</td><td>NA                              </td><td>POLICE FACILITY/VEH PARKING LOT</td></tr>\n",
       "\t<tr><td>258959</td><td>2</td><td>C258959</td><td>1</td><td>1999-12-27</td><td>1999-12-30</td><td>2000-12-05</td><td>NA  </td><td>NA              </td><td>NA    </td><td>NA              </td><td>004TH DISTRICT                  </td><td>NA                             </td></tr>\n",
       "\t<tr><td>258960</td><td>2</td><td>258960 </td><td>3</td><td>1999-12-29</td><td>2000-01-03</td><td>NA        </td><td>113 </td><td>West CHICAGO AVE</td><td>1832.0</td><td>CHICAGO ILLINOIS</td><td>NA                              </td><td>POLICE FACILITY/VEH PARKING LOT</td></tr>\n",
       "\t<tr><td>258960</td><td>2</td><td>C258960</td><td>1</td><td>1999-12-29</td><td>1999-12-30</td><td>2000-10-07</td><td>NA  </td><td>NA              </td><td>NA    </td><td>NA              </td><td>1** W CHICAGO AVE 018TH DISTRICT</td><td>NA                             </td></tr>\n",
       "\t<tr><td>258961</td><td>2</td><td>258961 </td><td>3</td><td>1999-03-27</td><td>2000-01-03</td><td>NA        </td><td>5400</td><td>West HIGGINS    </td><td>1623.0</td><td>CHICAGO ILLINOIS</td><td>NA                              </td><td>STREET                         </td></tr>\n",
       "\t<tr><td>258961</td><td>2</td><td>C258961</td><td>1</td><td>1999-12-27</td><td>1999-12-30</td><td>2000-04-19</td><td>NA  </td><td>NA              </td><td>NA    </td><td>NA              </td><td>54** W HIGGINS                  </td><td>NA                             </td></tr>\n",
       "</tbody>\n",
       "</table>\n"
      ],
      "text/latex": [
       "A tibble: 6 × 13\n",
       "\\begin{tabular}{lllllllllllll}\n",
       " cr\\_id\\_num & dupe\\_count & cr\\_id & cv & incident\\_date & complaint\\_date & closed\\_date & add1 & add2 & beat & city & full\\_address & location\\\\\n",
       " <chr{[},1{]}> & <int> & <chr> & <chr> & <chr> & <chr> & <chr> & <chr> & <chr> & <chr> & <chr> & <chr> & <chr>\\\\\n",
       "\\hline\n",
       "\t 258959 & 2 & 258959  & 3 & 1999-12-27 & 2000-01-03 & NA         & NA   & ? 004TH DIST     & 411.0  & CHICAGO ILLINOIS & NA                               & POLICE FACILITY/VEH PARKING LOT\\\\\n",
       "\t 258959 & 2 & C258959 & 1 & 1999-12-27 & 1999-12-30 & 2000-12-05 & NA   & NA               & NA     & NA               & 004TH DISTRICT                   & NA                             \\\\\n",
       "\t 258960 & 2 & 258960  & 3 & 1999-12-29 & 2000-01-03 & NA         & 113  & West CHICAGO AVE & 1832.0 & CHICAGO ILLINOIS & NA                               & POLICE FACILITY/VEH PARKING LOT\\\\\n",
       "\t 258960 & 2 & C258960 & 1 & 1999-12-29 & 1999-12-30 & 2000-10-07 & NA   & NA               & NA     & NA               & 1** W CHICAGO AVE 018TH DISTRICT & NA                             \\\\\n",
       "\t 258961 & 2 & 258961  & 3 & 1999-03-27 & 2000-01-03 & NA         & 5400 & West HIGGINS     & 1623.0 & CHICAGO ILLINOIS & NA                               & STREET                         \\\\\n",
       "\t 258961 & 2 & C258961 & 1 & 1999-12-27 & 1999-12-30 & 2000-04-19 & NA   & NA               & NA     & NA               & 54** W HIGGINS                   & NA                             \\\\\n",
       "\\end{tabular}\n"
      ],
      "text/markdown": [
       "\n",
       "A tibble: 6 × 13\n",
       "\n",
       "| cr_id_num &lt;chr[,1]&gt; | dupe_count &lt;int&gt; | cr_id &lt;chr&gt; | cv &lt;chr&gt; | incident_date &lt;chr&gt; | complaint_date &lt;chr&gt; | closed_date &lt;chr&gt; | add1 &lt;chr&gt; | add2 &lt;chr&gt; | beat &lt;chr&gt; | city &lt;chr&gt; | full_address &lt;chr&gt; | location &lt;chr&gt; |\n",
       "|---|---|---|---|---|---|---|---|---|---|---|---|---|\n",
       "| 258959 | 2 | 258959  | 3 | 1999-12-27 | 2000-01-03 | NA         | NA   | ? 004TH DIST     | 411.0  | CHICAGO ILLINOIS | NA                               | POLICE FACILITY/VEH PARKING LOT |\n",
       "| 258959 | 2 | C258959 | 1 | 1999-12-27 | 1999-12-30 | 2000-12-05 | NA   | NA               | NA     | NA               | 004TH DISTRICT                   | NA                              |\n",
       "| 258960 | 2 | 258960  | 3 | 1999-12-29 | 2000-01-03 | NA         | 113  | West CHICAGO AVE | 1832.0 | CHICAGO ILLINOIS | NA                               | POLICE FACILITY/VEH PARKING LOT |\n",
       "| 258960 | 2 | C258960 | 1 | 1999-12-29 | 1999-12-30 | 2000-10-07 | NA   | NA               | NA     | NA               | 1** W CHICAGO AVE 018TH DISTRICT | NA                              |\n",
       "| 258961 | 2 | 258961  | 3 | 1999-03-27 | 2000-01-03 | NA         | 5400 | West HIGGINS     | 1623.0 | CHICAGO ILLINOIS | NA                               | STREET                          |\n",
       "| 258961 | 2 | C258961 | 1 | 1999-12-27 | 1999-12-30 | 2000-04-19 | NA   | NA               | NA     | NA               | 54** W HIGGINS                   | NA                              |\n",
       "\n"
      ],
      "text/plain": [
       "  cr_id_num dupe_count cr_id   cv incident_date complaint_date closed_date add1\n",
       "1 258959    2          258959  3  1999-12-27    2000-01-03     NA          NA  \n",
       "2 258959    2          C258959 1  1999-12-27    1999-12-30     2000-12-05  NA  \n",
       "3 258960    2          258960  3  1999-12-29    2000-01-03     NA          113 \n",
       "4 258960    2          C258960 1  1999-12-29    1999-12-30     2000-10-07  NA  \n",
       "5 258961    2          258961  3  1999-03-27    2000-01-03     NA          5400\n",
       "6 258961    2          C258961 1  1999-12-27    1999-12-30     2000-04-19  NA  \n",
       "  add2             beat   city             full_address                    \n",
       "1 ? 004TH DIST     411.0  CHICAGO ILLINOIS NA                              \n",
       "2 NA               NA     NA               004TH DISTRICT                  \n",
       "3 West CHICAGO AVE 1832.0 CHICAGO ILLINOIS NA                              \n",
       "4 NA               NA     NA               1** W CHICAGO AVE 018TH DISTRICT\n",
       "5 West HIGGINS     1623.0 CHICAGO ILLINOIS NA                              \n",
       "6 NA               NA     NA               54** W HIGGINS                  \n",
       "  location                       \n",
       "1 POLICE FACILITY/VEH PARKING LOT\n",
       "2 NA                             \n",
       "3 POLICE FACILITY/VEH PARKING LOT\n",
       "4 NA                             \n",
       "5 STREET                         \n",
       "6 NA                             "
      ]
     },
     "metadata": {},
     "output_type": "display_data"
    },
    {
     "data": {
      "text/html": [
       "<table>\n",
       "<caption>A tibble: 6 × 13</caption>\n",
       "<thead>\n",
       "\t<tr><th scope=col>cr_id_num</th><th scope=col>dupe_count</th><th scope=col>cr_id</th><th scope=col>cv</th><th scope=col>incident_date</th><th scope=col>complaint_date</th><th scope=col>closed_date</th><th scope=col>add1</th><th scope=col>add2</th><th scope=col>beat</th><th scope=col>city</th><th scope=col>full_address</th><th scope=col>location</th></tr>\n",
       "\t<tr><th scope=col>&lt;chr[,1]&gt;</th><th scope=col>&lt;int&gt;</th><th scope=col>&lt;chr&gt;</th><th scope=col>&lt;chr&gt;</th><th scope=col>&lt;chr&gt;</th><th scope=col>&lt;chr&gt;</th><th scope=col>&lt;chr&gt;</th><th scope=col>&lt;chr&gt;</th><th scope=col>&lt;chr&gt;</th><th scope=col>&lt;chr&gt;</th><th scope=col>&lt;chr&gt;</th><th scope=col>&lt;chr&gt;</th><th scope=col>&lt;chr&gt;</th></tr>\n",
       "</thead>\n",
       "<tbody>\n",
       "\t<tr><td>272342</td><td>2</td><td>272342 </td><td>2</td><td>2001-05-24</td><td>2001-06-20</td><td>2001-07-25</td><td>11948</td><td>S HALSTED    </td><td>NA  </td><td>CHICAGO IL</td><td>NA               </td><td>17</td></tr>\n",
       "\t<tr><td>272342</td><td>2</td><td>C272342</td><td>1</td><td>2001-05-24</td><td>2001-06-20</td><td>2001-07-25</td><td>NA   </td><td>NA           </td><td>NA  </td><td>NA        </td><td>119** S HALSTED  </td><td>NA</td></tr>\n",
       "\t<tr><td>273137</td><td>2</td><td>273137 </td><td>2</td><td>2001-07-16</td><td>2001-07-17</td><td>2001-08-01</td><td>7900 </td><td>S MARYLAND AV</td><td>0624</td><td>CHICAGO IL</td><td>NA               </td><td>17</td></tr>\n",
       "\t<tr><td>273137</td><td>2</td><td>C273137</td><td>1</td><td>2001-07-16</td><td>2001-07-17</td><td>2001-08-01</td><td>NA   </td><td>NA           </td><td>NA  </td><td>NA        </td><td>79** S MARYLAND  </td><td>NA</td></tr>\n",
       "\t<tr><td>273491</td><td>2</td><td>273491 </td><td>2</td><td>2001-07-26</td><td>2001-07-30</td><td>2001-08-01</td><td>---- </td><td>NA           </td><td>1614</td><td>NA        </td><td>NA               </td><td>19</td></tr>\n",
       "\t<tr><td>273491</td><td>2</td><td>C273491</td><td>1</td><td>2001-07-26</td><td>2001-07-31</td><td>2001-08-01</td><td>NA   </td><td>NA           </td><td>NA  </td><td>NA        </td><td>54** N EAST RIVER</td><td>NA</td></tr>\n",
       "</tbody>\n",
       "</table>\n"
      ],
      "text/latex": [
       "A tibble: 6 × 13\n",
       "\\begin{tabular}{lllllllllllll}\n",
       " cr\\_id\\_num & dupe\\_count & cr\\_id & cv & incident\\_date & complaint\\_date & closed\\_date & add1 & add2 & beat & city & full\\_address & location\\\\\n",
       " <chr{[},1{]}> & <int> & <chr> & <chr> & <chr> & <chr> & <chr> & <chr> & <chr> & <chr> & <chr> & <chr> & <chr>\\\\\n",
       "\\hline\n",
       "\t 272342 & 2 & 272342  & 2 & 2001-05-24 & 2001-06-20 & 2001-07-25 & 11948 & S HALSTED     & NA   & CHICAGO IL & NA                & 17\\\\\n",
       "\t 272342 & 2 & C272342 & 1 & 2001-05-24 & 2001-06-20 & 2001-07-25 & NA    & NA            & NA   & NA         & 119** S HALSTED   & NA\\\\\n",
       "\t 273137 & 2 & 273137  & 2 & 2001-07-16 & 2001-07-17 & 2001-08-01 & 7900  & S MARYLAND AV & 0624 & CHICAGO IL & NA                & 17\\\\\n",
       "\t 273137 & 2 & C273137 & 1 & 2001-07-16 & 2001-07-17 & 2001-08-01 & NA    & NA            & NA   & NA         & 79** S MARYLAND   & NA\\\\\n",
       "\t 273491 & 2 & 273491  & 2 & 2001-07-26 & 2001-07-30 & 2001-08-01 & ----  & NA            & 1614 & NA         & NA                & 19\\\\\n",
       "\t 273491 & 2 & C273491 & 1 & 2001-07-26 & 2001-07-31 & 2001-08-01 & NA    & NA            & NA   & NA         & 54** N EAST RIVER & NA\\\\\n",
       "\\end{tabular}\n"
      ],
      "text/markdown": [
       "\n",
       "A tibble: 6 × 13\n",
       "\n",
       "| cr_id_num &lt;chr[,1]&gt; | dupe_count &lt;int&gt; | cr_id &lt;chr&gt; | cv &lt;chr&gt; | incident_date &lt;chr&gt; | complaint_date &lt;chr&gt; | closed_date &lt;chr&gt; | add1 &lt;chr&gt; | add2 &lt;chr&gt; | beat &lt;chr&gt; | city &lt;chr&gt; | full_address &lt;chr&gt; | location &lt;chr&gt; |\n",
       "|---|---|---|---|---|---|---|---|---|---|---|---|---|\n",
       "| 272342 | 2 | 272342  | 2 | 2001-05-24 | 2001-06-20 | 2001-07-25 | 11948 | S HALSTED     | NA   | CHICAGO IL | NA                | 17 |\n",
       "| 272342 | 2 | C272342 | 1 | 2001-05-24 | 2001-06-20 | 2001-07-25 | NA    | NA            | NA   | NA         | 119** S HALSTED   | NA |\n",
       "| 273137 | 2 | 273137  | 2 | 2001-07-16 | 2001-07-17 | 2001-08-01 | 7900  | S MARYLAND AV | 0624 | CHICAGO IL | NA                | 17 |\n",
       "| 273137 | 2 | C273137 | 1 | 2001-07-16 | 2001-07-17 | 2001-08-01 | NA    | NA            | NA   | NA         | 79** S MARYLAND   | NA |\n",
       "| 273491 | 2 | 273491  | 2 | 2001-07-26 | 2001-07-30 | 2001-08-01 | ----  | NA            | 1614 | NA         | NA                | 19 |\n",
       "| 273491 | 2 | C273491 | 1 | 2001-07-26 | 2001-07-31 | 2001-08-01 | NA    | NA            | NA   | NA         | 54** N EAST RIVER | NA |\n",
       "\n"
      ],
      "text/plain": [
       "  cr_id_num dupe_count cr_id   cv incident_date complaint_date closed_date\n",
       "1 272342    2          272342  2  2001-05-24    2001-06-20     2001-07-25 \n",
       "2 272342    2          C272342 1  2001-05-24    2001-06-20     2001-07-25 \n",
       "3 273137    2          273137  2  2001-07-16    2001-07-17     2001-08-01 \n",
       "4 273137    2          C273137 1  2001-07-16    2001-07-17     2001-08-01 \n",
       "5 273491    2          273491  2  2001-07-26    2001-07-30     2001-08-01 \n",
       "6 273491    2          C273491 1  2001-07-26    2001-07-31     2001-08-01 \n",
       "  add1  add2          beat city       full_address      location\n",
       "1 11948 S HALSTED     NA   CHICAGO IL NA                17      \n",
       "2 NA    NA            NA   NA         119** S HALSTED   NA      \n",
       "3 7900  S MARYLAND AV 0624 CHICAGO IL NA                17      \n",
       "4 NA    NA            NA   NA         79** S MARYLAND   NA      \n",
       "5 ----  NA            1614 NA         NA                19      \n",
       "6 NA    NA            NA   NA         54** N EAST RIVER NA      "
      ]
     },
     "metadata": {},
     "output_type": "display_data"
    }
   ],
   "source": [
    "## Check for duplicates in the complaints dataset\n",
    "\n",
    "complaints_duplicates <- complaints_df %>% \n",
    "    mutate(cr_id_num = str_match(cr_id,\"[0-9]+\")) %>%\n",
    "    get_dupes(cr_id_num)\n",
    "\n",
    "nrow(complaints_duplicates)\n",
    "head(complaints_duplicates)\n",
    "tail(complaints_duplicates)"
   ]
  },
  {
   "cell_type": "code",
   "execution_count": 11,
   "metadata": {},
   "outputs": [
    {
     "data": {
      "text/html": [
       "<table>\n",
       "<caption>A tibble: 3 × 2</caption>\n",
       "<thead>\n",
       "\t<tr><th scope=col>cv</th><th scope=col>n</th></tr>\n",
       "\t<tr><th scope=col>&lt;chr&gt;</th><th scope=col>&lt;int&gt;</th></tr>\n",
       "</thead>\n",
       "<tbody>\n",
       "\t<tr><td>1</td><td> 70302</td></tr>\n",
       "\t<tr><td>2</td><td>108923</td></tr>\n",
       "\t<tr><td>3</td><td>  2187</td></tr>\n",
       "</tbody>\n",
       "</table>\n"
      ],
      "text/latex": [
       "A tibble: 3 × 2\n",
       "\\begin{tabular}{ll}\n",
       " cv & n\\\\\n",
       " <chr> & <int>\\\\\n",
       "\\hline\n",
       "\t 1 &  70302\\\\\n",
       "\t 2 & 108923\\\\\n",
       "\t 3 &   2187\\\\\n",
       "\\end{tabular}\n"
      ],
      "text/markdown": [
       "\n",
       "A tibble: 3 × 2\n",
       "\n",
       "| cv &lt;chr&gt; | n &lt;int&gt; |\n",
       "|---|---|\n",
       "| 1 |  70302 |\n",
       "| 2 | 108923 |\n",
       "| 3 |   2187 |\n",
       "\n"
      ],
      "text/plain": [
       "  cv n     \n",
       "1 1   70302\n",
       "2 2  108923\n",
       "3 3    2187"
      ]
     },
     "metadata": {},
     "output_type": "display_data"
    },
    {
     "data": {
      "text/html": [
       "<table>\n",
       "<caption>A tibble: 3 × 2</caption>\n",
       "<thead>\n",
       "\t<tr><th scope=col>cv</th><th scope=col>n</th></tr>\n",
       "\t<tr><th scope=col>&lt;chr&gt;</th><th scope=col>&lt;int&gt;</th></tr>\n",
       "</thead>\n",
       "<tbody>\n",
       "\t<tr><td>1</td><td>6436</td></tr>\n",
       "\t<tr><td>2</td><td>6245</td></tr>\n",
       "\t<tr><td>3</td><td> 191</td></tr>\n",
       "</tbody>\n",
       "</table>\n"
      ],
      "text/latex": [
       "A tibble: 3 × 2\n",
       "\\begin{tabular}{ll}\n",
       " cv & n\\\\\n",
       " <chr> & <int>\\\\\n",
       "\\hline\n",
       "\t 1 & 6436\\\\\n",
       "\t 2 & 6245\\\\\n",
       "\t 3 &  191\\\\\n",
       "\\end{tabular}\n"
      ],
      "text/markdown": [
       "\n",
       "A tibble: 3 × 2\n",
       "\n",
       "| cv &lt;chr&gt; | n &lt;int&gt; |\n",
       "|---|---|\n",
       "| 1 | 6436 |\n",
       "| 2 | 6245 |\n",
       "| 3 |  191 |\n",
       "\n"
      ],
      "text/plain": [
       "  cv n   \n",
       "1 1  6436\n",
       "2 2  6245\n",
       "3 3   191"
      ]
     },
     "metadata": {},
     "output_type": "display_data"
    }
   ],
   "source": [
    "# explore cv counts\n",
    "complaints_df %>% \n",
    "    group_by(cv) %>%\n",
    "    tally()\n",
    "\n",
    "complaints_duplicates %>% \n",
    "    group_by(cv) %>%\n",
    "    tally()"
   ]
  },
  {
   "cell_type": "markdown",
   "metadata": {},
   "source": [
    "We see a similar pattern with the complaints dataframe.  Exclude duplicates with `cv == 2|3` for consistency"
   ]
  },
  {
   "cell_type": "code",
   "execution_count": 12,
   "metadata": {},
   "outputs": [
    {
     "data": {
      "text/html": [
       "6436"
      ],
      "text/latex": [
       "6436"
      ],
      "text/markdown": [
       "6436"
      ],
      "text/plain": [
       "[1] 6436"
      ]
     },
     "metadata": {},
     "output_type": "display_data"
    }
   ],
   "source": [
    "## filter to include on `cv == 2|3` this will then be used to remove these records from the imported complaints dataset\n",
    "complaints_duplicates_to_remove <- complaints_duplicates %>%\n",
    "    filter(cv == 2 | cv == 3)\n",
    "nrow(complaints_duplicates_to_remove)"
   ]
  },
  {
   "cell_type": "code",
   "execution_count": 13,
   "metadata": {},
   "outputs": [],
   "source": [
    "# remove duplicate records from complaints dataframe\n",
    "complaints_df_deduplicated <- complaints_df %>% \n",
    "    anti_join(complaints_duplicates_to_remove, by = c(\"cr_id\"))"
   ]
  },
  {
   "cell_type": "code",
   "execution_count": 14,
   "metadata": {},
   "outputs": [
    {
     "data": {
      "text/html": [
       "6436"
      ],
      "text/latex": [
       "6436"
      ],
      "text/markdown": [
       "6436"
      ],
      "text/plain": [
       "[1] 6436"
      ]
     },
     "metadata": {},
     "output_type": "display_data"
    }
   ],
   "source": [
    "# confirm removed expected number of rows\n",
    "nrow(complaints_df) - nrow(complaints_df_deduplicated)"
   ]
  },
  {
   "cell_type": "markdown",
   "metadata": {},
   "source": [
    "### Demographics Dataframe "
   ]
  },
  {
   "cell_type": "code",
   "execution_count": 21,
   "metadata": {},
   "outputs": [],
   "source": [
    "# Code to clean demographics dataframe \n",
    "# Note 1: only relevant columns were selected\n",
    "# Note 2: Org_start_date = date as officer, start_date = date as officer in CPD.\n",
    "\n",
    "demographics_df <- demographics_df %>%  \n",
    "    select(UID, link_UID, race, gender, birth_year, cleaned_rank, \n",
    "           org_hire_date, start_date, resignation_date) %>% \n",
    "    mutate(birth_year = as.numeric(birth_year),\n",
    "           org_hire_date= ymd( org_hire_date),\n",
    "           start_date= ymd(start_date),\n",
    "           resignation_date= ymd(resignation_date))\n",
    "  "
   ]
  },
  {
   "cell_type": "markdown",
   "metadata": {},
   "source": [
    "## Join Dataframes"
   ]
  },
  {
   "cell_type": "code",
   "execution_count": 15,
   "metadata": {},
   "outputs": [],
   "source": [
    "# Join complaints, modify datatypes & filter on years of interest\n",
    "complaints_joined = left_join(accused_df_deduplicated, complaints_df_deduplicated, by = 'cr_id')\n",
    "\n",
    "complaints_joined <- complaints_joined %>%\n",
    "     mutate(incident_date = ymd(incident_date),\n",
    "           complaint_date = ymd(complaint_date),\n",
    "           closed_date = ymd(closed_date),\n",
    "           incident_year = year(incident_date)) %>%\n",
    "    filter(incident_year >= 2005, incident_year <= 2015)"
   ]
  },
  {
   "cell_type": "code",
   "execution_count": 16,
   "metadata": {},
   "outputs": [
    {
     "name": "stdout",
     "output_type": "stream",
     "text": [
      "Rows: 73,196\n",
      "Columns: 21\n",
      "$ UID                \u001b[3m\u001b[90m<chr>\u001b[39m\u001b[23m \"109751.0\", \"128710.0\", \"103450.0\", \"109967.0\", ...\n",
      "$ complaint_category \u001b[3m\u001b[90m<chr>\u001b[39m\u001b[23m \"EXCESSIVE FORCE:  NO ARREST\", \"OPERATION/PERSON...\n",
      "$ complaint_code     \u001b[3m\u001b[90m<chr>\u001b[39m\u001b[23m \"05D\", \"10J\", \"08F\", \"10J\", \"05P\", \"03C\", \"05D\",...\n",
      "$ cr_id              \u001b[3m\u001b[90m<chr>\u001b[39m\u001b[23m \"C192008\", \"C193775\", \"C236112\", \"C262759\", \"C26...\n",
      "$ cv.x               \u001b[3m\u001b[90m<chr>\u001b[39m\u001b[23m \"1\", \"1\", \"1\", \"1\", \"1\", \"1\", \"2\", \"2\", \"2\", \"2\"...\n",
      "$ final_finding      \u001b[3m\u001b[90m<chr>\u001b[39m\u001b[23m \"UN\", \"UN\", \"NS\", \"SU\", \"NS\", \"UN\", \"NS\", \"NS\", ...\n",
      "$ final_outcome      \u001b[3m\u001b[90m<chr>\u001b[39m\u001b[23m \"NO ACTION TAKEN\", \"NO ACTION TAKEN\", \"NO ACTION...\n",
      "$ recc_finding       \u001b[3m\u001b[90m<chr>\u001b[39m\u001b[23m NA, NA, NA, NA, NA, NA, \"NS\", \"NS\", \"NS\", \"UN\", ...\n",
      "$ recc_outcome       \u001b[3m\u001b[90m<chr>\u001b[39m\u001b[23m NA, NA, NA, NA, NA, NA, \"No Action Taken\", \"No A...\n",
      "$ link_UID           \u001b[3m\u001b[90m<chr>\u001b[39m\u001b[23m \"24251.0\", \"2574.0\", \"2910.0\", \"31650.0\", \"13397...\n",
      "$ cv.y               \u001b[3m\u001b[90m<chr>\u001b[39m\u001b[23m \"1\", \"1\", \"1\", \"1\", \"1\", \"1\", \"2\", \"2\", \"2\", \"2\"...\n",
      "$ incident_date      \u001b[3m\u001b[90m<date>\u001b[39m\u001b[23m 2009-05-03, 2011-07-17, 2007-04-03, 2009-06-02,...\n",
      "$ complaint_date     \u001b[3m\u001b[90m<date>\u001b[39m\u001b[23m 1992-05-03, 1992-07-21, 1997-04-16, 2000-06-02,...\n",
      "$ closed_date        \u001b[3m\u001b[90m<date>\u001b[39m\u001b[23m 1992-07-07, 1992-11-30, 2000-09-14, 2001-07-31,...\n",
      "$ add1               \u001b[3m\u001b[90m<chr>\u001b[39m\u001b[23m NA, NA, NA, NA, NA, NA, \"----\", \"----\", \"----\", ...\n",
      "$ add2               \u001b[3m\u001b[90m<chr>\u001b[39m\u001b[23m NA, NA, NA, NA, NA, NA, NA, NA, NA, NA, NA, NA, ...\n",
      "$ beat               \u001b[3m\u001b[90m<chr>\u001b[39m\u001b[23m NA, NA, NA, NA, NA, NA, \"0523\", \"0523\", \"0523\", ...\n",
      "$ city               \u001b[3m\u001b[90m<chr>\u001b[39m\u001b[23m NA, NA, NA, NA, NA, NA, NA, NA, NA, NA, NA, NA, ...\n",
      "$ full_address       \u001b[3m\u001b[90m<chr>\u001b[39m\u001b[23m \"70TH AND RACINE ON THE STREET\", \"3** NORTH RAND...\n",
      "$ location           \u001b[3m\u001b[90m<chr>\u001b[39m\u001b[23m NA, NA, NA, NA, NA, NA, \"19\", \"19\", \"19\", \"19\", ...\n",
      "$ incident_year      \u001b[3m\u001b[90m<dbl>\u001b[39m\u001b[23m 2009, 2011, 2007, 2009, 2009, 2010, 2005, 2005, ...\n"
     ]
    }
   ],
   "source": [
    "# Examine all columns of merged dataframe\n",
    "glimpse(complaints_joined)"
   ]
  },
  {
   "cell_type": "code",
   "execution_count": 17,
   "metadata": {},
   "outputs": [],
   "source": [
    "# why are some of the cv different?  still unclear what this field is or if it matters\n",
    "\n",
    "\n",
    "# complaints_joined %>%\n",
    "#     filter(cv.x != cv.y) %>%\n",
    "#     glimpse()"
   ]
  },
  {
   "cell_type": "code",
   "execution_count": 17,
   "metadata": {},
   "outputs": [
    {
     "name": "stdout",
     "output_type": "stream",
     "text": [
      "Rows: 211,112\n",
      "Columns: 8\n",
      "$ UID          \u001b[3m\u001b[90m<chr>\u001b[39m\u001b[23m \"100011.0\", \"100013.0\", \"100014.0\", \"100027.0\", \"10004...\n",
      "$ pay_grade    \u001b[3m\u001b[90m<chr>\u001b[39m\u001b[23m \"E|3\", \"E|3\", \"D|2A\", \"E|3\", \"D|2\", \"D|2\", \"E|3\", \"E|3...\n",
      "$ rank         \u001b[3m\u001b[90m<chr>\u001b[39m\u001b[23m \"SERGEANT\", \"SERGEANT\", \"POLICE OFFICER (ASSIGNED AS D...\n",
      "$ salary       \u001b[3m\u001b[90m<chr>\u001b[39m\u001b[23m \"101442.0\", \"111474.0\", \"76446.0\", \"98184.0\", \"61518.0...\n",
      "$ year         \u001b[3m\u001b[90m<chr>\u001b[39m\u001b[23m \"2016.0\", \"2016.0\", \"2007.0\", \"2016.0\", \"2004.0\", \"201...\n",
      "$ spp_date     \u001b[3m\u001b[90m<chr>\u001b[39m\u001b[23m \"2016-02-01\", \"2016-06-01\", \"2007-04-01\", \"2016-06-01\"...\n",
      "$ cleaned_rank \u001b[3m\u001b[90m<chr>\u001b[39m\u001b[23m \"SERGEANT\", \"SERGEANT\", \"DETECTIVE\", \"SERGEANT\", \"POLI...\n",
      "$ link_UID     \u001b[3m\u001b[90m<chr>\u001b[39m\u001b[23m \"3978.0\", \"4443.0\", \"4879.0\", \"16115.0\", \"38.0\", \"9432...\n"
     ]
    }
   ],
   "source": [
    "glimpse(salary_df)"
   ]
  },
  {
   "cell_type": "code",
   "execution_count": 18,
   "metadata": {},
   "outputs": [
    {
     "name": "stdout",
     "output_type": "stream",
     "text": [
      "Rows: 174,319\n",
      "Columns: 26\n",
      "$ UID                \u001b[3m\u001b[90m<chr>\u001b[39m\u001b[23m \"100014.0\", \"100054.0\", \"100056.0\", \"100062.0\", ...\n",
      "$ pay_grade          \u001b[3m\u001b[90m<chr>\u001b[39m\u001b[23m \"D|2A\", \"D|2\", \"E|3\", \"D|2A\", \"E|3\", \"E|3\", \"E|3...\n",
      "$ rank               \u001b[3m\u001b[90m<chr>\u001b[39m\u001b[23m \"POLICE OFFICER (ASSIGNED AS DETECTIVE)\", \"POLIC...\n",
      "$ salary             \u001b[3m\u001b[90m<dbl>\u001b[39m\u001b[23m 76446, 87048, 99444, 90540, 99756, 97212, 82152,...\n",
      "$ year               \u001b[3m\u001b[90m<dbl>\u001b[39m\u001b[23m 2007, 2011, 2014, 2013, 2012, 2015, 2008, 2013, ...\n",
      "$ spp_date           \u001b[3m\u001b[90m<date>\u001b[39m\u001b[23m 2007-04-01, 2011-06-16, 2014-06-16, 2013-02-16,...\n",
      "$ cleaned_rank       \u001b[3m\u001b[90m<chr>\u001b[39m\u001b[23m \"DETECTIVE\", \"POLICE OFFICER\", \"SERGEANT\", \"DETE...\n",
      "$ link_UID           \u001b[3m\u001b[90m<chr>\u001b[39m\u001b[23m \"4879.0\", \"9432.0\", \"21388.0\", \"24345.0\", \"11942...\n",
      "$ complaint_category \u001b[3m\u001b[90m<chr>\u001b[39m\u001b[23m NA, NA, NA, \"ALTERCATION/DISTURBANCE - TRAFFIC\",...\n",
      "$ complaint_code     \u001b[3m\u001b[90m<chr>\u001b[39m\u001b[23m NA, NA, NA, \"09C\", NA, NA, NA, NA, NA, NA, NA, \"...\n",
      "$ cr_id              \u001b[3m\u001b[90m<chr>\u001b[39m\u001b[23m NA, NA, NA, \"1065568\", NA, NA, NA, NA, NA, NA, N...\n",
      "$ cv.x               \u001b[3m\u001b[90m<chr>\u001b[39m\u001b[23m NA, NA, NA, \"2\", NA, NA, NA, NA, NA, NA, NA, \"2\"...\n",
      "$ final_finding      \u001b[3m\u001b[90m<chr>\u001b[39m\u001b[23m NA, NA, NA, \"NAF\", NA, NA, NA, NA, NA, NA, NA, \"...\n",
      "$ final_outcome      \u001b[3m\u001b[90m<chr>\u001b[39m\u001b[23m NA, NA, NA, \"No Action Taken\", NA, NA, NA, NA, N...\n",
      "$ recc_finding       \u001b[3m\u001b[90m<chr>\u001b[39m\u001b[23m NA, NA, NA, \"NAF\", NA, NA, NA, NA, NA, NA, NA, \"...\n",
      "$ recc_outcome       \u001b[3m\u001b[90m<chr>\u001b[39m\u001b[23m NA, NA, NA, \"No Action Taken\", NA, NA, NA, NA, N...\n",
      "$ cv.y               \u001b[3m\u001b[90m<chr>\u001b[39m\u001b[23m NA, NA, NA, \"2\", NA, NA, NA, NA, NA, NA, NA, \"2\"...\n",
      "$ incident_date      \u001b[3m\u001b[90m<date>\u001b[39m\u001b[23m NA, NA, NA, 2013-09-29, NA, NA, NA, NA, NA, NA,...\n",
      "$ complaint_date     \u001b[3m\u001b[90m<date>\u001b[39m\u001b[23m NA, NA, NA, 2013-10-17, NA, NA, NA, NA, NA, NA,...\n",
      "$ closed_date        \u001b[3m\u001b[90m<date>\u001b[39m\u001b[23m NA, NA, NA, 2014-02-21, NA, NA, NA, NA, NA, NA,...\n",
      "$ add1               \u001b[3m\u001b[90m<chr>\u001b[39m\u001b[23m NA, NA, NA, \"5747\", NA, NA, NA, NA, NA, NA, NA, ...\n",
      "$ add2               \u001b[3m\u001b[90m<chr>\u001b[39m\u001b[23m NA, NA, NA, \"W HIGGINS AVE\", NA, NA, NA, NA, NA,...\n",
      "$ beat               \u001b[3m\u001b[90m<chr>\u001b[39m\u001b[23m NA, NA, NA, \"1622.0\", NA, NA, NA, NA, NA, NA, NA...\n",
      "$ city               \u001b[3m\u001b[90m<chr>\u001b[39m\u001b[23m NA, NA, NA, \"CHICAGO IL\", NA, NA, NA, NA, NA, NA...\n",
      "$ full_address       \u001b[3m\u001b[90m<chr>\u001b[39m\u001b[23m NA, NA, NA, NA, NA, NA, NA, NA, NA, NA, NA, NA, ...\n",
      "$ location           \u001b[3m\u001b[90m<chr>\u001b[39m\u001b[23m NA, NA, NA, \"17\", NA, NA, NA, NA, NA, NA, NA, \"0...\n"
     ]
    }
   ],
   "source": [
    "#Modify salary datatypes and filter on years of interest\n",
    "salary_df <- salary_df %>%\n",
    "    mutate(year = as.numeric(year),\n",
    "           spp_date = ymd(spp_date),\n",
    "           salary = as.numeric(salary)) %>%\n",
    "    filter(year >= 2005, year <= 2015)\n",
    "           \n",
    "#Join salaries and joint complaints\n",
    "df_merged <- full_join(salary_df, complaints_joined, by = c('UID', 'link_UID', c(\"year\" = \"incident_year\")))\n",
    "\n",
    "# Examine all columns of merged dataframe\n",
    "glimpse(df_merged)"
   ]
  },
  {
   "cell_type": "code",
   "execution_count": 19,
   "metadata": {},
   "outputs": [
    {
     "data": {
      "text/plain": [
       "     UID             pay_grade             rank               salary      \n",
       " Length:174319      Length:174319      Length:174319      Min.   : 36984  \n",
       " Class :character   Class :character   Class :character   1st Qu.: 68262  \n",
       " Mode  :character   Mode  :character   Mode  :character   Median : 75372  \n",
       "                                                          Mean   : 76362  \n",
       "                                                          3rd Qu.: 82788  \n",
       "                                                          Max.   :197736  \n",
       "                                                          NA's   :2571    \n",
       "      year         spp_date          cleaned_rank         link_UID        \n",
       " Min.   :2005   Min.   :1964-06-22   Length:174319      Length:174319     \n",
       " 1st Qu.:2007   1st Qu.:1994-09-06   Class :character   Class :character  \n",
       " Median :2010   Median :1999-10-25   Mode  :character   Mode  :character  \n",
       " Mean   :2010   Mean   :1999-02-25                                        \n",
       " 3rd Qu.:2012   3rd Qu.:2004-10-25                                        \n",
       " Max.   :2015   Max.   :2015-12-16                                        \n",
       "                NA's   :37382                                             \n",
       " complaint_category complaint_code        cr_id               cv.x          \n",
       " Length:174319      Length:174319      Length:174319      Length:174319     \n",
       " Class :character   Class :character   Class :character   Class :character  \n",
       " Mode  :character   Mode  :character   Mode  :character   Mode  :character  \n",
       "                                                                            \n",
       "                                                                            \n",
       "                                                                            \n",
       "                                                                            \n",
       " final_finding      final_outcome      recc_finding       recc_outcome      \n",
       " Length:174319      Length:174319      Length:174319      Length:174319     \n",
       " Class :character   Class :character   Class :character   Class :character  \n",
       " Mode  :character   Mode  :character   Mode  :character   Mode  :character  \n",
       "                                                                            \n",
       "                                                                            \n",
       "                                                                            \n",
       "                                                                            \n",
       "     cv.y           incident_date        complaint_date      \n",
       " Length:174319      Min.   :2005-01-01   Min.   :1992-05-03  \n",
       " Class :character   1st Qu.:2007-06-30   1st Qu.:2007-08-24  \n",
       " Mode  :character   Median :2009-07-14   Median :2009-08-21  \n",
       "                    Mean   :2009-11-27   Mean   :2010-01-17  \n",
       "                    3rd Qu.:2012-04-12   3rd Qu.:2012-05-26  \n",
       "                    Max.   :2015-12-31   Max.   :2017-11-17  \n",
       "                    NA's   :101123       NA's   :101123      \n",
       "  closed_date             add1               add2               beat          \n",
       " Min.   :1992-07-07   Length:174319      Length:174319      Length:174319     \n",
       " 1st Qu.:2008-05-15   Class :character   Class :character   Class :character  \n",
       " Median :2010-05-27   Mode  :character   Mode  :character   Mode  :character  \n",
       " Mean   :2010-10-20                                                           \n",
       " 3rd Qu.:2013-04-19                                                           \n",
       " Max.   :2018-03-16                                                           \n",
       " NA's   :102474                                                               \n",
       "     city           full_address         location        \n",
       " Length:174319      Length:174319      Length:174319     \n",
       " Class :character   Class :character   Class :character  \n",
       " Mode  :character   Mode  :character   Mode  :character  \n",
       "                                                         \n",
       "                                                         \n",
       "                                                         \n",
       "                                                         "
      ]
     },
     "metadata": {},
     "output_type": "display_data"
    }
   ],
   "source": [
    "# Get summary of all variables \n",
    "summary(df_merged)"
   ]
  },
  {
   "cell_type": "markdown",
   "metadata": {},
   "source": [
    "## EDA"
   ]
  },
  {
   "cell_type": "code",
   "execution_count": 20,
   "metadata": {},
   "outputs": [],
   "source": [
    "theme_set(theme_classic(base_size = 14))"
   ]
  },
  {
   "cell_type": "code",
   "execution_count": 21,
   "metadata": {},
   "outputs": [
    {
     "data": {
      "image/png": "[encoded data removed]",
      "text/plain": [
       "plot without title"
      ]
     },
     "metadata": {
      "image/png": {
       "height": 420,
       "width": 420
      }
     },
     "output_type": "display_data"
    },
    {
     "data": {
      "image/png": "[encoded data removed]",
      "text/plain": [
       "plot without title"
      ]
     },
     "metadata": {
      "image/png": {
       "height": 420,
       "width": 420
      }
     },
     "output_type": "display_data"
    }
   ],
   "source": [
    "# Complaints by year\n",
    "complaints_per_year <- df_merged %>% \n",
    "    group_by(year, cr_id) %>% \n",
    "    tally() %>% \n",
    "    drop_na() %>% \n",
    "    group_by(year) %>% \n",
    "    tally()\n",
    "\n",
    "ggplot(complaints_per_year, aes(x = year, y = n)) + \n",
    "    geom_line() + \n",
    "    ggtitle(\"Complaints per year\") + \n",
    "    scale_x_continuous(breaks = 2005:2015)\n",
    "\n",
    "# Officer UID per year\n",
    "off_per_year <- df_merged %>% \n",
    "    group_by(year, UID) %>% \n",
    "    tally() %>% \n",
    "    drop_na() %>% \n",
    "    group_by(year) %>% \n",
    "    tally()\n",
    "\n",
    "ggplot(off_per_year, aes(x = year, y = n)) + \n",
    "    geom_line() + \n",
    "    ggtitle(\"UID count per year\") + \n",
    "    scale_x_continuous(breaks = 2005:2015)"
   ]
  },
  {
   "cell_type": "code",
   "execution_count": 22,
   "metadata": {},
   "outputs": [
    {
     "data": {
      "image/png": "[encoded data removed]",
      "text/plain": [
       "plot without title"
      ]
     },
     "metadata": {
      "image/png": {
       "height": 420,
       "width": 420
      }
     },
     "output_type": "display_data"
    }
   ],
   "source": [
    "#Histogram of total complaints per officer - total complaints does not match because one complaint can be tied to multiple officers\n",
    "complaints_per_off <- df_merged %>% \n",
    "    group_by(UID, cr_id) %>% \n",
    "    tally() %>% \n",
    "    drop_na() %>% \n",
    "    group_by(UID) %>% \n",
    "    tally()\n",
    "\n",
    "ggplot(complaints_per_off, aes(x = n)) +\n",
    "    labs(x = \"Number of Complaints\") + \n",
    "    ggtitle(\"Total Complaints per Officer (2005-2015)\") +\n",
    "    geom_histogram(bins = 20)"
   ]
  },
  {
   "cell_type": "code",
   "execution_count": 23,
   "metadata": {},
   "outputs": [
    {
     "data": {
      "image/png": "[encoded data removed]",
      "text/plain": [
       "plot without title"
      ]
     },
     "metadata": {
      "image/png": {
       "height": 600,
       "width": 720
      }
     },
     "output_type": "display_data"
    }
   ],
   "source": [
    "options(repr.plot.width=12, repr.plot.height=10)\n",
    "\n",
    "#Faceted per year histogram\n",
    "complaints_per_off_yr <- df_merged %>% \n",
    "    group_by(UID, year, cr_id) %>% \n",
    "    tally() %>% \n",
    "    drop_na() %>% \n",
    "    group_by(UID, year) %>% \n",
    "    tally()\n",
    "\n",
    "ggplot(complaints_per_off_yr, aes(x = n)) +\n",
    "    labs(x = \"Number of Complaints\") + \n",
    "    ggtitle(\"Complaints per Officer\") +\n",
    "    geom_histogram(bins = 30) +\n",
    "    facet_wrap(~year, nrow=3)"
   ]
  },
  {
   "cell_type": "code",
   "execution_count": 24,
   "metadata": {},
   "outputs": [
    {
     "name": "stderr",
     "output_type": "stream",
     "text": [
      "`summarise()` ungrouping output (override with `.groups` argument)\n",
      "\n"
     ]
    },
    {
     "data": {
      "text/html": [
       "<table>\n",
       "<caption>A tibble: 7 × 2</caption>\n",
       "<thead>\n",
       "\t<tr><th scope=col>cleaned_rank</th><th scope=col>n</th></tr>\n",
       "\t<tr><th scope=col>&lt;chr&gt;</th><th scope=col>&lt;int&gt;</th></tr>\n",
       "</thead>\n",
       "<tbody>\n",
       "\t<tr><td>COMMANDER             </td><td>  131</td></tr>\n",
       "\t<tr><td>DETECTIVE             </td><td> 1568</td></tr>\n",
       "\t<tr><td>FIELD TRAINING OFFICER</td><td>  930</td></tr>\n",
       "\t<tr><td>LIEUTENANT            </td><td>  535</td></tr>\n",
       "\t<tr><td>OTHER                 </td><td>   34</td></tr>\n",
       "\t<tr><td>POLICE OFFICER        </td><td>33851</td></tr>\n",
       "\t<tr><td>SERGEANT              </td><td> 5968</td></tr>\n",
       "</tbody>\n",
       "</table>\n"
      ],
      "text/latex": [
       "A tibble: 7 × 2\n",
       "\\begin{tabular}{ll}\n",
       " cleaned\\_rank & n\\\\\n",
       " <chr> & <int>\\\\\n",
       "\\hline\n",
       "\t COMMANDER              &   131\\\\\n",
       "\t DETECTIVE              &  1568\\\\\n",
       "\t FIELD TRAINING OFFICER &   930\\\\\n",
       "\t LIEUTENANT             &   535\\\\\n",
       "\t OTHER                  &    34\\\\\n",
       "\t POLICE OFFICER         & 33851\\\\\n",
       "\t SERGEANT               &  5968\\\\\n",
       "\\end{tabular}\n"
      ],
      "text/markdown": [
       "\n",
       "A tibble: 7 × 2\n",
       "\n",
       "| cleaned_rank &lt;chr&gt; | n &lt;int&gt; |\n",
       "|---|---|\n",
       "| COMMANDER              |   131 |\n",
       "| DETECTIVE              |  1568 |\n",
       "| FIELD TRAINING OFFICER |   930 |\n",
       "| LIEUTENANT             |   535 |\n",
       "| OTHER                  |    34 |\n",
       "| POLICE OFFICER         | 33851 |\n",
       "| SERGEANT               |  5968 |\n",
       "\n"
      ],
      "text/plain": [
       "  cleaned_rank           n    \n",
       "1 COMMANDER                131\n",
       "2 DETECTIVE               1568\n",
       "3 FIELD TRAINING OFFICER   930\n",
       "4 LIEUTENANT               535\n",
       "5 OTHER                     34\n",
       "6 POLICE OFFICER         33851\n",
       "7 SERGEANT                5968"
      ]
     },
     "metadata": {},
     "output_type": "display_data"
    },
    {
     "data": {
      "image/png": "[encoded data removed]",
      "text/plain": [
       "plot without title"
      ]
     },
     "metadata": {
      "image/png": {
       "height": 600,
       "width": 720
      }
     },
     "output_type": "display_data"
    }
   ],
   "source": [
    "# complaints by officer rank\n",
    "complaints_per_rank <- df_merged %>% \n",
    "    group_by(cleaned_rank, cr_id) %>% \n",
    "    tally() %>% \n",
    "    drop_na() %>% \n",
    "    group_by(cleaned_rank) %>% \n",
    "    tally() %>%\n",
    "    mutate(cleaned_rank = ifelse(n < 100, \"OTHER\", cleaned_rank)) %>%\n",
    "    group_by(cleaned_rank) %>%\n",
    "    summarize(n = sum(n))\n",
    "\n",
    "complaints_per_rank\n",
    "ggplot(complaints_per_rank, aes(y=cleaned_rank, x = n)) +\n",
    "    labs(x = \"Number of Complaints\", y = \"Rank\", title = \"Total Complaints per Rank\", subtitle = \"(2005-2015)\") + \n",
    "    geom_col()"
   ]
  },
  {
   "cell_type": "code",
   "execution_count": 25,
   "metadata": {},
   "outputs": [
    {
     "name": "stderr",
     "output_type": "stream",
     "text": [
      "Warning message:\n",
      "\"Removed 2571 rows containing non-finite values (stat_boxplot).\"\n"
     ]
    },
    {
     "data": {
      "image/png": "[encoded data removed]",
      "text/plain": [
       "plot without title"
      ]
     },
     "metadata": {
      "image/png": {
       "height": 600,
       "width": 720
      }
     },
     "output_type": "display_data"
    }
   ],
   "source": [
    "# Boxplot\n",
    "ggplot(df_merged) + \n",
    "  aes(x = salary,\n",
    "      y = cleaned_rank) +\n",
    "  geom_boxplot() + \n",
    "  scale_x_continuous(labels = scales::label_dollar())"
   ]
  },
  {
   "cell_type": "code",
   "execution_count": 26,
   "metadata": {},
   "outputs": [
    {
     "name": "stderr",
     "output_type": "stream",
     "text": [
      "`summarise()` ungrouping output (override with `.groups` argument)\n",
      "\n",
      "`geom_smooth()` using formula 'y ~ x'\n",
      "\n",
      "Warning message:\n",
      "\"Removed 1 rows containing non-finite values (stat_smooth).\"\n",
      "Warning message:\n",
      "\"Removed 1 rows containing missing values (geom_point).\"\n"
     ]
    },
    {
     "data": {
      "image/png": "[encoded data removed]",
      "text/plain": [
       "plot without title"
      ]
     },
     "metadata": {
      "image/png": {
       "height": 600,
       "width": 720
      }
     },
     "output_type": "display_data"
    }
   ],
   "source": [
    "# complaints per salary\n",
    "complaints_per_salary <- df_merged %>% \n",
    "    group_by(salary) %>% \n",
    "    summarize(num_complaints = sum(!is.na(cr_id)))\n",
    "\n",
    "ggplot(complaints_per_salary, aes(x = salary, y = num_complaints)) + \n",
    "        geom_point(color=\"lightblue\") +\n",
    "        scale_x_continuous(labels = scales::label_dollar()) +\n",
    "        labs(title = \"Number of Complaints by Salary\", subtitle = \"2005-2015\", x = \"Salary (USD)\", y = \"Number of Complaints\") + \n",
    "        geom_smooth(method=lm)"
   ]
  },
  {
   "cell_type": "code",
   "execution_count": 27,
   "metadata": {},
   "outputs": [
    {
     "data": {
      "text/html": [
       "<table>\n",
       "<caption>A tibble: 20 × 2</caption>\n",
       "<thead>\n",
       "\t<tr><th scope=col>salary</th><th scope=col>num_complaints</th></tr>\n",
       "\t<tr><th scope=col>&lt;dbl&gt;</th><th scope=col>&lt;int&gt;</th></tr>\n",
       "</thead>\n",
       "<tbody>\n",
       "\t<tr><td>68262</td><td>8569</td></tr>\n",
       "\t<tr><td>70656</td><td>4669</td></tr>\n",
       "\t<tr><td>75372</td><td>3410</td></tr>\n",
       "\t<tr><td>66924</td><td>2795</td></tr>\n",
       "\t<tr><td>78012</td><td>2659</td></tr>\n",
       "\t<tr><td>73164</td><td>2426</td></tr>\n",
       "\t<tr><td>64662</td><td>2341</td></tr>\n",
       "\t<tr><td>74628</td><td>2207</td></tr>\n",
       "\t<tr><td>73116</td><td>2034</td></tr>\n",
       "\t<tr><td>61932</td><td>1787</td></tr>\n",
       "\t<tr><td>64992</td><td>1688</td></tr>\n",
       "\t<tr><td>80724</td><td>1579</td></tr>\n",
       "\t<tr><td>69270</td><td>1545</td></tr>\n",
       "\t<tr><td>58896</td><td>1482</td></tr>\n",
       "\t<tr><td>75726</td><td>1364</td></tr>\n",
       "\t<tr><td>77238</td><td>1314</td></tr>\n",
       "\t<tr><td>   NA</td><td>1297</td></tr>\n",
       "\t<tr><td>79980</td><td>1155</td></tr>\n",
       "\t<tr><td>82788</td><td>1126</td></tr>\n",
       "\t<tr><td>66906</td><td>1093</td></tr>\n",
       "</tbody>\n",
       "</table>\n"
      ],
      "text/latex": [
       "A tibble: 20 × 2\n",
       "\\begin{tabular}{ll}\n",
       " salary & num\\_complaints\\\\\n",
       " <dbl> & <int>\\\\\n",
       "\\hline\n",
       "\t 68262 & 8569\\\\\n",
       "\t 70656 & 4669\\\\\n",
       "\t 75372 & 3410\\\\\n",
       "\t 66924 & 2795\\\\\n",
       "\t 78012 & 2659\\\\\n",
       "\t 73164 & 2426\\\\\n",
       "\t 64662 & 2341\\\\\n",
       "\t 74628 & 2207\\\\\n",
       "\t 73116 & 2034\\\\\n",
       "\t 61932 & 1787\\\\\n",
       "\t 64992 & 1688\\\\\n",
       "\t 80724 & 1579\\\\\n",
       "\t 69270 & 1545\\\\\n",
       "\t 58896 & 1482\\\\\n",
       "\t 75726 & 1364\\\\\n",
       "\t 77238 & 1314\\\\\n",
       "\t    NA & 1297\\\\\n",
       "\t 79980 & 1155\\\\\n",
       "\t 82788 & 1126\\\\\n",
       "\t 66906 & 1093\\\\\n",
       "\\end{tabular}\n"
      ],
      "text/markdown": [
       "\n",
       "A tibble: 20 × 2\n",
       "\n",
       "| salary &lt;dbl&gt; | num_complaints &lt;int&gt; |\n",
       "|---|---|\n",
       "| 68262 | 8569 |\n",
       "| 70656 | 4669 |\n",
       "| 75372 | 3410 |\n",
       "| 66924 | 2795 |\n",
       "| 78012 | 2659 |\n",
       "| 73164 | 2426 |\n",
       "| 64662 | 2341 |\n",
       "| 74628 | 2207 |\n",
       "| 73116 | 2034 |\n",
       "| 61932 | 1787 |\n",
       "| 64992 | 1688 |\n",
       "| 80724 | 1579 |\n",
       "| 69270 | 1545 |\n",
       "| 58896 | 1482 |\n",
       "| 75726 | 1364 |\n",
       "| 77238 | 1314 |\n",
       "|    NA | 1297 |\n",
       "| 79980 | 1155 |\n",
       "| 82788 | 1126 |\n",
       "| 66906 | 1093 |\n",
       "\n"
      ],
      "text/plain": [
       "   salary num_complaints\n",
       "1  68262  8569          \n",
       "2  70656  4669          \n",
       "3  75372  3410          \n",
       "4  66924  2795          \n",
       "5  78012  2659          \n",
       "6  73164  2426          \n",
       "7  64662  2341          \n",
       "8  74628  2207          \n",
       "9  73116  2034          \n",
       "10 61932  1787          \n",
       "11 64992  1688          \n",
       "12 80724  1579          \n",
       "13 69270  1545          \n",
       "14 58896  1482          \n",
       "15 75726  1364          \n",
       "16 77238  1314          \n",
       "17    NA  1297          \n",
       "18 79980  1155          \n",
       "19 82788  1126          \n",
       "20 66906  1093          "
      ]
     },
     "metadata": {},
     "output_type": "display_data"
    }
   ],
   "source": [
    "# look at dataframe, order by number of complaints.   \n",
    "# will have to investigate the NA salary group\n",
    "complaints_per_salary %>%\n",
    "    arrange(-num_complaints) %>%\n",
    "    head(20)"
   ]
  },
  {
   "cell_type": "code",
   "execution_count": 28,
   "metadata": {},
   "outputs": [
    {
     "name": "stderr",
     "output_type": "stream",
     "text": [
      "`summarise()` regrouping output by 'salary' (override with `.groups` argument)\n",
      "\n",
      "`geom_smooth()` using formula 'y ~ x'\n",
      "\n",
      "Warning message:\n",
      "\"Removed 11 rows containing non-finite values (stat_smooth).\"\n",
      "Warning message:\n",
      "\"Removed 11 rows containing missing values (geom_point).\"\n"
     ]
    },
    {
     "data": {
      "image/png": "[encoded data removed]",
      "text/plain": [
       "plot without title"
      ]
     },
     "metadata": {
      "image/png": {
       "height": 600,
       "width": 720
      }
     },
     "output_type": "display_data"
    }
   ],
   "source": [
    "# calculate a complaint rate\n",
    "compaint_rates <- df_merged %>%\n",
    "    group_by(salary, year) %>%\n",
    "    summarize(num_complaints = sum(!is.na(cr_id)), num_employees = sum(!is.na(UID))) %>%\n",
    "    mutate(complaint_rate = num_complaints/ num_employees)\n",
    "\n",
    "#compaint_rates\n",
    "\n",
    "ggplot(compaint_rates, aes(x = salary, y = complaint_rate)) + \n",
    "        geom_point(color = \"lightblue\") +\n",
    "        scale_x_continuous(labels = scales::label_dollar()) + \n",
    "        labs(title=\"Complaint Rate by Salary\", subtitle = \"2005-2015\", x = \"Salary USD\", y = \"Complaint Rate (# complaints/ # employees)\") + \n",
    "        geom_smooth(method=lm)"
   ]
  },
  {
   "cell_type": "code",
   "execution_count": 29,
   "metadata": {},
   "outputs": [
    {
     "name": "stderr",
     "output_type": "stream",
     "text": [
      "Registered S3 method overwritten by 'GGally':\n",
      "  method from   \n",
      "  +.gg   ggplot2\n",
      "\n"
     ]
    },
    {
     "data": {
      "image/png": "[encoded data removed]",
      "text/plain": [
       "plot without title"
      ]
     },
     "metadata": {
      "image/png": {
       "height": 600,
       "width": 720
      }
     },
     "output_type": "display_data"
    }
   ],
   "source": [
    "compaint_rates %>%\n",
    "    select(salary, year, complaint_rate) %>% \n",
    "    GGally::ggcorr()"
   ]
  },
  {
   "cell_type": "markdown",
   "metadata": {},
   "source": [
    "## Investigate NAs"
   ]
  },
  {
   "cell_type": "code",
   "execution_count": 51,
   "metadata": {},
   "outputs": [
    {
     "name": "stderr",
     "output_type": "stream",
     "text": [
      "`summarise()` ungrouping output (override with `.groups` argument)\n",
      "\n"
     ]
    },
    {
     "data": {
      "text/html": [
       "<table>\n",
       "<caption>A tibble: 11 × 2</caption>\n",
       "<thead>\n",
       "\t<tr><th scope=col>year</th><th scope=col>n_distinct(UID)</th></tr>\n",
       "\t<tr><th scope=col>&lt;dbl&gt;</th><th scope=col>&lt;int&gt;</th></tr>\n",
       "</thead>\n",
       "<tbody>\n",
       "\t<tr><td>2005</td><td>144</td></tr>\n",
       "\t<tr><td>2006</td><td>200</td></tr>\n",
       "\t<tr><td>2007</td><td>231</td></tr>\n",
       "\t<tr><td>2008</td><td>235</td></tr>\n",
       "\t<tr><td>2009</td><td>203</td></tr>\n",
       "\t<tr><td>2010</td><td>204</td></tr>\n",
       "\t<tr><td>2011</td><td>208</td></tr>\n",
       "\t<tr><td>2012</td><td>178</td></tr>\n",
       "\t<tr><td>2013</td><td>195</td></tr>\n",
       "\t<tr><td>2014</td><td>197</td></tr>\n",
       "\t<tr><td>2015</td><td>210</td></tr>\n",
       "</tbody>\n",
       "</table>\n"
      ],
      "text/latex": [
       "A tibble: 11 × 2\n",
       "\\begin{tabular}{ll}\n",
       " year & n\\_distinct(UID)\\\\\n",
       " <dbl> & <int>\\\\\n",
       "\\hline\n",
       "\t 2005 & 144\\\\\n",
       "\t 2006 & 200\\\\\n",
       "\t 2007 & 231\\\\\n",
       "\t 2008 & 235\\\\\n",
       "\t 2009 & 203\\\\\n",
       "\t 2010 & 204\\\\\n",
       "\t 2011 & 208\\\\\n",
       "\t 2012 & 178\\\\\n",
       "\t 2013 & 195\\\\\n",
       "\t 2014 & 197\\\\\n",
       "\t 2015 & 210\\\\\n",
       "\\end{tabular}\n"
      ],
      "text/markdown": [
       "\n",
       "A tibble: 11 × 2\n",
       "\n",
       "| year &lt;dbl&gt; | n_distinct(UID) &lt;int&gt; |\n",
       "|---|---|\n",
       "| 2005 | 144 |\n",
       "| 2006 | 200 |\n",
       "| 2007 | 231 |\n",
       "| 2008 | 235 |\n",
       "| 2009 | 203 |\n",
       "| 2010 | 204 |\n",
       "| 2011 | 208 |\n",
       "| 2012 | 178 |\n",
       "| 2013 | 195 |\n",
       "| 2014 | 197 |\n",
       "| 2015 | 210 |\n",
       "\n"
      ],
      "text/plain": [
       "   year n_distinct(UID)\n",
       "1  2005 144            \n",
       "2  2006 200            \n",
       "3  2007 231            \n",
       "4  2008 235            \n",
       "5  2009 203            \n",
       "6  2010 204            \n",
       "7  2011 208            \n",
       "8  2012 178            \n",
       "9  2013 195            \n",
       "10 2014 197            \n",
       "11 2015 210            "
      ]
     },
     "metadata": {},
     "output_type": "display_data"
    }
   ],
   "source": [
    "df_merged %>%\n",
    "    filter(is.na(salary)) %>%\n",
    "    group_by(year) %>%\n",
    "    summarize(n_distinct(UID))"
   ]
  },
  {
   "cell_type": "code",
   "execution_count": 48,
   "metadata": {},
   "outputs": [
    {
     "name": "stderr",
     "output_type": "stream",
     "text": [
      "`summarise()` ungrouping output (override with `.groups` argument)\n",
      "\n"
     ]
    },
    {
     "data": {
      "text/html": [
       "<table>\n",
       "<caption>A tibble: 11 × 2</caption>\n",
       "<thead>\n",
       "\t<tr><th scope=col>year</th><th scope=col>n_distinct(UID)</th></tr>\n",
       "\t<tr><th scope=col>&lt;dbl&gt;</th><th scope=col>&lt;int&gt;</th></tr>\n",
       "</thead>\n",
       "<tbody>\n",
       "\t<tr><td>2005</td><td> 78</td></tr>\n",
       "\t<tr><td>2006</td><td>117</td></tr>\n",
       "\t<tr><td>2007</td><td>135</td></tr>\n",
       "\t<tr><td>2008</td><td>140</td></tr>\n",
       "\t<tr><td>2009</td><td>152</td></tr>\n",
       "\t<tr><td>2010</td><td>163</td></tr>\n",
       "\t<tr><td>2011</td><td>174</td></tr>\n",
       "\t<tr><td>2012</td><td>155</td></tr>\n",
       "\t<tr><td>2013</td><td>164</td></tr>\n",
       "\t<tr><td>2014</td><td>165</td></tr>\n",
       "\t<tr><td>2015</td><td>190</td></tr>\n",
       "</tbody>\n",
       "</table>\n"
      ],
      "text/latex": [
       "A tibble: 11 × 2\n",
       "\\begin{tabular}{ll}\n",
       " year & n\\_distinct(UID)\\\\\n",
       " <dbl> & <int>\\\\\n",
       "\\hline\n",
       "\t 2005 &  78\\\\\n",
       "\t 2006 & 117\\\\\n",
       "\t 2007 & 135\\\\\n",
       "\t 2008 & 140\\\\\n",
       "\t 2009 & 152\\\\\n",
       "\t 2010 & 163\\\\\n",
       "\t 2011 & 174\\\\\n",
       "\t 2012 & 155\\\\\n",
       "\t 2013 & 164\\\\\n",
       "\t 2014 & 165\\\\\n",
       "\t 2015 & 190\\\\\n",
       "\\end{tabular}\n"
      ],
      "text/markdown": [
       "\n",
       "A tibble: 11 × 2\n",
       "\n",
       "| year &lt;dbl&gt; | n_distinct(UID) &lt;int&gt; |\n",
       "|---|---|\n",
       "| 2005 |  78 |\n",
       "| 2006 | 117 |\n",
       "| 2007 | 135 |\n",
       "| 2008 | 140 |\n",
       "| 2009 | 152 |\n",
       "| 2010 | 163 |\n",
       "| 2011 | 174 |\n",
       "| 2012 | 155 |\n",
       "| 2013 | 164 |\n",
       "| 2014 | 165 |\n",
       "| 2015 | 190 |\n",
       "\n"
      ],
      "text/plain": [
       "   year n_distinct(UID)\n",
       "1  2005  78            \n",
       "2  2006 117            \n",
       "3  2007 135            \n",
       "4  2008 140            \n",
       "5  2009 152            \n",
       "6  2010 163            \n",
       "7  2011 174            \n",
       "8  2012 155            \n",
       "9  2013 164            \n",
       "10 2014 165            \n",
       "11 2015 190            "
      ]
     },
     "metadata": {},
     "output_type": "display_data"
    }
   ],
   "source": [
    "salary_df %>%\n",
    "    filter(is.na(salary)) %>%\n",
    "    group_by(year) %>%\n",
    "    summarize(n_distinct(UID))"
   ]
  },
  {
   "cell_type": "code",
   "execution_count": 50,
   "metadata": {},
   "outputs": [
    {
     "name": "stderr",
     "output_type": "stream",
     "text": [
      "`summarise()` ungrouping output (override with `.groups` argument)\n",
      "\n"
     ]
    },
    {
     "data": {
      "text/html": [
       "<table>\n",
       "<caption>A tibble: 11 × 2</caption>\n",
       "<thead>\n",
       "\t<tr><th scope=col>year</th><th scope=col>n_distinct(UID)</th></tr>\n",
       "\t<tr><th scope=col>&lt;dbl&gt;</th><th scope=col>&lt;int&gt;</th></tr>\n",
       "</thead>\n",
       "<tbody>\n",
       "\t<tr><td>2005</td><td> 84</td></tr>\n",
       "\t<tr><td>2006</td><td>119</td></tr>\n",
       "\t<tr><td>2007</td><td>129</td></tr>\n",
       "\t<tr><td>2008</td><td>138</td></tr>\n",
       "\t<tr><td>2009</td><td> 84</td></tr>\n",
       "\t<tr><td>2010</td><td> 79</td></tr>\n",
       "\t<tr><td>2011</td><td> 69</td></tr>\n",
       "\t<tr><td>2012</td><td> 55</td></tr>\n",
       "\t<tr><td>2013</td><td> 62</td></tr>\n",
       "\t<tr><td>2014</td><td> 61</td></tr>\n",
       "\t<tr><td>2015</td><td> 51</td></tr>\n",
       "</tbody>\n",
       "</table>\n"
      ],
      "text/latex": [
       "A tibble: 11 × 2\n",
       "\\begin{tabular}{ll}\n",
       " year & n\\_distinct(UID)\\\\\n",
       " <dbl> & <int>\\\\\n",
       "\\hline\n",
       "\t 2005 &  84\\\\\n",
       "\t 2006 & 119\\\\\n",
       "\t 2007 & 129\\\\\n",
       "\t 2008 & 138\\\\\n",
       "\t 2009 &  84\\\\\n",
       "\t 2010 &  79\\\\\n",
       "\t 2011 &  69\\\\\n",
       "\t 2012 &  55\\\\\n",
       "\t 2013 &  62\\\\\n",
       "\t 2014 &  61\\\\\n",
       "\t 2015 &  51\\\\\n",
       "\\end{tabular}\n"
      ],
      "text/markdown": [
       "\n",
       "A tibble: 11 × 2\n",
       "\n",
       "| year &lt;dbl&gt; | n_distinct(UID) &lt;int&gt; |\n",
       "|---|---|\n",
       "| 2005 |  84 |\n",
       "| 2006 | 119 |\n",
       "| 2007 | 129 |\n",
       "| 2008 | 138 |\n",
       "| 2009 |  84 |\n",
       "| 2010 |  79 |\n",
       "| 2011 |  69 |\n",
       "| 2012 |  55 |\n",
       "| 2013 |  62 |\n",
       "| 2014 |  61 |\n",
       "| 2015 |  51 |\n",
       "\n"
      ],
      "text/plain": [
       "   year n_distinct(UID)\n",
       "1  2005  84            \n",
       "2  2006 119            \n",
       "3  2007 129            \n",
       "4  2008 138            \n",
       "5  2009  84            \n",
       "6  2010  79            \n",
       "7  2011  69            \n",
       "8  2012  55            \n",
       "9  2013  62            \n",
       "10 2014  61            \n",
       "11 2015  51            "
      ]
     },
     "metadata": {},
     "output_type": "display_data"
    }
   ],
   "source": [
    "salary_dropna <- salary_df %>%\n",
    "    filter(!is.na(salary))\n",
    "\n",
    "#Join salaries and joint complaints\n",
    "df_merged_dropna <- full_join(salary_dropna, complaints_joined, by = c('UID', 'link_UID', c(\"year\" = \"incident_year\")))\n",
    "\n",
    "df_merged_dropna %>%\n",
    "    filter(is.na(salary)) %>%\n",
    "    group_by(year) %>%\n",
    "    summarize(n_distinct(UID))"
   ]
  },
  {
   "cell_type": "code",
   "execution_count": 54,
   "metadata": {},
   "outputs": [
    {
     "data": {
      "text/html": [
       "<style>\n",
       ".list-inline {list-style: none; margin:0; padding: 0}\n",
       ".list-inline>li {display: inline-block}\n",
       ".list-inline>li:not(:last-child)::after {content: \"\\00b7\"; padding: 0 .5ex}\n",
       "</style>\n",
       "<ol class=list-inline><li>'109751.0'</li><li>'128710.0'</li><li>'126060.0'</li><li>'115867.0'</li><li>'129027.0'</li><li>'130659.0'</li><li>'104270.0'</li><li>'122973.0'</li><li>'115374.0'</li><li>'112994.0'</li><li>'121132.0'</li><li>'106519.0'</li><li>'120608.0'</li><li>'127351.0'</li><li>'126710.0'</li><li>'125742.0'</li><li>'126752.0'</li><li>'122834.0'</li><li>'118720.0'</li><li>'114303.0'</li><li>'115408.0'</li><li>'112244.0'</li><li>'111369.0'</li><li>'116391.0'</li><li>'115748.0'</li><li>'120694.0'</li><li>'125055.0'</li><li>'123546.0'</li><li>'116733.0'</li><li>'106520.0'</li><li>'119143.0'</li><li>'104433.0'</li><li>'124246.0'</li><li>'122729.0'</li><li>'107437.0'</li><li>'103709.0'</li><li>'106204.0'</li><li>'101659.0'</li><li>'124504.0'</li><li>'121059.0'</li><li>'129348.0'</li><li>'103882.0'</li><li>'113429.0'</li><li>'121535.0'</li><li>'130614.0'</li><li>'129327.0'</li><li>'128579.0'</li><li>'112252.0'</li><li>'104650.0'</li><li>'107823.0'</li><li>'106450.0'</li><li>'100676.0'</li><li>'132167.0'</li><li>'104638.0'</li><li>'122738.0'</li><li>'110735.0'</li><li>'109687.0'</li><li>'103131.0'</li><li>'129168.0'</li><li>'130320.0'</li><li>'100569.0'</li><li>'126888.0'</li><li>'102798.0'</li><li>'111607.0'</li><li>'116543.0'</li><li>'107304.0'</li><li>'130946.0'</li><li>'121112.0'</li><li>'132097.0'</li><li>'122717.0'</li><li>'111754.0'</li><li>'117783.0'</li><li>'113403.0'</li><li>'129165.0'</li><li>'116115.0'</li><li>'110980.0'</li><li>'106443.0'</li><li>'106924.0'</li><li>'110403.0'</li><li>'124982.0'</li><li>'103162.0'</li><li>'122647.0'</li><li>'120349.0'</li><li>'118064.0'</li><li>'112945.0'</li><li>'113786.0'</li><li>'109712.0'</li><li>'128584.0'</li><li>'120734.0'</li><li>'114064.0'</li><li>'113814.0'</li><li>'114869.0'</li><li>'106959.0'</li><li>'129278.0'</li><li>'124130.0'</li><li>'121893.0'</li><li>'131861.0'</li><li>'100246.0'</li><li>'102565.0'</li><li>'106960.0'</li><li>'128548.0'</li><li>'115419.0'</li><li>'103792.0'</li><li>'107360.0'</li><li>'115201.0'</li><li>'121021.0'</li><li>'103260.0'</li><li>'112480.0'</li><li>'119229.0'</li><li>'127163.0'</li><li>'129517.0'</li><li>'114248.0'</li><li>'109394.0'</li><li>'128927.0'</li><li>'115764.0'</li><li>'101839.0'</li><li>'117192.0'</li><li>'119562.0'</li><li>'128387.0'</li><li>'123973.0'</li><li>'105424.0'</li><li>'100370.0'</li><li>'124673.0'</li><li>'115848.0'</li><li>'121193.0'</li><li>'121476.0'</li><li>'114781.0'</li><li>'106277.0'</li><li>'110203.0'</li><li>'116978.0'</li><li>'110626.0'</li><li>'106034.0'</li><li>'130351.0'</li><li>'123992.0'</li><li>'127455.0'</li><li>'100301.0'</li><li>'112746.0'</li><li>'131494.0'</li><li>'118472.0'</li><li>'108890.0'</li><li>'121526.0'</li><li>'122424.0'</li><li>'128202.0'</li><li>'105723.0'</li><li>'110073.0'</li><li>'113728.0'</li><li>'114319.0'</li><li>'126887.0'</li><li>'122395.0'</li><li>'115567.0'</li><li>'121972.0'</li><li>'100555.0'</li><li>'107893.0'</li><li>'115856.0'</li><li>'106305.0'</li><li>'105739.0'</li><li>'101789.0'</li><li>'106101.0'</li><li>'119066.0'</li><li>'101278.0'</li><li>'124290.0'</li><li>'125212.0'</li><li>'115185.0'</li><li>'115344.0'</li><li>'119810.0'</li><li>'117066.0'</li><li>'116529.0'</li><li>'130112.0'</li><li>'125844.0'</li><li>'129516.0'</li><li>'122415.0'</li><li>'128088.0'</li><li>'129003.0'</li><li>'126978.0'</li><li>'116770.0'</li><li>'114135.0'</li><li>'118469.0'</li><li>'112063.0'</li><li>'119566.0'</li><li>'120621.0'</li><li>'114219.0'</li><li>'109545.0'</li><li>'104609.0'</li><li>'105473.0'</li><li>'112029.0'</li><li>'128457.0'</li><li>'100020.0'</li><li>'111723.0'</li><li>'108012.0'</li><li>'119568.0'</li><li>'124032.0'</li><li>'129324.0'</li><li>'123061.0'</li><li>'115210.0'</li><li>'120739.0'</li><li>'111952.0'</li><li>'107333.0'</li><li>'109923.0'</li><li>'112479.0'</li><li>'114166.0'</li><li>...</li><li>'103235.0'</li><li>'125888.0'</li><li>'101607.0'</li><li>'127480.0'</li><li>'103188.0'</li><li>'109483.0'</li><li>'111583.0'</li><li>'101897.0'</li><li>'106455.0'</li><li>'118077.0'</li><li>'130585.0'</li><li>'130908.0'</li><li>'110903.0'</li><li>'112655.0'</li><li>'116039.0'</li><li>'106873.0'</li><li>'120552.0'</li><li>'109066.0'</li><li>'116839.0'</li><li>'112812.0'</li><li>'105753.0'</li><li>'100330.0'</li><li>'124084.0'</li><li>'127141.0'</li><li>'111889.0'</li><li>'113344.0'</li><li>'129670.0'</li><li>'105987.0'</li><li>'106777.0'</li><li>'116941.0'</li><li>'131267.0'</li><li>'127454.0'</li><li>'110080.0'</li><li>'110144.0'</li><li>'100646.0'</li><li>'121452.0'</li><li>'123272.0'</li><li>'104695.0'</li><li>'122850.0'</li><li>'114941.0'</li><li>'111812.0'</li><li>'105485.0'</li><li>'122079.0'</li><li>'126368.0'</li><li>'110079.0'</li><li>'129413.0'</li><li>'131911.0'</li><li>'104919.0'</li><li>'101406.0'</li><li>'128400.0'</li><li>'122367.0'</li><li>'120933.0'</li><li>'108106.0'</li><li>'112695.0'</li><li>'116612.0'</li><li>'122197.0'</li><li>'115763.0'</li><li>'106534.0'</li><li>'114109.0'</li><li>'124091.0'</li><li>'132108.0'</li><li>'123957.0'</li><li>'112690.0'</li><li>'112650.0'</li><li>'108857.0'</li><li>'125241.0'</li><li>'107860.0'</li><li>'112177.0'</li><li>'121599.0'</li><li>'123228.0'</li><li>'107547.0'</li><li>'116905.0'</li><li>'121091.0'</li><li>'118739.0'</li><li>'114172.0'</li><li>'104785.0'</li><li>'109219.0'</li><li>'126836.0'</li><li>'108571.0'</li><li>'128372.0'</li><li>'122806.0'</li><li>'127061.0'</li><li>'127960.0'</li><li>'114535.0'</li><li>'110337.0'</li><li>'115107.0'</li><li>'109096.0'</li><li>'109208.0'</li><li>'121669.0'</li><li>'107677.0'</li><li>'124666.0'</li><li>'109315.0'</li><li>'129440.0'</li><li>'108649.0'</li><li>'120934.0'</li><li>'102507.0'</li><li>'108071.0'</li><li>'130865.0'</li><li>'112415.0'</li><li>'105171.0'</li><li>'118815.0'</li><li>'117077.0'</li><li>'120162.0'</li><li>'112751.0'</li><li>'122748.0'</li><li>'104512.0'</li><li>'122870.0'</li><li>'129964.0'</li><li>'115320.0'</li><li>'124978.0'</li><li>'104599.0'</li><li>'114800.0'</li><li>'118845.0'</li><li>'114589.0'</li><li>'111308.0'</li><li>'108235.0'</li><li>'121022.0'</li><li>'116961.0'</li><li>'125991.0'</li><li>'120301.0'</li><li>'129277.0'</li><li>'119831.0'</li><li>'122348.0'</li><li>'130711.0'</li><li>'105614.0'</li><li>'119363.0'</li><li>'123531.0'</li><li>'114500.0'</li><li>'127224.0'</li><li>'116057.0'</li><li>'119798.0'</li><li>'108103.0'</li><li>'129091.0'</li><li>'124468.0'</li><li>'108380.0'</li><li>'126219.0'</li><li>'107125.0'</li><li>'128877.0'</li><li>'115198.0'</li><li>'103627.0'</li><li>'130552.0'</li><li>'120848.0'</li><li>'108378.0'</li><li>'132227.0'</li><li>'117476.0'</li><li>'120571.0'</li><li>'125883.0'</li><li>'107196.0'</li><li>'105088.0'</li><li>'104311.0'</li><li>'125259.0'</li><li>'102647.0'</li><li>'128455.0'</li><li>'109720.0'</li><li>'108211.0'</li><li>'106002.0'</li><li>'101317.0'</li><li>'108417.0'</li><li>'106558.0'</li><li>'103098.0'</li><li>'131363.0'</li><li>'123154.0'</li><li>'111777.0'</li><li>'123345.0'</li><li>'107021.0'</li><li>'118731.0'</li><li>'101635.0'</li><li>'120002.0'</li><li>'102200.0'</li><li>'114645.0'</li><li>'113771.0'</li><li>'107987.0'</li><li>'108072.0'</li><li>'109299.0'</li><li>'129225.0'</li><li>'118854.0'</li><li>'105887.0'</li><li>'105142.0'</li><li>'120847.0'</li><li>'109816.0'</li><li>'129597.0'</li><li>'130643.0'</li><li>'122409.0'</li><li>'101961.0'</li><li>'107959.0'</li><li>'112582.0'</li><li>'124903.0'</li><li>'116250.0'</li><li>'125379.0'</li><li>'120267.0'</li><li>'116303.0'</li><li>'105838.0'</li><li>'126443.0'</li><li>'117099.0'</li><li>'113267.0'</li><li>'112171.0'</li><li>'112866.0'</li><li>'114131.0'</li><li>'128404.0'</li><li>'109924.0'</li></ol>\n"
      ],
      "text/latex": [
       "\\begin{enumerate*}\n",
       "\\item '109751.0'\n",
       "\\item '128710.0'\n",
       "\\item '126060.0'\n",
       "\\item '115867.0'\n",
       "\\item '129027.0'\n",
       "\\item '130659.0'\n",
       "\\item '104270.0'\n",
       "\\item '122973.0'\n",
       "\\item '115374.0'\n",
       "\\item '112994.0'\n",
       "\\item '121132.0'\n",
       "\\item '106519.0'\n",
       "\\item '120608.0'\n",
       "\\item '127351.0'\n",
       "\\item '126710.0'\n",
       "\\item '125742.0'\n",
       "\\item '126752.0'\n",
       "\\item '122834.0'\n",
       "\\item '118720.0'\n",
       "\\item '114303.0'\n",
       "\\item '115408.0'\n",
       "\\item '112244.0'\n",
       "\\item '111369.0'\n",
       "\\item '116391.0'\n",
       "\\item '115748.0'\n",
       "\\item '120694.0'\n",
       "\\item '125055.0'\n",
       "\\item '123546.0'\n",
       "\\item '116733.0'\n",
       "\\item '106520.0'\n",
       "\\item '119143.0'\n",
       "\\item '104433.0'\n",
       "\\item '124246.0'\n",
       "\\item '122729.0'\n",
       "\\item '107437.0'\n",
       "\\item '103709.0'\n",
       "\\item '106204.0'\n",
       "\\item '101659.0'\n",
       "\\item '124504.0'\n",
       "\\item '121059.0'\n",
       "\\item '129348.0'\n",
       "\\item '103882.0'\n",
       "\\item '113429.0'\n",
       "\\item '121535.0'\n",
       "\\item '130614.0'\n",
       "\\item '129327.0'\n",
       "\\item '128579.0'\n",
       "\\item '112252.0'\n",
       "\\item '104650.0'\n",
       "\\item '107823.0'\n",
       "\\item '106450.0'\n",
       "\\item '100676.0'\n",
       "\\item '132167.0'\n",
       "\\item '104638.0'\n",
       "\\item '122738.0'\n",
       "\\item '110735.0'\n",
       "\\item '109687.0'\n",
       "\\item '103131.0'\n",
       "\\item '129168.0'\n",
       "\\item '130320.0'\n",
       "\\item '100569.0'\n",
       "\\item '126888.0'\n",
       "\\item '102798.0'\n",
       "\\item '111607.0'\n",
       "\\item '116543.0'\n",
       "\\item '107304.0'\n",
       "\\item '130946.0'\n",
       "\\item '121112.0'\n",
       "\\item '132097.0'\n",
       "\\item '122717.0'\n",
       "\\item '111754.0'\n",
       "\\item '117783.0'\n",
       "\\item '113403.0'\n",
       "\\item '129165.0'\n",
       "\\item '116115.0'\n",
       "\\item '110980.0'\n",
       "\\item '106443.0'\n",
       "\\item '106924.0'\n",
       "\\item '110403.0'\n",
       "\\item '124982.0'\n",
       "\\item '103162.0'\n",
       "\\item '122647.0'\n",
       "\\item '120349.0'\n",
       "\\item '118064.0'\n",
       "\\item '112945.0'\n",
       "\\item '113786.0'\n",
       "\\item '109712.0'\n",
       "\\item '128584.0'\n",
       "\\item '120734.0'\n",
       "\\item '114064.0'\n",
       "\\item '113814.0'\n",
       "\\item '114869.0'\n",
       "\\item '106959.0'\n",
       "\\item '129278.0'\n",
       "\\item '124130.0'\n",
       "\\item '121893.0'\n",
       "\\item '131861.0'\n",
       "\\item '100246.0'\n",
       "\\item '102565.0'\n",
       "\\item '106960.0'\n",
       "\\item '128548.0'\n",
       "\\item '115419.0'\n",
       "\\item '103792.0'\n",
       "\\item '107360.0'\n",
       "\\item '115201.0'\n",
       "\\item '121021.0'\n",
       "\\item '103260.0'\n",
       "\\item '112480.0'\n",
       "\\item '119229.0'\n",
       "\\item '127163.0'\n",
       "\\item '129517.0'\n",
       "\\item '114248.0'\n",
       "\\item '109394.0'\n",
       "\\item '128927.0'\n",
       "\\item '115764.0'\n",
       "\\item '101839.0'\n",
       "\\item '117192.0'\n",
       "\\item '119562.0'\n",
       "\\item '128387.0'\n",
       "\\item '123973.0'\n",
       "\\item '105424.0'\n",
       "\\item '100370.0'\n",
       "\\item '124673.0'\n",
       "\\item '115848.0'\n",
       "\\item '121193.0'\n",
       "\\item '121476.0'\n",
       "\\item '114781.0'\n",
       "\\item '106277.0'\n",
       "\\item '110203.0'\n",
       "\\item '116978.0'\n",
       "\\item '110626.0'\n",
       "\\item '106034.0'\n",
       "\\item '130351.0'\n",
       "\\item '123992.0'\n",
       "\\item '127455.0'\n",
       "\\item '100301.0'\n",
       "\\item '112746.0'\n",
       "\\item '131494.0'\n",
       "\\item '118472.0'\n",
       "\\item '108890.0'\n",
       "\\item '121526.0'\n",
       "\\item '122424.0'\n",
       "\\item '128202.0'\n",
       "\\item '105723.0'\n",
       "\\item '110073.0'\n",
       "\\item '113728.0'\n",
       "\\item '114319.0'\n",
       "\\item '126887.0'\n",
       "\\item '122395.0'\n",
       "\\item '115567.0'\n",
       "\\item '121972.0'\n",
       "\\item '100555.0'\n",
       "\\item '107893.0'\n",
       "\\item '115856.0'\n",
       "\\item '106305.0'\n",
       "\\item '105739.0'\n",
       "\\item '101789.0'\n",
       "\\item '106101.0'\n",
       "\\item '119066.0'\n",
       "\\item '101278.0'\n",
       "\\item '124290.0'\n",
       "\\item '125212.0'\n",
       "\\item '115185.0'\n",
       "\\item '115344.0'\n",
       "\\item '119810.0'\n",
       "\\item '117066.0'\n",
       "\\item '116529.0'\n",
       "\\item '130112.0'\n",
       "\\item '125844.0'\n",
       "\\item '129516.0'\n",
       "\\item '122415.0'\n",
       "\\item '128088.0'\n",
       "\\item '129003.0'\n",
       "\\item '126978.0'\n",
       "\\item '116770.0'\n",
       "\\item '114135.0'\n",
       "\\item '118469.0'\n",
       "\\item '112063.0'\n",
       "\\item '119566.0'\n",
       "\\item '120621.0'\n",
       "\\item '114219.0'\n",
       "\\item '109545.0'\n",
       "\\item '104609.0'\n",
       "\\item '105473.0'\n",
       "\\item '112029.0'\n",
       "\\item '128457.0'\n",
       "\\item '100020.0'\n",
       "\\item '111723.0'\n",
       "\\item '108012.0'\n",
       "\\item '119568.0'\n",
       "\\item '124032.0'\n",
       "\\item '129324.0'\n",
       "\\item '123061.0'\n",
       "\\item '115210.0'\n",
       "\\item '120739.0'\n",
       "\\item '111952.0'\n",
       "\\item '107333.0'\n",
       "\\item '109923.0'\n",
       "\\item '112479.0'\n",
       "\\item '114166.0'\n",
       "\\item ...\n",
       "\\item '103235.0'\n",
       "\\item '125888.0'\n",
       "\\item '101607.0'\n",
       "\\item '127480.0'\n",
       "\\item '103188.0'\n",
       "\\item '109483.0'\n",
       "\\item '111583.0'\n",
       "\\item '101897.0'\n",
       "\\item '106455.0'\n",
       "\\item '118077.0'\n",
       "\\item '130585.0'\n",
       "\\item '130908.0'\n",
       "\\item '110903.0'\n",
       "\\item '112655.0'\n",
       "\\item '116039.0'\n",
       "\\item '106873.0'\n",
       "\\item '120552.0'\n",
       "\\item '109066.0'\n",
       "\\item '116839.0'\n",
       "\\item '112812.0'\n",
       "\\item '105753.0'\n",
       "\\item '100330.0'\n",
       "\\item '124084.0'\n",
       "\\item '127141.0'\n",
       "\\item '111889.0'\n",
       "\\item '113344.0'\n",
       "\\item '129670.0'\n",
       "\\item '105987.0'\n",
       "\\item '106777.0'\n",
       "\\item '116941.0'\n",
       "\\item '131267.0'\n",
       "\\item '127454.0'\n",
       "\\item '110080.0'\n",
       "\\item '110144.0'\n",
       "\\item '100646.0'\n",
       "\\item '121452.0'\n",
       "\\item '123272.0'\n",
       "\\item '104695.0'\n",
       "\\item '122850.0'\n",
       "\\item '114941.0'\n",
       "\\item '111812.0'\n",
       "\\item '105485.0'\n",
       "\\item '122079.0'\n",
       "\\item '126368.0'\n",
       "\\item '110079.0'\n",
       "\\item '129413.0'\n",
       "\\item '131911.0'\n",
       "\\item '104919.0'\n",
       "\\item '101406.0'\n",
       "\\item '128400.0'\n",
       "\\item '122367.0'\n",
       "\\item '120933.0'\n",
       "\\item '108106.0'\n",
       "\\item '112695.0'\n",
       "\\item '116612.0'\n",
       "\\item '122197.0'\n",
       "\\item '115763.0'\n",
       "\\item '106534.0'\n",
       "\\item '114109.0'\n",
       "\\item '124091.0'\n",
       "\\item '132108.0'\n",
       "\\item '123957.0'\n",
       "\\item '112690.0'\n",
       "\\item '112650.0'\n",
       "\\item '108857.0'\n",
       "\\item '125241.0'\n",
       "\\item '107860.0'\n",
       "\\item '112177.0'\n",
       "\\item '121599.0'\n",
       "\\item '123228.0'\n",
       "\\item '107547.0'\n",
       "\\item '116905.0'\n",
       "\\item '121091.0'\n",
       "\\item '118739.0'\n",
       "\\item '114172.0'\n",
       "\\item '104785.0'\n",
       "\\item '109219.0'\n",
       "\\item '126836.0'\n",
       "\\item '108571.0'\n",
       "\\item '128372.0'\n",
       "\\item '122806.0'\n",
       "\\item '127061.0'\n",
       "\\item '127960.0'\n",
       "\\item '114535.0'\n",
       "\\item '110337.0'\n",
       "\\item '115107.0'\n",
       "\\item '109096.0'\n",
       "\\item '109208.0'\n",
       "\\item '121669.0'\n",
       "\\item '107677.0'\n",
       "\\item '124666.0'\n",
       "\\item '109315.0'\n",
       "\\item '129440.0'\n",
       "\\item '108649.0'\n",
       "\\item '120934.0'\n",
       "\\item '102507.0'\n",
       "\\item '108071.0'\n",
       "\\item '130865.0'\n",
       "\\item '112415.0'\n",
       "\\item '105171.0'\n",
       "\\item '118815.0'\n",
       "\\item '117077.0'\n",
       "\\item '120162.0'\n",
       "\\item '112751.0'\n",
       "\\item '122748.0'\n",
       "\\item '104512.0'\n",
       "\\item '122870.0'\n",
       "\\item '129964.0'\n",
       "\\item '115320.0'\n",
       "\\item '124978.0'\n",
       "\\item '104599.0'\n",
       "\\item '114800.0'\n",
       "\\item '118845.0'\n",
       "\\item '114589.0'\n",
       "\\item '111308.0'\n",
       "\\item '108235.0'\n",
       "\\item '121022.0'\n",
       "\\item '116961.0'\n",
       "\\item '125991.0'\n",
       "\\item '120301.0'\n",
       "\\item '129277.0'\n",
       "\\item '119831.0'\n",
       "\\item '122348.0'\n",
       "\\item '130711.0'\n",
       "\\item '105614.0'\n",
       "\\item '119363.0'\n",
       "\\item '123531.0'\n",
       "\\item '114500.0'\n",
       "\\item '127224.0'\n",
       "\\item '116057.0'\n",
       "\\item '119798.0'\n",
       "\\item '108103.0'\n",
       "\\item '129091.0'\n",
       "\\item '124468.0'\n",
       "\\item '108380.0'\n",
       "\\item '126219.0'\n",
       "\\item '107125.0'\n",
       "\\item '128877.0'\n",
       "\\item '115198.0'\n",
       "\\item '103627.0'\n",
       "\\item '130552.0'\n",
       "\\item '120848.0'\n",
       "\\item '108378.0'\n",
       "\\item '132227.0'\n",
       "\\item '117476.0'\n",
       "\\item '120571.0'\n",
       "\\item '125883.0'\n",
       "\\item '107196.0'\n",
       "\\item '105088.0'\n",
       "\\item '104311.0'\n",
       "\\item '125259.0'\n",
       "\\item '102647.0'\n",
       "\\item '128455.0'\n",
       "\\item '109720.0'\n",
       "\\item '108211.0'\n",
       "\\item '106002.0'\n",
       "\\item '101317.0'\n",
       "\\item '108417.0'\n",
       "\\item '106558.0'\n",
       "\\item '103098.0'\n",
       "\\item '131363.0'\n",
       "\\item '123154.0'\n",
       "\\item '111777.0'\n",
       "\\item '123345.0'\n",
       "\\item '107021.0'\n",
       "\\item '118731.0'\n",
       "\\item '101635.0'\n",
       "\\item '120002.0'\n",
       "\\item '102200.0'\n",
       "\\item '114645.0'\n",
       "\\item '113771.0'\n",
       "\\item '107987.0'\n",
       "\\item '108072.0'\n",
       "\\item '109299.0'\n",
       "\\item '129225.0'\n",
       "\\item '118854.0'\n",
       "\\item '105887.0'\n",
       "\\item '105142.0'\n",
       "\\item '120847.0'\n",
       "\\item '109816.0'\n",
       "\\item '129597.0'\n",
       "\\item '130643.0'\n",
       "\\item '122409.0'\n",
       "\\item '101961.0'\n",
       "\\item '107959.0'\n",
       "\\item '112582.0'\n",
       "\\item '124903.0'\n",
       "\\item '116250.0'\n",
       "\\item '125379.0'\n",
       "\\item '120267.0'\n",
       "\\item '116303.0'\n",
       "\\item '105838.0'\n",
       "\\item '126443.0'\n",
       "\\item '117099.0'\n",
       "\\item '113267.0'\n",
       "\\item '112171.0'\n",
       "\\item '112866.0'\n",
       "\\item '114131.0'\n",
       "\\item '128404.0'\n",
       "\\item '109924.0'\n",
       "\\end{enumerate*}\n"
      ],
      "text/markdown": [
       "1. '109751.0'\n",
       "2. '128710.0'\n",
       "3. '126060.0'\n",
       "4. '115867.0'\n",
       "5. '129027.0'\n",
       "6. '130659.0'\n",
       "7. '104270.0'\n",
       "8. '122973.0'\n",
       "9. '115374.0'\n",
       "10. '112994.0'\n",
       "11. '121132.0'\n",
       "12. '106519.0'\n",
       "13. '120608.0'\n",
       "14. '127351.0'\n",
       "15. '126710.0'\n",
       "16. '125742.0'\n",
       "17. '126752.0'\n",
       "18. '122834.0'\n",
       "19. '118720.0'\n",
       "20. '114303.0'\n",
       "21. '115408.0'\n",
       "22. '112244.0'\n",
       "23. '111369.0'\n",
       "24. '116391.0'\n",
       "25. '115748.0'\n",
       "26. '120694.0'\n",
       "27. '125055.0'\n",
       "28. '123546.0'\n",
       "29. '116733.0'\n",
       "30. '106520.0'\n",
       "31. '119143.0'\n",
       "32. '104433.0'\n",
       "33. '124246.0'\n",
       "34. '122729.0'\n",
       "35. '107437.0'\n",
       "36. '103709.0'\n",
       "37. '106204.0'\n",
       "38. '101659.0'\n",
       "39. '124504.0'\n",
       "40. '121059.0'\n",
       "41. '129348.0'\n",
       "42. '103882.0'\n",
       "43. '113429.0'\n",
       "44. '121535.0'\n",
       "45. '130614.0'\n",
       "46. '129327.0'\n",
       "47. '128579.0'\n",
       "48. '112252.0'\n",
       "49. '104650.0'\n",
       "50. '107823.0'\n",
       "51. '106450.0'\n",
       "52. '100676.0'\n",
       "53. '132167.0'\n",
       "54. '104638.0'\n",
       "55. '122738.0'\n",
       "56. '110735.0'\n",
       "57. '109687.0'\n",
       "58. '103131.0'\n",
       "59. '129168.0'\n",
       "60. '130320.0'\n",
       "61. '100569.0'\n",
       "62. '126888.0'\n",
       "63. '102798.0'\n",
       "64. '111607.0'\n",
       "65. '116543.0'\n",
       "66. '107304.0'\n",
       "67. '130946.0'\n",
       "68. '121112.0'\n",
       "69. '132097.0'\n",
       "70. '122717.0'\n",
       "71. '111754.0'\n",
       "72. '117783.0'\n",
       "73. '113403.0'\n",
       "74. '129165.0'\n",
       "75. '116115.0'\n",
       "76. '110980.0'\n",
       "77. '106443.0'\n",
       "78. '106924.0'\n",
       "79. '110403.0'\n",
       "80. '124982.0'\n",
       "81. '103162.0'\n",
       "82. '122647.0'\n",
       "83. '120349.0'\n",
       "84. '118064.0'\n",
       "85. '112945.0'\n",
       "86. '113786.0'\n",
       "87. '109712.0'\n",
       "88. '128584.0'\n",
       "89. '120734.0'\n",
       "90. '114064.0'\n",
       "91. '113814.0'\n",
       "92. '114869.0'\n",
       "93. '106959.0'\n",
       "94. '129278.0'\n",
       "95. '124130.0'\n",
       "96. '121893.0'\n",
       "97. '131861.0'\n",
       "98. '100246.0'\n",
       "99. '102565.0'\n",
       "100. '106960.0'\n",
       "101. '128548.0'\n",
       "102. '115419.0'\n",
       "103. '103792.0'\n",
       "104. '107360.0'\n",
       "105. '115201.0'\n",
       "106. '121021.0'\n",
       "107. '103260.0'\n",
       "108. '112480.0'\n",
       "109. '119229.0'\n",
       "110. '127163.0'\n",
       "111. '129517.0'\n",
       "112. '114248.0'\n",
       "113. '109394.0'\n",
       "114. '128927.0'\n",
       "115. '115764.0'\n",
       "116. '101839.0'\n",
       "117. '117192.0'\n",
       "118. '119562.0'\n",
       "119. '128387.0'\n",
       "120. '123973.0'\n",
       "121. '105424.0'\n",
       "122. '100370.0'\n",
       "123. '124673.0'\n",
       "124. '115848.0'\n",
       "125. '121193.0'\n",
       "126. '121476.0'\n",
       "127. '114781.0'\n",
       "128. '106277.0'\n",
       "129. '110203.0'\n",
       "130. '116978.0'\n",
       "131. '110626.0'\n",
       "132. '106034.0'\n",
       "133. '130351.0'\n",
       "134. '123992.0'\n",
       "135. '127455.0'\n",
       "136. '100301.0'\n",
       "137. '112746.0'\n",
       "138. '131494.0'\n",
       "139. '118472.0'\n",
       "140. '108890.0'\n",
       "141. '121526.0'\n",
       "142. '122424.0'\n",
       "143. '128202.0'\n",
       "144. '105723.0'\n",
       "145. '110073.0'\n",
       "146. '113728.0'\n",
       "147. '114319.0'\n",
       "148. '126887.0'\n",
       "149. '122395.0'\n",
       "150. '115567.0'\n",
       "151. '121972.0'\n",
       "152. '100555.0'\n",
       "153. '107893.0'\n",
       "154. '115856.0'\n",
       "155. '106305.0'\n",
       "156. '105739.0'\n",
       "157. '101789.0'\n",
       "158. '106101.0'\n",
       "159. '119066.0'\n",
       "160. '101278.0'\n",
       "161. '124290.0'\n",
       "162. '125212.0'\n",
       "163. '115185.0'\n",
       "164. '115344.0'\n",
       "165. '119810.0'\n",
       "166. '117066.0'\n",
       "167. '116529.0'\n",
       "168. '130112.0'\n",
       "169. '125844.0'\n",
       "170. '129516.0'\n",
       "171. '122415.0'\n",
       "172. '128088.0'\n",
       "173. '129003.0'\n",
       "174. '126978.0'\n",
       "175. '116770.0'\n",
       "176. '114135.0'\n",
       "177. '118469.0'\n",
       "178. '112063.0'\n",
       "179. '119566.0'\n",
       "180. '120621.0'\n",
       "181. '114219.0'\n",
       "182. '109545.0'\n",
       "183. '104609.0'\n",
       "184. '105473.0'\n",
       "185. '112029.0'\n",
       "186. '128457.0'\n",
       "187. '100020.0'\n",
       "188. '111723.0'\n",
       "189. '108012.0'\n",
       "190. '119568.0'\n",
       "191. '124032.0'\n",
       "192. '129324.0'\n",
       "193. '123061.0'\n",
       "194. '115210.0'\n",
       "195. '120739.0'\n",
       "196. '111952.0'\n",
       "197. '107333.0'\n",
       "198. '109923.0'\n",
       "199. '112479.0'\n",
       "200. '114166.0'\n",
       "201. ...\n",
       "202. '103235.0'\n",
       "203. '125888.0'\n",
       "204. '101607.0'\n",
       "205. '127480.0'\n",
       "206. '103188.0'\n",
       "207. '109483.0'\n",
       "208. '111583.0'\n",
       "209. '101897.0'\n",
       "210. '106455.0'\n",
       "211. '118077.0'\n",
       "212. '130585.0'\n",
       "213. '130908.0'\n",
       "214. '110903.0'\n",
       "215. '112655.0'\n",
       "216. '116039.0'\n",
       "217. '106873.0'\n",
       "218. '120552.0'\n",
       "219. '109066.0'\n",
       "220. '116839.0'\n",
       "221. '112812.0'\n",
       "222. '105753.0'\n",
       "223. '100330.0'\n",
       "224. '124084.0'\n",
       "225. '127141.0'\n",
       "226. '111889.0'\n",
       "227. '113344.0'\n",
       "228. '129670.0'\n",
       "229. '105987.0'\n",
       "230. '106777.0'\n",
       "231. '116941.0'\n",
       "232. '131267.0'\n",
       "233. '127454.0'\n",
       "234. '110080.0'\n",
       "235. '110144.0'\n",
       "236. '100646.0'\n",
       "237. '121452.0'\n",
       "238. '123272.0'\n",
       "239. '104695.0'\n",
       "240. '122850.0'\n",
       "241. '114941.0'\n",
       "242. '111812.0'\n",
       "243. '105485.0'\n",
       "244. '122079.0'\n",
       "245. '126368.0'\n",
       "246. '110079.0'\n",
       "247. '129413.0'\n",
       "248. '131911.0'\n",
       "249. '104919.0'\n",
       "250. '101406.0'\n",
       "251. '128400.0'\n",
       "252. '122367.0'\n",
       "253. '120933.0'\n",
       "254. '108106.0'\n",
       "255. '112695.0'\n",
       "256. '116612.0'\n",
       "257. '122197.0'\n",
       "258. '115763.0'\n",
       "259. '106534.0'\n",
       "260. '114109.0'\n",
       "261. '124091.0'\n",
       "262. '132108.0'\n",
       "263. '123957.0'\n",
       "264. '112690.0'\n",
       "265. '112650.0'\n",
       "266. '108857.0'\n",
       "267. '125241.0'\n",
       "268. '107860.0'\n",
       "269. '112177.0'\n",
       "270. '121599.0'\n",
       "271. '123228.0'\n",
       "272. '107547.0'\n",
       "273. '116905.0'\n",
       "274. '121091.0'\n",
       "275. '118739.0'\n",
       "276. '114172.0'\n",
       "277. '104785.0'\n",
       "278. '109219.0'\n",
       "279. '126836.0'\n",
       "280. '108571.0'\n",
       "281. '128372.0'\n",
       "282. '122806.0'\n",
       "283. '127061.0'\n",
       "284. '127960.0'\n",
       "285. '114535.0'\n",
       "286. '110337.0'\n",
       "287. '115107.0'\n",
       "288. '109096.0'\n",
       "289. '109208.0'\n",
       "290. '121669.0'\n",
       "291. '107677.0'\n",
       "292. '124666.0'\n",
       "293. '109315.0'\n",
       "294. '129440.0'\n",
       "295. '108649.0'\n",
       "296. '120934.0'\n",
       "297. '102507.0'\n",
       "298. '108071.0'\n",
       "299. '130865.0'\n",
       "300. '112415.0'\n",
       "301. '105171.0'\n",
       "302. '118815.0'\n",
       "303. '117077.0'\n",
       "304. '120162.0'\n",
       "305. '112751.0'\n",
       "306. '122748.0'\n",
       "307. '104512.0'\n",
       "308. '122870.0'\n",
       "309. '129964.0'\n",
       "310. '115320.0'\n",
       "311. '124978.0'\n",
       "312. '104599.0'\n",
       "313. '114800.0'\n",
       "314. '118845.0'\n",
       "315. '114589.0'\n",
       "316. '111308.0'\n",
       "317. '108235.0'\n",
       "318. '121022.0'\n",
       "319. '116961.0'\n",
       "320. '125991.0'\n",
       "321. '120301.0'\n",
       "322. '129277.0'\n",
       "323. '119831.0'\n",
       "324. '122348.0'\n",
       "325. '130711.0'\n",
       "326. '105614.0'\n",
       "327. '119363.0'\n",
       "328. '123531.0'\n",
       "329. '114500.0'\n",
       "330. '127224.0'\n",
       "331. '116057.0'\n",
       "332. '119798.0'\n",
       "333. '108103.0'\n",
       "334. '129091.0'\n",
       "335. '124468.0'\n",
       "336. '108380.0'\n",
       "337. '126219.0'\n",
       "338. '107125.0'\n",
       "339. '128877.0'\n",
       "340. '115198.0'\n",
       "341. '103627.0'\n",
       "342. '130552.0'\n",
       "343. '120848.0'\n",
       "344. '108378.0'\n",
       "345. '132227.0'\n",
       "346. '117476.0'\n",
       "347. '120571.0'\n",
       "348. '125883.0'\n",
       "349. '107196.0'\n",
       "350. '105088.0'\n",
       "351. '104311.0'\n",
       "352. '125259.0'\n",
       "353. '102647.0'\n",
       "354. '128455.0'\n",
       "355. '109720.0'\n",
       "356. '108211.0'\n",
       "357. '106002.0'\n",
       "358. '101317.0'\n",
       "359. '108417.0'\n",
       "360. '106558.0'\n",
       "361. '103098.0'\n",
       "362. '131363.0'\n",
       "363. '123154.0'\n",
       "364. '111777.0'\n",
       "365. '123345.0'\n",
       "366. '107021.0'\n",
       "367. '118731.0'\n",
       "368. '101635.0'\n",
       "369. '120002.0'\n",
       "370. '102200.0'\n",
       "371. '114645.0'\n",
       "372. '113771.0'\n",
       "373. '107987.0'\n",
       "374. '108072.0'\n",
       "375. '109299.0'\n",
       "376. '129225.0'\n",
       "377. '118854.0'\n",
       "378. '105887.0'\n",
       "379. '105142.0'\n",
       "380. '120847.0'\n",
       "381. '109816.0'\n",
       "382. '129597.0'\n",
       "383. '130643.0'\n",
       "384. '122409.0'\n",
       "385. '101961.0'\n",
       "386. '107959.0'\n",
       "387. '112582.0'\n",
       "388. '124903.0'\n",
       "389. '116250.0'\n",
       "390. '125379.0'\n",
       "391. '120267.0'\n",
       "392. '116303.0'\n",
       "393. '105838.0'\n",
       "394. '126443.0'\n",
       "395. '117099.0'\n",
       "396. '113267.0'\n",
       "397. '112171.0'\n",
       "398. '112866.0'\n",
       "399. '114131.0'\n",
       "400. '128404.0'\n",
       "401. '109924.0'\n",
       "\n",
       "\n"
      ],
      "text/plain": [
       "  [1] \"109751.0\" \"128710.0\" \"126060.0\" \"115867.0\" \"129027.0\" \"130659.0\"\n",
       "  [7] \"104270.0\" \"122973.0\" \"115374.0\" \"112994.0\" \"121132.0\" \"106519.0\"\n",
       " [13] \"120608.0\" \"127351.0\" \"126710.0\" \"125742.0\" \"126752.0\" \"122834.0\"\n",
       " [19] \"118720.0\" \"114303.0\" \"115408.0\" \"112244.0\" \"111369.0\" \"116391.0\"\n",
       " [25] \"115748.0\" \"120694.0\" \"125055.0\" \"123546.0\" \"116733.0\" \"106520.0\"\n",
       " [31] \"119143.0\" \"104433.0\" \"124246.0\" \"122729.0\" \"107437.0\" \"103709.0\"\n",
       " [37] \"106204.0\" \"101659.0\" \"124504.0\" \"121059.0\" \"129348.0\" \"103882.0\"\n",
       " [43] \"113429.0\" \"121535.0\" \"130614.0\" \"129327.0\" \"128579.0\" \"112252.0\"\n",
       " [49] \"104650.0\" \"107823.0\" \"106450.0\" \"100676.0\" \"132167.0\" \"104638.0\"\n",
       " [55] \"122738.0\" \"110735.0\" \"109687.0\" \"103131.0\" \"129168.0\" \"130320.0\"\n",
       " [61] \"100569.0\" \"126888.0\" \"102798.0\" \"111607.0\" \"116543.0\" \"107304.0\"\n",
       " [67] \"130946.0\" \"121112.0\" \"132097.0\" \"122717.0\" \"111754.0\" \"117783.0\"\n",
       " [73] \"113403.0\" \"129165.0\" \"116115.0\" \"110980.0\" \"106443.0\" \"106924.0\"\n",
       " [79] \"110403.0\" \"124982.0\" \"103162.0\" \"122647.0\" \"120349.0\" \"118064.0\"\n",
       " [85] \"112945.0\" \"113786.0\" \"109712.0\" \"128584.0\" \"120734.0\" \"114064.0\"\n",
       " [91] \"113814.0\" \"114869.0\" \"106959.0\" \"129278.0\" \"124130.0\" \"121893.0\"\n",
       " [97] \"131861.0\" \"100246.0\" \"102565.0\" \"106960.0\" \"128548.0\" \"115419.0\"\n",
       "[103] \"103792.0\" \"107360.0\" \"115201.0\" \"121021.0\" \"103260.0\" \"112480.0\"\n",
       "[109] \"119229.0\" \"127163.0\" \"129517.0\" \"114248.0\" \"109394.0\" \"128927.0\"\n",
       "[115] \"115764.0\" \"101839.0\" \"117192.0\" \"119562.0\" \"128387.0\" \"123973.0\"\n",
       "[121] \"105424.0\" \"100370.0\" \"124673.0\" \"115848.0\" \"121193.0\" \"121476.0\"\n",
       "[127] \"114781.0\" \"106277.0\" \"110203.0\" \"116978.0\" \"110626.0\" \"106034.0\"\n",
       "[133] \"130351.0\" \"123992.0\" \"127455.0\" \"100301.0\" \"112746.0\" \"131494.0\"\n",
       "[139] \"118472.0\" \"108890.0\" \"121526.0\" \"122424.0\" \"128202.0\" \"105723.0\"\n",
       "[145] \"110073.0\" \"113728.0\" \"114319.0\" \"126887.0\" \"122395.0\" \"115567.0\"\n",
       "[151] \"121972.0\" \"100555.0\" \"107893.0\" \"115856.0\" \"106305.0\" \"105739.0\"\n",
       "[157] \"101789.0\" \"106101.0\" \"119066.0\" \"101278.0\" \"124290.0\" \"125212.0\"\n",
       "[163] \"115185.0\" \"115344.0\" \"119810.0\" \"117066.0\" \"116529.0\" \"130112.0\"\n",
       "[169] \"125844.0\" \"129516.0\" \"122415.0\" \"128088.0\" \"129003.0\" \"126978.0\"\n",
       "[175] \"116770.0\" \"114135.0\" \"118469.0\" \"112063.0\" \"119566.0\" \"120621.0\"\n",
       "[181] \"114219.0\" \"109545.0\" \"104609.0\" \"105473.0\" \"112029.0\" \"128457.0\"\n",
       "[187] \"100020.0\" \"111723.0\" \"108012.0\" \"119568.0\" \"124032.0\" \"129324.0\"\n",
       "[193] \"123061.0\" \"115210.0\" \"120739.0\" \"111952.0\" \"107333.0\" \"109923.0\"\n",
       "[199] \"112479.0\" \"114166.0\" \"111713.0\" \"120435.0\" \"113631.0\" \"110207.0\"\n",
       "[205] \"113437.0\" \"122921.0\" \"106013.0\" \"130860.0\" \"119140.0\" \"115417.0\"\n",
       "[211] \"128066.0\" \"104489.0\" \"116355.0\" \"103346.0\" \"119847.0\" \"117153.0\"\n",
       "[217] \"128137.0\" \"128764.0\" \"131066.0\" \"122346.0\" \"102508.0\" \"120742.0\"\n",
       "[223] \"112025.0\" \"119310.0\" \"108172.0\" \"120032.0\" \"113937.0\" \"103026.0\"\n",
       "[229] \"131200.0\" \"129485.0\" \"114568.0\" \"113701.0\" \"124457.0\" \"103586.0\"\n",
       "[235] \"104443.0\" \"110596.0\" \"114003.0\" \"117764.0\" \"114057.0\" \"114574.0\"\n",
       "[241] \"122524.0\" \"100343.0\" \"125215.0\" \"131183.0\" \"108760.0\" \"103288.0\"\n",
       "[247] \"106680.0\" \"129506.0\" \"131515.0\" \"118556.0\" \"105938.0\" \"119309.0\"\n",
       "[253] \"125249.0\" \"103507.0\" \"130131.0\" \"101506.0\" \"105823.0\" \"108298.0\"\n",
       "[259] \"111903.0\" \"117102.0\" \"110702.0\" \"117298.0\" \"119883.0\" \"120075.0\"\n",
       "[265] \"126450.0\" \"124068.0\" \"115774.0\" \"110091.0\" \"105644.0\" \"103016.0\"\n",
       "[271] \"128816.0\" \"124538.0\" \"127827.0\" \"102279.0\" \"109544.0\" \"117397.0\"\n",
       "[277] \"117434.0\" \"114171.0\" \"124998.0\" \"113343.0\" \"112341.0\" \"131103.0\"\n",
       "[283] \"120330.0\" \"131445.0\" \"128778.0\" \"106494.0\" \"114804.0\" \"110110.0\"\n",
       "[289] \"111182.0\" \"116304.0\" \"111549.0\" \"116218.0\" \"114670.0\" \"124040.0\"\n",
       "[295] \"104332.0\" \"116045.0\" \"127005.0\" \"117071.0\" \"104962.0\" \"127805.0\"\n",
       "[301] \"132311.0\" \"105464.0\" \"131913.0\" \"121165.0\" \"114594.0\" \"117884.0\"\n",
       "[307] \"132396.0\" \"100327.0\" \"118714.0\" \"116628.0\" \"126919.0\" \"109053.0\"\n",
       "[313] \"111195.0\" \"109305.0\" \"103235.0\" \"125888.0\" \"101607.0\" \"127480.0\"\n",
       "[319] \"103188.0\" \"109483.0\" \"111583.0\" \"101897.0\" \"106455.0\" \"118077.0\"\n",
       "[325] \"130585.0\" \"130908.0\" \"110903.0\" \"112655.0\" \"116039.0\" \"106873.0\"\n",
       "[331] \"120552.0\" \"109066.0\" \"116839.0\" \"112812.0\" \"105753.0\" \"100330.0\"\n",
       "[337] \"124084.0\" \"127141.0\" \"111889.0\" \"113344.0\" \"129670.0\" \"105987.0\"\n",
       "[343] \"106777.0\" \"116941.0\" \"131267.0\" \"127454.0\" \"110080.0\" \"110144.0\"\n",
       "[349] \"100646.0\" \"121452.0\" \"123272.0\" \"104695.0\" \"122850.0\" \"114941.0\"\n",
       "[355] \"111812.0\" \"105485.0\" \"122079.0\" \"126368.0\" \"110079.0\" \"129413.0\"\n",
       "[361] \"131911.0\" \"104919.0\" \"101406.0\" \"128400.0\" \"122367.0\" \"120933.0\"\n",
       "[367] \"108106.0\" \"112695.0\" \"116612.0\" \"122197.0\" \"115763.0\" \"106534.0\"\n",
       "[373] \"114109.0\" \"124091.0\" \"132108.0\" \"123957.0\" \"112690.0\" \"112650.0\"\n",
       "[379] \"108857.0\" \"125241.0\" \"107860.0\" \"112177.0\" \"121599.0\" \"123228.0\"\n",
       "[385] \"107547.0\" \"116905.0\" \"121091.0\" \"118739.0\" \"114172.0\" \"104785.0\"\n",
       "[391] \"109219.0\" \"126836.0\" \"108571.0\" \"128372.0\" \"122806.0\" \"127061.0\"\n",
       "[397] \"127960.0\" \"114535.0\" \"110337.0\" \"115107.0\" \"109096.0\" \"109208.0\"\n",
       "[403] \"121669.0\" \"107677.0\" \"124666.0\" \"109315.0\" \"129440.0\" \"108649.0\"\n",
       "[409] \"120934.0\" \"102507.0\" \"108071.0\" \"130865.0\" \"112415.0\" \"105171.0\"\n",
       "[415] \"118815.0\" \"117077.0\" \"120162.0\" \"112751.0\" \"122748.0\" \"104512.0\"\n",
       "[421] \"122870.0\" \"129964.0\" \"115320.0\" \"124978.0\" \"104599.0\" \"114800.0\"\n",
       "[427] \"118845.0\" \"114589.0\" \"111308.0\" \"108235.0\" \"121022.0\" \"116961.0\"\n",
       "[433] \"125991.0\" \"120301.0\" \"129277.0\" \"119831.0\" \"122348.0\" \"130711.0\"\n",
       "[439] \"105614.0\" \"119363.0\" \"123531.0\" \"114500.0\" \"127224.0\" \"116057.0\"\n",
       "[445] \"119798.0\" \"108103.0\" \"129091.0\" \"124468.0\" \"108380.0\" \"126219.0\"\n",
       "[451] \"107125.0\" \"128877.0\" \"115198.0\" \"103627.0\" \"130552.0\" \"120848.0\"\n",
       "[457] \"108378.0\" \"132227.0\" \"117476.0\" \"120571.0\" \"125883.0\" \"107196.0\"\n",
       "[463] \"105088.0\" \"104311.0\" \"125259.0\" \"102647.0\" \"128455.0\" \"109720.0\"\n",
       "[469] \"108211.0\" \"106002.0\" \"101317.0\" \"108417.0\" \"106558.0\" \"103098.0\"\n",
       "[475] \"131363.0\" \"123154.0\" \"111777.0\" \"123345.0\" \"107021.0\" \"118731.0\"\n",
       "[481] \"101635.0\" \"120002.0\" \"102200.0\" \"114645.0\" \"113771.0\" \"107987.0\"\n",
       "[487] \"108072.0\" \"109299.0\" \"129225.0\" \"118854.0\" \"105887.0\" \"105142.0\"\n",
       "[493] \"120847.0\" \"109816.0\" \"129597.0\" \"130643.0\" \"122409.0\" \"101961.0\"\n",
       "[499] \"107959.0\" \"112582.0\" \"124903.0\" \"116250.0\" \"125379.0\" \"120267.0\"\n",
       "[505] \"116303.0\" \"105838.0\" \"126443.0\" \"117099.0\" \"113267.0\" \"112171.0\"\n",
       "[511] \"112866.0\" \"114131.0\" \"128404.0\" \"109924.0\""
      ]
     },
     "metadata": {},
     "output_type": "display_data"
    }
   ],
   "source": [
    "df_merged_dropna %>%\n",
    "    filter(is.na(salary)) %>%\n",
    "    pull(UID) %>%\n",
    "    unique()"
   ]
  },
  {
   "cell_type": "code",
   "execution_count": 59,
   "metadata": {},
   "outputs": [
    {
     "name": "stdout",
     "output_type": "stream",
     "text": [
      "Rows: 1\n",
      "Columns: 26\n",
      "$ UID                \u001b[3m\u001b[90m<chr>\u001b[39m\u001b[23m \"109751.0\"\n",
      "$ pay_grade          \u001b[3m\u001b[90m<chr>\u001b[39m\u001b[23m NA\n",
      "$ rank               \u001b[3m\u001b[90m<chr>\u001b[39m\u001b[23m NA\n",
      "$ salary             \u001b[3m\u001b[90m<dbl>\u001b[39m\u001b[23m NA\n",
      "$ year               \u001b[3m\u001b[90m<dbl>\u001b[39m\u001b[23m 2009\n",
      "$ spp_date           \u001b[3m\u001b[90m<date>\u001b[39m\u001b[23m NA\n",
      "$ cleaned_rank       \u001b[3m\u001b[90m<chr>\u001b[39m\u001b[23m NA\n",
      "$ link_UID           \u001b[3m\u001b[90m<chr>\u001b[39m\u001b[23m \"24251.0\"\n",
      "$ complaint_category \u001b[3m\u001b[90m<chr>\u001b[39m\u001b[23m \"EXCESSIVE FORCE:  NO ARREST\"\n",
      "$ complaint_code     \u001b[3m\u001b[90m<chr>\u001b[39m\u001b[23m \"05D\"\n",
      "$ cr_id              \u001b[3m\u001b[90m<chr>\u001b[39m\u001b[23m \"C192008\"\n",
      "$ cv.x               \u001b[3m\u001b[90m<chr>\u001b[39m\u001b[23m \"1\"\n",
      "$ final_finding      \u001b[3m\u001b[90m<chr>\u001b[39m\u001b[23m \"UN\"\n",
      "$ final_outcome      \u001b[3m\u001b[90m<chr>\u001b[39m\u001b[23m \"NO ACTION TAKEN\"\n",
      "$ recc_finding       \u001b[3m\u001b[90m<chr>\u001b[39m\u001b[23m NA\n",
      "$ recc_outcome       \u001b[3m\u001b[90m<chr>\u001b[39m\u001b[23m NA\n",
      "$ cv.y               \u001b[3m\u001b[90m<chr>\u001b[39m\u001b[23m \"1\"\n",
      "$ incident_date      \u001b[3m\u001b[90m<date>\u001b[39m\u001b[23m 2009-05-03\n",
      "$ complaint_date     \u001b[3m\u001b[90m<date>\u001b[39m\u001b[23m 1992-05-03\n",
      "$ closed_date        \u001b[3m\u001b[90m<date>\u001b[39m\u001b[23m 1992-07-07\n",
      "$ add1               \u001b[3m\u001b[90m<chr>\u001b[39m\u001b[23m NA\n",
      "$ add2               \u001b[3m\u001b[90m<chr>\u001b[39m\u001b[23m NA\n",
      "$ beat               \u001b[3m\u001b[90m<chr>\u001b[39m\u001b[23m NA\n",
      "$ city               \u001b[3m\u001b[90m<chr>\u001b[39m\u001b[23m NA\n",
      "$ full_address       \u001b[3m\u001b[90m<chr>\u001b[39m\u001b[23m \"70TH AND RACINE ON THE STREET\"\n",
      "$ location           \u001b[3m\u001b[90m<chr>\u001b[39m\u001b[23m NA\n"
     ]
    }
   ],
   "source": [
    "df_merged_dropna %>%\n",
    "    filter(UID == \"109751.0\", is.na(salary)) %>%\n",
    "    glimpse()"
   ]
  },
  {
   "cell_type": "code",
   "execution_count": 65,
   "metadata": {},
   "outputs": [
    {
     "data": {
      "text/html": [
       "<table>\n",
       "<caption>A spec_tbl_df: 1 × 11</caption>\n",
       "<thead>\n",
       "\t<tr><th scope=col>cr_id</th><th scope=col>cv</th><th scope=col>incident_date</th><th scope=col>complaint_date</th><th scope=col>closed_date</th><th scope=col>add1</th><th scope=col>add2</th><th scope=col>beat</th><th scope=col>city</th><th scope=col>full_address</th><th scope=col>location</th></tr>\n",
       "\t<tr><th scope=col>&lt;chr&gt;</th><th scope=col>&lt;chr&gt;</th><th scope=col>&lt;chr&gt;</th><th scope=col>&lt;chr&gt;</th><th scope=col>&lt;chr&gt;</th><th scope=col>&lt;chr&gt;</th><th scope=col>&lt;chr&gt;</th><th scope=col>&lt;chr&gt;</th><th scope=col>&lt;chr&gt;</th><th scope=col>&lt;chr&gt;</th><th scope=col>&lt;chr&gt;</th></tr>\n",
       "</thead>\n",
       "<tbody>\n",
       "\t<tr><td>C192008</td><td>1</td><td>2009-05-03</td><td>1992-05-03</td><td>1992-07-07</td><td>NA</td><td>NA</td><td>NA</td><td>NA</td><td>70TH AND RACINE ON THE STREET</td><td>NA</td></tr>\n",
       "</tbody>\n",
       "</table>\n"
      ],
      "text/latex": [
       "A spec\\_tbl\\_df: 1 × 11\n",
       "\\begin{tabular}{lllllllllll}\n",
       " cr\\_id & cv & incident\\_date & complaint\\_date & closed\\_date & add1 & add2 & beat & city & full\\_address & location\\\\\n",
       " <chr> & <chr> & <chr> & <chr> & <chr> & <chr> & <chr> & <chr> & <chr> & <chr> & <chr>\\\\\n",
       "\\hline\n",
       "\t C192008 & 1 & 2009-05-03 & 1992-05-03 & 1992-07-07 & NA & NA & NA & NA & 70TH AND RACINE ON THE STREET & NA\\\\\n",
       "\\end{tabular}\n"
      ],
      "text/markdown": [
       "\n",
       "A spec_tbl_df: 1 × 11\n",
       "\n",
       "| cr_id &lt;chr&gt; | cv &lt;chr&gt; | incident_date &lt;chr&gt; | complaint_date &lt;chr&gt; | closed_date &lt;chr&gt; | add1 &lt;chr&gt; | add2 &lt;chr&gt; | beat &lt;chr&gt; | city &lt;chr&gt; | full_address &lt;chr&gt; | location &lt;chr&gt; |\n",
       "|---|---|---|---|---|---|---|---|---|---|---|\n",
       "| C192008 | 1 | 2009-05-03 | 1992-05-03 | 1992-07-07 | NA | NA | NA | NA | 70TH AND RACINE ON THE STREET | NA |\n",
       "\n"
      ],
      "text/plain": [
       "  cr_id   cv incident_date complaint_date closed_date add1 add2 beat city\n",
       "1 C192008 1  2009-05-03    1992-05-03     1992-07-07  NA   NA   NA   NA  \n",
       "  full_address                  location\n",
       "1 70TH AND RACINE ON THE STREET NA      "
      ]
     },
     "metadata": {},
     "output_type": "display_data"
    }
   ],
   "source": [
    "complaints_df %>%\n",
    "    filter(str_detect(cr_id,\"192008\"))"
   ]
  },
  {
   "cell_type": "code",
   "execution_count": 66,
   "metadata": {},
   "outputs": [
    {
     "data": {
      "text/html": [
       "'1006374'"
      ],
      "text/latex": [
       "'1006374'"
      ],
      "text/markdown": [
       "'1006374'"
      ],
      "text/plain": [
       "[1] \"1006374\""
      ]
     },
     "metadata": {},
     "output_type": "display_data"
    }
   ],
   "source": [
    "df_merged_dropna %>%\n",
    "    filter(UID == \"114166.0\", is.na(salary)) %>%\n",
    "    pull(cr_id)\n"
   ]
  },
  {
   "cell_type": "code",
   "execution_count": 67,
   "metadata": {},
   "outputs": [
    {
     "data": {
      "text/html": [
       "<table>\n",
       "<caption>A spec_tbl_df: 1 × 11</caption>\n",
       "<thead>\n",
       "\t<tr><th scope=col>cr_id</th><th scope=col>cv</th><th scope=col>incident_date</th><th scope=col>complaint_date</th><th scope=col>closed_date</th><th scope=col>add1</th><th scope=col>add2</th><th scope=col>beat</th><th scope=col>city</th><th scope=col>full_address</th><th scope=col>location</th></tr>\n",
       "\t<tr><th scope=col>&lt;chr&gt;</th><th scope=col>&lt;chr&gt;</th><th scope=col>&lt;chr&gt;</th><th scope=col>&lt;chr&gt;</th><th scope=col>&lt;chr&gt;</th><th scope=col>&lt;chr&gt;</th><th scope=col>&lt;chr&gt;</th><th scope=col>&lt;chr&gt;</th><th scope=col>&lt;chr&gt;</th><th scope=col>&lt;chr&gt;</th><th scope=col>&lt;chr&gt;</th></tr>\n",
       "</thead>\n",
       "<tbody>\n",
       "\t<tr><td>1006374</td><td>2</td><td>2007-06-07</td><td>2007-06-07</td><td>2008-01-30</td><td>NA</td><td>NA</td><td>0.0</td><td>CHICAGO IL</td><td>NA</td><td>XX</td></tr>\n",
       "</tbody>\n",
       "</table>\n"
      ],
      "text/latex": [
       "A spec\\_tbl\\_df: 1 × 11\n",
       "\\begin{tabular}{lllllllllll}\n",
       " cr\\_id & cv & incident\\_date & complaint\\_date & closed\\_date & add1 & add2 & beat & city & full\\_address & location\\\\\n",
       " <chr> & <chr> & <chr> & <chr> & <chr> & <chr> & <chr> & <chr> & <chr> & <chr> & <chr>\\\\\n",
       "\\hline\n",
       "\t 1006374 & 2 & 2007-06-07 & 2007-06-07 & 2008-01-30 & NA & NA & 0.0 & CHICAGO IL & NA & XX\\\\\n",
       "\\end{tabular}\n"
      ],
      "text/markdown": [
       "\n",
       "A spec_tbl_df: 1 × 11\n",
       "\n",
       "| cr_id &lt;chr&gt; | cv &lt;chr&gt; | incident_date &lt;chr&gt; | complaint_date &lt;chr&gt; | closed_date &lt;chr&gt; | add1 &lt;chr&gt; | add2 &lt;chr&gt; | beat &lt;chr&gt; | city &lt;chr&gt; | full_address &lt;chr&gt; | location &lt;chr&gt; |\n",
       "|---|---|---|---|---|---|---|---|---|---|---|\n",
       "| 1006374 | 2 | 2007-06-07 | 2007-06-07 | 2008-01-30 | NA | NA | 0.0 | CHICAGO IL | NA | XX |\n",
       "\n"
      ],
      "text/plain": [
       "  cr_id   cv incident_date complaint_date closed_date add1 add2 beat city      \n",
       "1 1006374 2  2007-06-07    2007-06-07     2008-01-30  NA   NA   0.0  CHICAGO IL\n",
       "  full_address location\n",
       "1 NA           XX      "
      ]
     },
     "metadata": {},
     "output_type": "display_data"
    }
   ],
   "source": [
    "complaints_df %>%\n",
    "    filter(str_detect(cr_id,\"1006374\"))"
   ]
  },
  {
   "cell_type": "code",
   "execution_count": 68,
   "metadata": {},
   "outputs": [
    {
     "data": {
      "text/html": [
       "<table>\n",
       "<caption>A spec_tbl_df: 3 × 26</caption>\n",
       "<thead>\n",
       "\t<tr><th scope=col>UID</th><th scope=col>pay_grade</th><th scope=col>rank</th><th scope=col>salary</th><th scope=col>year</th><th scope=col>spp_date</th><th scope=col>cleaned_rank</th><th scope=col>link_UID</th><th scope=col>complaint_category</th><th scope=col>complaint_code</th><th scope=col>...</th><th scope=col>cv.y</th><th scope=col>incident_date</th><th scope=col>complaint_date</th><th scope=col>closed_date</th><th scope=col>add1</th><th scope=col>add2</th><th scope=col>beat</th><th scope=col>city</th><th scope=col>full_address</th><th scope=col>location</th></tr>\n",
       "\t<tr><th scope=col>&lt;chr&gt;</th><th scope=col>&lt;chr&gt;</th><th scope=col>&lt;chr&gt;</th><th scope=col>&lt;dbl&gt;</th><th scope=col>&lt;dbl&gt;</th><th scope=col>&lt;date&gt;</th><th scope=col>&lt;chr&gt;</th><th scope=col>&lt;chr&gt;</th><th scope=col>&lt;chr&gt;</th><th scope=col>&lt;chr&gt;</th><th scope=col>...</th><th scope=col>&lt;chr&gt;</th><th scope=col>&lt;date&gt;</th><th scope=col>&lt;date&gt;</th><th scope=col>&lt;date&gt;</th><th scope=col>&lt;chr&gt;</th><th scope=col>&lt;chr&gt;</th><th scope=col>&lt;chr&gt;</th><th scope=col>&lt;chr&gt;</th><th scope=col>&lt;chr&gt;</th><th scope=col>&lt;chr&gt;</th></tr>\n",
       "</thead>\n",
       "<tbody>\n",
       "\t<tr><td>114166.0</td><td>D|1</td><td>POLICE OFFICER</td><td>69270</td><td>2005</td><td>1986-06-16</td><td>POLICE OFFICER</td><td>17690.0</td><td>NA                                   </td><td>NA </td><td>...</td><td>NA</td><td>NA</td><td>NA</td><td>NA</td><td>NA</td><td>NA</td><td>NA </td><td>NA        </td><td>NA</td><td>NA</td></tr>\n",
       "\t<tr><td>114166.0</td><td>D|1</td><td>POLICE OFFICER</td><td>74328</td><td>2006</td><td>1986-06-16</td><td>POLICE OFFICER</td><td>17690.0</td><td>NA                                   </td><td>NA </td><td>...</td><td>NA</td><td>NA</td><td>NA</td><td>NA</td><td>NA</td><td>NA</td><td>NA </td><td>NA        </td><td>NA</td><td>NA</td></tr>\n",
       "\t<tr><td>114166.0</td><td>NA </td><td>NA            </td><td>   NA</td><td>2007</td><td>NA</td><td>NA            </td><td>17690.0</td><td>INADEQUATE/FAILURE TO PROVIDE SERVICE</td><td>10U</td><td>...</td><td>2 </td><td>2007-06-07</td><td>2007-06-07</td><td>2008-01-30</td><td>NA</td><td>NA</td><td>0.0</td><td>CHICAGO IL</td><td>NA</td><td>XX</td></tr>\n",
       "</tbody>\n",
       "</table>\n"
      ],
      "text/latex": [
       "A spec\\_tbl\\_df: 3 × 26\n",
       "\\begin{tabular}{lllllllllllllllllllll}\n",
       " UID & pay\\_grade & rank & salary & year & spp\\_date & cleaned\\_rank & link\\_UID & complaint\\_category & complaint\\_code & ... & cv.y & incident\\_date & complaint\\_date & closed\\_date & add1 & add2 & beat & city & full\\_address & location\\\\\n",
       " <chr> & <chr> & <chr> & <dbl> & <dbl> & <date> & <chr> & <chr> & <chr> & <chr> & ... & <chr> & <date> & <date> & <date> & <chr> & <chr> & <chr> & <chr> & <chr> & <chr>\\\\\n",
       "\\hline\n",
       "\t 114166.0 & D\\textbar{}1 & POLICE OFFICER & 69270 & 2005 & 1986-06-16 & POLICE OFFICER & 17690.0 & NA                                    & NA  & ... & NA & NA & NA & NA & NA & NA & NA  & NA         & NA & NA\\\\\n",
       "\t 114166.0 & D\\textbar{}1 & POLICE OFFICER & 74328 & 2006 & 1986-06-16 & POLICE OFFICER & 17690.0 & NA                                    & NA  & ... & NA & NA & NA & NA & NA & NA & NA  & NA         & NA & NA\\\\\n",
       "\t 114166.0 & NA  & NA             &    NA & 2007 & NA & NA             & 17690.0 & INADEQUATE/FAILURE TO PROVIDE SERVICE & 10U & ... & 2  & 2007-06-07 & 2007-06-07 & 2008-01-30 & NA & NA & 0.0 & CHICAGO IL & NA & XX\\\\\n",
       "\\end{tabular}\n"
      ],
      "text/markdown": [
       "\n",
       "A spec_tbl_df: 3 × 26\n",
       "\n",
       "| UID &lt;chr&gt; | pay_grade &lt;chr&gt; | rank &lt;chr&gt; | salary &lt;dbl&gt; | year &lt;dbl&gt; | spp_date &lt;date&gt; | cleaned_rank &lt;chr&gt; | link_UID &lt;chr&gt; | complaint_category &lt;chr&gt; | complaint_code &lt;chr&gt; | ... ... | cv.y &lt;chr&gt; | incident_date &lt;date&gt; | complaint_date &lt;date&gt; | closed_date &lt;date&gt; | add1 &lt;chr&gt; | add2 &lt;chr&gt; | beat &lt;chr&gt; | city &lt;chr&gt; | full_address &lt;chr&gt; | location &lt;chr&gt; |\n",
       "|---|---|---|---|---|---|---|---|---|---|---|---|---|---|---|---|---|---|---|---|---|\n",
       "| 114166.0 | D|1 | POLICE OFFICER | 69270 | 2005 | 1986-06-16 | POLICE OFFICER | 17690.0 | NA                                    | NA  | ... | NA | NA | NA | NA | NA | NA | NA  | NA         | NA | NA |\n",
       "| 114166.0 | D|1 | POLICE OFFICER | 74328 | 2006 | 1986-06-16 | POLICE OFFICER | 17690.0 | NA                                    | NA  | ... | NA | NA | NA | NA | NA | NA | NA  | NA         | NA | NA |\n",
       "| 114166.0 | NA  | NA             |    NA | 2007 | NA | NA             | 17690.0 | INADEQUATE/FAILURE TO PROVIDE SERVICE | 10U | ... | 2  | 2007-06-07 | 2007-06-07 | 2008-01-30 | NA | NA | 0.0 | CHICAGO IL | NA | XX |\n",
       "\n"
      ],
      "text/plain": [
       "  UID      pay_grade rank           salary year spp_date   cleaned_rank  \n",
       "1 114166.0 D|1       POLICE OFFICER 69270  2005 1986-06-16 POLICE OFFICER\n",
       "2 114166.0 D|1       POLICE OFFICER 74328  2006 1986-06-16 POLICE OFFICER\n",
       "3 114166.0 NA        NA                NA  2007 <NA>       NA            \n",
       "  link_UID complaint_category                    complaint_code ... cv.y\n",
       "1 17690.0  NA                                    NA             ... NA  \n",
       "2 17690.0  NA                                    NA             ... NA  \n",
       "3 17690.0  INADEQUATE/FAILURE TO PROVIDE SERVICE 10U            ... 2   \n",
       "  incident_date complaint_date closed_date add1 add2 beat city      \n",
       "1 <NA>          <NA>           <NA>        NA   NA   NA   NA        \n",
       "2 <NA>          <NA>           <NA>        NA   NA   NA   NA        \n",
       "3 2007-06-07    2007-06-07     2008-01-30  NA   NA   0.0  CHICAGO IL\n",
       "  full_address location\n",
       "1 NA           NA      \n",
       "2 NA           NA      \n",
       "3 NA           XX      "
      ]
     },
     "metadata": {},
     "output_type": "display_data"
    }
   ],
   "source": [
    "df_merged_dropna %>%\n",
    "    filter(UID == \"114166.0\")"
   ]
  },
  {
   "cell_type": "markdown",
   "metadata": {},
   "source": [
    "## Additional EDAs"
   ]
  },
  {
   "cell_type": "code",
   "execution_count": 85,
   "metadata": {},
   "outputs": [
    {
     "data": {
      "image/png": "[encoded data removed]",
      "text/plain": [
       "plot without title"
      ]
     },
     "metadata": {
      "image/png": {
       "height": 600,
       "width": 720
      }
     },
     "output_type": "display_data"
    }
   ],
   "source": [
    "# of officers named in complaint\n",
    "complaints_joined %>%\n",
    "    group_by(cr_id, incident_year) %>%\n",
    "    tally() %>%\n",
    "    ggplot(aes(x=n)) + \n",
    "    geom_histogram(bins = 40) "
   ]
  },
  {
   "cell_type": "code",
   "execution_count": 90,
   "metadata": {},
   "outputs": [
    {
     "data": {
      "image/png": "[encoded data removed]",
      "text/plain": [
       "plot without title"
      ]
     },
     "metadata": {
      "image/png": {
       "height": 600,
       "width": 720
      }
     },
     "output_type": "display_data"
    }
   ],
   "source": [
    "# outcome of complaints\n",
    "complaints_joined %>%\n",
    "    group_by(final_outcome, incident_year) %>%\n",
    "    tally() %>%\n",
    "    ggplot(aes(y=final_outcome, x=n)) + \n",
    "    geom_col() "
   ]
  },
  {
   "cell_type": "code",
   "execution_count": 96,
   "metadata": {},
   "outputs": [
    {
     "data": {
      "text/html": [
       "<table>\n",
       "<caption>A tibble: 171 × 2</caption>\n",
       "<thead>\n",
       "\t<tr><th scope=col>complaint_category</th><th scope=col>n</th></tr>\n",
       "\t<tr><th scope=col>&lt;chr&gt;</th><th scope=col>&lt;int&gt;</th></tr>\n",
       "</thead>\n",
       "<tbody>\n",
       "\t<tr><td>MISCELLANEOUS                                               </td><td>12135</td></tr>\n",
       "\t<tr><td>INADEQUATE/FAILURE TO PROVIDE SERVICE                       </td><td>10739</td></tr>\n",
       "\t<tr><td>ARRESTEE - DURING ARREST                                    </td><td> 7469</td></tr>\n",
       "\t<tr><td>SEARCH OF PREMISE/VEHICLE WITHOUT WARRANT                   </td><td> 6386</td></tr>\n",
       "\t<tr><td>ILLEGAL ARREST                                              </td><td> 6242</td></tr>\n",
       "\t<tr><td>NEGLECT OF DUTY/CONDUCT UNBECOMING - ON DUTY                </td><td> 3409</td></tr>\n",
       "\t<tr><td>PRISONER'S PROPERTY - INVENTORY/RECEIPT                     </td><td> 2743</td></tr>\n",
       "\t<tr><td>SEARCH OF PERSON WITHOUT WARRANT                            </td><td> 2741</td></tr>\n",
       "\t<tr><td>ARRESTEE - AFTER ARREST, PRIOR TO LOCKUP                    </td><td> 2036</td></tr>\n",
       "\t<tr><td>INVENTORY PROCEDURES                                        </td><td> 1612</td></tr>\n",
       "\t<tr><td>UNNECESSARY PHYSICAL CONTACT - ON DUTY                      </td><td> 1336</td></tr>\n",
       "\t<tr><td>REPORTS - FAILED TO SUBMIT/IMPROPER                         </td><td> 1230</td></tr>\n",
       "\t<tr><td>CIVIL SUIT - THIRD PARTY                                    </td><td> 1102</td></tr>\n",
       "\t<tr><td>NA                                                          </td><td> 1039</td></tr>\n",
       "\t<tr><td>DOMESTIC ALTERCATION/INCIDENT - OFF DUTY                    </td><td>  877</td></tr>\n",
       "\t<tr><td>COMMUNICATION OPERATIONS PROCEDURES                         </td><td>  813</td></tr>\n",
       "\t<tr><td>RACIAL/ETHNIC, ETC.                                         </td><td>  766</td></tr>\n",
       "\t<tr><td>UNNECESSARY PHYSICAL CONTACT - OFF DUTY                     </td><td>  649</td></tr>\n",
       "\t<tr><td>WEAPON - UNNECESSARY DISPLAY OF                             </td><td>  605</td></tr>\n",
       "\t<tr><td>NO ARREST                                                   </td><td>  539</td></tr>\n",
       "\t<tr><td>IMPROPER PROCESSING/REPORTING/PROCEDURES                    </td><td>  483</td></tr>\n",
       "\t<tr><td>DAMAGE/TRESPASSING PROPERTY                                 </td><td>  435</td></tr>\n",
       "\t<tr><td>MISUSE OF DEPARTMENT EQUIPMENT/SUPPLIES                     </td><td>  398</td></tr>\n",
       "\t<tr><td>USE OF PROFANITY                                            </td><td>  366</td></tr>\n",
       "\t<tr><td>WEAPON, USE/DISPLAY OF                                      </td><td>  353</td></tr>\n",
       "\t<tr><td>SEARCH, PERSON/PROPERTY                                     </td><td>  323</td></tr>\n",
       "\t<tr><td>INSUBORDINATION                                             </td><td>  294</td></tr>\n",
       "\t<tr><td>PROPER CARE, INJURY/DEATH                                   </td><td>  287</td></tr>\n",
       "\t<tr><td>EXCESSIVE FORCE - OFF DUTY (INCLUDES NEIGHBOR, TRAFFIC, TAV)</td><td>  280</td></tr>\n",
       "\t<tr><td>MISCONDUCT DURING ISSUANCE OF CITATION                      </td><td>  271</td></tr>\n",
       "\t<tr><td>...</td><td>...</td></tr>\n",
       "\t<tr><td>THREATS                                                       </td><td>2</td></tr>\n",
       "\t<tr><td>TRAFFIC PURSUIT                                               </td><td>2</td></tr>\n",
       "\t<tr><td>UNLAWFUL / EXCESSIVE INVESTIGATIVE DETENTION (WITNESS)        </td><td>2</td></tr>\n",
       "\t<tr><td>VEHICLE                                                       </td><td>2</td></tr>\n",
       "\t<tr><td>VERBAL ABUSE                                                  </td><td>2</td></tr>\n",
       "\t<tr><td>ARRESTEE-DURING  ARREST                                       </td><td>1</td></tr>\n",
       "\t<tr><td>ARSON                                                         </td><td>1</td></tr>\n",
       "\t<tr><td>BRIBE, FAILURE TO REPORT                                      </td><td>1</td></tr>\n",
       "\t<tr><td>BURGLARY                                                      </td><td>1</td></tr>\n",
       "\t<tr><td>CIVIL RIGHTS VIOLATION:  SEARCH OF PREMISE/VEHICLE W/O WARRANT</td><td>1</td></tr>\n",
       "\t<tr><td>COMMISSION OF CRIME:  THEFT                                   </td><td>1</td></tr>\n",
       "\t<tr><td>D.U.I., DRUGS/ CONTR. SUB. - ON DUTY                          </td><td>1</td></tr>\n",
       "\t<tr><td>EXCESSIVE FORCE - OFF DUTY                                    </td><td>1</td></tr>\n",
       "\t<tr><td>EXCESSIVE FORCE - USE OF FIREARM / OFF DUTY - NO INJURY       </td><td>1</td></tr>\n",
       "\t<tr><td>EXCESSIVE FORCE:  NO ARREST                                   </td><td>1</td></tr>\n",
       "\t<tr><td>FALSE TESTIMONY IN COURT                                      </td><td>1</td></tr>\n",
       "\t<tr><td>FIREARM DISCHARGE WITH HITS - RIFLE / ASSAULT WEAPON          </td><td>1</td></tr>\n",
       "\t<tr><td>FIREARM DISCHARGE WITH HITS / OFF DUTY                        </td><td>1</td></tr>\n",
       "\t<tr><td>INJURY/DEATH (UNDER COLOR OF LAW)                             </td><td>1</td></tr>\n",
       "\t<tr><td>MISUSE OF DEPARTMENT RECORDS                                  </td><td>1</td></tr>\n",
       "\t<tr><td>NEGLECT OF DUTY                                               </td><td>1</td></tr>\n",
       "\t<tr><td>POLITICAL ACTIVITY                                            </td><td>1</td></tr>\n",
       "\t<tr><td>PROPERLY DIRECT SUBORDINATE                                   </td><td>1</td></tr>\n",
       "\t<tr><td>ROBBERY                                                       </td><td>1</td></tr>\n",
       "\t<tr><td>SHOPLIFTING                                                   </td><td>1</td></tr>\n",
       "\t<tr><td>STOMPED / STEPPED ON                                          </td><td>1</td></tr>\n",
       "\t<tr><td>TASER (PROBE DISCHARGE)                                       </td><td>1</td></tr>\n",
       "\t<tr><td>TELEPHONE / ATTORNEY / RELATIVE PRIVILEGES                    </td><td>1</td></tr>\n",
       "\t<tr><td>UNJUSTIFIED POINTING OF FIREARM - HANDGUN                     </td><td>1</td></tr>\n",
       "\t<tr><td>UNNECESSARY PHYSICAL CONTACT / OFF DUTY - NO INJURY           </td><td>1</td></tr>\n",
       "</tbody>\n",
       "</table>\n"
      ],
      "text/latex": [
       "A tibble: 171 × 2\n",
       "\\begin{tabular}{ll}\n",
       " complaint\\_category & n\\\\\n",
       " <chr> & <int>\\\\\n",
       "\\hline\n",
       "\t MISCELLANEOUS                                                & 12135\\\\\n",
       "\t INADEQUATE/FAILURE TO PROVIDE SERVICE                        & 10739\\\\\n",
       "\t ARRESTEE - DURING ARREST                                     &  7469\\\\\n",
       "\t SEARCH OF PREMISE/VEHICLE WITHOUT WARRANT                    &  6386\\\\\n",
       "\t ILLEGAL ARREST                                               &  6242\\\\\n",
       "\t NEGLECT OF DUTY/CONDUCT UNBECOMING - ON DUTY                 &  3409\\\\\n",
       "\t PRISONER'S PROPERTY - INVENTORY/RECEIPT                      &  2743\\\\\n",
       "\t SEARCH OF PERSON WITHOUT WARRANT                             &  2741\\\\\n",
       "\t ARRESTEE - AFTER ARREST, PRIOR TO LOCKUP                     &  2036\\\\\n",
       "\t INVENTORY PROCEDURES                                         &  1612\\\\\n",
       "\t UNNECESSARY PHYSICAL CONTACT - ON DUTY                       &  1336\\\\\n",
       "\t REPORTS - FAILED TO SUBMIT/IMPROPER                          &  1230\\\\\n",
       "\t CIVIL SUIT - THIRD PARTY                                     &  1102\\\\\n",
       "\t NA                                                           &  1039\\\\\n",
       "\t DOMESTIC ALTERCATION/INCIDENT - OFF DUTY                     &   877\\\\\n",
       "\t COMMUNICATION OPERATIONS PROCEDURES                          &   813\\\\\n",
       "\t RACIAL/ETHNIC, ETC.                                          &   766\\\\\n",
       "\t UNNECESSARY PHYSICAL CONTACT - OFF DUTY                      &   649\\\\\n",
       "\t WEAPON - UNNECESSARY DISPLAY OF                              &   605\\\\\n",
       "\t NO ARREST                                                    &   539\\\\\n",
       "\t IMPROPER PROCESSING/REPORTING/PROCEDURES                     &   483\\\\\n",
       "\t DAMAGE/TRESPASSING PROPERTY                                  &   435\\\\\n",
       "\t MISUSE OF DEPARTMENT EQUIPMENT/SUPPLIES                      &   398\\\\\n",
       "\t USE OF PROFANITY                                             &   366\\\\\n",
       "\t WEAPON, USE/DISPLAY OF                                       &   353\\\\\n",
       "\t SEARCH, PERSON/PROPERTY                                      &   323\\\\\n",
       "\t INSUBORDINATION                                              &   294\\\\\n",
       "\t PROPER CARE, INJURY/DEATH                                    &   287\\\\\n",
       "\t EXCESSIVE FORCE - OFF DUTY (INCLUDES NEIGHBOR, TRAFFIC, TAV) &   280\\\\\n",
       "\t MISCONDUCT DURING ISSUANCE OF CITATION                       &   271\\\\\n",
       "\t ... & ...\\\\\n",
       "\t THREATS                                                        & 2\\\\\n",
       "\t TRAFFIC PURSUIT                                                & 2\\\\\n",
       "\t UNLAWFUL / EXCESSIVE INVESTIGATIVE DETENTION (WITNESS)         & 2\\\\\n",
       "\t VEHICLE                                                        & 2\\\\\n",
       "\t VERBAL ABUSE                                                   & 2\\\\\n",
       "\t ARRESTEE-DURING  ARREST                                        & 1\\\\\n",
       "\t ARSON                                                          & 1\\\\\n",
       "\t BRIBE, FAILURE TO REPORT                                       & 1\\\\\n",
       "\t BURGLARY                                                       & 1\\\\\n",
       "\t CIVIL RIGHTS VIOLATION:  SEARCH OF PREMISE/VEHICLE W/O WARRANT & 1\\\\\n",
       "\t COMMISSION OF CRIME:  THEFT                                    & 1\\\\\n",
       "\t D.U.I., DRUGS/ CONTR. SUB. - ON DUTY                           & 1\\\\\n",
       "\t EXCESSIVE FORCE - OFF DUTY                                     & 1\\\\\n",
       "\t EXCESSIVE FORCE - USE OF FIREARM / OFF DUTY - NO INJURY        & 1\\\\\n",
       "\t EXCESSIVE FORCE:  NO ARREST                                    & 1\\\\\n",
       "\t FALSE TESTIMONY IN COURT                                       & 1\\\\\n",
       "\t FIREARM DISCHARGE WITH HITS - RIFLE / ASSAULT WEAPON           & 1\\\\\n",
       "\t FIREARM DISCHARGE WITH HITS / OFF DUTY                         & 1\\\\\n",
       "\t INJURY/DEATH (UNDER COLOR OF LAW)                              & 1\\\\\n",
       "\t MISUSE OF DEPARTMENT RECORDS                                   & 1\\\\\n",
       "\t NEGLECT OF DUTY                                                & 1\\\\\n",
       "\t POLITICAL ACTIVITY                                             & 1\\\\\n",
       "\t PROPERLY DIRECT SUBORDINATE                                    & 1\\\\\n",
       "\t ROBBERY                                                        & 1\\\\\n",
       "\t SHOPLIFTING                                                    & 1\\\\\n",
       "\t STOMPED / STEPPED ON                                           & 1\\\\\n",
       "\t TASER (PROBE DISCHARGE)                                        & 1\\\\\n",
       "\t TELEPHONE / ATTORNEY / RELATIVE PRIVILEGES                     & 1\\\\\n",
       "\t UNJUSTIFIED POINTING OF FIREARM - HANDGUN                      & 1\\\\\n",
       "\t UNNECESSARY PHYSICAL CONTACT / OFF DUTY - NO INJURY            & 1\\\\\n",
       "\\end{tabular}\n"
      ],
      "text/markdown": [
       "\n",
       "A tibble: 171 × 2\n",
       "\n",
       "| complaint_category &lt;chr&gt; | n &lt;int&gt; |\n",
       "|---|---|\n",
       "| MISCELLANEOUS                                                | 12135 |\n",
       "| INADEQUATE/FAILURE TO PROVIDE SERVICE                        | 10739 |\n",
       "| ARRESTEE - DURING ARREST                                     |  7469 |\n",
       "| SEARCH OF PREMISE/VEHICLE WITHOUT WARRANT                    |  6386 |\n",
       "| ILLEGAL ARREST                                               |  6242 |\n",
       "| NEGLECT OF DUTY/CONDUCT UNBECOMING - ON DUTY                 |  3409 |\n",
       "| PRISONER'S PROPERTY - INVENTORY/RECEIPT                      |  2743 |\n",
       "| SEARCH OF PERSON WITHOUT WARRANT                             |  2741 |\n",
       "| ARRESTEE - AFTER ARREST, PRIOR TO LOCKUP                     |  2036 |\n",
       "| INVENTORY PROCEDURES                                         |  1612 |\n",
       "| UNNECESSARY PHYSICAL CONTACT - ON DUTY                       |  1336 |\n",
       "| REPORTS - FAILED TO SUBMIT/IMPROPER                          |  1230 |\n",
       "| CIVIL SUIT - THIRD PARTY                                     |  1102 |\n",
       "| NA                                                           |  1039 |\n",
       "| DOMESTIC ALTERCATION/INCIDENT - OFF DUTY                     |   877 |\n",
       "| COMMUNICATION OPERATIONS PROCEDURES                          |   813 |\n",
       "| RACIAL/ETHNIC, ETC.                                          |   766 |\n",
       "| UNNECESSARY PHYSICAL CONTACT - OFF DUTY                      |   649 |\n",
       "| WEAPON - UNNECESSARY DISPLAY OF                              |   605 |\n",
       "| NO ARREST                                                    |   539 |\n",
       "| IMPROPER PROCESSING/REPORTING/PROCEDURES                     |   483 |\n",
       "| DAMAGE/TRESPASSING PROPERTY                                  |   435 |\n",
       "| MISUSE OF DEPARTMENT EQUIPMENT/SUPPLIES                      |   398 |\n",
       "| USE OF PROFANITY                                             |   366 |\n",
       "| WEAPON, USE/DISPLAY OF                                       |   353 |\n",
       "| SEARCH, PERSON/PROPERTY                                      |   323 |\n",
       "| INSUBORDINATION                                              |   294 |\n",
       "| PROPER CARE, INJURY/DEATH                                    |   287 |\n",
       "| EXCESSIVE FORCE - OFF DUTY (INCLUDES NEIGHBOR, TRAFFIC, TAV) |   280 |\n",
       "| MISCONDUCT DURING ISSUANCE OF CITATION                       |   271 |\n",
       "| ... | ... |\n",
       "| THREATS                                                        | 2 |\n",
       "| TRAFFIC PURSUIT                                                | 2 |\n",
       "| UNLAWFUL / EXCESSIVE INVESTIGATIVE DETENTION (WITNESS)         | 2 |\n",
       "| VEHICLE                                                        | 2 |\n",
       "| VERBAL ABUSE                                                   | 2 |\n",
       "| ARRESTEE-DURING  ARREST                                        | 1 |\n",
       "| ARSON                                                          | 1 |\n",
       "| BRIBE, FAILURE TO REPORT                                       | 1 |\n",
       "| BURGLARY                                                       | 1 |\n",
       "| CIVIL RIGHTS VIOLATION:  SEARCH OF PREMISE/VEHICLE W/O WARRANT | 1 |\n",
       "| COMMISSION OF CRIME:  THEFT                                    | 1 |\n",
       "| D.U.I., DRUGS/ CONTR. SUB. - ON DUTY                           | 1 |\n",
       "| EXCESSIVE FORCE - OFF DUTY                                     | 1 |\n",
       "| EXCESSIVE FORCE - USE OF FIREARM / OFF DUTY - NO INJURY        | 1 |\n",
       "| EXCESSIVE FORCE:  NO ARREST                                    | 1 |\n",
       "| FALSE TESTIMONY IN COURT                                       | 1 |\n",
       "| FIREARM DISCHARGE WITH HITS - RIFLE / ASSAULT WEAPON           | 1 |\n",
       "| FIREARM DISCHARGE WITH HITS / OFF DUTY                         | 1 |\n",
       "| INJURY/DEATH (UNDER COLOR OF LAW)                              | 1 |\n",
       "| MISUSE OF DEPARTMENT RECORDS                                   | 1 |\n",
       "| NEGLECT OF DUTY                                                | 1 |\n",
       "| POLITICAL ACTIVITY                                             | 1 |\n",
       "| PROPERLY DIRECT SUBORDINATE                                    | 1 |\n",
       "| ROBBERY                                                        | 1 |\n",
       "| SHOPLIFTING                                                    | 1 |\n",
       "| STOMPED / STEPPED ON                                           | 1 |\n",
       "| TASER (PROBE DISCHARGE)                                        | 1 |\n",
       "| TELEPHONE / ATTORNEY / RELATIVE PRIVILEGES                     | 1 |\n",
       "| UNJUSTIFIED POINTING OF FIREARM - HANDGUN                      | 1 |\n",
       "| UNNECESSARY PHYSICAL CONTACT / OFF DUTY - NO INJURY            | 1 |\n",
       "\n"
      ],
      "text/plain": [
       "    complaint_category                                             n    \n",
       "1   MISCELLANEOUS                                                  12135\n",
       "2   INADEQUATE/FAILURE TO PROVIDE SERVICE                          10739\n",
       "3   ARRESTEE - DURING ARREST                                        7469\n",
       "4   SEARCH OF PREMISE/VEHICLE WITHOUT WARRANT                       6386\n",
       "5   ILLEGAL ARREST                                                  6242\n",
       "6   NEGLECT OF DUTY/CONDUCT UNBECOMING - ON DUTY                    3409\n",
       "7   PRISONER'S PROPERTY - INVENTORY/RECEIPT                         2743\n",
       "8   SEARCH OF PERSON WITHOUT WARRANT                                2741\n",
       "9   ARRESTEE - AFTER ARREST, PRIOR TO LOCKUP                        2036\n",
       "10  INVENTORY PROCEDURES                                            1612\n",
       "11  UNNECESSARY PHYSICAL CONTACT - ON DUTY                          1336\n",
       "12  REPORTS - FAILED TO SUBMIT/IMPROPER                             1230\n",
       "13  CIVIL SUIT - THIRD PARTY                                        1102\n",
       "14  NA                                                              1039\n",
       "15  DOMESTIC ALTERCATION/INCIDENT - OFF DUTY                         877\n",
       "16  COMMUNICATION OPERATIONS PROCEDURES                              813\n",
       "17  RACIAL/ETHNIC, ETC.                                              766\n",
       "18  UNNECESSARY PHYSICAL CONTACT - OFF DUTY                          649\n",
       "19  WEAPON - UNNECESSARY DISPLAY OF                                  605\n",
       "20  NO ARREST                                                        539\n",
       "21  IMPROPER PROCESSING/REPORTING/PROCEDURES                         483\n",
       "22  DAMAGE/TRESPASSING PROPERTY                                      435\n",
       "23  MISUSE OF DEPARTMENT EQUIPMENT/SUPPLIES                          398\n",
       "24  USE OF PROFANITY                                                 366\n",
       "25  WEAPON, USE/DISPLAY OF                                           353\n",
       "26  SEARCH, PERSON/PROPERTY                                          323\n",
       "27  INSUBORDINATION                                                  294\n",
       "28  PROPER CARE, INJURY/DEATH                                        287\n",
       "29  EXCESSIVE FORCE - OFF DUTY (INCLUDES NEIGHBOR, TRAFFIC, TAV)     280\n",
       "30  MISCONDUCT DURING ISSUANCE OF CITATION                           271\n",
       "... ...                                                            ...  \n",
       "142 THREATS                                                        2    \n",
       "143 TRAFFIC PURSUIT                                                2    \n",
       "144 UNLAWFUL / EXCESSIVE INVESTIGATIVE DETENTION (WITNESS)         2    \n",
       "145 VEHICLE                                                        2    \n",
       "146 VERBAL ABUSE                                                   2    \n",
       "147 ARRESTEE-DURING  ARREST                                        1    \n",
       "148 ARSON                                                          1    \n",
       "149 BRIBE, FAILURE TO REPORT                                       1    \n",
       "150 BURGLARY                                                       1    \n",
       "151 CIVIL RIGHTS VIOLATION:  SEARCH OF PREMISE/VEHICLE W/O WARRANT 1    \n",
       "152 COMMISSION OF CRIME:  THEFT                                    1    \n",
       "153 D.U.I., DRUGS/ CONTR. SUB. - ON DUTY                           1    \n",
       "154 EXCESSIVE FORCE - OFF DUTY                                     1    \n",
       "155 EXCESSIVE FORCE - USE OF FIREARM / OFF DUTY - NO INJURY        1    \n",
       "156 EXCESSIVE FORCE:  NO ARREST                                    1    \n",
       "157 FALSE TESTIMONY IN COURT                                       1    \n",
       "158 FIREARM DISCHARGE WITH HITS - RIFLE / ASSAULT WEAPON           1    \n",
       "159 FIREARM DISCHARGE WITH HITS / OFF DUTY                         1    \n",
       "160 INJURY/DEATH (UNDER COLOR OF LAW)                              1    \n",
       "161 MISUSE OF DEPARTMENT RECORDS                                   1    \n",
       "162 NEGLECT OF DUTY                                                1    \n",
       "163 POLITICAL ACTIVITY                                             1    \n",
       "164 PROPERLY DIRECT SUBORDINATE                                    1    \n",
       "165 ROBBERY                                                        1    \n",
       "166 SHOPLIFTING                                                    1    \n",
       "167 STOMPED / STEPPED ON                                           1    \n",
       "168 TASER (PROBE DISCHARGE)                                        1    \n",
       "169 TELEPHONE / ATTORNEY / RELATIVE PRIVILEGES                     1    \n",
       "170 UNJUSTIFIED POINTING OF FIREARM - HANDGUN                      1    \n",
       "171 UNNECESSARY PHYSICAL CONTACT / OFF DUTY - NO INJURY            1    "
      ]
     },
     "metadata": {},
     "output_type": "display_data"
    }
   ],
   "source": [
    "# type of complaints\n",
    "complaints_joined %>%\n",
    "    group_by(complaint_category) %>%\n",
    "    tally() %>%\n",
    "    arrange(desc(n))"
   ]
  },
  {
   "cell_type": "code",
   "execution_count": 99,
   "metadata": {},
   "outputs": [
    {
     "data": {
      "text/html": [
       "<table>\n",
       "<caption>A tibble: 1 × 1</caption>\n",
       "<thead>\n",
       "\t<tr><th scope=col>avg_time_sep</th></tr>\n",
       "\t<tr><th scope=col>&lt;drtn&gt;</th></tr>\n",
       "</thead>\n",
       "<tbody>\n",
       "\t<tr><td>50.7303 days</td></tr>\n",
       "</tbody>\n",
       "</table>\n"
      ],
      "text/latex": [
       "A tibble: 1 × 1\n",
       "\\begin{tabular}{l}\n",
       " avg\\_time\\_sep\\\\\n",
       " <drtn>\\\\\n",
       "\\hline\n",
       "\t 50.7303 days\\\\\n",
       "\\end{tabular}\n"
      ],
      "text/markdown": [
       "\n",
       "A tibble: 1 × 1\n",
       "\n",
       "| avg_time_sep &lt;drtn&gt; |\n",
       "|---|\n",
       "| 50.7303 days |\n",
       "\n"
      ],
      "text/plain": [
       "  avg_time_sep\n",
       "1 50.7303 days"
      ]
     },
     "metadata": {},
     "output_type": "display_data"
    }
   ],
   "source": [
    "# average length of time between indicent and complaint date\n",
    "complaints_joined %>%\n",
    "    mutate(time_sep = complaint_date - incident_date) %>%\n",
    "    summarize(avg_time_sep = mean(time_sep))\n",
    "    "
   ]
  },
  {
   "cell_type": "code",
   "execution_count": 101,
   "metadata": {},
   "outputs": [
    {
     "name": "stderr",
     "output_type": "stream",
     "text": [
      "Warning message in GGally::ggcorr(.):\n",
      "\"data in column(s) 'final_outcome' are not numeric and were ignored\"\n"
     ]
    },
    {
     "data": {
      "image/png": "[encoded data removed]",
      "text/plain": [
       "plot without title"
      ]
     },
     "metadata": {
      "image/png": {
       "height": 600,
       "width": 720
      }
     },
     "output_type": "display_data"
    }
   ],
   "source": [
    "# correlation between salary and final_outcome\n",
    "df_merged %>%\n",
    "    select(salary, final_outcome) %>% \n",
    "    GGally::ggcorr()"
   ]
  },
  {
   "cell_type": "code",
   "execution_count": null,
   "metadata": {},
   "outputs": [],
   "source": []
  }
 ],
 "metadata": {
  "kernelspec": {
   "display_name": "R",
   "language": "R",
   "name": "ir"
  },
  "language_info": {
   "codemirror_mode": "r",
   "file_extension": ".r",
   "mimetype": "text/x-r-source",
   "name": "R",
   "pygments_lexer": "r",
   "version": "4.0.2"
  }
 },
 "nbformat": 4,
 "nbformat_minor": 4
}
