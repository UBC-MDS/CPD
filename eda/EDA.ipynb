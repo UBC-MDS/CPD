{
 "cells": [
  {
   "cell_type": "markdown",
   "metadata": {},
   "source": [
    "## Import libraries"
   ]
  },
  {
   "cell_type": "code",
   "execution_count": 1,
   "metadata": {},
   "outputs": [
    {
     "name": "stderr",
     "output_type": "stream",
     "text": [
      "-- \u001b[1mAttaching packages\u001b[22m --------------------------------------- tidyverse 1.3.0 --\n",
      "\n",
      "\u001b[32mv\u001b[39m \u001b[34mggplot2\u001b[39m 3.3.2     \u001b[32mv\u001b[39m \u001b[34mpurrr  \u001b[39m 0.3.4\n",
      "\u001b[32mv\u001b[39m \u001b[34mtibble \u001b[39m 3.0.4     \u001b[32mv\u001b[39m \u001b[34mdplyr  \u001b[39m 1.0.2\n",
      "\u001b[32mv\u001b[39m \u001b[34mtidyr  \u001b[39m 1.1.2     \u001b[32mv\u001b[39m \u001b[34mstringr\u001b[39m 1.4.0\n",
      "\u001b[32mv\u001b[39m \u001b[34mreadr  \u001b[39m 1.4.0     \u001b[32mv\u001b[39m \u001b[34mforcats\u001b[39m 0.5.0\n",
      "\n",
      "-- \u001b[1mConflicts\u001b[22m ------------------------------------------ tidyverse_conflicts() --\n",
      "\u001b[31mx\u001b[39m \u001b[34mdplyr\u001b[39m::\u001b[32mfilter()\u001b[39m masks \u001b[34mstats\u001b[39m::filter()\n",
      "\u001b[31mx\u001b[39m \u001b[34mdplyr\u001b[39m::\u001b[32mlag()\u001b[39m    masks \u001b[34mstats\u001b[39m::lag()\n",
      "\n",
      "\n",
      "Attaching package: 'janitor'\n",
      "\n",
      "\n",
      "The following objects are masked from 'package:stats':\n",
      "\n",
      "    chisq.test, fisher.test\n",
      "\n",
      "\n",
      "\n",
      "Attaching package: 'lubridate'\n",
      "\n",
      "\n",
      "The following objects are masked from 'package:base':\n",
      "\n",
      "    date, intersect, setdiff, union\n",
      "\n",
      "\n"
     ]
    }
   ],
   "source": [
    "# Import Libraries \n",
    "library(tidyverse)\n",
    "library(janitor)\n",
    "library(stringr)\n",
    "library(lubridate)"
   ]
  },
  {
   "cell_type": "markdown",
   "metadata": {},
   "source": [
    "## Import data and create dataframes"
   ]
  },
  {
   "cell_type": "code",
   "execution_count": null,
   "metadata": {},
   "outputs": [],
   "source": [
    "# Documenting Steps for Downloading Data Files\n",
    "\n",
    "# Salary file\n",
    "#python download_data.py --url=https://github.com/invinst/chicago-police-data/blob/master/data/unified_data/salary/salary-ranks_2002-2017_2017-09.csv.gz?raw=true --path=../data/salary.csv\n",
    "\n",
    "# Accused file\n",
    "#python download_data.py --url=https://github.com/invinst/chicago-police-data/blob/master/data/unified_data/complaints/complaints-accused.csv.gz?raw=true --path=../data/accused.csv\n",
    "\n",
    "# Complaints file\n",
    "#python download_data.py --url=https://github.com/invinst/chicago-police-data/blob/master/data/unified_data/complaints/complaints-complaints.csv.gz?raw=true --path=../data/complaints.csv\n",
    "\n",
    "# Demographics file \n",
    "#python download_data.py --url=https://github.com/invinst/chicago-police-data/blob/master/data/unified_data/profiles/final-profiles.csv.gz?raw=true --path=../data/demographics.csv"
   ]
  },
  {
   "cell_type": "code",
   "execution_count": 2,
   "metadata": {},
   "outputs": [],
   "source": [
    "# Load csv files.  Readin all columns as characters, eliminates issues with formatting (some cr_id were defaulting to NA)\n",
    "accused_df <- read_csv(\"../data/accused.csv\", col_type = paste(rep(\"c\",10),collapse = \"\"))\n",
    "complaints_df <- read_csv(\"../data/complaints.csv\", col_type = paste(rep(\"c\",11),collapse = \"\"))\n",
    "salary_df <- read_csv(\"../data/salary.csv\", col_types = paste(rep(\"c\",8),collapse = \"\"))\n",
    "demographics_df <- read_csv(\"../data/demographics.csv\", col_types = paste(rep(\"c\",20), collapse = \"\"))"
   ]
  },
  {
   "cell_type": "code",
   "execution_count": 3,
   "metadata": {},
   "outputs": [
    {
     "data": {
      "text/html": [
       "<table>\n",
       "<caption>A tibble: 6 × 10</caption>\n",
       "<thead>\n",
       "\t<tr><th scope=col>UID</th><th scope=col>complaint_category</th><th scope=col>complaint_code</th><th scope=col>cr_id</th><th scope=col>cv</th><th scope=col>final_finding</th><th scope=col>final_outcome</th><th scope=col>recc_finding</th><th scope=col>recc_outcome</th><th scope=col>link_UID</th></tr>\n",
       "\t<tr><th scope=col>&lt;chr&gt;</th><th scope=col>&lt;chr&gt;</th><th scope=col>&lt;chr&gt;</th><th scope=col>&lt;chr&gt;</th><th scope=col>&lt;chr&gt;</th><th scope=col>&lt;chr&gt;</th><th scope=col>&lt;chr&gt;</th><th scope=col>&lt;chr&gt;</th><th scope=col>&lt;chr&gt;</th><th scope=col>&lt;chr&gt;</th></tr>\n",
       "</thead>\n",
       "<tbody>\n",
       "\t<tr><td>130469.0</td><td>SUPERVISOR RESPONSIBILITY:  FAIL TO OBTAIN COMPLAINT REGISTER NO.</td><td>12D</td><td>C170981</td><td>1</td><td>NS</td><td>NO ACTION TAKEN</td><td>NA</td><td>NA</td><td>20040.0</td></tr>\n",
       "\t<tr><td>103495.0</td><td>EXCESSIVE FORCE:  ARRESTEE - DURING ARREST                       </td><td>05A</td><td>C170981</td><td>1</td><td>NS</td><td>NO ACTION TAKEN</td><td>NA</td><td>NA</td><td>7727.0 </td></tr>\n",
       "\t<tr><td>111845.0</td><td>EXCESSIVE FORCE:  ARRESTEE - DURING ARREST                       </td><td>05A</td><td>C170981</td><td>1</td><td>NS</td><td>NO ACTION TAKEN</td><td>NA</td><td>NA</td><td>17149.0</td></tr>\n",
       "\t<tr><td>126148.0</td><td>EXCESSIVE FORCE:  ARRESTEE - DURING ARREST                       </td><td>05A</td><td>C170981</td><td>1</td><td>NS</td><td>NO ACTION TAKEN</td><td>NA</td><td>NA</td><td>271.0  </td></tr>\n",
       "\t<tr><td>127906.0</td><td>EXCESSIVE FORCE:  ARRESTEE - DURING ARREST                       </td><td>05A</td><td>C170981</td><td>1</td><td>NS</td><td>NO ACTION TAKEN</td><td>NA</td><td>NA</td><td>11004.0</td></tr>\n",
       "\t<tr><td>117100.0</td><td>EXCESSIVE FORCE:  NO ARREST                                      </td><td>05D</td><td>C171131</td><td>1</td><td>EX</td><td>NO ACTION TAKEN</td><td>NA</td><td>NA</td><td>25023.0</td></tr>\n",
       "</tbody>\n",
       "</table>\n"
      ],
      "text/latex": [
       "A tibble: 6 × 10\n",
       "\\begin{tabular}{llllllllll}\n",
       " UID & complaint\\_category & complaint\\_code & cr\\_id & cv & final\\_finding & final\\_outcome & recc\\_finding & recc\\_outcome & link\\_UID\\\\\n",
       " <chr> & <chr> & <chr> & <chr> & <chr> & <chr> & <chr> & <chr> & <chr> & <chr>\\\\\n",
       "\\hline\n",
       "\t 130469.0 & SUPERVISOR RESPONSIBILITY:  FAIL TO OBTAIN COMPLAINT REGISTER NO. & 12D & C170981 & 1 & NS & NO ACTION TAKEN & NA & NA & 20040.0\\\\\n",
       "\t 103495.0 & EXCESSIVE FORCE:  ARRESTEE - DURING ARREST                        & 05A & C170981 & 1 & NS & NO ACTION TAKEN & NA & NA & 7727.0 \\\\\n",
       "\t 111845.0 & EXCESSIVE FORCE:  ARRESTEE - DURING ARREST                        & 05A & C170981 & 1 & NS & NO ACTION TAKEN & NA & NA & 17149.0\\\\\n",
       "\t 126148.0 & EXCESSIVE FORCE:  ARRESTEE - DURING ARREST                        & 05A & C170981 & 1 & NS & NO ACTION TAKEN & NA & NA & 271.0  \\\\\n",
       "\t 127906.0 & EXCESSIVE FORCE:  ARRESTEE - DURING ARREST                        & 05A & C170981 & 1 & NS & NO ACTION TAKEN & NA & NA & 11004.0\\\\\n",
       "\t 117100.0 & EXCESSIVE FORCE:  NO ARREST                                       & 05D & C171131 & 1 & EX & NO ACTION TAKEN & NA & NA & 25023.0\\\\\n",
       "\\end{tabular}\n"
      ],
      "text/markdown": [
       "\n",
       "A tibble: 6 × 10\n",
       "\n",
       "| UID &lt;chr&gt; | complaint_category &lt;chr&gt; | complaint_code &lt;chr&gt; | cr_id &lt;chr&gt; | cv &lt;chr&gt; | final_finding &lt;chr&gt; | final_outcome &lt;chr&gt; | recc_finding &lt;chr&gt; | recc_outcome &lt;chr&gt; | link_UID &lt;chr&gt; |\n",
       "|---|---|---|---|---|---|---|---|---|---|\n",
       "| 130469.0 | SUPERVISOR RESPONSIBILITY:  FAIL TO OBTAIN COMPLAINT REGISTER NO. | 12D | C170981 | 1 | NS | NO ACTION TAKEN | NA | NA | 20040.0 |\n",
       "| 103495.0 | EXCESSIVE FORCE:  ARRESTEE - DURING ARREST                        | 05A | C170981 | 1 | NS | NO ACTION TAKEN | NA | NA | 7727.0  |\n",
       "| 111845.0 | EXCESSIVE FORCE:  ARRESTEE - DURING ARREST                        | 05A | C170981 | 1 | NS | NO ACTION TAKEN | NA | NA | 17149.0 |\n",
       "| 126148.0 | EXCESSIVE FORCE:  ARRESTEE - DURING ARREST                        | 05A | C170981 | 1 | NS | NO ACTION TAKEN | NA | NA | 271.0   |\n",
       "| 127906.0 | EXCESSIVE FORCE:  ARRESTEE - DURING ARREST                        | 05A | C170981 | 1 | NS | NO ACTION TAKEN | NA | NA | 11004.0 |\n",
       "| 117100.0 | EXCESSIVE FORCE:  NO ARREST                                       | 05D | C171131 | 1 | EX | NO ACTION TAKEN | NA | NA | 25023.0 |\n",
       "\n"
      ],
      "text/plain": [
       "  UID      complaint_category                                               \n",
       "1 130469.0 SUPERVISOR RESPONSIBILITY:  FAIL TO OBTAIN COMPLAINT REGISTER NO.\n",
       "2 103495.0 EXCESSIVE FORCE:  ARRESTEE - DURING ARREST                       \n",
       "3 111845.0 EXCESSIVE FORCE:  ARRESTEE - DURING ARREST                       \n",
       "4 126148.0 EXCESSIVE FORCE:  ARRESTEE - DURING ARREST                       \n",
       "5 127906.0 EXCESSIVE FORCE:  ARRESTEE - DURING ARREST                       \n",
       "6 117100.0 EXCESSIVE FORCE:  NO ARREST                                      \n",
       "  complaint_code cr_id   cv final_finding final_outcome   recc_finding\n",
       "1 12D            C170981 1  NS            NO ACTION TAKEN NA          \n",
       "2 05A            C170981 1  NS            NO ACTION TAKEN NA          \n",
       "3 05A            C170981 1  NS            NO ACTION TAKEN NA          \n",
       "4 05A            C170981 1  NS            NO ACTION TAKEN NA          \n",
       "5 05A            C170981 1  NS            NO ACTION TAKEN NA          \n",
       "6 05D            C171131 1  EX            NO ACTION TAKEN NA          \n",
       "  recc_outcome link_UID\n",
       "1 NA           20040.0 \n",
       "2 NA           7727.0  \n",
       "3 NA           17149.0 \n",
       "4 NA           271.0   \n",
       "5 NA           11004.0 \n",
       "6 NA           25023.0 "
      ]
     },
     "metadata": {},
     "output_type": "display_data"
    },
    {
     "data": {
      "text/html": [
       "<table>\n",
       "<caption>A tibble: 6 × 11</caption>\n",
       "<thead>\n",
       "\t<tr><th scope=col>cr_id</th><th scope=col>cv</th><th scope=col>incident_date</th><th scope=col>complaint_date</th><th scope=col>closed_date</th><th scope=col>add1</th><th scope=col>add2</th><th scope=col>beat</th><th scope=col>city</th><th scope=col>full_address</th><th scope=col>location</th></tr>\n",
       "\t<tr><th scope=col>&lt;chr&gt;</th><th scope=col>&lt;chr&gt;</th><th scope=col>&lt;chr&gt;</th><th scope=col>&lt;chr&gt;</th><th scope=col>&lt;chr&gt;</th><th scope=col>&lt;chr&gt;</th><th scope=col>&lt;chr&gt;</th><th scope=col>&lt;chr&gt;</th><th scope=col>&lt;chr&gt;</th><th scope=col>&lt;chr&gt;</th><th scope=col>&lt;chr&gt;</th></tr>\n",
       "</thead>\n",
       "<tbody>\n",
       "\t<tr><td>1000194</td><td>2</td><td>2006-10-02</td><td>2006-10-02</td><td>NA        </td><td>7809</td><td>S SOUTH SHORE DR  </td><td>421.0 </td><td>CHICAGO IL            </td><td>NA</td><td>17                 </td></tr>\n",
       "\t<tr><td>1000214</td><td>3</td><td>2006-10-03</td><td>2006-10-04</td><td>2010-12-23</td><td>7100</td><td>South WESTERN AVE </td><td>832.0 </td><td>CHICAGO ILLINOIS 60636</td><td>NA</td><td>NA                 </td></tr>\n",
       "\t<tr><td>1002796</td><td>3</td><td>2006-12-15</td><td>2007-01-18</td><td>2008-12-15</td><td>325 </td><td>North JEFFERSON ST</td><td>1212.0</td><td>CHICAGO ILLINOIS 60661</td><td>NA</td><td>TAVERN/LIQUOR STORE</td></tr>\n",
       "\t<tr><td>1003786</td><td>3</td><td>2007-03-01</td><td>2007-03-02</td><td>2011-02-23</td><td>NA  </td><td>West 87TH ST      </td><td>834.0 </td><td>CHICAGO ILLINOIS 60652</td><td>NA</td><td>RESIDENCE          </td></tr>\n",
       "\t<tr><td>1005070</td><td>2</td><td>2007-04-20</td><td>2007-04-20</td><td>NA        </td><td>4010</td><td>W ERIE ST         </td><td>0.0   </td><td>CHICAGO IL            </td><td>NA</td><td>17                 </td></tr>\n",
       "\t<tr><td>1005436</td><td>2</td><td>2005-05-15</td><td>2007-05-04</td><td>NA        </td><td>4427</td><td>S KARLOV AVE      </td><td>815.0 </td><td>CHICAGO IL 60632      </td><td>NA</td><td>17                 </td></tr>\n",
       "</tbody>\n",
       "</table>\n"
      ],
      "text/latex": [
       "A tibble: 6 × 11\n",
       "\\begin{tabular}{lllllllllll}\n",
       " cr\\_id & cv & incident\\_date & complaint\\_date & closed\\_date & add1 & add2 & beat & city & full\\_address & location\\\\\n",
       " <chr> & <chr> & <chr> & <chr> & <chr> & <chr> & <chr> & <chr> & <chr> & <chr> & <chr>\\\\\n",
       "\\hline\n",
       "\t 1000194 & 2 & 2006-10-02 & 2006-10-02 & NA         & 7809 & S SOUTH SHORE DR   & 421.0  & CHICAGO IL             & NA & 17                 \\\\\n",
       "\t 1000214 & 3 & 2006-10-03 & 2006-10-04 & 2010-12-23 & 7100 & South WESTERN AVE  & 832.0  & CHICAGO ILLINOIS 60636 & NA & NA                 \\\\\n",
       "\t 1002796 & 3 & 2006-12-15 & 2007-01-18 & 2008-12-15 & 325  & North JEFFERSON ST & 1212.0 & CHICAGO ILLINOIS 60661 & NA & TAVERN/LIQUOR STORE\\\\\n",
       "\t 1003786 & 3 & 2007-03-01 & 2007-03-02 & 2011-02-23 & NA   & West 87TH ST       & 834.0  & CHICAGO ILLINOIS 60652 & NA & RESIDENCE          \\\\\n",
       "\t 1005070 & 2 & 2007-04-20 & 2007-04-20 & NA         & 4010 & W ERIE ST          & 0.0    & CHICAGO IL             & NA & 17                 \\\\\n",
       "\t 1005436 & 2 & 2005-05-15 & 2007-05-04 & NA         & 4427 & S KARLOV AVE       & 815.0  & CHICAGO IL 60632       & NA & 17                 \\\\\n",
       "\\end{tabular}\n"
      ],
      "text/markdown": [
       "\n",
       "A tibble: 6 × 11\n",
       "\n",
       "| cr_id &lt;chr&gt; | cv &lt;chr&gt; | incident_date &lt;chr&gt; | complaint_date &lt;chr&gt; | closed_date &lt;chr&gt; | add1 &lt;chr&gt; | add2 &lt;chr&gt; | beat &lt;chr&gt; | city &lt;chr&gt; | full_address &lt;chr&gt; | location &lt;chr&gt; |\n",
       "|---|---|---|---|---|---|---|---|---|---|---|\n",
       "| 1000194 | 2 | 2006-10-02 | 2006-10-02 | NA         | 7809 | S SOUTH SHORE DR   | 421.0  | CHICAGO IL             | NA | 17                  |\n",
       "| 1000214 | 3 | 2006-10-03 | 2006-10-04 | 2010-12-23 | 7100 | South WESTERN AVE  | 832.0  | CHICAGO ILLINOIS 60636 | NA | NA                  |\n",
       "| 1002796 | 3 | 2006-12-15 | 2007-01-18 | 2008-12-15 | 325  | North JEFFERSON ST | 1212.0 | CHICAGO ILLINOIS 60661 | NA | TAVERN/LIQUOR STORE |\n",
       "| 1003786 | 3 | 2007-03-01 | 2007-03-02 | 2011-02-23 | NA   | West 87TH ST       | 834.0  | CHICAGO ILLINOIS 60652 | NA | RESIDENCE           |\n",
       "| 1005070 | 2 | 2007-04-20 | 2007-04-20 | NA         | 4010 | W ERIE ST          | 0.0    | CHICAGO IL             | NA | 17                  |\n",
       "| 1005436 | 2 | 2005-05-15 | 2007-05-04 | NA         | 4427 | S KARLOV AVE       | 815.0  | CHICAGO IL 60632       | NA | 17                  |\n",
       "\n"
      ],
      "text/plain": [
       "  cr_id   cv incident_date complaint_date closed_date add1 add2              \n",
       "1 1000194 2  2006-10-02    2006-10-02     NA          7809 S SOUTH SHORE DR  \n",
       "2 1000214 3  2006-10-03    2006-10-04     2010-12-23  7100 South WESTERN AVE \n",
       "3 1002796 3  2006-12-15    2007-01-18     2008-12-15  325  North JEFFERSON ST\n",
       "4 1003786 3  2007-03-01    2007-03-02     2011-02-23  NA   West 87TH ST      \n",
       "5 1005070 2  2007-04-20    2007-04-20     NA          4010 W ERIE ST         \n",
       "6 1005436 2  2005-05-15    2007-05-04     NA          4427 S KARLOV AVE      \n",
       "  beat   city                   full_address location           \n",
       "1 421.0  CHICAGO IL             NA           17                 \n",
       "2 832.0  CHICAGO ILLINOIS 60636 NA           NA                 \n",
       "3 1212.0 CHICAGO ILLINOIS 60661 NA           TAVERN/LIQUOR STORE\n",
       "4 834.0  CHICAGO ILLINOIS 60652 NA           RESIDENCE          \n",
       "5 0.0    CHICAGO IL             NA           17                 \n",
       "6 815.0  CHICAGO IL 60632       NA           17                 "
      ]
     },
     "metadata": {},
     "output_type": "display_data"
    },
    {
     "data": {
      "text/html": [
       "<table>\n",
       "<caption>A tibble: 6 × 8</caption>\n",
       "<thead>\n",
       "\t<tr><th scope=col>UID</th><th scope=col>pay_grade</th><th scope=col>rank</th><th scope=col>salary</th><th scope=col>year</th><th scope=col>spp_date</th><th scope=col>cleaned_rank</th><th scope=col>link_UID</th></tr>\n",
       "\t<tr><th scope=col>&lt;chr&gt;</th><th scope=col>&lt;chr&gt;</th><th scope=col>&lt;chr&gt;</th><th scope=col>&lt;chr&gt;</th><th scope=col>&lt;chr&gt;</th><th scope=col>&lt;chr&gt;</th><th scope=col>&lt;chr&gt;</th><th scope=col>&lt;chr&gt;</th></tr>\n",
       "</thead>\n",
       "<tbody>\n",
       "\t<tr><td>100011.0</td><td>E|3 </td><td>SERGEANT                                        </td><td>101442.0</td><td>2016.0</td><td>2016-02-01</td><td>SERGEANT      </td><td>3978.0 </td></tr>\n",
       "\t<tr><td>100013.0</td><td>E|3 </td><td>SERGEANT                                        </td><td>111474.0</td><td>2016.0</td><td>2016-06-01</td><td>SERGEANT      </td><td>4443.0 </td></tr>\n",
       "\t<tr><td>100014.0</td><td>D|2A</td><td>POLICE OFFICER (ASSIGNED AS DETECTIVE)          </td><td>76446.0 </td><td>2007.0</td><td>2007-04-01</td><td>DETECTIVE     </td><td>4879.0 </td></tr>\n",
       "\t<tr><td>100027.0</td><td>E|3 </td><td>SERGEANT                                        </td><td>98184.0 </td><td>2016.0</td><td>2016-06-01</td><td>SERGEANT      </td><td>16115.0</td></tr>\n",
       "\t<tr><td>100044.0</td><td>D|2 </td><td>POLICE OFFICER (ASSIGNED AS EVIDENCE TECHNICIAN)</td><td>61518.0 </td><td>2004.0</td><td>2004-12-01</td><td>POLICE OFFICER</td><td>38.0   </td></tr>\n",
       "\t<tr><td>100054.0</td><td>D|2 </td><td>POLICE OFFICER/EXPLSV DETECT K9 HNDLR           </td><td>87048.0 </td><td>2011.0</td><td>2011-06-16</td><td>POLICE OFFICER</td><td>9432.0 </td></tr>\n",
       "</tbody>\n",
       "</table>\n"
      ],
      "text/latex": [
       "A tibble: 6 × 8\n",
       "\\begin{tabular}{llllllll}\n",
       " UID & pay\\_grade & rank & salary & year & spp\\_date & cleaned\\_rank & link\\_UID\\\\\n",
       " <chr> & <chr> & <chr> & <chr> & <chr> & <chr> & <chr> & <chr>\\\\\n",
       "\\hline\n",
       "\t 100011.0 & E\\textbar{}3  & SERGEANT                                         & 101442.0 & 2016.0 & 2016-02-01 & SERGEANT       & 3978.0 \\\\\n",
       "\t 100013.0 & E\\textbar{}3  & SERGEANT                                         & 111474.0 & 2016.0 & 2016-06-01 & SERGEANT       & 4443.0 \\\\\n",
       "\t 100014.0 & D\\textbar{}2A & POLICE OFFICER (ASSIGNED AS DETECTIVE)           & 76446.0  & 2007.0 & 2007-04-01 & DETECTIVE      & 4879.0 \\\\\n",
       "\t 100027.0 & E\\textbar{}3  & SERGEANT                                         & 98184.0  & 2016.0 & 2016-06-01 & SERGEANT       & 16115.0\\\\\n",
       "\t 100044.0 & D\\textbar{}2  & POLICE OFFICER (ASSIGNED AS EVIDENCE TECHNICIAN) & 61518.0  & 2004.0 & 2004-12-01 & POLICE OFFICER & 38.0   \\\\\n",
       "\t 100054.0 & D\\textbar{}2  & POLICE OFFICER/EXPLSV DETECT K9 HNDLR            & 87048.0  & 2011.0 & 2011-06-16 & POLICE OFFICER & 9432.0 \\\\\n",
       "\\end{tabular}\n"
      ],
      "text/markdown": [
       "\n",
       "A tibble: 6 × 8\n",
       "\n",
       "| UID &lt;chr&gt; | pay_grade &lt;chr&gt; | rank &lt;chr&gt; | salary &lt;chr&gt; | year &lt;chr&gt; | spp_date &lt;chr&gt; | cleaned_rank &lt;chr&gt; | link_UID &lt;chr&gt; |\n",
       "|---|---|---|---|---|---|---|---|\n",
       "| 100011.0 | E|3  | SERGEANT                                         | 101442.0 | 2016.0 | 2016-02-01 | SERGEANT       | 3978.0  |\n",
       "| 100013.0 | E|3  | SERGEANT                                         | 111474.0 | 2016.0 | 2016-06-01 | SERGEANT       | 4443.0  |\n",
       "| 100014.0 | D|2A | POLICE OFFICER (ASSIGNED AS DETECTIVE)           | 76446.0  | 2007.0 | 2007-04-01 | DETECTIVE      | 4879.0  |\n",
       "| 100027.0 | E|3  | SERGEANT                                         | 98184.0  | 2016.0 | 2016-06-01 | SERGEANT       | 16115.0 |\n",
       "| 100044.0 | D|2  | POLICE OFFICER (ASSIGNED AS EVIDENCE TECHNICIAN) | 61518.0  | 2004.0 | 2004-12-01 | POLICE OFFICER | 38.0    |\n",
       "| 100054.0 | D|2  | POLICE OFFICER/EXPLSV DETECT K9 HNDLR            | 87048.0  | 2011.0 | 2011-06-16 | POLICE OFFICER | 9432.0  |\n",
       "\n"
      ],
      "text/plain": [
       "  UID      pay_grade rank                                             salary  \n",
       "1 100011.0 E|3       SERGEANT                                         101442.0\n",
       "2 100013.0 E|3       SERGEANT                                         111474.0\n",
       "3 100014.0 D|2A      POLICE OFFICER (ASSIGNED AS DETECTIVE)           76446.0 \n",
       "4 100027.0 E|3       SERGEANT                                         98184.0 \n",
       "5 100044.0 D|2       POLICE OFFICER (ASSIGNED AS EVIDENCE TECHNICIAN) 61518.0 \n",
       "6 100054.0 D|2       POLICE OFFICER/EXPLSV DETECT K9 HNDLR            87048.0 \n",
       "  year   spp_date   cleaned_rank   link_UID\n",
       "1 2016.0 2016-02-01 SERGEANT       3978.0  \n",
       "2 2016.0 2016-06-01 SERGEANT       4443.0  \n",
       "3 2007.0 2007-04-01 DETECTIVE      4879.0  \n",
       "4 2016.0 2016-06-01 SERGEANT       16115.0 \n",
       "5 2004.0 2004-12-01 POLICE OFFICER 38.0    \n",
       "6 2011.0 2011-06-16 POLICE OFFICER 9432.0  "
      ]
     },
     "metadata": {},
     "output_type": "display_data"
    },
    {
     "data": {
      "text/html": [
       "<table>\n",
       "<caption>A tibble: 6 × 20</caption>\n",
       "<thead>\n",
       "\t<tr><th scope=col>UID</th><th scope=col>first_name</th><th scope=col>last_name</th><th scope=col>middle_initial</th><th scope=col>middle_initial2</th><th scope=col>suffix_name</th><th scope=col>birth_year</th><th scope=col>race</th><th scope=col>gender</th><th scope=col>appointed_date</th><th scope=col>resignation_date</th><th scope=col>current_status</th><th scope=col>current_star</th><th scope=col>current_unit</th><th scope=col>current_rank</th><th scope=col>start_date</th><th scope=col>org_hire_date</th><th scope=col>profile_count</th><th scope=col>cleaned_rank</th><th scope=col>link_UID</th></tr>\n",
       "\t<tr><th scope=col>&lt;chr&gt;</th><th scope=col>&lt;chr&gt;</th><th scope=col>&lt;chr&gt;</th><th scope=col>&lt;chr&gt;</th><th scope=col>&lt;chr&gt;</th><th scope=col>&lt;chr&gt;</th><th scope=col>&lt;chr&gt;</th><th scope=col>&lt;chr&gt;</th><th scope=col>&lt;chr&gt;</th><th scope=col>&lt;chr&gt;</th><th scope=col>&lt;chr&gt;</th><th scope=col>&lt;chr&gt;</th><th scope=col>&lt;chr&gt;</th><th scope=col>&lt;chr&gt;</th><th scope=col>&lt;chr&gt;</th><th scope=col>&lt;chr&gt;</th><th scope=col>&lt;chr&gt;</th><th scope=col>&lt;chr&gt;</th><th scope=col>&lt;chr&gt;</th><th scope=col>&lt;chr&gt;</th></tr>\n",
       "</thead>\n",
       "<tbody>\n",
       "\t<tr><td>100001</td><td>A        </td><td>BRODERSON  </td><td>F </td><td>NA</td><td>NA</td><td>1926.0</td><td>WHITE</td><td>MALE</td><td>1950-06-03</td><td>1980-03-10</td><td>0.0</td><td>NA</td><td>NA   </td><td>NA            </td><td>NA</td><td>NA</td><td>3</td><td>NA            </td><td>2863.0 </td></tr>\n",
       "\t<tr><td>100002</td><td>A        </td><td>DALESSANDRO</td><td>A </td><td>NA</td><td>NA</td><td>1923.0</td><td>WHITE</td><td>MALE</td><td>1956-09-01</td><td>1979-10-18</td><td>0.0</td><td>NA</td><td>NA   </td><td>NA            </td><td>NA</td><td>NA</td><td>3</td><td>NA            </td><td>6100.0 </td></tr>\n",
       "\t<tr><td>100003</td><td>A        </td><td>KIBURAS    </td><td>J </td><td>NA</td><td>NA</td><td>1948.0</td><td>WHITE</td><td>MALE</td><td>1968-06-24</td><td>1980-10-01</td><td>0.0</td><td>NA</td><td>NA   </td><td>NA            </td><td>NA</td><td>NA</td><td>3</td><td>NA            </td><td>14560.0</td></tr>\n",
       "\t<tr><td>100004</td><td>A        </td><td>KUSTRA     </td><td>J </td><td>NA</td><td>NA</td><td>1923.0</td><td>WHITE</td><td>MALE</td><td>1953-09-28</td><td>1980-10-01</td><td>0.0</td><td>NA</td><td>NA   </td><td>NA            </td><td>NA</td><td>NA</td><td>3</td><td>NA            </td><td>15445.0</td></tr>\n",
       "\t<tr><td>100005</td><td>A        </td><td>MC LAUGHLIN</td><td>R </td><td>NA</td><td>NA</td><td>1941.0</td><td>BLACK</td><td>MALE</td><td>1966-06-20</td><td>1986-09-16</td><td>0.0</td><td>NA</td><td>123.0</td><td>POLICE OFFICER</td><td>NA</td><td>NA</td><td>3</td><td>POLICE OFFICER</td><td>18373.0</td></tr>\n",
       "\t<tr><td>100006</td><td>A RICHARD</td><td>LABRIOLA   </td><td>NA</td><td>NA</td><td>NA</td><td>1943.0</td><td>WHITE</td><td>MALE</td><td>1971-10-25</td><td>2004-03-15</td><td>0.0</td><td>NA</td><td>8.0  </td><td>POLICE OFFICER</td><td>NA</td><td>NA</td><td>7</td><td>POLICE OFFICER</td><td>15521.0</td></tr>\n",
       "</tbody>\n",
       "</table>\n"
      ],
      "text/latex": [
       "A tibble: 6 × 20\n",
       "\\begin{tabular}{llllllllllllllllllll}\n",
       " UID & first\\_name & last\\_name & middle\\_initial & middle\\_initial2 & suffix\\_name & birth\\_year & race & gender & appointed\\_date & resignation\\_date & current\\_status & current\\_star & current\\_unit & current\\_rank & start\\_date & org\\_hire\\_date & profile\\_count & cleaned\\_rank & link\\_UID\\\\\n",
       " <chr> & <chr> & <chr> & <chr> & <chr> & <chr> & <chr> & <chr> & <chr> & <chr> & <chr> & <chr> & <chr> & <chr> & <chr> & <chr> & <chr> & <chr> & <chr> & <chr>\\\\\n",
       "\\hline\n",
       "\t 100001 & A         & BRODERSON   & F  & NA & NA & 1926.0 & WHITE & MALE & 1950-06-03 & 1980-03-10 & 0.0 & NA & NA    & NA             & NA & NA & 3 & NA             & 2863.0 \\\\\n",
       "\t 100002 & A         & DALESSANDRO & A  & NA & NA & 1923.0 & WHITE & MALE & 1956-09-01 & 1979-10-18 & 0.0 & NA & NA    & NA             & NA & NA & 3 & NA             & 6100.0 \\\\\n",
       "\t 100003 & A         & KIBURAS     & J  & NA & NA & 1948.0 & WHITE & MALE & 1968-06-24 & 1980-10-01 & 0.0 & NA & NA    & NA             & NA & NA & 3 & NA             & 14560.0\\\\\n",
       "\t 100004 & A         & KUSTRA      & J  & NA & NA & 1923.0 & WHITE & MALE & 1953-09-28 & 1980-10-01 & 0.0 & NA & NA    & NA             & NA & NA & 3 & NA             & 15445.0\\\\\n",
       "\t 100005 & A         & MC LAUGHLIN & R  & NA & NA & 1941.0 & BLACK & MALE & 1966-06-20 & 1986-09-16 & 0.0 & NA & 123.0 & POLICE OFFICER & NA & NA & 3 & POLICE OFFICER & 18373.0\\\\\n",
       "\t 100006 & A RICHARD & LABRIOLA    & NA & NA & NA & 1943.0 & WHITE & MALE & 1971-10-25 & 2004-03-15 & 0.0 & NA & 8.0   & POLICE OFFICER & NA & NA & 7 & POLICE OFFICER & 15521.0\\\\\n",
       "\\end{tabular}\n"
      ],
      "text/markdown": [
       "\n",
       "A tibble: 6 × 20\n",
       "\n",
       "| UID &lt;chr&gt; | first_name &lt;chr&gt; | last_name &lt;chr&gt; | middle_initial &lt;chr&gt; | middle_initial2 &lt;chr&gt; | suffix_name &lt;chr&gt; | birth_year &lt;chr&gt; | race &lt;chr&gt; | gender &lt;chr&gt; | appointed_date &lt;chr&gt; | resignation_date &lt;chr&gt; | current_status &lt;chr&gt; | current_star &lt;chr&gt; | current_unit &lt;chr&gt; | current_rank &lt;chr&gt; | start_date &lt;chr&gt; | org_hire_date &lt;chr&gt; | profile_count &lt;chr&gt; | cleaned_rank &lt;chr&gt; | link_UID &lt;chr&gt; |\n",
       "|---|---|---|---|---|---|---|---|---|---|---|---|---|---|---|---|---|---|---|---|\n",
       "| 100001 | A         | BRODERSON   | F  | NA | NA | 1926.0 | WHITE | MALE | 1950-06-03 | 1980-03-10 | 0.0 | NA | NA    | NA             | NA | NA | 3 | NA             | 2863.0  |\n",
       "| 100002 | A         | DALESSANDRO | A  | NA | NA | 1923.0 | WHITE | MALE | 1956-09-01 | 1979-10-18 | 0.0 | NA | NA    | NA             | NA | NA | 3 | NA             | 6100.0  |\n",
       "| 100003 | A         | KIBURAS     | J  | NA | NA | 1948.0 | WHITE | MALE | 1968-06-24 | 1980-10-01 | 0.0 | NA | NA    | NA             | NA | NA | 3 | NA             | 14560.0 |\n",
       "| 100004 | A         | KUSTRA      | J  | NA | NA | 1923.0 | WHITE | MALE | 1953-09-28 | 1980-10-01 | 0.0 | NA | NA    | NA             | NA | NA | 3 | NA             | 15445.0 |\n",
       "| 100005 | A         | MC LAUGHLIN | R  | NA | NA | 1941.0 | BLACK | MALE | 1966-06-20 | 1986-09-16 | 0.0 | NA | 123.0 | POLICE OFFICER | NA | NA | 3 | POLICE OFFICER | 18373.0 |\n",
       "| 100006 | A RICHARD | LABRIOLA    | NA | NA | NA | 1943.0 | WHITE | MALE | 1971-10-25 | 2004-03-15 | 0.0 | NA | 8.0   | POLICE OFFICER | NA | NA | 7 | POLICE OFFICER | 15521.0 |\n",
       "\n"
      ],
      "text/plain": [
       "  UID    first_name last_name   middle_initial middle_initial2 suffix_name\n",
       "1 100001 A          BRODERSON   F              NA              NA         \n",
       "2 100002 A          DALESSANDRO A              NA              NA         \n",
       "3 100003 A          KIBURAS     J              NA              NA         \n",
       "4 100004 A          KUSTRA      J              NA              NA         \n",
       "5 100005 A          MC LAUGHLIN R              NA              NA         \n",
       "6 100006 A RICHARD  LABRIOLA    NA             NA              NA         \n",
       "  birth_year race  gender appointed_date resignation_date current_status\n",
       "1 1926.0     WHITE MALE   1950-06-03     1980-03-10       0.0           \n",
       "2 1923.0     WHITE MALE   1956-09-01     1979-10-18       0.0           \n",
       "3 1948.0     WHITE MALE   1968-06-24     1980-10-01       0.0           \n",
       "4 1923.0     WHITE MALE   1953-09-28     1980-10-01       0.0           \n",
       "5 1941.0     BLACK MALE   1966-06-20     1986-09-16       0.0           \n",
       "6 1943.0     WHITE MALE   1971-10-25     2004-03-15       0.0           \n",
       "  current_star current_unit current_rank   start_date org_hire_date\n",
       "1 NA           NA           NA             NA         NA           \n",
       "2 NA           NA           NA             NA         NA           \n",
       "3 NA           NA           NA             NA         NA           \n",
       "4 NA           NA           NA             NA         NA           \n",
       "5 NA           123.0        POLICE OFFICER NA         NA           \n",
       "6 NA           8.0          POLICE OFFICER NA         NA           \n",
       "  profile_count cleaned_rank   link_UID\n",
       "1 3             NA             2863.0  \n",
       "2 3             NA             6100.0  \n",
       "3 3             NA             14560.0 \n",
       "4 3             NA             15445.0 \n",
       "5 3             POLICE OFFICER 18373.0 \n",
       "6 7             POLICE OFFICER 15521.0 "
      ]
     },
     "metadata": {},
     "output_type": "display_data"
    }
   ],
   "source": [
    "# See first few rows of DFs\n",
    "head(accused_df)\n",
    "head(complaints_df)\n",
    "head(salary_df)\n",
    "head(demographics_df)"
   ]
  },
  {
   "cell_type": "markdown",
   "metadata": {},
   "source": [
    "## Check for duplicates\n",
    "\n",
    "### Process\n",
    "There are several duplicate complaints in the accused and complaints dataset, the `cr_id` sometimes appears with \"CR\" as the suffix and sometimes it does not.  Unclear as to why this occurs, from what I can tell the remainder of the information is either identical or very similar (i.e. updated wording, all caps vs no caps).    There are 20,108 rows of duplicate accused. \n",
    "\n",
    "To confirmed duplicates:\n",
    "1. Created new `cr_id_num` to remove suffix\n",
    "2. Used `janitor::get_dupes()` function to isolate any duplicates.  Considered if there was duplicates due to several officers named in complaint, these are not considered duplicates. \n",
    "3. Counted number of rows. "
   ]
  },
  {
   "cell_type": "markdown",
   "metadata": {},
   "source": [
    "#### Accused dataframe"
   ]
  },
  {
   "cell_type": "code",
   "execution_count": 4,
   "metadata": {},
   "outputs": [],
   "source": [
    "## Check for duplicates in the accused dataset\n",
    "\n",
    "accused_duplicates <- accused_df %>% \n",
    "    mutate(cr_id_num = str_match(cr_id,\"[0-9]+\")) %>%\n",
    "    get_dupes(cr_id_num, UID)"
   ]
  },
  {
   "cell_type": "markdown",
   "metadata": {},
   "source": [
    "Appears that all the duplicates are split between `cv == 1` (10054 records) and `cv == 2 | 3` (10054 records).   However there are other non-duplicate records where `cv == 2 | 3` in the imported dataset, so we can't filter only on `cv`.  \n",
    "\n",
    "Per the data dictionary: \"cv: version of complaints where row originated (1 = 1967-1999, 2 = 2000-2016, 3 = 2000 - 2018)\".  We will keep the latest version of the complaint, i.e. `cv == 2 | 3`. "
   ]
  },
  {
   "cell_type": "code",
   "execution_count": 5,
   "metadata": {},
   "outputs": [
    {
     "data": {
      "text/html": [
       "10054"
      ],
      "text/latex": [
       "10054"
      ],
      "text/markdown": [
       "10054"
      ],
      "text/plain": [
       "[1] 10054"
      ]
     },
     "metadata": {},
     "output_type": "display_data"
    }
   ],
   "source": [
    "## filter to include on `cv == 1` this will then be used to remove these records from the imported accused dataset\n",
    "accused_duplicates_to_remove <- accused_duplicates %>%\n",
    "    filter(cv == 1)\n",
    "nrow(accused_duplicates_to_remove)"
   ]
  },
  {
   "cell_type": "code",
   "execution_count": 6,
   "metadata": {},
   "outputs": [],
   "source": [
    "# remove duplicate records from accused dataframe\n",
    "accused_df_deduplicated <- accused_df %>% \n",
    "    anti_join(accused_duplicates_to_remove, by = c(\"cr_id\", \"UID\"))"
   ]
  },
  {
   "cell_type": "markdown",
   "metadata": {},
   "source": [
    "#### Complaints Dataframe"
   ]
  },
  {
   "cell_type": "code",
   "execution_count": 7,
   "metadata": {},
   "outputs": [],
   "source": [
    "## Check for duplicates in the complaints dataset\n",
    "\n",
    "complaints_duplicates <- complaints_df %>% \n",
    "    mutate(cr_id_num = str_match(cr_id,\"[0-9]+\")) %>%\n",
    "    get_dupes(cr_id_num)"
   ]
  },
  {
   "cell_type": "markdown",
   "metadata": {},
   "source": [
    "We see a similar pattern with the complaints dataframe.  Exclude duplicates with `cv = 1` for consistency"
   ]
  },
  {
   "cell_type": "code",
   "execution_count": 8,
   "metadata": {},
   "outputs": [
    {
     "data": {
      "text/html": [
       "6436"
      ],
      "text/latex": [
       "6436"
      ],
      "text/markdown": [
       "6436"
      ],
      "text/plain": [
       "[1] 6436"
      ]
     },
     "metadata": {},
     "output_type": "display_data"
    }
   ],
   "source": [
    "## filter to include on `cv == 1` this will then be used to remove these records from the imported complaints dataset\n",
    "complaints_duplicates_to_remove <- complaints_duplicates %>%\n",
    "    filter(cv == 1)\n",
    "nrow(complaints_duplicates_to_remove)"
   ]
  },
  {
   "cell_type": "code",
   "execution_count": 9,
   "metadata": {},
   "outputs": [],
   "source": [
    "# remove duplicate records from complaints dataframe\n",
    "complaints_df_deduplicated <- complaints_df %>% \n",
    "    anti_join(complaints_duplicates_to_remove, by = c(\"cr_id\"))"
   ]
  },
  {
   "cell_type": "markdown",
   "metadata": {},
   "source": [
    "### Demographics Dataframe "
   ]
  },
  {
   "cell_type": "code",
   "execution_count": 10,
   "metadata": {},
   "outputs": [],
   "source": [
    "# Code to clean demographics dataframe \n",
    "# Note 1: only relevant columns were selected\n",
    "# Note 2: Org_start_date = date as officer, start_date = date as officer in CPD.\n",
    "\n",
    "demographics_df <- demographics_df %>%  \n",
    "    select(UID, link_UID, race, gender, birth_year, cleaned_rank, \n",
    "           org_hire_date, start_date, resignation_date) %>% \n",
    "    mutate(birth_year = as.numeric(birth_year),\n",
    "           org_hire_date= ymd(org_hire_date),\n",
    "           start_date= ymd(start_date),\n",
    "           resignation_date= ymd(resignation_date))"
   ]
  },
  {
   "cell_type": "markdown",
   "metadata": {},
   "source": [
    "## Join Dataframes"
   ]
  },
  {
   "cell_type": "code",
   "execution_count": 11,
   "metadata": {},
   "outputs": [],
   "source": [
    "# Join complaints, modify datatypes & filter on years of interest\n",
    "complaints_joined = left_join(accused_df_deduplicated, complaints_df_deduplicated, by = 'cr_id')\n",
    "\n",
    "complaints_joined <- complaints_joined %>%\n",
    "     mutate(incident_date = ymd(incident_date),\n",
    "           complaint_date = ymd(complaint_date),\n",
    "           closed_date = ymd(closed_date),\n",
    "           incident_year = year(incident_date)) %>%\n",
    "    filter(incident_year >= 2005, incident_year <= 2015) %>%\n",
    "    group_by(link_UID, incident_year) %>%\n",
    "    nest() %>%\n",
    "    mutate(complaints_per_year =  map_dbl(data, ~sum(!is.na(.$cr_id))))"
   ]
  },
  {
   "cell_type": "code",
   "execution_count": 12,
   "metadata": {},
   "outputs": [
    {
     "name": "stdout",
     "output_type": "stream",
     "text": [
      "Rows: 143,280\n",
      "Columns: 14\n",
      "$ salary               \u001b[3m\u001b[90m<dbl>\u001b[39m\u001b[23m 76446, 87048, 99444, 90540, 99756, 97212, 8215...\n",
      "$ year                 \u001b[3m\u001b[90m<dbl>\u001b[39m\u001b[23m 2007, 2011, 2014, 2013, 2012, 2015, 2008, 2013...\n",
      "$ cleaned_rank         \u001b[3m\u001b[90m<fct>\u001b[39m\u001b[23m DETECTIVE, POLICE OFFICER, SERGEANT, DETECTIVE...\n",
      "$ link_UID             \u001b[3m\u001b[90m<chr>\u001b[39m\u001b[23m \"4879.0\", \"9432.0\", \"21388.0\", \"24345.0\", \"119...\n",
      "$ data                 \u001b[3m\u001b[90m<list>\u001b[39m\u001b[23m [NULL, NULL, NULL, <tbl_df[1 x 19]>, NULL, NU...\n",
      "$ complaints_per_year  \u001b[3m\u001b[90m<dbl>\u001b[39m\u001b[23m 0, 0, 0, 1, 0, 0, 0, 0, 0, 0, 0, 1, 0, 1, 0, 0...\n",
      "$ race                 \u001b[3m\u001b[90m<chr>\u001b[39m\u001b[23m \"BLACK\", \"HISPANIC\", \"HISPANIC\", \"HISPANIC\", \"...\n",
      "$ gender               \u001b[3m\u001b[90m<chr>\u001b[39m\u001b[23m \"MALE\", \"MALE\", \"MALE\", \"MALE\", \"MALE\", \"MALE\"...\n",
      "$ birth_year           \u001b[3m\u001b[90m<dbl>\u001b[39m\u001b[23m 1968, 1956, 1974, 1967, 1970, 1983, 1980, 1961...\n",
      "$ org_hire_date        \u001b[3m\u001b[90m<date>\u001b[39m\u001b[23m 1996-12-02, 1987-04-13, 2000-01-24, 1992-12-0...\n",
      "$ start_date           \u001b[3m\u001b[90m<date>\u001b[39m\u001b[23m 1996-12-02, 1987-04-13, 2000-01-24, 1992-12-0...\n",
      "$ resignation_date     \u001b[3m\u001b[90m<date>\u001b[39m\u001b[23m NA, 2014-05-15, NA, NA, NA, NA, NA, 2016-12-3...\n",
      "$ approx_age           \u001b[3m\u001b[90m<dbl>\u001b[39m\u001b[23m 39, 55, 40, 46, 42, 32, 28, 52, 36, 48, 41, NA...\n",
      "$ approx_years_service \u001b[3m\u001b[90m<dbl>\u001b[39m\u001b[23m 11, 24, 14, 21, 21, 9, 6, 22, 9, 19, 12, NA, N...\n"
     ]
    }
   ],
   "source": [
    "#Modify salary datatypes and filter on years of interest\n",
    "salary_df <- salary_df %>%\n",
    "    mutate(year = as.numeric(year),\n",
    "           spp_date = ymd(spp_date),\n",
    "           salary = as.numeric(salary)) %>%\n",
    "    filter(year >= 2005, year <= 2015)\n",
    "           \n",
    "#Join salaries and joint complaints\n",
    "df_merged <- full_join(salary_df, complaints_joined, by = c('link_UID', c(\"year\" = \"incident_year\")))\n",
    "\n",
    "# Join demographics to merged datadrame\n",
    "df_merged_demographics <- left_join(df_merged, demographics_df, by = c('link_UID', \"cleaned_rank\"))\n",
    "\n",
    "# add ordering for rank senority - adapted from http://directives.chicagopolice.org/directives/data/a7a57be2-1291da66-88512-91e3-fb25744de048d4ef.html\n",
    "# also referenced https://en.wikipedia.org/wiki/Police_rank#United_States\n",
    "rank_order = c(\"DEPUTY SUPERINTENDENT\", \"FIRST DEPUTY SUPERINTENDENT\", \n",
    "            \"ASSISTANT SUPERINTENDENT\", \"SUPERINTENDENT\\'S CHIEF OF STAFF\", \"GENERAL COUNSEL\", \"CHIEF\", \"DEPUTY CHIEF\", \"COMMANDER\", \n",
    "            \"SERGEANT\", \"DETECTIVE\", \"INVESTIGATOR\", \"FIELD TRAINING OFFICER\", \"POLICE OFFICER\", \"CIVILIAN\")\n",
    "\n",
    "# clean final df\n",
    "complaints_all_staff <- df_merged_demographics %>%\n",
    "    drop_na(salary) %>%                                                # remove records where no salary information was avaiable\n",
    "    select(-rank, - pay_grade, -spp_date, -UID.x, -UID.y) %>%          # drop columns not used in analysis\n",
    "    mutate(approx_age = year - birth_year, approx_years_service = year - year(start_date)) %>% # calculate approximate age and approximate years of service\n",
    "    mutate(cleaned_rank = factor(cleaned_rank, levels = rank_order)) %>%   # change to factor\n",
    "    mutate(complaints_per_year = if_else(is.na(complaints_per_year), 0, complaints_per_year))\n",
    "\n",
    "# Examine all columns of analysis dataframe\n",
    "glimpse(complaints_all_staff)"
   ]
  },
  {
   "cell_type": "code",
   "execution_count": 13,
   "metadata": {},
   "outputs": [
    {
     "data": {
      "text/html": [
       "<style>\n",
       ".list-inline {list-style: none; margin:0; padding: 0}\n",
       ".list-inline>li {display: inline-block}\n",
       ".list-inline>li:not(:last-child)::after {content: \"\\00b7\"; padding: 0 .5ex}\n",
       "</style>\n",
       "<ol class=list-inline><li>'DEPUTY SUPERINTENDENT'</li><li>'FIRST DEPUTY SUPERINTENDENT'</li><li>'ASSISTANT SUPERINTENDENT'</li><li>'SUPERINTENDENT\\'S CHIEF OF STAFF'</li><li>'GENERAL COUNSEL'</li><li>'CHIEF'</li><li>'DEPUTY CHIEF'</li><li>'COMMANDER'</li><li>'SERGEANT'</li><li>'DETECTIVE'</li><li>'INVESTIGATOR'</li><li>'FIELD TRAINING OFFICER'</li><li>'POLICE OFFICER'</li><li>'CIVILIAN'</li></ol>\n"
      ],
      "text/latex": [
       "\\begin{enumerate*}\n",
       "\\item 'DEPUTY SUPERINTENDENT'\n",
       "\\item 'FIRST DEPUTY SUPERINTENDENT'\n",
       "\\item 'ASSISTANT SUPERINTENDENT'\n",
       "\\item 'SUPERINTENDENT\\textbackslash{}'S CHIEF OF STAFF'\n",
       "\\item 'GENERAL COUNSEL'\n",
       "\\item 'CHIEF'\n",
       "\\item 'DEPUTY CHIEF'\n",
       "\\item 'COMMANDER'\n",
       "\\item 'SERGEANT'\n",
       "\\item 'DETECTIVE'\n",
       "\\item 'INVESTIGATOR'\n",
       "\\item 'FIELD TRAINING OFFICER'\n",
       "\\item 'POLICE OFFICER'\n",
       "\\item 'CIVILIAN'\n",
       "\\end{enumerate*}\n"
      ],
      "text/markdown": [
       "1. 'DEPUTY SUPERINTENDENT'\n",
       "2. 'FIRST DEPUTY SUPERINTENDENT'\n",
       "3. 'ASSISTANT SUPERINTENDENT'\n",
       "4. 'SUPERINTENDENT\\'S CHIEF OF STAFF'\n",
       "5. 'GENERAL COUNSEL'\n",
       "6. 'CHIEF'\n",
       "7. 'DEPUTY CHIEF'\n",
       "8. 'COMMANDER'\n",
       "9. 'SERGEANT'\n",
       "10. 'DETECTIVE'\n",
       "11. 'INVESTIGATOR'\n",
       "12. 'FIELD TRAINING OFFICER'\n",
       "13. 'POLICE OFFICER'\n",
       "14. 'CIVILIAN'\n",
       "\n",
       "\n"
      ],
      "text/plain": [
       " [1] \"DEPUTY SUPERINTENDENT\"           \"FIRST DEPUTY SUPERINTENDENT\"    \n",
       " [3] \"ASSISTANT SUPERINTENDENT\"        \"SUPERINTENDENT'S CHIEF OF STAFF\"\n",
       " [5] \"GENERAL COUNSEL\"                 \"CHIEF\"                          \n",
       " [7] \"DEPUTY CHIEF\"                    \"COMMANDER\"                      \n",
       " [9] \"SERGEANT\"                        \"DETECTIVE\"                      \n",
       "[11] \"INVESTIGATOR\"                    \"FIELD TRAINING OFFICER\"         \n",
       "[13] \"POLICE OFFICER\"                  \"CIVILIAN\"                       "
      ]
     },
     "metadata": {},
     "output_type": "display_data"
    }
   ],
   "source": [
    "levels(complaints_all_staff$cleaned_rank)"
   ]
  },
  {
   "cell_type": "markdown",
   "metadata": {},
   "source": [
    "## EDA"
   ]
  },
  {
   "cell_type": "code",
   "execution_count": 14,
   "metadata": {},
   "outputs": [],
   "source": [
    "theme_set(theme_classic(base_size = 14))"
   ]
  },
  {
   "cell_type": "code",
   "execution_count": 15,
   "metadata": {},
   "outputs": [
    {
     "data": {
      "text/html": [
       "<table>\n",
       "<caption>A tibble: 11 × 2</caption>\n",
       "<thead>\n",
       "\t<tr><th scope=col>year</th><th scope=col>n</th></tr>\n",
       "\t<tr><th scope=col>&lt;dbl&gt;</th><th scope=col>&lt;int&gt;</th></tr>\n",
       "</thead>\n",
       "<tbody>\n",
       "\t<tr><td>2005</td><td>13687</td></tr>\n",
       "\t<tr><td>2006</td><td>13876</td></tr>\n",
       "\t<tr><td>2007</td><td>13821</td></tr>\n",
       "\t<tr><td>2008</td><td>13527</td></tr>\n",
       "\t<tr><td>2009</td><td>13214</td></tr>\n",
       "\t<tr><td>2010</td><td>13068</td></tr>\n",
       "\t<tr><td>2011</td><td>12549</td></tr>\n",
       "\t<tr><td>2012</td><td>12493</td></tr>\n",
       "\t<tr><td>2013</td><td>12434</td></tr>\n",
       "\t<tr><td>2014</td><td>12300</td></tr>\n",
       "\t<tr><td>2015</td><td>12311</td></tr>\n",
       "</tbody>\n",
       "</table>\n"
      ],
      "text/latex": [
       "A tibble: 11 × 2\n",
       "\\begin{tabular}{ll}\n",
       " year & n\\\\\n",
       " <dbl> & <int>\\\\\n",
       "\\hline\n",
       "\t 2005 & 13687\\\\\n",
       "\t 2006 & 13876\\\\\n",
       "\t 2007 & 13821\\\\\n",
       "\t 2008 & 13527\\\\\n",
       "\t 2009 & 13214\\\\\n",
       "\t 2010 & 13068\\\\\n",
       "\t 2011 & 12549\\\\\n",
       "\t 2012 & 12493\\\\\n",
       "\t 2013 & 12434\\\\\n",
       "\t 2014 & 12300\\\\\n",
       "\t 2015 & 12311\\\\\n",
       "\\end{tabular}\n"
      ],
      "text/markdown": [
       "\n",
       "A tibble: 11 × 2\n",
       "\n",
       "| year &lt;dbl&gt; | n &lt;int&gt; |\n",
       "|---|---|\n",
       "| 2005 | 13687 |\n",
       "| 2006 | 13876 |\n",
       "| 2007 | 13821 |\n",
       "| 2008 | 13527 |\n",
       "| 2009 | 13214 |\n",
       "| 2010 | 13068 |\n",
       "| 2011 | 12549 |\n",
       "| 2012 | 12493 |\n",
       "| 2013 | 12434 |\n",
       "| 2014 | 12300 |\n",
       "| 2015 | 12311 |\n",
       "\n"
      ],
      "text/plain": [
       "   year n    \n",
       "1  2005 13687\n",
       "2  2006 13876\n",
       "3  2007 13821\n",
       "4  2008 13527\n",
       "5  2009 13214\n",
       "6  2010 13068\n",
       "7  2011 12549\n",
       "8  2012 12493\n",
       "9  2013 12434\n",
       "10 2014 12300\n",
       "11 2015 12311"
      ]
     },
     "metadata": {},
     "output_type": "display_data"
    }
   ],
   "source": [
    "complaints_all_staff %>% \n",
    "    count(year)"
   ]
  },
  {
   "cell_type": "code",
   "execution_count": 16,
   "metadata": {},
   "outputs": [
    {
     "name": "stderr",
     "output_type": "stream",
     "text": [
      "`summarise()` ungrouping output (override with `.groups` argument)\n",
      "\n"
     ]
    },
    {
     "data": {
      "image/png": "[encoded data removed]",
      "text/plain": [
       "plot without title"
      ]
     },
     "metadata": {
      "image/png": {
       "height": 420,
       "width": 420
      }
     },
     "output_type": "display_data"
    },
    {
     "data": {
      "image/png": "[encoded data removed]",
      "text/plain": [
       "plot without title"
      ]
     },
     "metadata": {
      "image/png": {
       "height": 420,
       "width": 420
      }
     },
     "output_type": "display_data"
    }
   ],
   "source": [
    "# Complaints by year\n",
    "complaints_all_staff %>% \n",
    "    group_by(year) %>%\n",
    "    summarize(n = sum(complaints_per_year)) %>%\n",
    "    ggplot(aes(x = year, y = n)) + \n",
    "    geom_line() + \n",
    "    ggtitle(\"Complaints per year\") + \n",
    "    scale_x_continuous(breaks = 2005:2015)\n",
    "\n",
    "# number of police staff/records per year (included in analysis)\n",
    "complaints_all_staff %>% \n",
    "    count(year) %>%\n",
    "    ggplot(aes(x = year, y = n)) + \n",
    "    geom_line() + \n",
    "    ggtitle(\"Number of police staff per year\") + \n",
    "    scale_x_continuous(breaks = 2005:2015)"
   ]
  },
  {
   "cell_type": "code",
   "execution_count": 17,
   "metadata": {},
   "outputs": [
    {
     "name": "stderr",
     "output_type": "stream",
     "text": [
      "`summarise()` ungrouping output (override with `.groups` argument)\n",
      "\n"
     ]
    },
    {
     "data": {
      "image/png": "[encoded data removed]",
      "text/plain": [
       "plot without title"
      ]
     },
     "metadata": {
      "image/png": {
       "height": 420,
       "width": 420
      }
     },
     "output_type": "display_data"
    }
   ],
   "source": [
    "#Histogram of total complaints per officer - total complaints does not match because one complaint can be tied to multiple officers\n",
    "complaints_all_staff %>% \n",
    "    group_by(link_UID) %>%\n",
    "    summarize(n = sum(complaints_per_year)) %>%\n",
    "    ggplot(aes(x = n)) +\n",
    "    labs(x = \"Number of Complaints\") + \n",
    "    ggtitle(\"Total Complaints per Officer (2005-2015)\") +\n",
    "    geom_histogram(bins = 20)"
   ]
  },
  {
   "cell_type": "code",
   "execution_count": 20,
   "metadata": {},
   "outputs": [
    {
     "name": "stderr",
     "output_type": "stream",
     "text": [
      "`summarise()` regrouping output by 'link_UID' (override with `.groups` argument)\n",
      "\n"
     ]
    },
    {
     "data": {
      "image/png": "[encoded data removed]",
      "text/plain": [
       "plot without title"
      ]
     },
     "metadata": {
      "image/png": {
       "height": 600,
       "width": 720
      }
     },
     "output_type": "display_data"
    }
   ],
   "source": [
    "options(repr.plot.width=12, repr.plot.height=10)\n",
    "\n",
    "#Faceted per year histogram\n",
    "complaints_all_staff %>% \n",
    "    group_by(link_UID, year) %>%\n",
    "    summarize(n = sum(complaints_per_year)) %>%\n",
    "    ggplot(aes(x = n)) +\n",
    "    labs(x = \"Number of Complaints\") + \n",
    "    ggtitle(\"Total Complaints per Officer (2005-2015)\") +\n",
    "    geom_histogram(bins = 20) +\n",
    "    facet_wrap(~year, nrow=3)"
   ]
  },
  {
   "cell_type": "code",
   "execution_count": 21,
   "metadata": {},
   "outputs": [
    {
     "name": "stderr",
     "output_type": "stream",
     "text": [
      "`summarise()` ungrouping output (override with `.groups` argument)\n",
      "\n"
     ]
    },
    {
     "data": {
      "image/png": "[encoded data removed]",
      "text/plain": [
       "plot without title"
      ]
     },
     "metadata": {
      "image/png": {
       "height": 600,
       "width": 720
      }
     },
     "output_type": "display_data"
    }
   ],
   "source": [
    "# complaints by officer rank\n",
    "complaints_all_staff %>% \n",
    "    group_by(cleaned_rank) %>%\n",
    "    summarize(n = sum(complaints_per_year)) %>%\n",
    "    mutate(cleaned_rank = ifelse(n < 100, \"OTHER\", as.character(cleaned_rank))) %>%\n",
    "    ggplot(aes(y=cleaned_rank, x = n)) +\n",
    "    labs(x = \"Number of Complaints\", y = \"Rank\", title = \"Total Complaints per Rank\", subtitle = \"(2005-2015)\") + \n",
    "    geom_col()"
   ]
  },
  {
   "cell_type": "code",
   "execution_count": 22,
   "metadata": {},
   "outputs": [
    {
     "data": {
      "image/png": "[encoded data removed]",
      "text/plain": [
       "plot without title"
      ]
     },
     "metadata": {
      "image/png": {
       "height": 600,
       "width": 720
      }
     },
     "output_type": "display_data"
    }
   ],
   "source": [
    "# Boxplot\n",
    "complaints_all_staff %>% \n",
    "    ggplot(aes(x = salary, y = cleaned_rank)) +\n",
    "  geom_boxplot() + \n",
    "  scale_x_continuous(labels = scales::label_dollar())"
   ]
  },
  {
   "cell_type": "code",
   "execution_count": 23,
   "metadata": {},
   "outputs": [
    {
     "name": "stderr",
     "output_type": "stream",
     "text": [
      "`summarise()` ungrouping output (override with `.groups` argument)\n",
      "\n",
      "`geom_smooth()` using formula 'y ~ x'\n",
      "\n"
     ]
    },
    {
     "data": {
      "image/png": "[encoded data removed]",
      "text/plain": [
       "plot without title"
      ]
     },
     "metadata": {
      "image/png": {
       "height": 600,
       "width": 720
      }
     },
     "output_type": "display_data"
    }
   ],
   "source": [
    "# complaints per salary\n",
    "complaints_all_staff %>% \n",
    "    group_by(salary) %>% \n",
    "    summarize(num_complaints = sum(complaints_per_year)) %>%\n",
    "    ggplot(aes(x = salary, y = num_complaints)) + \n",
    "        geom_point(color=\"lightblue\") +\n",
    "        scale_x_continuous(labels = scales::label_dollar()) +\n",
    "        labs(title = \"Number of Complaints by Salary\", subtitle = \"2005-2015\", x = \"Salary (USD)\", y = \"Number of Complaints\") + \n",
    "        geom_smooth(method=lm)"
   ]
  },
  {
   "cell_type": "code",
   "execution_count": null,
   "metadata": {},
   "outputs": [],
   "source": [
    "# calculate a complaint rate\n",
    "compaint_rates <- df_merged %>%\n",
    "    group_by(salary, year) %>%\n",
    "    summarize(num_complaints = sum(!is.na(cr_id)), num_employees = sum(!is.na(UID))) %>%\n",
    "    mutate(complaint_rate = num_complaints / num_employees)\n",
    "\n",
    "#compaint_rates\n",
    "ggplot(compaint_rates, aes(x = salary, y = complaint_rate)) + \n",
    "        geom_point(color = \"lightblue\") +\n",
    "        scale_x_continuous(labels = scales::label_dollar()) + \n",
    "        labs(title=\"Complaint Rate by Salary\", subtitle = \"2005-2015\", x = \"Salary USD\", y = \"Complaint Rate (# complaints/ # employees)\") + \n",
    "        geom_smooth(method=lm)"
   ]
  },
  {
   "cell_type": "code",
   "execution_count": 63,
   "metadata": {},
   "outputs": [
    {
     "name": "stderr",
     "output_type": "stream",
     "text": [
      "Warning message in ggally_statistic(data = data, mapping = mapping, na.rm = na.rm, :\n",
      "\"Removed 11550 rows containing missing values\"\n",
      "Warning message in ggally_statistic(data = data, mapping = mapping, na.rm = na.rm, :\n",
      "\"Removed 11628 rows containing missing values\"\n",
      "Warning message:\n",
      "\"Removed 11550 rows containing missing values (geom_point).\"\n",
      "Warning message:\n",
      "\"Removed 11550 rows containing non-finite values (stat_density).\"\n",
      "Warning message in ggally_statistic(data = data, mapping = mapping, na.rm = na.rm, :\n",
      "\"Removed 11628 rows containing missing values\"\n",
      "Warning message in ggally_statistic(data = data, mapping = mapping, na.rm = na.rm, :\n",
      "\"Removed 11550 rows containing missing values\"\n",
      "Warning message:\n",
      "\"Removed 11628 rows containing missing values (geom_point).\"\n",
      "Warning message:\n",
      "\"Removed 11628 rows containing missing values (geom_point).\"\n",
      "Warning message:\n",
      "\"Removed 11628 rows containing non-finite values (stat_density).\"\n",
      "Warning message in ggally_statistic(data = data, mapping = mapping, na.rm = na.rm, :\n",
      "\"Removed 11628 rows containing missing values\"\n",
      "Warning message:\n",
      "\"Removed 11550 rows containing missing values (geom_point).\"\n",
      "Warning message:\n",
      "\"Removed 11628 rows containing missing values (geom_point).\"\n"
     ]
    },
    {
     "data": {
      "image/png": "[encoded data removed]",
      "text/plain": [
       "plot without title"
      ]
     },
     "metadata": {
      "image/png": {
       "height": 420,
       "width": 420
      }
     },
     "output_type": "display_data"
    }
   ],
   "source": [
    "complaints_all_staff %>%\n",
    "    filter(cleaned_rank == \"POLICE OFFICER\") %>%\n",
    "    select(salary, approx_age, approx_years_service, complaints_per_year) %>% \n",
    "    GGally::ggpairs(progress=FALSE)"
   ]
  }
 ],
 "metadata": {
  "kernelspec": {
   "display_name": "R",
   "language": "R",
   "name": "ir"
  },
  "language_info": {
   "codemirror_mode": "r",
   "file_extension": ".r",
   "mimetype": "text/x-r-source",
   "name": "R",
   "pygments_lexer": "r",
   "version": "4.0.2"
  }
 },
 "nbformat": 4,
 "nbformat_minor": 4
}
